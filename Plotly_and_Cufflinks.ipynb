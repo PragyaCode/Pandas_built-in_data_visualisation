{
 "cells": [
  {
   "cell_type": "code",
   "execution_count": 1,
   "id": "142e2230",
   "metadata": {},
   "outputs": [],
   "source": [
    "import pandas as pd\n",
    "import numpy as np"
   ]
  },
  {
   "cell_type": "code",
   "execution_count": 2,
   "id": "7a298b82",
   "metadata": {},
   "outputs": [],
   "source": [
    "from plotly import __version__"
   ]
  },
  {
   "cell_type": "code",
   "execution_count": 3,
   "id": "527736b6",
   "metadata": {},
   "outputs": [
    {
     "name": "stdout",
     "output_type": "stream",
     "text": [
      "5.9.0\n"
     ]
    }
   ],
   "source": [
    "print(__version__)"
   ]
  },
  {
   "cell_type": "code",
   "execution_count": 4,
   "id": "47841746",
   "metadata": {},
   "outputs": [],
   "source": [
    "import cufflinks as cf"
   ]
  },
  {
   "cell_type": "code",
   "execution_count": 5,
   "id": "5ee82131",
   "metadata": {},
   "outputs": [],
   "source": [
    "from plotly.offline import download_plotlyjs,init_notebook_mode,plot,iplot"
   ]
  },
  {
   "cell_type": "code",
   "execution_count": 6,
   "id": "22a2541e",
   "metadata": {},
   "outputs": [
    {
     "data": {
      "text/html": [
       "        <script type=\"text/javascript\">\n",
       "        window.PlotlyConfig = {MathJaxConfig: 'local'};\n",
       "        if (window.MathJax && window.MathJax.Hub && window.MathJax.Hub.Config) {window.MathJax.Hub.Config({SVG: {font: \"STIX-Web\"}});}\n",
       "        if (typeof require !== 'undefined') {\n",
       "        require.undef(\"plotly\");\n",
       "        requirejs.config({\n",
       "            paths: {\n",
       "                'plotly': ['https://cdn.plot.ly/plotly-2.12.1.min']\n",
       "            }\n",
       "        });\n",
       "        require(['plotly'], function(Plotly) {\n",
       "            window._Plotly = Plotly;\n",
       "        });\n",
       "        }\n",
       "        </script>\n",
       "        "
      ]
     },
     "metadata": {},
     "output_type": "display_data"
    }
   ],
   "source": [
    "init_notebook_mode(connected=True)"
   ]
  },
  {
   "cell_type": "code",
   "execution_count": 7,
   "id": "cf770054",
   "metadata": {},
   "outputs": [
    {
     "data": {
      "text/html": [
       "        <script type=\"text/javascript\">\n",
       "        window.PlotlyConfig = {MathJaxConfig: 'local'};\n",
       "        if (window.MathJax && window.MathJax.Hub && window.MathJax.Hub.Config) {window.MathJax.Hub.Config({SVG: {font: \"STIX-Web\"}});}\n",
       "        if (typeof require !== 'undefined') {\n",
       "        require.undef(\"plotly\");\n",
       "        requirejs.config({\n",
       "            paths: {\n",
       "                'plotly': ['https://cdn.plot.ly/plotly-2.12.1.min']\n",
       "            }\n",
       "        });\n",
       "        require(['plotly'], function(Plotly) {\n",
       "            window._Plotly = Plotly;\n",
       "        });\n",
       "        }\n",
       "        </script>\n",
       "        "
      ]
     },
     "metadata": {},
     "output_type": "display_data"
    }
   ],
   "source": [
    "cf.go_offline()"
   ]
  },
  {
   "cell_type": "code",
   "execution_count": 8,
   "id": "920473a5",
   "metadata": {},
   "outputs": [],
   "source": [
    "df = pd.DataFrame(np.random.randn(100,4),columns='A B C D'.split())"
   ]
  },
  {
   "cell_type": "code",
   "execution_count": 9,
   "id": "dd23a7de",
   "metadata": {},
   "outputs": [
    {
     "data": {
      "text/html": [
       "<div>\n",
       "<style scoped>\n",
       "    .dataframe tbody tr th:only-of-type {\n",
       "        vertical-align: middle;\n",
       "    }\n",
       "\n",
       "    .dataframe tbody tr th {\n",
       "        vertical-align: top;\n",
       "    }\n",
       "\n",
       "    .dataframe thead th {\n",
       "        text-align: right;\n",
       "    }\n",
       "</style>\n",
       "<table border=\"1\" class=\"dataframe\">\n",
       "  <thead>\n",
       "    <tr style=\"text-align: right;\">\n",
       "      <th></th>\n",
       "      <th>A</th>\n",
       "      <th>B</th>\n",
       "      <th>C</th>\n",
       "      <th>D</th>\n",
       "    </tr>\n",
       "  </thead>\n",
       "  <tbody>\n",
       "    <tr>\n",
       "      <th>0</th>\n",
       "      <td>-0.055592</td>\n",
       "      <td>1.452833</td>\n",
       "      <td>0.255008</td>\n",
       "      <td>0.185267</td>\n",
       "    </tr>\n",
       "    <tr>\n",
       "      <th>1</th>\n",
       "      <td>0.562045</td>\n",
       "      <td>-2.801290</td>\n",
       "      <td>-2.022830</td>\n",
       "      <td>-0.443458</td>\n",
       "    </tr>\n",
       "    <tr>\n",
       "      <th>2</th>\n",
       "      <td>-1.789940</td>\n",
       "      <td>1.467471</td>\n",
       "      <td>-1.594137</td>\n",
       "      <td>0.232732</td>\n",
       "    </tr>\n",
       "    <tr>\n",
       "      <th>3</th>\n",
       "      <td>1.500518</td>\n",
       "      <td>1.107515</td>\n",
       "      <td>0.756638</td>\n",
       "      <td>-1.490353</td>\n",
       "    </tr>\n",
       "    <tr>\n",
       "      <th>4</th>\n",
       "      <td>0.752837</td>\n",
       "      <td>0.590062</td>\n",
       "      <td>0.090425</td>\n",
       "      <td>0.268490</td>\n",
       "    </tr>\n",
       "  </tbody>\n",
       "</table>\n",
       "</div>"
      ],
      "text/plain": [
       "          A         B         C         D\n",
       "0 -0.055592  1.452833  0.255008  0.185267\n",
       "1  0.562045 -2.801290 -2.022830 -0.443458\n",
       "2 -1.789940  1.467471 -1.594137  0.232732\n",
       "3  1.500518  1.107515  0.756638 -1.490353\n",
       "4  0.752837  0.590062  0.090425  0.268490"
      ]
     },
     "execution_count": 9,
     "metadata": {},
     "output_type": "execute_result"
    }
   ],
   "source": [
    "df.head()"
   ]
  },
  {
   "cell_type": "code",
   "execution_count": 10,
   "id": "1e2fffbc",
   "metadata": {},
   "outputs": [],
   "source": [
    "df2 = pd.DataFrame({'Catagory':['A','B','C'],'Values':[32,43,50]})"
   ]
  },
  {
   "cell_type": "code",
   "execution_count": 11,
   "id": "11dc4aa1",
   "metadata": {},
   "outputs": [
    {
     "data": {
      "text/html": [
       "<div>\n",
       "<style scoped>\n",
       "    .dataframe tbody tr th:only-of-type {\n",
       "        vertical-align: middle;\n",
       "    }\n",
       "\n",
       "    .dataframe tbody tr th {\n",
       "        vertical-align: top;\n",
       "    }\n",
       "\n",
       "    .dataframe thead th {\n",
       "        text-align: right;\n",
       "    }\n",
       "</style>\n",
       "<table border=\"1\" class=\"dataframe\">\n",
       "  <thead>\n",
       "    <tr style=\"text-align: right;\">\n",
       "      <th></th>\n",
       "      <th>Catagory</th>\n",
       "      <th>Values</th>\n",
       "    </tr>\n",
       "  </thead>\n",
       "  <tbody>\n",
       "    <tr>\n",
       "      <th>0</th>\n",
       "      <td>A</td>\n",
       "      <td>32</td>\n",
       "    </tr>\n",
       "    <tr>\n",
       "      <th>1</th>\n",
       "      <td>B</td>\n",
       "      <td>43</td>\n",
       "    </tr>\n",
       "    <tr>\n",
       "      <th>2</th>\n",
       "      <td>C</td>\n",
       "      <td>50</td>\n",
       "    </tr>\n",
       "  </tbody>\n",
       "</table>\n",
       "</div>"
      ],
      "text/plain": [
       "  Catagory  Values\n",
       "0        A      32\n",
       "1        B      43\n",
       "2        C      50"
      ]
     },
     "execution_count": 11,
     "metadata": {},
     "output_type": "execute_result"
    }
   ],
   "source": [
    "df2"
   ]
  },
  {
   "cell_type": "code",
   "execution_count": 12,
   "id": "9b23f2b2",
   "metadata": {},
   "outputs": [
    {
     "data": {
      "text/html": [
       "<div>\n",
       "<style scoped>\n",
       "    .dataframe tbody tr th:only-of-type {\n",
       "        vertical-align: middle;\n",
       "    }\n",
       "\n",
       "    .dataframe tbody tr th {\n",
       "        vertical-align: top;\n",
       "    }\n",
       "\n",
       "    .dataframe thead th {\n",
       "        text-align: right;\n",
       "    }\n",
       "</style>\n",
       "<table border=\"1\" class=\"dataframe\">\n",
       "  <thead>\n",
       "    <tr style=\"text-align: right;\">\n",
       "      <th></th>\n",
       "      <th>A</th>\n",
       "      <th>B</th>\n",
       "      <th>C</th>\n",
       "      <th>D</th>\n",
       "    </tr>\n",
       "  </thead>\n",
       "  <tbody>\n",
       "    <tr>\n",
       "      <th>0</th>\n",
       "      <td>-0.055592</td>\n",
       "      <td>1.452833</td>\n",
       "      <td>0.255008</td>\n",
       "      <td>0.185267</td>\n",
       "    </tr>\n",
       "    <tr>\n",
       "      <th>1</th>\n",
       "      <td>0.562045</td>\n",
       "      <td>-2.801290</td>\n",
       "      <td>-2.022830</td>\n",
       "      <td>-0.443458</td>\n",
       "    </tr>\n",
       "    <tr>\n",
       "      <th>2</th>\n",
       "      <td>-1.789940</td>\n",
       "      <td>1.467471</td>\n",
       "      <td>-1.594137</td>\n",
       "      <td>0.232732</td>\n",
       "    </tr>\n",
       "    <tr>\n",
       "      <th>3</th>\n",
       "      <td>1.500518</td>\n",
       "      <td>1.107515</td>\n",
       "      <td>0.756638</td>\n",
       "      <td>-1.490353</td>\n",
       "    </tr>\n",
       "    <tr>\n",
       "      <th>4</th>\n",
       "      <td>0.752837</td>\n",
       "      <td>0.590062</td>\n",
       "      <td>0.090425</td>\n",
       "      <td>0.268490</td>\n",
       "    </tr>\n",
       "    <tr>\n",
       "      <th>...</th>\n",
       "      <td>...</td>\n",
       "      <td>...</td>\n",
       "      <td>...</td>\n",
       "      <td>...</td>\n",
       "    </tr>\n",
       "    <tr>\n",
       "      <th>95</th>\n",
       "      <td>0.594385</td>\n",
       "      <td>0.670542</td>\n",
       "      <td>-0.085313</td>\n",
       "      <td>-0.765776</td>\n",
       "    </tr>\n",
       "    <tr>\n",
       "      <th>96</th>\n",
       "      <td>-0.250764</td>\n",
       "      <td>0.702578</td>\n",
       "      <td>-0.049465</td>\n",
       "      <td>0.057515</td>\n",
       "    </tr>\n",
       "    <tr>\n",
       "      <th>97</th>\n",
       "      <td>-1.450671</td>\n",
       "      <td>0.978333</td>\n",
       "      <td>-0.152504</td>\n",
       "      <td>-0.838995</td>\n",
       "    </tr>\n",
       "    <tr>\n",
       "      <th>98</th>\n",
       "      <td>-0.329762</td>\n",
       "      <td>0.137185</td>\n",
       "      <td>0.211644</td>\n",
       "      <td>0.477485</td>\n",
       "    </tr>\n",
       "    <tr>\n",
       "      <th>99</th>\n",
       "      <td>-0.517308</td>\n",
       "      <td>0.088648</td>\n",
       "      <td>-1.324338</td>\n",
       "      <td>-2.032981</td>\n",
       "    </tr>\n",
       "  </tbody>\n",
       "</table>\n",
       "<p>100 rows × 4 columns</p>\n",
       "</div>"
      ],
      "text/plain": [
       "           A         B         C         D\n",
       "0  -0.055592  1.452833  0.255008  0.185267\n",
       "1   0.562045 -2.801290 -2.022830 -0.443458\n",
       "2  -1.789940  1.467471 -1.594137  0.232732\n",
       "3   1.500518  1.107515  0.756638 -1.490353\n",
       "4   0.752837  0.590062  0.090425  0.268490\n",
       "..       ...       ...       ...       ...\n",
       "95  0.594385  0.670542 -0.085313 -0.765776\n",
       "96 -0.250764  0.702578 -0.049465  0.057515\n",
       "97 -1.450671  0.978333 -0.152504 -0.838995\n",
       "98 -0.329762  0.137185  0.211644  0.477485\n",
       "99 -0.517308  0.088648 -1.324338 -2.032981\n",
       "\n",
       "[100 rows x 4 columns]"
      ]
     },
     "execution_count": 12,
     "metadata": {},
     "output_type": "execute_result"
    }
   ],
   "source": [
    "df"
   ]
  },
  {
   "cell_type": "code",
   "execution_count": 13,
   "id": "d98d66e0",
   "metadata": {},
   "outputs": [
    {
     "data": {
      "text/plain": [
       "<Axes: >"
      ]
     },
     "execution_count": 13,
     "metadata": {},
     "output_type": "execute_result"
    },
    {
     "data": {
      "image/png": "[encoded data removed]",
      "text/plain": [
       "<Figure size 640x480 with 1 Axes>"
      ]
     },
     "metadata": {},
     "output_type": "display_data"
    }
   ],
   "source": [
    "df.plot()"
   ]
  },
  {
   "cell_type": "code",
   "execution_count": 14,
   "id": "c6d7b7c5",
   "metadata": {},
   "outputs": [
    {
     "data": {
      "application/vnd.plotly.v1+json": {
       "config": {
        "linkText": "Export to plot.ly",
        "plotlyServerURL": "https://plot.ly",
        "showLink": true
       },
       "data": [
        {
         "line": {
          "color": "rgba(255, 153, 51, 1.0)",
          "dash": "solid",
          "shape": "linear",
          "width": 1.3
         },
         "mode": "lines",
         "name": "A",
         "text": "",
         "type": "scatter",
         "x": [
          0,
          1,
          2,
          3,
          4,
          5,
          6,
          7,
          8,
          9,
          10,
          11,
          12,
          13,
          14,
          15,
          16,
          17,
          18,
          19,
          20,
          21,
          22,
          23,
          24,
          25,
          26,
          27,
          28,
          29,
          30,
          31,
          32,
          33,
          34,
          35,
          36,
          37,
          38,
          39,
          40,
          41,
          42,
          43,
          44,
          45,
          46,
          47,
          48,
          49,
          50,
          51,
          52,
          53,
          54,
          55,
          56,
          57,
          58,
          59,
          60,
          61,
          62,
          63,
          64,
          65,
          66,
          67,
          68,
          69,
          70,
          71,
          72,
          73,
          74,
          75,
          76,
          77,
          78,
          79,
          80,
          81,
          82,
          83,
          84,
          85,
          86,
          87,
          88,
          89,
          90,
          91,
          92,
          93,
          94,
          95,
          96,
          97,
          98,
          99
         ],
         "y": [
          -0.05559180576518184,
          0.5620453907383516,
          -1.7899404051407906,
          1.500518268376267,
          0.7528373449617896,
          -1.1771597300556,
          1.97138381329973,
          0.3020214150295912,
          -1.9247991418812365,
          0.709441640718662,
          -0.01703638589202485,
          0.8199877942986776,
          0.5591157966803538,
          -0.07831734859886214,
          2.0263777208694695,
          -0.07574584864740508,
          -0.396370799265584,
          0.4191186184191619,
          0.9098700431175843,
          -1.0431608126404592,
          -1.7937637698431927,
          0.3067825397453611,
          0.2691059102780455,
          -0.31836442674890625,
          0.24337795539086785,
          0.512773733565278,
          -1.4073754758808312,
          0.5457544007462951,
          -0.6571845396135951,
          -2.0639373239813503,
          -1.4468588683638646,
          -0.9789754188086063,
          -2.1306056808379563,
          -0.20480729972649234,
          -0.8222382380694211,
          -0.33300118314536314,
          -0.29784234037258445,
          0.5307423401569827,
          0.15380642956204912,
          -0.1188208875107539,
          -0.8383589645894698,
          -0.5427105997081095,
          2.488310572074583,
          -0.2645552704783902,
          -0.45784207536797183,
          -1.8720226996945561,
          -0.7221199763313748,
          0.7303713162051148,
          -0.5675927577151667,
          0.2743443549958475,
          -0.8363932058173486,
          -0.197070058476929,
          -0.20013495199757259,
          -2.245092326684816,
          0.5943639003035389,
          -2.4438290349158693,
          -2.312513093070422,
          -0.10226142096044005,
          -0.3540991820914685,
          1.1846112283224697,
          0.5785961937800251,
          0.9454529767507993,
          -0.9378679023799694,
          2.252026617954698,
          0.8836245400728469,
          0.19770903317243588,
          0.5820505519137525,
          0.7000403498804273,
          0.18687441456797468,
          -2.605904251516702,
          1.013838593924159,
          0.7048394896011076,
          -0.9700118607851692,
          1.4122071311811517,
          0.22121580587926673,
          1.2618498032297492,
          -0.5281752604894419,
          -0.7421908714692181,
          1.5430526507489388,
          1.6370858753648112,
          0.15153329405330462,
          -0.35805431200293014,
          -0.9283089709763265,
          0.3293002280206697,
          -0.04430655153238148,
          1.125980853731697,
          -0.8103951450968989,
          -0.636133320370373,
          -0.5840496782043829,
          0.2912078731205048,
          -0.5137033735673227,
          -0.5894102919320074,
          -0.44662329985137666,
          1.4453702578010075,
          -2.8820121087644,
          0.5943854382063423,
          -0.2507644033592735,
          -1.4506707195233537,
          -0.32976243758703705,
          -0.5173084332484963
         ]
        },
        {
         "line": {
          "color": "rgba(55, 128, 191, 1.0)",
          "dash": "solid",
          "shape": "linear",
          "width": 1.3
         },
         "mode": "lines",
         "name": "B",
         "text": "",
         "type": "scatter",
         "x": [
          0,
          1,
          2,
          3,
          4,
          5,
          6,
          7,
          8,
          9,
          10,
          11,
          12,
          13,
          14,
          15,
          16,
          17,
          18,
          19,
          20,
          21,
          22,
          23,
          24,
          25,
          26,
          27,
          28,
          29,
          30,
          31,
          32,
          33,
          34,
          35,
          36,
          37,
          38,
          39,
          40,
          41,
          42,
          43,
          44,
          45,
          46,
          47,
          48,
          49,
          50,
          51,
          52,
          53,
          54,
          55,
          56,
          57,
          58,
          59,
          60,
          61,
          62,
          63,
          64,
          65,
          66,
          67,
          68,
          69,
          70,
          71,
          72,
          73,
          74,
          75,
          76,
          77,
          78,
          79,
          80,
          81,
          82,
          83,
          84,
          85,
          86,
          87,
          88,
          89,
          90,
          91,
          92,
          93,
          94,
          95,
          96,
          97,
          98,
          99
         ],
         "y": [
          1.452833408522823,
          -2.801289721404959,
          1.467471032771779,
          1.1075149196133212,
          0.5900621714557223,
          -0.28302847996604674,
          0.23427324061681518,
          -1.215558624206029,
          0.813168712095642,
          -0.27005007088545496,
          -0.38243213069474835,
          1.6853155435237392,
          -0.6607753287657827,
          -0.3472588976686309,
          0.6719544662985177,
          -1.2237508738534368,
          0.3183787636673109,
          -0.72535952550027,
          -0.26260020669625433,
          -0.850618401548025,
          -0.7274756636907109,
          1.1687905305044257,
          0.49469694638536177,
          -0.26871518589218507,
          0.15290598210181186,
          1.2097075310133023,
          1.000422474088806,
          0.3136146057400716,
          -0.2833208420357839,
          -0.1860803660624252,
          -0.9564691687831892,
          1.6672459232340364,
          0.6683703526469932,
          1.3610316950494012,
          -1.8351289950778071,
          0.2251323174580143,
          -0.5417476758860279,
          -1.0073462642598332,
          -0.38783816934944704,
          0.5531661483954752,
          -0.29784593859479686,
          0.27348929840642366,
          0.4691760622386405,
          -0.3761511711516631,
          -0.7725927101520446,
          -0.4637975839720279,
          -1.3947025101192394,
          -0.1830294614098356,
          1.625397974734619,
          0.7544921969987086,
          0.4104847513780054,
          -0.9092909463854356,
          1.171510476069789,
          0.5458990143642105,
          -0.5844526689136395,
          0.4425182954767783,
          -0.7817994944058249,
          1.0153723508764105,
          0.23275728789967648,
          -1.5989167066075543,
          1.1460289758089788,
          -0.7504446965323814,
          1.6300471548892737,
          -1.598248946404511,
          0.8595031406047959,
          0.16147366754361436,
          -0.45353015445403494,
          -0.31061877236519714,
          -0.6243507521232172,
          0.06250609987067719,
          -0.7759860097109451,
          -0.8472620099074127,
          1.5987177491523321,
          -1.1678132491490123,
          -1.247064428257644,
          -0.369826813335805,
          0.46232826804011073,
          1.7838081747848518,
          1.2909978570591278,
          -1.496859178399673,
          0.22001922625256887,
          -0.9113831617477044,
          0.49478127902387076,
          1.8100591568741062,
          1.0511618624121364,
          -0.8846969102030365,
          -0.861736858706487,
          -1.8399566183192644,
          -1.2004936606910546,
          -0.008772066069577691,
          -1.2661127544327189,
          0.12930024126805745,
          -0.9741132348621366,
          1.911126529769431,
          -0.8669170987643292,
          0.6705416816248445,
          0.7025783402266444,
          0.9783330874535535,
          0.13718527998129446,
          0.08864824382977793
         ]
        },
        {
         "line": {
          "color": "rgba(50, 171, 96, 1.0)",
          "dash": "solid",
          "shape": "linear",
          "width": 1.3
         },
         "mode": "lines",
         "name": "C",
         "text": "",
         "type": "scatter",
         "x": [
          0,
          1,
          2,
          3,
          4,
          5,
          6,
          7,
          8,
          9,
          10,
          11,
          12,
          13,
          14,
          15,
          16,
          17,
          18,
          19,
          20,
          21,
          22,
          23,
          24,
          25,
          26,
          27,
          28,
          29,
          30,
          31,
          32,
          33,
          34,
          35,
          36,
          37,
          38,
          39,
          40,
          41,
          42,
          43,
          44,
          45,
          46,
          47,
          48,
          49,
          50,
          51,
          52,
          53,
          54,
          55,
          56,
          57,
          58,
          59,
          60,
          61,
          62,
          63,
          64,
          65,
          66,
          67,
          68,
          69,
          70,
          71,
          72,
          73,
          74,
          75,
          76,
          77,
          78,
          79,
          80,
          81,
          82,
          83,
          84,
          85,
          86,
          87,
          88,
          89,
          90,
          91,
          92,
          93,
          94,
          95,
          96,
          97,
          98,
          99
         ],
         "y": [
          0.25500841675327135,
          -2.0228296660047334,
          -1.5941368496927122,
          0.7566379326733458,
          0.09042462761333182,
          0.7880099583693712,
          0.33110955233396566,
          0.633630161318091,
          -3.104318720313925,
          0.15769519846695176,
          -0.01821056361192945,
          0.32975254187472197,
          0.6691148817820453,
          0.8882708461650792,
          0.32571083062195644,
          1.2969248124686905,
          -0.828469691493726,
          0.8186951502774704,
          -0.8481415447451287,
          -0.005448656858547519,
          -1.046985396498361,
          2.0876629941168403,
          -0.4932176461548644,
          -1.479742227493446,
          -0.893779716681242,
          1.059693973315859,
          -0.4218995577916561,
          0.3037603245140057,
          -0.295718885568225,
          -1.456631526768783,
          0.6726281780162228,
          -0.2513454101392943,
          -0.0029946532401559714,
          1.2223245878227034,
          -1.400357848874864,
          -0.9745231933933619,
          -0.7394884299589058,
          0.07692397890434306,
          -0.13916293510562336,
          1.0262265227965133,
          0.8681801213723014,
          -0.1558700044747346,
          0.8154873912086121,
          -0.040550112558222724,
          -0.022995195337995825,
          0.19472825145585765,
          -0.8294809719858296,
          0.253481929767634,
          -0.6680928324389981,
          -0.3741609826317901,
          -2.5647984075760584,
          1.202281009334771,
          1.5356448424278233,
          -0.658681268678709,
          0.98511260312972,
          -1.5569511626557264,
          0.6959850736666175,
          0.041869074233176394,
          -0.2940238445233744,
          -0.8855718078598309,
          -0.312486874051758,
          -1.2120957514801096,
          -0.0804516775894421,
          -0.06955069706107143,
          0.4213701146254383,
          -0.5824044836334542,
          0.3320929214372528,
          0.20034650112127014,
          1.139537356515105,
          -0.11636411784016422,
          -1.5580486253908081,
          0.4787958649368819,
          0.06371197852824667,
          -0.34365931506835834,
          0.6165488060556412,
          -0.9339932703085433,
          -1.2679418729267968,
          -0.37370211392929065,
          0.1553807466229721,
          -1.6790618079561024,
          -0.8153431874050666,
          0.027609721305113872,
          1.7125284633192528,
          0.477293575773967,
          -0.2107470140392488,
          1.2466380227088456,
          0.7268506778475627,
          1.1825032117586856,
          -0.19560223128214535,
          -0.6394964865536716,
          -0.33517501376555675,
          -1.4772991809849378,
          -0.3722722426648912,
          -0.03242252178216725,
          -0.11089344856880662,
          -0.08531307864935869,
          -0.04946493715695045,
          -0.15250410087849134,
          0.21164430464328296,
          -1.3243384652903012
         ]
        },
        {
         "line": {
          "color": "rgba(128, 0, 128, 1.0)",
          "dash": "solid",
          "shape": "linear",
          "width": 1.3
         },
         "mode": "lines",
         "name": "D",
         "text": "",
         "type": "scatter",
         "x": [
          0,
          1,
          2,
          3,
          4,
          5,
          6,
          7,
          8,
          9,
          10,
          11,
          12,
          13,
          14,
          15,
          16,
          17,
          18,
          19,
          20,
          21,
          22,
          23,
          24,
          25,
          26,
          27,
          28,
          29,
          30,
          31,
          32,
          33,
          34,
          35,
          36,
          37,
          38,
          39,
          40,
          41,
          42,
          43,
          44,
          45,
          46,
          47,
          48,
          49,
          50,
          51,
          52,
          53,
          54,
          55,
          56,
          57,
          58,
          59,
          60,
          61,
          62,
          63,
          64,
          65,
          66,
          67,
          68,
          69,
          70,
          71,
          72,
          73,
          74,
          75,
          76,
          77,
          78,
          79,
          80,
          81,
          82,
          83,
          84,
          85,
          86,
          87,
          88,
          89,
          90,
          91,
          92,
          93,
          94,
          95,
          96,
          97,
          98,
          99
         ],
         "y": [
          0.1852673937213632,
          -0.44345827589806286,
          0.23273235167467715,
          -1.4903533275627932,
          0.2684902198097901,
          -0.686946223039476,
          -1.569611132126099,
          -0.8268636691466774,
          -0.047241527713950904,
          0.3700385806309308,
          -0.12732821435940275,
          -0.05036277629562494,
          -0.23921120887225938,
          -1.4846129257255232,
          0.9073179324373805,
          -0.5060076669401903,
          -0.4252614976966761,
          0.8346728660773869,
          -0.8427060950773964,
          -0.6135320914829894,
          -0.21523062705508028,
          0.5190812206976291,
          -0.9747123694425338,
          0.6537487327723273,
          2.322045329576906,
          1.413449387959019,
          0.34455620354785615,
          0.3188526310664666,
          0.7529156688198151,
          -0.33504683404000546,
          -0.8437176298130339,
          0.317721829730343,
          -1.2661495137545982,
          -0.0691429255933767,
          -0.8604798829031324,
          2.244452010671782,
          -0.15145796577193404,
          -0.07665135642775489,
          0.9513143318656485,
          -0.7160571745760614,
          -0.29852813553670526,
          -0.8587877409131487,
          -1.4672603813825607,
          1.0988442496704036,
          2.2760038379975467,
          1.6788414832474532,
          0.3726091108126695,
          0.7095174950341702,
          0.24877327374638,
          -0.36465139177197653,
          1.2706006745818645,
          1.5503467450343724,
          -0.31556209173554794,
          0.14718624186491758,
          0.3107995244034444,
          -0.5392879787433942,
          -1.129334155516057,
          -1.9162127924810703,
          -2.1991377381215975,
          -0.011759833599251049,
          0.8752288310754693,
          0.29250397526317556,
          1.5709858892377442,
          0.7655654796656748,
          -0.39031204352562565,
          -0.05988632666417284,
          -0.40006195094696545,
          -0.44417344480293425,
          0.49296792393382693,
          0.8103708801937014,
          -0.6640410877996384,
          -0.908551237967371,
          -1.1917658635528445,
          -1.2482720132411318,
          1.562451015147158,
          0.8826104656621604,
          -0.036813081581456845,
          -0.20533878048949492,
          -1.5318890996535242,
          -1.227574563627396,
          -0.3059276791424916,
          -0.25738907516547643,
          -0.6834027796862429,
          0.14073356590044747,
          -0.4964738906067588,
          0.1674286564235268,
          -1.941966835411613,
          0.8441767911667543,
          0.6505909193640828,
          0.5297311519789127,
          1.771393610824138,
          0.5653915202360102,
          -0.5629050155770081,
          -0.15828529933860774,
          1.3641429553783466,
          -0.7657757222716708,
          0.057515198937703314,
          -0.8389954153033105,
          0.47748464268948704,
          -2.0329806242365693
         ]
        }
       ],
       "layout": {
        "legend": {
         "bgcolor": "#F5F6F9",
         "font": {
          "color": "#4D5663"
         }
        },
        "paper_bgcolor": "#F5F6F9",
        "plot_bgcolor": "#F5F6F9",
        "template": {
         "data": {
          "bar": [
           {
            "error_x": {
             "color": "#2a3f5f"
            },
            "error_y": {
             "color": "#2a3f5f"
            },
            "marker": {
             "line": {
              "color": "#E5ECF6",
              "width": 0.5
             },
             "pattern": {
              "fillmode": "overlay",
              "size": 10,
              "solidity": 0.2
             }
            },
            "type": "bar"
           }
          ],
          "barpolar": [
           {
            "marker": {
             "line": {
              "color": "#E5ECF6",
              "width": 0.5
             },
             "pattern": {
              "fillmode": "overlay",
              "size": 10,
              "solidity": 0.2
             }
            },
            "type": "barpolar"
           }
          ],
          "carpet": [
           {
            "aaxis": {
             "endlinecolor": "#2a3f5f",
             "gridcolor": "white",
             "linecolor": "white",
             "minorgridcolor": "white",
             "startlinecolor": "#2a3f5f"
            },
            "baxis": {
             "endlinecolor": "#2a3f5f",
             "gridcolor": "white",
             "linecolor": "white",
             "minorgridcolor": "white",
             "startlinecolor": "#2a3f5f"
            },
            "type": "carpet"
           }
          ],
          "choropleth": [
           {
            "colorbar": {
             "outlinewidth": 0,
             "ticks": ""
            },
            "type": "choropleth"
           }
          ],
          "contour": [
           {
            "colorbar": {
             "outlinewidth": 0,
             "ticks": ""
            },
            "colorscale": [
             [
              0,
              "#0d0887"
             ],
             [
              0.1111111111111111,
              "#46039f"
             ],
             [
              0.2222222222222222,
              "#7201a8"
             ],
             [
              0.3333333333333333,
              "#9c179e"
             ],
             [
              0.4444444444444444,
              "#bd3786"
             ],
             [
              0.5555555555555556,
              "#d8576b"
             ],
             [
              0.6666666666666666,
              "#ed7953"
             ],
             [
              0.7777777777777778,
              "#fb9f3a"
             ],
             [
              0.8888888888888888,
              "#fdca26"
             ],
             [
              1,
              "#f0f921"
             ]
            ],
            "type": "contour"
           }
          ],
          "contourcarpet": [
           {
            "colorbar": {
             "outlinewidth": 0,
             "ticks": ""
            },
            "type": "contourcarpet"
           }
          ],
          "heatmap": [
           {
            "colorbar": {
             "outlinewidth": 0,
             "ticks": ""
            },
            "colorscale": [
             [
              0,
              "#0d0887"
             ],
             [
              0.1111111111111111,
              "#46039f"
             ],
             [
              0.2222222222222222,
              "#7201a8"
             ],
             [
              0.3333333333333333,
              "#9c179e"
             ],
             [
              0.4444444444444444,
              "#bd3786"
             ],
             [
              0.5555555555555556,
              "#d8576b"
             ],
             [
              0.6666666666666666,
              "#ed7953"
             ],
             [
              0.7777777777777778,
              "#fb9f3a"
             ],
             [
              0.8888888888888888,
              "#fdca26"
             ],
             [
              1,
              "#f0f921"
             ]
            ],
            "type": "heatmap"
           }
          ],
          "heatmapgl": [
           {
            "colorbar": {
             "outlinewidth": 0,
             "ticks": ""
            },
            "colorscale": [
             [
              0,
              "#0d0887"
             ],
             [
              0.1111111111111111,
              "#46039f"
             ],
             [
              0.2222222222222222,
              "#7201a8"
             ],
             [
              0.3333333333333333,
              "#9c179e"
             ],
             [
              0.4444444444444444,
              "#bd3786"
             ],
             [
              0.5555555555555556,
              "#d8576b"
             ],
             [
              0.6666666666666666,
              "#ed7953"
             ],
             [
              0.7777777777777778,
              "#fb9f3a"
             ],
             [
              0.8888888888888888,
              "#fdca26"
             ],
             [
              1,
              "#f0f921"
             ]
            ],
            "type": "heatmapgl"
           }
          ],
          "histogram": [
           {
            "marker": {
             "pattern": {
              "fillmode": "overlay",
              "size": 10,
              "solidity": 0.2
             }
            },
            "type": "histogram"
           }
          ],
          "histogram2d": [
           {
            "colorbar": {
             "outlinewidth": 0,
             "ticks": ""
            },
            "colorscale": [
             [
              0,
              "#0d0887"
             ],
             [
              0.1111111111111111,
              "#46039f"
             ],
             [
              0.2222222222222222,
              "#7201a8"
             ],
             [
              0.3333333333333333,
              "#9c179e"
             ],
             [
              0.4444444444444444,
              "#bd3786"
             ],
             [
              0.5555555555555556,
              "#d8576b"
             ],
             [
              0.6666666666666666,
              "#ed7953"
             ],
             [
              0.7777777777777778,
              "#fb9f3a"
             ],
             [
              0.8888888888888888,
              "#fdca26"
             ],
             [
              1,
              "#f0f921"
             ]
            ],
            "type": "histogram2d"
           }
          ],
          "histogram2dcontour": [
           {
            "colorbar": {
             "outlinewidth": 0,
             "ticks": ""
            },
            "colorscale": [
             [
              0,
              "#0d0887"
             ],
             [
              0.1111111111111111,
              "#46039f"
             ],
             [
              0.2222222222222222,
              "#7201a8"
             ],
             [
              0.3333333333333333,
              "#9c179e"
             ],
             [
              0.4444444444444444,
              "#bd3786"
             ],
             [
              0.5555555555555556,
              "#d8576b"
             ],
             [
              0.6666666666666666,
              "#ed7953"
             ],
             [
              0.7777777777777778,
              "#fb9f3a"
             ],
             [
              0.8888888888888888,
              "#fdca26"
             ],
             [
              1,
              "#f0f921"
             ]
            ],
            "type": "histogram2dcontour"
           }
          ],
          "mesh3d": [
           {
            "colorbar": {
             "outlinewidth": 0,
             "ticks": ""
            },
            "type": "mesh3d"
           }
          ],
          "parcoords": [
           {
            "line": {
             "colorbar": {
              "outlinewidth": 0,
              "ticks": ""
             }
            },
            "type": "parcoords"
           }
          ],
          "pie": [
           {
            "automargin": true,
            "type": "pie"
           }
          ],
          "scatter": [
           {
            "fillpattern": {
             "fillmode": "overlay",
             "size": 10,
             "solidity": 0.2
            },
            "type": "scatter"
           }
          ],
          "scatter3d": [
           {
            "line": {
             "colorbar": {
              "outlinewidth": 0,
              "ticks": ""
             }
            },
            "marker": {
             "colorbar": {
              "outlinewidth": 0,
              "ticks": ""
             }
            },
            "type": "scatter3d"
           }
          ],
          "scattercarpet": [
           {
            "marker": {
             "colorbar": {
              "outlinewidth": 0,
              "ticks": ""
             }
            },
            "type": "scattercarpet"
           }
          ],
          "scattergeo": [
           {
            "marker": {
             "colorbar": {
              "outlinewidth": 0,
              "ticks": ""
             }
            },
            "type": "scattergeo"
           }
          ],
          "scattergl": [
           {
            "marker": {
             "colorbar": {
              "outlinewidth": 0,
              "ticks": ""
             }
            },
            "type": "scattergl"
           }
          ],
          "scattermapbox": [
           {
            "marker": {
             "colorbar": {
              "outlinewidth": 0,
              "ticks": ""
             }
            },
            "type": "scattermapbox"
           }
          ],
          "scatterpolar": [
           {
            "marker": {
             "colorbar": {
              "outlinewidth": 0,
              "ticks": ""
             }
            },
            "type": "scatterpolar"
           }
          ],
          "scatterpolargl": [
           {
            "marker": {
             "colorbar": {
              "outlinewidth": 0,
              "ticks": ""
             }
            },
            "type": "scatterpolargl"
           }
          ],
          "scatterternary": [
           {
            "marker": {
             "colorbar": {
              "outlinewidth": 0,
              "ticks": ""
             }
            },
            "type": "scatterternary"
           }
          ],
          "surface": [
           {
            "colorbar": {
             "outlinewidth": 0,
             "ticks": ""
            },
            "colorscale": [
             [
              0,
              "#0d0887"
             ],
             [
              0.1111111111111111,
              "#46039f"
             ],
             [
              0.2222222222222222,
              "#7201a8"
             ],
             [
              0.3333333333333333,
              "#9c179e"
             ],
             [
              0.4444444444444444,
              "#bd3786"
             ],
             [
              0.5555555555555556,
              "#d8576b"
             ],
             [
              0.6666666666666666,
              "#ed7953"
             ],
             [
              0.7777777777777778,
              "#fb9f3a"
             ],
             [
              0.8888888888888888,
              "#fdca26"
             ],
             [
              1,
              "#f0f921"
             ]
            ],
            "type": "surface"
           }
          ],
          "table": [
           {
            "cells": {
             "fill": {
              "color": "#EBF0F8"
             },
             "line": {
              "color": "white"
             }
            },
            "header": {
             "fill": {
              "color": "#C8D4E3"
             },
             "line": {
              "color": "white"
             }
            },
            "type": "table"
           }
          ]
         },
         "layout": {
          "annotationdefaults": {
           "arrowcolor": "#2a3f5f",
           "arrowhead": 0,
           "arrowwidth": 1
          },
          "autotypenumbers": "strict",
          "coloraxis": {
           "colorbar": {
            "outlinewidth": 0,
            "ticks": ""
           }
          },
          "colorscale": {
           "diverging": [
            [
             0,
             "#8e0152"
            ],
            [
             0.1,
             "#c51b7d"
            ],
            [
             0.2,
             "#de77ae"
            ],
            [
             0.3,
             "#f1b6da"
            ],
            [
             0.4,
             "#fde0ef"
            ],
            [
             0.5,
             "#f7f7f7"
            ],
            [
             0.6,
             "#e6f5d0"
            ],
            [
             0.7,
             "#b8e186"
            ],
            [
             0.8,
             "#7fbc41"
            ],
            [
             0.9,
             "#4d9221"
            ],
            [
             1,
             "#276419"
            ]
           ],
           "sequential": [
            [
             0,
             "#0d0887"
            ],
            [
             0.1111111111111111,
             "#46039f"
            ],
            [
             0.2222222222222222,
             "#7201a8"
            ],
            [
             0.3333333333333333,
             "#9c179e"
            ],
            [
             0.4444444444444444,
             "#bd3786"
            ],
            [
             0.5555555555555556,
             "#d8576b"
            ],
            [
             0.6666666666666666,
             "#ed7953"
            ],
            [
             0.7777777777777778,
             "#fb9f3a"
            ],
            [
             0.8888888888888888,
             "#fdca26"
            ],
            [
             1,
             "#f0f921"
            ]
           ],
           "sequentialminus": [
            [
             0,
             "#0d0887"
            ],
            [
             0.1111111111111111,
             "#46039f"
            ],
            [
             0.2222222222222222,
             "#7201a8"
            ],
            [
             0.3333333333333333,
             "#9c179e"
            ],
            [
             0.4444444444444444,
             "#bd3786"
            ],
            [
             0.5555555555555556,
             "#d8576b"
            ],
            [
             0.6666666666666666,
             "#ed7953"
            ],
            [
             0.7777777777777778,
             "#fb9f3a"
            ],
            [
             0.8888888888888888,
             "#fdca26"
            ],
            [
             1,
             "#f0f921"
            ]
           ]
          },
          "colorway": [
           "#636efa",
           "#EF553B",
           "#00cc96",
           "#ab63fa",
           "#FFA15A",
           "#19d3f3",
           "#FF6692",
           "#B6E880",
           "#FF97FF",
           "#FECB52"
          ],
          "font": {
           "color": "#2a3f5f"
          },
          "geo": {
           "bgcolor": "white",
           "lakecolor": "white",
           "landcolor": "#E5ECF6",
           "showlakes": true,
           "showland": true,
           "subunitcolor": "white"
          },
          "hoverlabel": {
           "align": "left"
          },
          "hovermode": "closest",
          "mapbox": {
           "style": "light"
          },
          "paper_bgcolor": "white",
          "plot_bgcolor": "#E5ECF6",
          "polar": {
           "angularaxis": {
            "gridcolor": "white",
            "linecolor": "white",
            "ticks": ""
           },
           "bgcolor": "#E5ECF6",
           "radialaxis": {
            "gridcolor": "white",
            "linecolor": "white",
            "ticks": ""
           }
          },
          "scene": {
           "xaxis": {
            "backgroundcolor": "#E5ECF6",
            "gridcolor": "white",
            "gridwidth": 2,
            "linecolor": "white",
            "showbackground": true,
            "ticks": "",
            "zerolinecolor": "white"
           },
           "yaxis": {
            "backgroundcolor": "#E5ECF6",
            "gridcolor": "white",
            "gridwidth": 2,
            "linecolor": "white",
            "showbackground": true,
            "ticks": "",
            "zerolinecolor": "white"
           },
           "zaxis": {
            "backgroundcolor": "#E5ECF6",
            "gridcolor": "white",
            "gridwidth": 2,
            "linecolor": "white",
            "showbackground": true,
            "ticks": "",
            "zerolinecolor": "white"
           }
          },
          "shapedefaults": {
           "line": {
            "color": "#2a3f5f"
           }
          },
          "ternary": {
           "aaxis": {
            "gridcolor": "white",
            "linecolor": "white",
            "ticks": ""
           },
           "baxis": {
            "gridcolor": "white",
            "linecolor": "white",
            "ticks": ""
           },
           "bgcolor": "#E5ECF6",
           "caxis": {
            "gridcolor": "white",
            "linecolor": "white",
            "ticks": ""
           }
          },
          "title": {
           "x": 0.05
          },
          "xaxis": {
           "automargin": true,
           "gridcolor": "white",
           "linecolor": "white",
           "ticks": "",
           "title": {
            "standoff": 15
           },
           "zerolinecolor": "white",
           "zerolinewidth": 2
          },
          "yaxis": {
           "automargin": true,
           "gridcolor": "white",
           "linecolor": "white",
           "ticks": "",
           "title": {
            "standoff": 15
           },
           "zerolinecolor": "white",
           "zerolinewidth": 2
          }
         }
        },
        "title": {
         "font": {
          "color": "#4D5663"
         }
        },
        "xaxis": {
         "gridcolor": "#E1E5ED",
         "showgrid": true,
         "tickfont": {
          "color": "#4D5663"
         },
         "title": {
          "font": {
           "color": "#4D5663"
          },
          "text": ""
         },
         "zerolinecolor": "#E1E5ED"
        },
        "yaxis": {
         "gridcolor": "#E1E5ED",
         "showgrid": true,
         "tickfont": {
          "color": "#4D5663"
         },
         "title": {
          "font": {
           "color": "#4D5663"
          },
          "text": ""
         },
         "zerolinecolor": "#E1E5ED"
        }
       }
      },
      "text/html": [
       "<div>                            <div id=\"daa3aab0-1687-4cbc-8a12-dde2aae58b4b\" class=\"plotly-graph-div\" style=\"height:525px; width:100%;\"></div>            <script type=\"text/javascript\">                require([\"plotly\"], function(Plotly) {                    window.PLOTLYENV=window.PLOTLYENV || {};\n",
       "                    window.PLOTLYENV.BASE_URL='https://plot.ly';                                    if (document.getElementById(\"daa3aab0-1687-4cbc-8a12-dde2aae58b4b\")) {                    Plotly.newPlot(                        \"daa3aab0-1687-4cbc-8a12-dde2aae58b4b\",                        [{\"line\":{\"color\":\"rgba(255, 153, 51, 1.0)\",\"dash\":\"solid\",\"shape\":\"linear\",\"width\":1.3},\"mode\":\"lines\",\"name\":\"A\",\"text\":\"\",\"x\":[0,1,2,3,4,5,6,7,8,9,10,11,12,13,14,15,16,17,18,19,20,21,22,23,24,25,26,27,28,29,30,31,32,33,34,35,36,37,38,39,40,41,42,43,44,45,46,47,48,49,50,51,52,53,54,55,56,57,58,59,60,61,62,63,64,65,66,67,68,69,70,71,72,73,74,75,76,77,78,79,80,81,82,83,84,85,86,87,88,89,90,91,92,93,94,95,96,97,98,99],\"y\":[-0.05559180576518184,0.5620453907383516,-1.7899404051407906,1.500518268376267,0.7528373449617896,-1.1771597300556,1.97138381329973,0.3020214150295912,-1.9247991418812365,0.709441640718662,-0.01703638589202485,0.8199877942986776,0.5591157966803538,-0.07831734859886214,2.0263777208694695,-0.07574584864740508,-0.396370799265584,0.4191186184191619,0.9098700431175843,-1.0431608126404592,-1.7937637698431927,0.3067825397453611,0.2691059102780455,-0.31836442674890625,0.24337795539086785,0.512773733565278,-1.4073754758808312,0.5457544007462951,-0.6571845396135951,-2.0639373239813503,-1.4468588683638646,-0.9789754188086063,-2.1306056808379563,-0.20480729972649234,-0.8222382380694211,-0.33300118314536314,-0.29784234037258445,0.5307423401569827,0.15380642956204912,-0.1188208875107539,-0.8383589645894698,-0.5427105997081095,2.488310572074583,-0.2645552704783902,-0.45784207536797183,-1.8720226996945561,-0.7221199763313748,0.7303713162051148,-0.5675927577151667,0.2743443549958475,-0.8363932058173486,-0.197070058476929,-0.20013495199757259,-2.245092326684816,0.5943639003035389,-2.4438290349158693,-2.312513093070422,-0.10226142096044005,-0.3540991820914685,1.1846112283224697,0.5785961937800251,0.9454529767507993,-0.9378679023799694,2.252026617954698,0.8836245400728469,0.19770903317243588,0.5820505519137525,0.7000403498804273,0.18687441456797468,-2.605904251516702,1.013838593924159,0.7048394896011076,-0.9700118607851692,1.4122071311811517,0.22121580587926673,1.2618498032297492,-0.5281752604894419,-0.7421908714692181,1.5430526507489388,1.6370858753648112,0.15153329405330462,-0.35805431200293014,-0.9283089709763265,0.3293002280206697,-0.04430655153238148,1.125980853731697,-0.8103951450968989,-0.636133320370373,-0.5840496782043829,0.2912078731205048,-0.5137033735673227,-0.5894102919320074,-0.44662329985137666,1.4453702578010075,-2.8820121087644,0.5943854382063423,-0.2507644033592735,-1.4506707195233537,-0.32976243758703705,-0.5173084332484963],\"type\":\"scatter\"},{\"line\":{\"color\":\"rgba(55, 128, 191, 1.0)\",\"dash\":\"solid\",\"shape\":\"linear\",\"width\":1.3},\"mode\":\"lines\",\"name\":\"B\",\"text\":\"\",\"x\":[0,1,2,3,4,5,6,7,8,9,10,11,12,13,14,15,16,17,18,19,20,21,22,23,24,25,26,27,28,29,30,31,32,33,34,35,36,37,38,39,40,41,42,43,44,45,46,47,48,49,50,51,52,53,54,55,56,57,58,59,60,61,62,63,64,65,66,67,68,69,70,71,72,73,74,75,76,77,78,79,80,81,82,83,84,85,86,87,88,89,90,91,92,93,94,95,96,97,98,99],\"y\":[1.452833408522823,-2.801289721404959,1.467471032771779,1.1075149196133212,0.5900621714557223,-0.28302847996604674,0.23427324061681518,-1.215558624206029,0.813168712095642,-0.27005007088545496,-0.38243213069474835,1.6853155435237392,-0.6607753287657827,-0.3472588976686309,0.6719544662985177,-1.2237508738534368,0.3183787636673109,-0.72535952550027,-0.26260020669625433,-0.850618401548025,-0.7274756636907109,1.1687905305044257,0.49469694638536177,-0.26871518589218507,0.15290598210181186,1.2097075310133023,1.000422474088806,0.3136146057400716,-0.2833208420357839,-0.1860803660624252,-0.9564691687831892,1.6672459232340364,0.6683703526469932,1.3610316950494012,-1.8351289950778071,0.2251323174580143,-0.5417476758860279,-1.0073462642598332,-0.38783816934944704,0.5531661483954752,-0.29784593859479686,0.27348929840642366,0.4691760622386405,-0.3761511711516631,-0.7725927101520446,-0.4637975839720279,-1.3947025101192394,-0.1830294614098356,1.625397974734619,0.7544921969987086,0.4104847513780054,-0.9092909463854356,1.171510476069789,0.5458990143642105,-0.5844526689136395,0.4425182954767783,-0.7817994944058249,1.0153723508764105,0.23275728789967648,-1.5989167066075543,1.1460289758089788,-0.7504446965323814,1.6300471548892737,-1.598248946404511,0.8595031406047959,0.16147366754361436,-0.45353015445403494,-0.31061877236519714,-0.6243507521232172,0.06250609987067719,-0.7759860097109451,-0.8472620099074127,1.5987177491523321,-1.1678132491490123,-1.247064428257644,-0.369826813335805,0.46232826804011073,1.7838081747848518,1.2909978570591278,-1.496859178399673,0.22001922625256887,-0.9113831617477044,0.49478127902387076,1.8100591568741062,1.0511618624121364,-0.8846969102030365,-0.861736858706487,-1.8399566183192644,-1.2004936606910546,-0.008772066069577691,-1.2661127544327189,0.12930024126805745,-0.9741132348621366,1.911126529769431,-0.8669170987643292,0.6705416816248445,0.7025783402266444,0.9783330874535535,0.13718527998129446,0.08864824382977793],\"type\":\"scatter\"},{\"line\":{\"color\":\"rgba(50, 171, 96, 1.0)\",\"dash\":\"solid\",\"shape\":\"linear\",\"width\":1.3},\"mode\":\"lines\",\"name\":\"C\",\"text\":\"\",\"x\":[0,1,2,3,4,5,6,7,8,9,10,11,12,13,14,15,16,17,18,19,20,21,22,23,24,25,26,27,28,29,30,31,32,33,34,35,36,37,38,39,40,41,42,43,44,45,46,47,48,49,50,51,52,53,54,55,56,57,58,59,60,61,62,63,64,65,66,67,68,69,70,71,72,73,74,75,76,77,78,79,80,81,82,83,84,85,86,87,88,89,90,91,92,93,94,95,96,97,98,99],\"y\":[0.25500841675327135,-2.0228296660047334,-1.5941368496927122,0.7566379326733458,0.09042462761333182,0.7880099583693712,0.33110955233396566,0.633630161318091,-3.104318720313925,0.15769519846695176,-0.01821056361192945,0.32975254187472197,0.6691148817820453,0.8882708461650792,0.32571083062195644,1.2969248124686905,-0.828469691493726,0.8186951502774704,-0.8481415447451287,-0.005448656858547519,-1.046985396498361,2.0876629941168403,-0.4932176461548644,-1.479742227493446,-0.893779716681242,1.059693973315859,-0.4218995577916561,0.3037603245140057,-0.295718885568225,-1.456631526768783,0.6726281780162228,-0.2513454101392943,-0.0029946532401559714,1.2223245878227034,-1.400357848874864,-0.9745231933933619,-0.7394884299589058,0.07692397890434306,-0.13916293510562336,1.0262265227965133,0.8681801213723014,-0.1558700044747346,0.8154873912086121,-0.040550112558222724,-0.022995195337995825,0.19472825145585765,-0.8294809719858296,0.253481929767634,-0.6680928324389981,-0.3741609826317901,-2.5647984075760584,1.202281009334771,1.5356448424278233,-0.658681268678709,0.98511260312972,-1.5569511626557264,0.6959850736666175,0.041869074233176394,-0.2940238445233744,-0.8855718078598309,-0.312486874051758,-1.2120957514801096,-0.0804516775894421,-0.06955069706107143,0.4213701146254383,-0.5824044836334542,0.3320929214372528,0.20034650112127014,1.139537356515105,-0.11636411784016422,-1.5580486253908081,0.4787958649368819,0.06371197852824667,-0.34365931506835834,0.6165488060556412,-0.9339932703085433,-1.2679418729267968,-0.37370211392929065,0.1553807466229721,-1.6790618079561024,-0.8153431874050666,0.027609721305113872,1.7125284633192528,0.477293575773967,-0.2107470140392488,1.2466380227088456,0.7268506778475627,1.1825032117586856,-0.19560223128214535,-0.6394964865536716,-0.33517501376555675,-1.4772991809849378,-0.3722722426648912,-0.03242252178216725,-0.11089344856880662,-0.08531307864935869,-0.04946493715695045,-0.15250410087849134,0.21164430464328296,-1.3243384652903012],\"type\":\"scatter\"},{\"line\":{\"color\":\"rgba(128, 0, 128, 1.0)\",\"dash\":\"solid\",\"shape\":\"linear\",\"width\":1.3},\"mode\":\"lines\",\"name\":\"D\",\"text\":\"\",\"x\":[0,1,2,3,4,5,6,7,8,9,10,11,12,13,14,15,16,17,18,19,20,21,22,23,24,25,26,27,28,29,30,31,32,33,34,35,36,37,38,39,40,41,42,43,44,45,46,47,48,49,50,51,52,53,54,55,56,57,58,59,60,61,62,63,64,65,66,67,68,69,70,71,72,73,74,75,76,77,78,79,80,81,82,83,84,85,86,87,88,89,90,91,92,93,94,95,96,97,98,99],\"y\":[0.1852673937213632,-0.44345827589806286,0.23273235167467715,-1.4903533275627932,0.2684902198097901,-0.686946223039476,-1.569611132126099,-0.8268636691466774,-0.047241527713950904,0.3700385806309308,-0.12732821435940275,-0.05036277629562494,-0.23921120887225938,-1.4846129257255232,0.9073179324373805,-0.5060076669401903,-0.4252614976966761,0.8346728660773869,-0.8427060950773964,-0.6135320914829894,-0.21523062705508028,0.5190812206976291,-0.9747123694425338,0.6537487327723273,2.322045329576906,1.413449387959019,0.34455620354785615,0.3188526310664666,0.7529156688198151,-0.33504683404000546,-0.8437176298130339,0.317721829730343,-1.2661495137545982,-0.0691429255933767,-0.8604798829031324,2.244452010671782,-0.15145796577193404,-0.07665135642775489,0.9513143318656485,-0.7160571745760614,-0.29852813553670526,-0.8587877409131487,-1.4672603813825607,1.0988442496704036,2.2760038379975467,1.6788414832474532,0.3726091108126695,0.7095174950341702,0.24877327374638,-0.36465139177197653,1.2706006745818645,1.5503467450343724,-0.31556209173554794,0.14718624186491758,0.3107995244034444,-0.5392879787433942,-1.129334155516057,-1.9162127924810703,-2.1991377381215975,-0.011759833599251049,0.8752288310754693,0.29250397526317556,1.5709858892377442,0.7655654796656748,-0.39031204352562565,-0.05988632666417284,-0.40006195094696545,-0.44417344480293425,0.49296792393382693,0.8103708801937014,-0.6640410877996384,-0.908551237967371,-1.1917658635528445,-1.2482720132411318,1.562451015147158,0.8826104656621604,-0.036813081581456845,-0.20533878048949492,-1.5318890996535242,-1.227574563627396,-0.3059276791424916,-0.25738907516547643,-0.6834027796862429,0.14073356590044747,-0.4964738906067588,0.1674286564235268,-1.941966835411613,0.8441767911667543,0.6505909193640828,0.5297311519789127,1.771393610824138,0.5653915202360102,-0.5629050155770081,-0.15828529933860774,1.3641429553783466,-0.7657757222716708,0.057515198937703314,-0.8389954153033105,0.47748464268948704,-2.0329806242365693],\"type\":\"scatter\"}],                        {\"legend\":{\"bgcolor\":\"#F5F6F9\",\"font\":{\"color\":\"#4D5663\"}},\"paper_bgcolor\":\"#F5F6F9\",\"plot_bgcolor\":\"#F5F6F9\",\"template\":{\"data\":{\"barpolar\":[{\"marker\":{\"line\":{\"color\":\"#E5ECF6\",\"width\":0.5},\"pattern\":{\"fillmode\":\"overlay\",\"size\":10,\"solidity\":0.2}},\"type\":\"barpolar\"}],\"bar\":[{\"error_x\":{\"color\":\"#2a3f5f\"},\"error_y\":{\"color\":\"#2a3f5f\"},\"marker\":{\"line\":{\"color\":\"#E5ECF6\",\"width\":0.5},\"pattern\":{\"fillmode\":\"overlay\",\"size\":10,\"solidity\":0.2}},\"type\":\"bar\"}],\"carpet\":[{\"aaxis\":{\"endlinecolor\":\"#2a3f5f\",\"gridcolor\":\"white\",\"linecolor\":\"white\",\"minorgridcolor\":\"white\",\"startlinecolor\":\"#2a3f5f\"},\"baxis\":{\"endlinecolor\":\"#2a3f5f\",\"gridcolor\":\"white\",\"linecolor\":\"white\",\"minorgridcolor\":\"white\",\"startlinecolor\":\"#2a3f5f\"},\"type\":\"carpet\"}],\"choropleth\":[{\"colorbar\":{\"outlinewidth\":0,\"ticks\":\"\"},\"type\":\"choropleth\"}],\"contourcarpet\":[{\"colorbar\":{\"outlinewidth\":0,\"ticks\":\"\"},\"type\":\"contourcarpet\"}],\"contour\":[{\"colorbar\":{\"outlinewidth\":0,\"ticks\":\"\"},\"colorscale\":[[0.0,\"#0d0887\"],[0.1111111111111111,\"#46039f\"],[0.2222222222222222,\"#7201a8\"],[0.3333333333333333,\"#9c179e\"],[0.4444444444444444,\"#bd3786\"],[0.5555555555555556,\"#d8576b\"],[0.6666666666666666,\"#ed7953\"],[0.7777777777777778,\"#fb9f3a\"],[0.8888888888888888,\"#fdca26\"],[1.0,\"#f0f921\"]],\"type\":\"contour\"}],\"heatmapgl\":[{\"colorbar\":{\"outlinewidth\":0,\"ticks\":\"\"},\"colorscale\":[[0.0,\"#0d0887\"],[0.1111111111111111,\"#46039f\"],[0.2222222222222222,\"#7201a8\"],[0.3333333333333333,\"#9c179e\"],[0.4444444444444444,\"#bd3786\"],[0.5555555555555556,\"#d8576b\"],[0.6666666666666666,\"#ed7953\"],[0.7777777777777778,\"#fb9f3a\"],[0.8888888888888888,\"#fdca26\"],[1.0,\"#f0f921\"]],\"type\":\"heatmapgl\"}],\"heatmap\":[{\"colorbar\":{\"outlinewidth\":0,\"ticks\":\"\"},\"colorscale\":[[0.0,\"#0d0887\"],[0.1111111111111111,\"#46039f\"],[0.2222222222222222,\"#7201a8\"],[0.3333333333333333,\"#9c179e\"],[0.4444444444444444,\"#bd3786\"],[0.5555555555555556,\"#d8576b\"],[0.6666666666666666,\"#ed7953\"],[0.7777777777777778,\"#fb9f3a\"],[0.8888888888888888,\"#fdca26\"],[1.0,\"#f0f921\"]],\"type\":\"heatmap\"}],\"histogram2dcontour\":[{\"colorbar\":{\"outlinewidth\":0,\"ticks\":\"\"},\"colorscale\":[[0.0,\"#0d0887\"],[0.1111111111111111,\"#46039f\"],[0.2222222222222222,\"#7201a8\"],[0.3333333333333333,\"#9c179e\"],[0.4444444444444444,\"#bd3786\"],[0.5555555555555556,\"#d8576b\"],[0.6666666666666666,\"#ed7953\"],[0.7777777777777778,\"#fb9f3a\"],[0.8888888888888888,\"#fdca26\"],[1.0,\"#f0f921\"]],\"type\":\"histogram2dcontour\"}],\"histogram2d\":[{\"colorbar\":{\"outlinewidth\":0,\"ticks\":\"\"},\"colorscale\":[[0.0,\"#0d0887\"],[0.1111111111111111,\"#46039f\"],[0.2222222222222222,\"#7201a8\"],[0.3333333333333333,\"#9c179e\"],[0.4444444444444444,\"#bd3786\"],[0.5555555555555556,\"#d8576b\"],[0.6666666666666666,\"#ed7953\"],[0.7777777777777778,\"#fb9f3a\"],[0.8888888888888888,\"#fdca26\"],[1.0,\"#f0f921\"]],\"type\":\"histogram2d\"}],\"histogram\":[{\"marker\":{\"pattern\":{\"fillmode\":\"overlay\",\"size\":10,\"solidity\":0.2}},\"type\":\"histogram\"}],\"mesh3d\":[{\"colorbar\":{\"outlinewidth\":0,\"ticks\":\"\"},\"type\":\"mesh3d\"}],\"parcoords\":[{\"line\":{\"colorbar\":{\"outlinewidth\":0,\"ticks\":\"\"}},\"type\":\"parcoords\"}],\"pie\":[{\"automargin\":true,\"type\":\"pie\"}],\"scatter3d\":[{\"line\":{\"colorbar\":{\"outlinewidth\":0,\"ticks\":\"\"}},\"marker\":{\"colorbar\":{\"outlinewidth\":0,\"ticks\":\"\"}},\"type\":\"scatter3d\"}],\"scattercarpet\":[{\"marker\":{\"colorbar\":{\"outlinewidth\":0,\"ticks\":\"\"}},\"type\":\"scattercarpet\"}],\"scattergeo\":[{\"marker\":{\"colorbar\":{\"outlinewidth\":0,\"ticks\":\"\"}},\"type\":\"scattergeo\"}],\"scattergl\":[{\"marker\":{\"colorbar\":{\"outlinewidth\":0,\"ticks\":\"\"}},\"type\":\"scattergl\"}],\"scattermapbox\":[{\"marker\":{\"colorbar\":{\"outlinewidth\":0,\"ticks\":\"\"}},\"type\":\"scattermapbox\"}],\"scatterpolargl\":[{\"marker\":{\"colorbar\":{\"outlinewidth\":0,\"ticks\":\"\"}},\"type\":\"scatterpolargl\"}],\"scatterpolar\":[{\"marker\":{\"colorbar\":{\"outlinewidth\":0,\"ticks\":\"\"}},\"type\":\"scatterpolar\"}],\"scatter\":[{\"fillpattern\":{\"fillmode\":\"overlay\",\"size\":10,\"solidity\":0.2},\"type\":\"scatter\"}],\"scatterternary\":[{\"marker\":{\"colorbar\":{\"outlinewidth\":0,\"ticks\":\"\"}},\"type\":\"scatterternary\"}],\"surface\":[{\"colorbar\":{\"outlinewidth\":0,\"ticks\":\"\"},\"colorscale\":[[0.0,\"#0d0887\"],[0.1111111111111111,\"#46039f\"],[0.2222222222222222,\"#7201a8\"],[0.3333333333333333,\"#9c179e\"],[0.4444444444444444,\"#bd3786\"],[0.5555555555555556,\"#d8576b\"],[0.6666666666666666,\"#ed7953\"],[0.7777777777777778,\"#fb9f3a\"],[0.8888888888888888,\"#fdca26\"],[1.0,\"#f0f921\"]],\"type\":\"surface\"}],\"table\":[{\"cells\":{\"fill\":{\"color\":\"#EBF0F8\"},\"line\":{\"color\":\"white\"}},\"header\":{\"fill\":{\"color\":\"#C8D4E3\"},\"line\":{\"color\":\"white\"}},\"type\":\"table\"}]},\"layout\":{\"annotationdefaults\":{\"arrowcolor\":\"#2a3f5f\",\"arrowhead\":0,\"arrowwidth\":1},\"autotypenumbers\":\"strict\",\"coloraxis\":{\"colorbar\":{\"outlinewidth\":0,\"ticks\":\"\"}},\"colorscale\":{\"diverging\":[[0,\"#8e0152\"],[0.1,\"#c51b7d\"],[0.2,\"#de77ae\"],[0.3,\"#f1b6da\"],[0.4,\"#fde0ef\"],[0.5,\"#f7f7f7\"],[0.6,\"#e6f5d0\"],[0.7,\"#b8e186\"],[0.8,\"#7fbc41\"],[0.9,\"#4d9221\"],[1,\"#276419\"]],\"sequential\":[[0.0,\"#0d0887\"],[0.1111111111111111,\"#46039f\"],[0.2222222222222222,\"#7201a8\"],[0.3333333333333333,\"#9c179e\"],[0.4444444444444444,\"#bd3786\"],[0.5555555555555556,\"#d8576b\"],[0.6666666666666666,\"#ed7953\"],[0.7777777777777778,\"#fb9f3a\"],[0.8888888888888888,\"#fdca26\"],[1.0,\"#f0f921\"]],\"sequentialminus\":[[0.0,\"#0d0887\"],[0.1111111111111111,\"#46039f\"],[0.2222222222222222,\"#7201a8\"],[0.3333333333333333,\"#9c179e\"],[0.4444444444444444,\"#bd3786\"],[0.5555555555555556,\"#d8576b\"],[0.6666666666666666,\"#ed7953\"],[0.7777777777777778,\"#fb9f3a\"],[0.8888888888888888,\"#fdca26\"],[1.0,\"#f0f921\"]]},\"colorway\":[\"#636efa\",\"#EF553B\",\"#00cc96\",\"#ab63fa\",\"#FFA15A\",\"#19d3f3\",\"#FF6692\",\"#B6E880\",\"#FF97FF\",\"#FECB52\"],\"font\":{\"color\":\"#2a3f5f\"},\"geo\":{\"bgcolor\":\"white\",\"lakecolor\":\"white\",\"landcolor\":\"#E5ECF6\",\"showlakes\":true,\"showland\":true,\"subunitcolor\":\"white\"},\"hoverlabel\":{\"align\":\"left\"},\"hovermode\":\"closest\",\"mapbox\":{\"style\":\"light\"},\"paper_bgcolor\":\"white\",\"plot_bgcolor\":\"#E5ECF6\",\"polar\":{\"angularaxis\":{\"gridcolor\":\"white\",\"linecolor\":\"white\",\"ticks\":\"\"},\"bgcolor\":\"#E5ECF6\",\"radialaxis\":{\"gridcolor\":\"white\",\"linecolor\":\"white\",\"ticks\":\"\"}},\"scene\":{\"xaxis\":{\"backgroundcolor\":\"#E5ECF6\",\"gridcolor\":\"white\",\"gridwidth\":2,\"linecolor\":\"white\",\"showbackground\":true,\"ticks\":\"\",\"zerolinecolor\":\"white\"},\"yaxis\":{\"backgroundcolor\":\"#E5ECF6\",\"gridcolor\":\"white\",\"gridwidth\":2,\"linecolor\":\"white\",\"showbackground\":true,\"ticks\":\"\",\"zerolinecolor\":\"white\"},\"zaxis\":{\"backgroundcolor\":\"#E5ECF6\",\"gridcolor\":\"white\",\"gridwidth\":2,\"linecolor\":\"white\",\"showbackground\":true,\"ticks\":\"\",\"zerolinecolor\":\"white\"}},\"shapedefaults\":{\"line\":{\"color\":\"#2a3f5f\"}},\"ternary\":{\"aaxis\":{\"gridcolor\":\"white\",\"linecolor\":\"white\",\"ticks\":\"\"},\"baxis\":{\"gridcolor\":\"white\",\"linecolor\":\"white\",\"ticks\":\"\"},\"bgcolor\":\"#E5ECF6\",\"caxis\":{\"gridcolor\":\"white\",\"linecolor\":\"white\",\"ticks\":\"\"}},\"title\":{\"x\":0.05},\"xaxis\":{\"automargin\":true,\"gridcolor\":\"white\",\"linecolor\":\"white\",\"ticks\":\"\",\"title\":{\"standoff\":15},\"zerolinecolor\":\"white\",\"zerolinewidth\":2},\"yaxis\":{\"automargin\":true,\"gridcolor\":\"white\",\"linecolor\":\"white\",\"ticks\":\"\",\"title\":{\"standoff\":15},\"zerolinecolor\":\"white\",\"zerolinewidth\":2}}},\"title\":{\"font\":{\"color\":\"#4D5663\"}},\"xaxis\":{\"gridcolor\":\"#E1E5ED\",\"showgrid\":true,\"tickfont\":{\"color\":\"#4D5663\"},\"title\":{\"font\":{\"color\":\"#4D5663\"},\"text\":\"\"},\"zerolinecolor\":\"#E1E5ED\"},\"yaxis\":{\"gridcolor\":\"#E1E5ED\",\"showgrid\":true,\"tickfont\":{\"color\":\"#4D5663\"},\"title\":{\"font\":{\"color\":\"#4D5663\"},\"text\":\"\"},\"zerolinecolor\":\"#E1E5ED\"}},                        {\"showLink\": true, \"linkText\": \"Export to plot.ly\", \"plotlyServerURL\": \"https://plot.ly\", \"responsive\": true}                    ).then(function(){\n",
       "                            \n",
       "var gd = document.getElementById('daa3aab0-1687-4cbc-8a12-dde2aae58b4b');\n",
       "var x = new MutationObserver(function (mutations, observer) {{\n",
       "        var display = window.getComputedStyle(gd).display;\n",
       "        if (!display || display === 'none') {{\n",
       "            console.log([gd, 'removed!']);\n",
       "            Plotly.purge(gd);\n",
       "            observer.disconnect();\n",
       "        }}\n",
       "}});\n",
       "\n",
       "// Listen for the removal of the full notebook cells\n",
       "var notebookContainer = gd.closest('#notebook-container');\n",
       "if (notebookContainer) {{\n",
       "    x.observe(notebookContainer, {childList: true});\n",
       "}}\n",
       "\n",
       "// Listen for the clearing of the current output cell\n",
       "var outputEl = gd.closest('.output');\n",
       "if (outputEl) {{\n",
       "    x.observe(outputEl, {childList: true});\n",
       "}}\n",
       "\n",
       "                        })                };                });            </script>        </div>"
      ]
     },
     "metadata": {},
     "output_type": "display_data"
    }
   ],
   "source": [
    "df.iplot()"
   ]
  },
  {
   "cell_type": "code",
   "execution_count": 18,
   "id": "a97b6725",
   "metadata": {},
   "outputs": [
    {
     "data": {
      "application/vnd.plotly.v1+json": {
       "config": {
        "linkText": "Export to plot.ly",
        "plotlyServerURL": "https://plot.ly",
        "showLink": true
       },
       "data": [
        {
         "line": {
          "color": "rgba(255, 153, 51, 1.0)",
          "dash": "solid",
          "shape": "linear",
          "width": 1.3
         },
         "marker": {
          "size": 15,
          "symbol": "circle"
         },
         "mode": "markers",
         "name": "B",
         "text": "",
         "type": "scatter",
         "x": [
          -0.05559180576518184,
          0.5620453907383516,
          -1.7899404051407906,
          1.500518268376267,
          0.7528373449617896,
          -1.1771597300556,
          1.97138381329973,
          0.3020214150295912,
          -1.9247991418812365,
          0.709441640718662,
          -0.01703638589202485,
          0.8199877942986776,
          0.5591157966803538,
          -0.07831734859886214,
          2.0263777208694695,
          -0.07574584864740508,
          -0.396370799265584,
          0.4191186184191619,
          0.9098700431175843,
          -1.0431608126404592,
          -1.7937637698431927,
          0.3067825397453611,
          0.2691059102780455,
          -0.31836442674890625,
          0.24337795539086785,
          0.512773733565278,
          -1.4073754758808312,
          0.5457544007462951,
          -0.6571845396135951,
          -2.0639373239813503,
          -1.4468588683638646,
          -0.9789754188086063,
          -2.1306056808379563,
          -0.20480729972649234,
          -0.8222382380694211,
          -0.33300118314536314,
          -0.29784234037258445,
          0.5307423401569827,
          0.15380642956204912,
          -0.1188208875107539,
          -0.8383589645894698,
          -0.5427105997081095,
          2.488310572074583,
          -0.2645552704783902,
          -0.45784207536797183,
          -1.8720226996945561,
          -0.7221199763313748,
          0.7303713162051148,
          -0.5675927577151667,
          0.2743443549958475,
          -0.8363932058173486,
          -0.197070058476929,
          -0.20013495199757259,
          -2.245092326684816,
          0.5943639003035389,
          -2.4438290349158693,
          -2.312513093070422,
          -0.10226142096044005,
          -0.3540991820914685,
          1.1846112283224697,
          0.5785961937800251,
          0.9454529767507993,
          -0.9378679023799694,
          2.252026617954698,
          0.8836245400728469,
          0.19770903317243588,
          0.5820505519137525,
          0.7000403498804273,
          0.18687441456797468,
          -2.605904251516702,
          1.013838593924159,
          0.7048394896011076,
          -0.9700118607851692,
          1.4122071311811517,
          0.22121580587926673,
          1.2618498032297492,
          -0.5281752604894419,
          -0.7421908714692181,
          1.5430526507489388,
          1.6370858753648112,
          0.15153329405330462,
          -0.35805431200293014,
          -0.9283089709763265,
          0.3293002280206697,
          -0.04430655153238148,
          1.125980853731697,
          -0.8103951450968989,
          -0.636133320370373,
          -0.5840496782043829,
          0.2912078731205048,
          -0.5137033735673227,
          -0.5894102919320074,
          -0.44662329985137666,
          1.4453702578010075,
          -2.8820121087644,
          0.5943854382063423,
          -0.2507644033592735,
          -1.4506707195233537,
          -0.32976243758703705,
          -0.5173084332484963
         ],
         "y": [
          1.452833408522823,
          -2.801289721404959,
          1.467471032771779,
          1.1075149196133212,
          0.5900621714557223,
          -0.28302847996604674,
          0.23427324061681518,
          -1.215558624206029,
          0.813168712095642,
          -0.27005007088545496,
          -0.38243213069474835,
          1.6853155435237392,
          -0.6607753287657827,
          -0.3472588976686309,
          0.6719544662985177,
          -1.2237508738534368,
          0.3183787636673109,
          -0.72535952550027,
          -0.26260020669625433,
          -0.850618401548025,
          -0.7274756636907109,
          1.1687905305044257,
          0.49469694638536177,
          -0.26871518589218507,
          0.15290598210181186,
          1.2097075310133023,
          1.000422474088806,
          0.3136146057400716,
          -0.2833208420357839,
          -0.1860803660624252,
          -0.9564691687831892,
          1.6672459232340364,
          0.6683703526469932,
          1.3610316950494012,
          -1.8351289950778071,
          0.2251323174580143,
          -0.5417476758860279,
          -1.0073462642598332,
          -0.38783816934944704,
          0.5531661483954752,
          -0.29784593859479686,
          0.27348929840642366,
          0.4691760622386405,
          -0.3761511711516631,
          -0.7725927101520446,
          -0.4637975839720279,
          -1.3947025101192394,
          -0.1830294614098356,
          1.625397974734619,
          0.7544921969987086,
          0.4104847513780054,
          -0.9092909463854356,
          1.171510476069789,
          0.5458990143642105,
          -0.5844526689136395,
          0.4425182954767783,
          -0.7817994944058249,
          1.0153723508764105,
          0.23275728789967648,
          -1.5989167066075543,
          1.1460289758089788,
          -0.7504446965323814,
          1.6300471548892737,
          -1.598248946404511,
          0.8595031406047959,
          0.16147366754361436,
          -0.45353015445403494,
          -0.31061877236519714,
          -0.6243507521232172,
          0.06250609987067719,
          -0.7759860097109451,
          -0.8472620099074127,
          1.5987177491523321,
          -1.1678132491490123,
          -1.247064428257644,
          -0.369826813335805,
          0.46232826804011073,
          1.7838081747848518,
          1.2909978570591278,
          -1.496859178399673,
          0.22001922625256887,
          -0.9113831617477044,
          0.49478127902387076,
          1.8100591568741062,
          1.0511618624121364,
          -0.8846969102030365,
          -0.861736858706487,
          -1.8399566183192644,
          -1.2004936606910546,
          -0.008772066069577691,
          -1.2661127544327189,
          0.12930024126805745,
          -0.9741132348621366,
          1.911126529769431,
          -0.8669170987643292,
          0.6705416816248445,
          0.7025783402266444,
          0.9783330874535535,
          0.13718527998129446,
          0.08864824382977793
         ]
        }
       ],
       "layout": {
        "legend": {
         "bgcolor": "#F5F6F9",
         "font": {
          "color": "#4D5663"
         }
        },
        "paper_bgcolor": "#F5F6F9",
        "plot_bgcolor": "#F5F6F9",
        "template": {
         "data": {
          "bar": [
           {
            "error_x": {
             "color": "#2a3f5f"
            },
            "error_y": {
             "color": "#2a3f5f"
            },
            "marker": {
             "line": {
              "color": "#E5ECF6",
              "width": 0.5
             },
             "pattern": {
              "fillmode": "overlay",
              "size": 10,
              "solidity": 0.2
             }
            },
            "type": "bar"
           }
          ],
          "barpolar": [
           {
            "marker": {
             "line": {
              "color": "#E5ECF6",
              "width": 0.5
             },
             "pattern": {
              "fillmode": "overlay",
              "size": 10,
              "solidity": 0.2
             }
            },
            "type": "barpolar"
           }
          ],
          "carpet": [
           {
            "aaxis": {
             "endlinecolor": "#2a3f5f",
             "gridcolor": "white",
             "linecolor": "white",
             "minorgridcolor": "white",
             "startlinecolor": "#2a3f5f"
            },
            "baxis": {
             "endlinecolor": "#2a3f5f",
             "gridcolor": "white",
             "linecolor": "white",
             "minorgridcolor": "white",
             "startlinecolor": "#2a3f5f"
            },
            "type": "carpet"
           }
          ],
          "choropleth": [
           {
            "colorbar": {
             "outlinewidth": 0,
             "ticks": ""
            },
            "type": "choropleth"
           }
          ],
          "contour": [
           {
            "colorbar": {
             "outlinewidth": 0,
             "ticks": ""
            },
            "colorscale": [
             [
              0,
              "#0d0887"
             ],
             [
              0.1111111111111111,
              "#46039f"
             ],
             [
              0.2222222222222222,
              "#7201a8"
             ],
             [
              0.3333333333333333,
              "#9c179e"
             ],
             [
              0.4444444444444444,
              "#bd3786"
             ],
             [
              0.5555555555555556,
              "#d8576b"
             ],
             [
              0.6666666666666666,
              "#ed7953"
             ],
             [
              0.7777777777777778,
              "#fb9f3a"
             ],
             [
              0.8888888888888888,
              "#fdca26"
             ],
             [
              1,
              "#f0f921"
             ]
            ],
            "type": "contour"
           }
          ],
          "contourcarpet": [
           {
            "colorbar": {
             "outlinewidth": 0,
             "ticks": ""
            },
            "type": "contourcarpet"
           }
          ],
          "heatmap": [
           {
            "colorbar": {
             "outlinewidth": 0,
             "ticks": ""
            },
            "colorscale": [
             [
              0,
              "#0d0887"
             ],
             [
              0.1111111111111111,
              "#46039f"
             ],
             [
              0.2222222222222222,
              "#7201a8"
             ],
             [
              0.3333333333333333,
              "#9c179e"
             ],
             [
              0.4444444444444444,
              "#bd3786"
             ],
             [
              0.5555555555555556,
              "#d8576b"
             ],
             [
              0.6666666666666666,
              "#ed7953"
             ],
             [
              0.7777777777777778,
              "#fb9f3a"
             ],
             [
              0.8888888888888888,
              "#fdca26"
             ],
             [
              1,
              "#f0f921"
             ]
            ],
            "type": "heatmap"
           }
          ],
          "heatmapgl": [
           {
            "colorbar": {
             "outlinewidth": 0,
             "ticks": ""
            },
            "colorscale": [
             [
              0,
              "#0d0887"
             ],
             [
              0.1111111111111111,
              "#46039f"
             ],
             [
              0.2222222222222222,
              "#7201a8"
             ],
             [
              0.3333333333333333,
              "#9c179e"
             ],
             [
              0.4444444444444444,
              "#bd3786"
             ],
             [
              0.5555555555555556,
              "#d8576b"
             ],
             [
              0.6666666666666666,
              "#ed7953"
             ],
             [
              0.7777777777777778,
              "#fb9f3a"
             ],
             [
              0.8888888888888888,
              "#fdca26"
             ],
             [
              1,
              "#f0f921"
             ]
            ],
            "type": "heatmapgl"
           }
          ],
          "histogram": [
           {
            "marker": {
             "pattern": {
              "fillmode": "overlay",
              "size": 10,
              "solidity": 0.2
             }
            },
            "type": "histogram"
           }
          ],
          "histogram2d": [
           {
            "colorbar": {
             "outlinewidth": 0,
             "ticks": ""
            },
            "colorscale": [
             [
              0,
              "#0d0887"
             ],
             [
              0.1111111111111111,
              "#46039f"
             ],
             [
              0.2222222222222222,
              "#7201a8"
             ],
             [
              0.3333333333333333,
              "#9c179e"
             ],
             [
              0.4444444444444444,
              "#bd3786"
             ],
             [
              0.5555555555555556,
              "#d8576b"
             ],
             [
              0.6666666666666666,
              "#ed7953"
             ],
             [
              0.7777777777777778,
              "#fb9f3a"
             ],
             [
              0.8888888888888888,
              "#fdca26"
             ],
             [
              1,
              "#f0f921"
             ]
            ],
            "type": "histogram2d"
           }
          ],
          "histogram2dcontour": [
           {
            "colorbar": {
             "outlinewidth": 0,
             "ticks": ""
            },
            "colorscale": [
             [
              0,
              "#0d0887"
             ],
             [
              0.1111111111111111,
              "#46039f"
             ],
             [
              0.2222222222222222,
              "#7201a8"
             ],
             [
              0.3333333333333333,
              "#9c179e"
             ],
             [
              0.4444444444444444,
              "#bd3786"
             ],
             [
              0.5555555555555556,
              "#d8576b"
             ],
             [
              0.6666666666666666,
              "#ed7953"
             ],
             [
              0.7777777777777778,
              "#fb9f3a"
             ],
             [
              0.8888888888888888,
              "#fdca26"
             ],
             [
              1,
              "#f0f921"
             ]
            ],
            "type": "histogram2dcontour"
           }
          ],
          "mesh3d": [
           {
            "colorbar": {
             "outlinewidth": 0,
             "ticks": ""
            },
            "type": "mesh3d"
           }
          ],
          "parcoords": [
           {
            "line": {
             "colorbar": {
              "outlinewidth": 0,
              "ticks": ""
             }
            },
            "type": "parcoords"
           }
          ],
          "pie": [
           {
            "automargin": true,
            "type": "pie"
           }
          ],
          "scatter": [
           {
            "fillpattern": {
             "fillmode": "overlay",
             "size": 10,
             "solidity": 0.2
            },
            "type": "scatter"
           }
          ],
          "scatter3d": [
           {
            "line": {
             "colorbar": {
              "outlinewidth": 0,
              "ticks": ""
             }
            },
            "marker": {
             "colorbar": {
              "outlinewidth": 0,
              "ticks": ""
             }
            },
            "type": "scatter3d"
           }
          ],
          "scattercarpet": [
           {
            "marker": {
             "colorbar": {
              "outlinewidth": 0,
              "ticks": ""
             }
            },
            "type": "scattercarpet"
           }
          ],
          "scattergeo": [
           {
            "marker": {
             "colorbar": {
              "outlinewidth": 0,
              "ticks": ""
             }
            },
            "type": "scattergeo"
           }
          ],
          "scattergl": [
           {
            "marker": {
             "colorbar": {
              "outlinewidth": 0,
              "ticks": ""
             }
            },
            "type": "scattergl"
           }
          ],
          "scattermapbox": [
           {
            "marker": {
             "colorbar": {
              "outlinewidth": 0,
              "ticks": ""
             }
            },
            "type": "scattermapbox"
           }
          ],
          "scatterpolar": [
           {
            "marker": {
             "colorbar": {
              "outlinewidth": 0,
              "ticks": ""
             }
            },
            "type": "scatterpolar"
           }
          ],
          "scatterpolargl": [
           {
            "marker": {
             "colorbar": {
              "outlinewidth": 0,
              "ticks": ""
             }
            },
            "type": "scatterpolargl"
           }
          ],
          "scatterternary": [
           {
            "marker": {
             "colorbar": {
              "outlinewidth": 0,
              "ticks": ""
             }
            },
            "type": "scatterternary"
           }
          ],
          "surface": [
           {
            "colorbar": {
             "outlinewidth": 0,
             "ticks": ""
            },
            "colorscale": [
             [
              0,
              "#0d0887"
             ],
             [
              0.1111111111111111,
              "#46039f"
             ],
             [
              0.2222222222222222,
              "#7201a8"
             ],
             [
              0.3333333333333333,
              "#9c179e"
             ],
             [
              0.4444444444444444,
              "#bd3786"
             ],
             [
              0.5555555555555556,
              "#d8576b"
             ],
             [
              0.6666666666666666,
              "#ed7953"
             ],
             [
              0.7777777777777778,
              "#fb9f3a"
             ],
             [
              0.8888888888888888,
              "#fdca26"
             ],
             [
              1,
              "#f0f921"
             ]
            ],
            "type": "surface"
           }
          ],
          "table": [
           {
            "cells": {
             "fill": {
              "color": "#EBF0F8"
             },
             "line": {
              "color": "white"
             }
            },
            "header": {
             "fill": {
              "color": "#C8D4E3"
             },
             "line": {
              "color": "white"
             }
            },
            "type": "table"
           }
          ]
         },
         "layout": {
          "annotationdefaults": {
           "arrowcolor": "#2a3f5f",
           "arrowhead": 0,
           "arrowwidth": 1
          },
          "autotypenumbers": "strict",
          "coloraxis": {
           "colorbar": {
            "outlinewidth": 0,
            "ticks": ""
           }
          },
          "colorscale": {
           "diverging": [
            [
             0,
             "#8e0152"
            ],
            [
             0.1,
             "#c51b7d"
            ],
            [
             0.2,
             "#de77ae"
            ],
            [
             0.3,
             "#f1b6da"
            ],
            [
             0.4,
             "#fde0ef"
            ],
            [
             0.5,
             "#f7f7f7"
            ],
            [
             0.6,
             "#e6f5d0"
            ],
            [
             0.7,
             "#b8e186"
            ],
            [
             0.8,
             "#7fbc41"
            ],
            [
             0.9,
             "#4d9221"
            ],
            [
             1,
             "#276419"
            ]
           ],
           "sequential": [
            [
             0,
             "#0d0887"
            ],
            [
             0.1111111111111111,
             "#46039f"
            ],
            [
             0.2222222222222222,
             "#7201a8"
            ],
            [
             0.3333333333333333,
             "#9c179e"
            ],
            [
             0.4444444444444444,
             "#bd3786"
            ],
            [
             0.5555555555555556,
             "#d8576b"
            ],
            [
             0.6666666666666666,
             "#ed7953"
            ],
            [
             0.7777777777777778,
             "#fb9f3a"
            ],
            [
             0.8888888888888888,
             "#fdca26"
            ],
            [
             1,
             "#f0f921"
            ]
           ],
           "sequentialminus": [
            [
             0,
             "#0d0887"
            ],
            [
             0.1111111111111111,
             "#46039f"
            ],
            [
             0.2222222222222222,
             "#7201a8"
            ],
            [
             0.3333333333333333,
             "#9c179e"
            ],
            [
             0.4444444444444444,
             "#bd3786"
            ],
            [
             0.5555555555555556,
             "#d8576b"
            ],
            [
             0.6666666666666666,
             "#ed7953"
            ],
            [
             0.7777777777777778,
             "#fb9f3a"
            ],
            [
             0.8888888888888888,
             "#fdca26"
            ],
            [
             1,
             "#f0f921"
            ]
           ]
          },
          "colorway": [
           "#636efa",
           "#EF553B",
           "#00cc96",
           "#ab63fa",
           "#FFA15A",
           "#19d3f3",
           "#FF6692",
           "#B6E880",
           "#FF97FF",
           "#FECB52"
          ],
          "font": {
           "color": "#2a3f5f"
          },
          "geo": {
           "bgcolor": "white",
           "lakecolor": "white",
           "landcolor": "#E5ECF6",
           "showlakes": true,
           "showland": true,
           "subunitcolor": "white"
          },
          "hoverlabel": {
           "align": "left"
          },
          "hovermode": "closest",
          "mapbox": {
           "style": "light"
          },
          "paper_bgcolor": "white",
          "plot_bgcolor": "#E5ECF6",
          "polar": {
           "angularaxis": {
            "gridcolor": "white",
            "linecolor": "white",
            "ticks": ""
           },
           "bgcolor": "#E5ECF6",
           "radialaxis": {
            "gridcolor": "white",
            "linecolor": "white",
            "ticks": ""
           }
          },
          "scene": {
           "xaxis": {
            "backgroundcolor": "#E5ECF6",
            "gridcolor": "white",
            "gridwidth": 2,
            "linecolor": "white",
            "showbackground": true,
            "ticks": "",
            "zerolinecolor": "white"
           },
           "yaxis": {
            "backgroundcolor": "#E5ECF6",
            "gridcolor": "white",
            "gridwidth": 2,
            "linecolor": "white",
            "showbackground": true,
            "ticks": "",
            "zerolinecolor": "white"
           },
           "zaxis": {
            "backgroundcolor": "#E5ECF6",
            "gridcolor": "white",
            "gridwidth": 2,
            "linecolor": "white",
            "showbackground": true,
            "ticks": "",
            "zerolinecolor": "white"
           }
          },
          "shapedefaults": {
           "line": {
            "color": "#2a3f5f"
           }
          },
          "ternary": {
           "aaxis": {
            "gridcolor": "white",
            "linecolor": "white",
            "ticks": ""
           },
           "baxis": {
            "gridcolor": "white",
            "linecolor": "white",
            "ticks": ""
           },
           "bgcolor": "#E5ECF6",
           "caxis": {
            "gridcolor": "white",
            "linecolor": "white",
            "ticks": ""
           }
          },
          "title": {
           "x": 0.05
          },
          "xaxis": {
           "automargin": true,
           "gridcolor": "white",
           "linecolor": "white",
           "ticks": "",
           "title": {
            "standoff": 15
           },
           "zerolinecolor": "white",
           "zerolinewidth": 2
          },
          "yaxis": {
           "automargin": true,
           "gridcolor": "white",
           "linecolor": "white",
           "ticks": "",
           "title": {
            "standoff": 15
           },
           "zerolinecolor": "white",
           "zerolinewidth": 2
          }
         }
        },
        "title": {
         "font": {
          "color": "#4D5663"
         }
        },
        "xaxis": {
         "gridcolor": "#E1E5ED",
         "showgrid": true,
         "tickfont": {
          "color": "#4D5663"
         },
         "title": {
          "font": {
           "color": "#4D5663"
          },
          "text": ""
         },
         "zerolinecolor": "#E1E5ED"
        },
        "yaxis": {
         "gridcolor": "#E1E5ED",
         "showgrid": true,
         "tickfont": {
          "color": "#4D5663"
         },
         "title": {
          "font": {
           "color": "#4D5663"
          },
          "text": ""
         },
         "zerolinecolor": "#E1E5ED"
        }
       }
      },
      "text/html": [
       "<div>                            <div id=\"bf6b8647-014e-4f59-bb9d-fcc3ba919eb8\" class=\"plotly-graph-div\" style=\"height:525px; width:100%;\"></div>            <script type=\"text/javascript\">                require([\"plotly\"], function(Plotly) {                    window.PLOTLYENV=window.PLOTLYENV || {};\n",
       "                    window.PLOTLYENV.BASE_URL='https://plot.ly';                                    if (document.getElementById(\"bf6b8647-014e-4f59-bb9d-fcc3ba919eb8\")) {                    Plotly.newPlot(                        \"bf6b8647-014e-4f59-bb9d-fcc3ba919eb8\",                        [{\"line\":{\"color\":\"rgba(255, 153, 51, 1.0)\",\"dash\":\"solid\",\"shape\":\"linear\",\"width\":1.3},\"marker\":{\"size\":15,\"symbol\":\"circle\"},\"mode\":\"markers\",\"name\":\"B\",\"text\":\"\",\"x\":[-0.05559180576518184,0.5620453907383516,-1.7899404051407906,1.500518268376267,0.7528373449617896,-1.1771597300556,1.97138381329973,0.3020214150295912,-1.9247991418812365,0.709441640718662,-0.01703638589202485,0.8199877942986776,0.5591157966803538,-0.07831734859886214,2.0263777208694695,-0.07574584864740508,-0.396370799265584,0.4191186184191619,0.9098700431175843,-1.0431608126404592,-1.7937637698431927,0.3067825397453611,0.2691059102780455,-0.31836442674890625,0.24337795539086785,0.512773733565278,-1.4073754758808312,0.5457544007462951,-0.6571845396135951,-2.0639373239813503,-1.4468588683638646,-0.9789754188086063,-2.1306056808379563,-0.20480729972649234,-0.8222382380694211,-0.33300118314536314,-0.29784234037258445,0.5307423401569827,0.15380642956204912,-0.1188208875107539,-0.8383589645894698,-0.5427105997081095,2.488310572074583,-0.2645552704783902,-0.45784207536797183,-1.8720226996945561,-0.7221199763313748,0.7303713162051148,-0.5675927577151667,0.2743443549958475,-0.8363932058173486,-0.197070058476929,-0.20013495199757259,-2.245092326684816,0.5943639003035389,-2.4438290349158693,-2.312513093070422,-0.10226142096044005,-0.3540991820914685,1.1846112283224697,0.5785961937800251,0.9454529767507993,-0.9378679023799694,2.252026617954698,0.8836245400728469,0.19770903317243588,0.5820505519137525,0.7000403498804273,0.18687441456797468,-2.605904251516702,1.013838593924159,0.7048394896011076,-0.9700118607851692,1.4122071311811517,0.22121580587926673,1.2618498032297492,-0.5281752604894419,-0.7421908714692181,1.5430526507489388,1.6370858753648112,0.15153329405330462,-0.35805431200293014,-0.9283089709763265,0.3293002280206697,-0.04430655153238148,1.125980853731697,-0.8103951450968989,-0.636133320370373,-0.5840496782043829,0.2912078731205048,-0.5137033735673227,-0.5894102919320074,-0.44662329985137666,1.4453702578010075,-2.8820121087644,0.5943854382063423,-0.2507644033592735,-1.4506707195233537,-0.32976243758703705,-0.5173084332484963],\"y\":[1.452833408522823,-2.801289721404959,1.467471032771779,1.1075149196133212,0.5900621714557223,-0.28302847996604674,0.23427324061681518,-1.215558624206029,0.813168712095642,-0.27005007088545496,-0.38243213069474835,1.6853155435237392,-0.6607753287657827,-0.3472588976686309,0.6719544662985177,-1.2237508738534368,0.3183787636673109,-0.72535952550027,-0.26260020669625433,-0.850618401548025,-0.7274756636907109,1.1687905305044257,0.49469694638536177,-0.26871518589218507,0.15290598210181186,1.2097075310133023,1.000422474088806,0.3136146057400716,-0.2833208420357839,-0.1860803660624252,-0.9564691687831892,1.6672459232340364,0.6683703526469932,1.3610316950494012,-1.8351289950778071,0.2251323174580143,-0.5417476758860279,-1.0073462642598332,-0.38783816934944704,0.5531661483954752,-0.29784593859479686,0.27348929840642366,0.4691760622386405,-0.3761511711516631,-0.7725927101520446,-0.4637975839720279,-1.3947025101192394,-0.1830294614098356,1.625397974734619,0.7544921969987086,0.4104847513780054,-0.9092909463854356,1.171510476069789,0.5458990143642105,-0.5844526689136395,0.4425182954767783,-0.7817994944058249,1.0153723508764105,0.23275728789967648,-1.5989167066075543,1.1460289758089788,-0.7504446965323814,1.6300471548892737,-1.598248946404511,0.8595031406047959,0.16147366754361436,-0.45353015445403494,-0.31061877236519714,-0.6243507521232172,0.06250609987067719,-0.7759860097109451,-0.8472620099074127,1.5987177491523321,-1.1678132491490123,-1.247064428257644,-0.369826813335805,0.46232826804011073,1.7838081747848518,1.2909978570591278,-1.496859178399673,0.22001922625256887,-0.9113831617477044,0.49478127902387076,1.8100591568741062,1.0511618624121364,-0.8846969102030365,-0.861736858706487,-1.8399566183192644,-1.2004936606910546,-0.008772066069577691,-1.2661127544327189,0.12930024126805745,-0.9741132348621366,1.911126529769431,-0.8669170987643292,0.6705416816248445,0.7025783402266444,0.9783330874535535,0.13718527998129446,0.08864824382977793],\"type\":\"scatter\"}],                        {\"legend\":{\"bgcolor\":\"#F5F6F9\",\"font\":{\"color\":\"#4D5663\"}},\"paper_bgcolor\":\"#F5F6F9\",\"plot_bgcolor\":\"#F5F6F9\",\"template\":{\"data\":{\"barpolar\":[{\"marker\":{\"line\":{\"color\":\"#E5ECF6\",\"width\":0.5},\"pattern\":{\"fillmode\":\"overlay\",\"size\":10,\"solidity\":0.2}},\"type\":\"barpolar\"}],\"bar\":[{\"error_x\":{\"color\":\"#2a3f5f\"},\"error_y\":{\"color\":\"#2a3f5f\"},\"marker\":{\"line\":{\"color\":\"#E5ECF6\",\"width\":0.5},\"pattern\":{\"fillmode\":\"overlay\",\"size\":10,\"solidity\":0.2}},\"type\":\"bar\"}],\"carpet\":[{\"aaxis\":{\"endlinecolor\":\"#2a3f5f\",\"gridcolor\":\"white\",\"linecolor\":\"white\",\"minorgridcolor\":\"white\",\"startlinecolor\":\"#2a3f5f\"},\"baxis\":{\"endlinecolor\":\"#2a3f5f\",\"gridcolor\":\"white\",\"linecolor\":\"white\",\"minorgridcolor\":\"white\",\"startlinecolor\":\"#2a3f5f\"},\"type\":\"carpet\"}],\"choropleth\":[{\"colorbar\":{\"outlinewidth\":0,\"ticks\":\"\"},\"type\":\"choropleth\"}],\"contourcarpet\":[{\"colorbar\":{\"outlinewidth\":0,\"ticks\":\"\"},\"type\":\"contourcarpet\"}],\"contour\":[{\"colorbar\":{\"outlinewidth\":0,\"ticks\":\"\"},\"colorscale\":[[0.0,\"#0d0887\"],[0.1111111111111111,\"#46039f\"],[0.2222222222222222,\"#7201a8\"],[0.3333333333333333,\"#9c179e\"],[0.4444444444444444,\"#bd3786\"],[0.5555555555555556,\"#d8576b\"],[0.6666666666666666,\"#ed7953\"],[0.7777777777777778,\"#fb9f3a\"],[0.8888888888888888,\"#fdca26\"],[1.0,\"#f0f921\"]],\"type\":\"contour\"}],\"heatmapgl\":[{\"colorbar\":{\"outlinewidth\":0,\"ticks\":\"\"},\"colorscale\":[[0.0,\"#0d0887\"],[0.1111111111111111,\"#46039f\"],[0.2222222222222222,\"#7201a8\"],[0.3333333333333333,\"#9c179e\"],[0.4444444444444444,\"#bd3786\"],[0.5555555555555556,\"#d8576b\"],[0.6666666666666666,\"#ed7953\"],[0.7777777777777778,\"#fb9f3a\"],[0.8888888888888888,\"#fdca26\"],[1.0,\"#f0f921\"]],\"type\":\"heatmapgl\"}],\"heatmap\":[{\"colorbar\":{\"outlinewidth\":0,\"ticks\":\"\"},\"colorscale\":[[0.0,\"#0d0887\"],[0.1111111111111111,\"#46039f\"],[0.2222222222222222,\"#7201a8\"],[0.3333333333333333,\"#9c179e\"],[0.4444444444444444,\"#bd3786\"],[0.5555555555555556,\"#d8576b\"],[0.6666666666666666,\"#ed7953\"],[0.7777777777777778,\"#fb9f3a\"],[0.8888888888888888,\"#fdca26\"],[1.0,\"#f0f921\"]],\"type\":\"heatmap\"}],\"histogram2dcontour\":[{\"colorbar\":{\"outlinewidth\":0,\"ticks\":\"\"},\"colorscale\":[[0.0,\"#0d0887\"],[0.1111111111111111,\"#46039f\"],[0.2222222222222222,\"#7201a8\"],[0.3333333333333333,\"#9c179e\"],[0.4444444444444444,\"#bd3786\"],[0.5555555555555556,\"#d8576b\"],[0.6666666666666666,\"#ed7953\"],[0.7777777777777778,\"#fb9f3a\"],[0.8888888888888888,\"#fdca26\"],[1.0,\"#f0f921\"]],\"type\":\"histogram2dcontour\"}],\"histogram2d\":[{\"colorbar\":{\"outlinewidth\":0,\"ticks\":\"\"},\"colorscale\":[[0.0,\"#0d0887\"],[0.1111111111111111,\"#46039f\"],[0.2222222222222222,\"#7201a8\"],[0.3333333333333333,\"#9c179e\"],[0.4444444444444444,\"#bd3786\"],[0.5555555555555556,\"#d8576b\"],[0.6666666666666666,\"#ed7953\"],[0.7777777777777778,\"#fb9f3a\"],[0.8888888888888888,\"#fdca26\"],[1.0,\"#f0f921\"]],\"type\":\"histogram2d\"}],\"histogram\":[{\"marker\":{\"pattern\":{\"fillmode\":\"overlay\",\"size\":10,\"solidity\":0.2}},\"type\":\"histogram\"}],\"mesh3d\":[{\"colorbar\":{\"outlinewidth\":0,\"ticks\":\"\"},\"type\":\"mesh3d\"}],\"parcoords\":[{\"line\":{\"colorbar\":{\"outlinewidth\":0,\"ticks\":\"\"}},\"type\":\"parcoords\"}],\"pie\":[{\"automargin\":true,\"type\":\"pie\"}],\"scatter3d\":[{\"line\":{\"colorbar\":{\"outlinewidth\":0,\"ticks\":\"\"}},\"marker\":{\"colorbar\":{\"outlinewidth\":0,\"ticks\":\"\"}},\"type\":\"scatter3d\"}],\"scattercarpet\":[{\"marker\":{\"colorbar\":{\"outlinewidth\":0,\"ticks\":\"\"}},\"type\":\"scattercarpet\"}],\"scattergeo\":[{\"marker\":{\"colorbar\":{\"outlinewidth\":0,\"ticks\":\"\"}},\"type\":\"scattergeo\"}],\"scattergl\":[{\"marker\":{\"colorbar\":{\"outlinewidth\":0,\"ticks\":\"\"}},\"type\":\"scattergl\"}],\"scattermapbox\":[{\"marker\":{\"colorbar\":{\"outlinewidth\":0,\"ticks\":\"\"}},\"type\":\"scattermapbox\"}],\"scatterpolargl\":[{\"marker\":{\"colorbar\":{\"outlinewidth\":0,\"ticks\":\"\"}},\"type\":\"scatterpolargl\"}],\"scatterpolar\":[{\"marker\":{\"colorbar\":{\"outlinewidth\":0,\"ticks\":\"\"}},\"type\":\"scatterpolar\"}],\"scatter\":[{\"fillpattern\":{\"fillmode\":\"overlay\",\"size\":10,\"solidity\":0.2},\"type\":\"scatter\"}],\"scatterternary\":[{\"marker\":{\"colorbar\":{\"outlinewidth\":0,\"ticks\":\"\"}},\"type\":\"scatterternary\"}],\"surface\":[{\"colorbar\":{\"outlinewidth\":0,\"ticks\":\"\"},\"colorscale\":[[0.0,\"#0d0887\"],[0.1111111111111111,\"#46039f\"],[0.2222222222222222,\"#7201a8\"],[0.3333333333333333,\"#9c179e\"],[0.4444444444444444,\"#bd3786\"],[0.5555555555555556,\"#d8576b\"],[0.6666666666666666,\"#ed7953\"],[0.7777777777777778,\"#fb9f3a\"],[0.8888888888888888,\"#fdca26\"],[1.0,\"#f0f921\"]],\"type\":\"surface\"}],\"table\":[{\"cells\":{\"fill\":{\"color\":\"#EBF0F8\"},\"line\":{\"color\":\"white\"}},\"header\":{\"fill\":{\"color\":\"#C8D4E3\"},\"line\":{\"color\":\"white\"}},\"type\":\"table\"}]},\"layout\":{\"annotationdefaults\":{\"arrowcolor\":\"#2a3f5f\",\"arrowhead\":0,\"arrowwidth\":1},\"autotypenumbers\":\"strict\",\"coloraxis\":{\"colorbar\":{\"outlinewidth\":0,\"ticks\":\"\"}},\"colorscale\":{\"diverging\":[[0,\"#8e0152\"],[0.1,\"#c51b7d\"],[0.2,\"#de77ae\"],[0.3,\"#f1b6da\"],[0.4,\"#fde0ef\"],[0.5,\"#f7f7f7\"],[0.6,\"#e6f5d0\"],[0.7,\"#b8e186\"],[0.8,\"#7fbc41\"],[0.9,\"#4d9221\"],[1,\"#276419\"]],\"sequential\":[[0.0,\"#0d0887\"],[0.1111111111111111,\"#46039f\"],[0.2222222222222222,\"#7201a8\"],[0.3333333333333333,\"#9c179e\"],[0.4444444444444444,\"#bd3786\"],[0.5555555555555556,\"#d8576b\"],[0.6666666666666666,\"#ed7953\"],[0.7777777777777778,\"#fb9f3a\"],[0.8888888888888888,\"#fdca26\"],[1.0,\"#f0f921\"]],\"sequentialminus\":[[0.0,\"#0d0887\"],[0.1111111111111111,\"#46039f\"],[0.2222222222222222,\"#7201a8\"],[0.3333333333333333,\"#9c179e\"],[0.4444444444444444,\"#bd3786\"],[0.5555555555555556,\"#d8576b\"],[0.6666666666666666,\"#ed7953\"],[0.7777777777777778,\"#fb9f3a\"],[0.8888888888888888,\"#fdca26\"],[1.0,\"#f0f921\"]]},\"colorway\":[\"#636efa\",\"#EF553B\",\"#00cc96\",\"#ab63fa\",\"#FFA15A\",\"#19d3f3\",\"#FF6692\",\"#B6E880\",\"#FF97FF\",\"#FECB52\"],\"font\":{\"color\":\"#2a3f5f\"},\"geo\":{\"bgcolor\":\"white\",\"lakecolor\":\"white\",\"landcolor\":\"#E5ECF6\",\"showlakes\":true,\"showland\":true,\"subunitcolor\":\"white\"},\"hoverlabel\":{\"align\":\"left\"},\"hovermode\":\"closest\",\"mapbox\":{\"style\":\"light\"},\"paper_bgcolor\":\"white\",\"plot_bgcolor\":\"#E5ECF6\",\"polar\":{\"angularaxis\":{\"gridcolor\":\"white\",\"linecolor\":\"white\",\"ticks\":\"\"},\"bgcolor\":\"#E5ECF6\",\"radialaxis\":{\"gridcolor\":\"white\",\"linecolor\":\"white\",\"ticks\":\"\"}},\"scene\":{\"xaxis\":{\"backgroundcolor\":\"#E5ECF6\",\"gridcolor\":\"white\",\"gridwidth\":2,\"linecolor\":\"white\",\"showbackground\":true,\"ticks\":\"\",\"zerolinecolor\":\"white\"},\"yaxis\":{\"backgroundcolor\":\"#E5ECF6\",\"gridcolor\":\"white\",\"gridwidth\":2,\"linecolor\":\"white\",\"showbackground\":true,\"ticks\":\"\",\"zerolinecolor\":\"white\"},\"zaxis\":{\"backgroundcolor\":\"#E5ECF6\",\"gridcolor\":\"white\",\"gridwidth\":2,\"linecolor\":\"white\",\"showbackground\":true,\"ticks\":\"\",\"zerolinecolor\":\"white\"}},\"shapedefaults\":{\"line\":{\"color\":\"#2a3f5f\"}},\"ternary\":{\"aaxis\":{\"gridcolor\":\"white\",\"linecolor\":\"white\",\"ticks\":\"\"},\"baxis\":{\"gridcolor\":\"white\",\"linecolor\":\"white\",\"ticks\":\"\"},\"bgcolor\":\"#E5ECF6\",\"caxis\":{\"gridcolor\":\"white\",\"linecolor\":\"white\",\"ticks\":\"\"}},\"title\":{\"x\":0.05},\"xaxis\":{\"automargin\":true,\"gridcolor\":\"white\",\"linecolor\":\"white\",\"ticks\":\"\",\"title\":{\"standoff\":15},\"zerolinecolor\":\"white\",\"zerolinewidth\":2},\"yaxis\":{\"automargin\":true,\"gridcolor\":\"white\",\"linecolor\":\"white\",\"ticks\":\"\",\"title\":{\"standoff\":15},\"zerolinecolor\":\"white\",\"zerolinewidth\":2}}},\"title\":{\"font\":{\"color\":\"#4D5663\"}},\"xaxis\":{\"gridcolor\":\"#E1E5ED\",\"showgrid\":true,\"tickfont\":{\"color\":\"#4D5663\"},\"title\":{\"font\":{\"color\":\"#4D5663\"},\"text\":\"\"},\"zerolinecolor\":\"#E1E5ED\"},\"yaxis\":{\"gridcolor\":\"#E1E5ED\",\"showgrid\":true,\"tickfont\":{\"color\":\"#4D5663\"},\"title\":{\"font\":{\"color\":\"#4D5663\"},\"text\":\"\"},\"zerolinecolor\":\"#E1E5ED\"}},                        {\"showLink\": true, \"linkText\": \"Export to plot.ly\", \"plotlyServerURL\": \"https://plot.ly\", \"responsive\": true}                    ).then(function(){\n",
       "                            \n",
       "var gd = document.getElementById('bf6b8647-014e-4f59-bb9d-fcc3ba919eb8');\n",
       "var x = new MutationObserver(function (mutations, observer) {{\n",
       "        var display = window.getComputedStyle(gd).display;\n",
       "        if (!display || display === 'none') {{\n",
       "            console.log([gd, 'removed!']);\n",
       "            Plotly.purge(gd);\n",
       "            observer.disconnect();\n",
       "        }}\n",
       "}});\n",
       "\n",
       "// Listen for the removal of the full notebook cells\n",
       "var notebookContainer = gd.closest('#notebook-container');\n",
       "if (notebookContainer) {{\n",
       "    x.observe(notebookContainer, {childList: true});\n",
       "}}\n",
       "\n",
       "// Listen for the clearing of the current output cell\n",
       "var outputEl = gd.closest('.output');\n",
       "if (outputEl) {{\n",
       "    x.observe(outputEl, {childList: true});\n",
       "}}\n",
       "\n",
       "                        })                };                });            </script>        </div>"
      ]
     },
     "metadata": {},
     "output_type": "display_data"
    }
   ],
   "source": [
    "df.iplot(kind='scatter',x='A',y='B',mode='markers',size=15)"
   ]
  },
  {
   "cell_type": "code",
   "execution_count": 19,
   "id": "3a9a7283",
   "metadata": {},
   "outputs": [
    {
     "data": {
      "text/html": [
       "<div>\n",
       "<style scoped>\n",
       "    .dataframe tbody tr th:only-of-type {\n",
       "        vertical-align: middle;\n",
       "    }\n",
       "\n",
       "    .dataframe tbody tr th {\n",
       "        vertical-align: top;\n",
       "    }\n",
       "\n",
       "    .dataframe thead th {\n",
       "        text-align: right;\n",
       "    }\n",
       "</style>\n",
       "<table border=\"1\" class=\"dataframe\">\n",
       "  <thead>\n",
       "    <tr style=\"text-align: right;\">\n",
       "      <th></th>\n",
       "      <th>Catagory</th>\n",
       "      <th>Values</th>\n",
       "    </tr>\n",
       "  </thead>\n",
       "  <tbody>\n",
       "    <tr>\n",
       "      <th>0</th>\n",
       "      <td>A</td>\n",
       "      <td>32</td>\n",
       "    </tr>\n",
       "    <tr>\n",
       "      <th>1</th>\n",
       "      <td>B</td>\n",
       "      <td>43</td>\n",
       "    </tr>\n",
       "    <tr>\n",
       "      <th>2</th>\n",
       "      <td>C</td>\n",
       "      <td>50</td>\n",
       "    </tr>\n",
       "  </tbody>\n",
       "</table>\n",
       "</div>"
      ],
      "text/plain": [
       "  Catagory  Values\n",
       "0        A      32\n",
       "1        B      43\n",
       "2        C      50"
      ]
     },
     "execution_count": 19,
     "metadata": {},
     "output_type": "execute_result"
    }
   ],
   "source": [
    "df2"
   ]
  },
  {
   "cell_type": "code",
   "execution_count": 20,
   "id": "75fb9824",
   "metadata": {},
   "outputs": [
    {
     "data": {
      "application/vnd.plotly.v1+json": {
       "config": {
        "linkText": "Export to plot.ly",
        "plotlyServerURL": "https://plot.ly",
        "showLink": true
       },
       "data": [
        {
         "marker": {
          "color": "rgba(255, 153, 51, 0.6)",
          "line": {
           "color": "rgba(255, 153, 51, 1.0)",
           "width": 1
          }
         },
         "name": "Values",
         "orientation": "v",
         "text": "",
         "type": "bar",
         "x": [
          "A",
          "B",
          "C"
         ],
         "y": [
          32,
          43,
          50
         ]
        }
       ],
       "layout": {
        "legend": {
         "bgcolor": "#F5F6F9",
         "font": {
          "color": "#4D5663"
         }
        },
        "paper_bgcolor": "#F5F6F9",
        "plot_bgcolor": "#F5F6F9",
        "template": {
         "data": {
          "bar": [
           {
            "error_x": {
             "color": "#2a3f5f"
            },
            "error_y": {
             "color": "#2a3f5f"
            },
            "marker": {
             "line": {
              "color": "#E5ECF6",
              "width": 0.5
             },
             "pattern": {
              "fillmode": "overlay",
              "size": 10,
              "solidity": 0.2
             }
            },
            "type": "bar"
           }
          ],
          "barpolar": [
           {
            "marker": {
             "line": {
              "color": "#E5ECF6",
              "width": 0.5
             },
             "pattern": {
              "fillmode": "overlay",
              "size": 10,
              "solidity": 0.2
             }
            },
            "type": "barpolar"
           }
          ],
          "carpet": [
           {
            "aaxis": {
             "endlinecolor": "#2a3f5f",
             "gridcolor": "white",
             "linecolor": "white",
             "minorgridcolor": "white",
             "startlinecolor": "#2a3f5f"
            },
            "baxis": {
             "endlinecolor": "#2a3f5f",
             "gridcolor": "white",
             "linecolor": "white",
             "minorgridcolor": "white",
             "startlinecolor": "#2a3f5f"
            },
            "type": "carpet"
           }
          ],
          "choropleth": [
           {
            "colorbar": {
             "outlinewidth": 0,
             "ticks": ""
            },
            "type": "choropleth"
           }
          ],
          "contour": [
           {
            "colorbar": {
             "outlinewidth": 0,
             "ticks": ""
            },
            "colorscale": [
             [
              0,
              "#0d0887"
             ],
             [
              0.1111111111111111,
              "#46039f"
             ],
             [
              0.2222222222222222,
              "#7201a8"
             ],
             [
              0.3333333333333333,
              "#9c179e"
             ],
             [
              0.4444444444444444,
              "#bd3786"
             ],
             [
              0.5555555555555556,
              "#d8576b"
             ],
             [
              0.6666666666666666,
              "#ed7953"
             ],
             [
              0.7777777777777778,
              "#fb9f3a"
             ],
             [
              0.8888888888888888,
              "#fdca26"
             ],
             [
              1,
              "#f0f921"
             ]
            ],
            "type": "contour"
           }
          ],
          "contourcarpet": [
           {
            "colorbar": {
             "outlinewidth": 0,
             "ticks": ""
            },
            "type": "contourcarpet"
           }
          ],
          "heatmap": [
           {
            "colorbar": {
             "outlinewidth": 0,
             "ticks": ""
            },
            "colorscale": [
             [
              0,
              "#0d0887"
             ],
             [
              0.1111111111111111,
              "#46039f"
             ],
             [
              0.2222222222222222,
              "#7201a8"
             ],
             [
              0.3333333333333333,
              "#9c179e"
             ],
             [
              0.4444444444444444,
              "#bd3786"
             ],
             [
              0.5555555555555556,
              "#d8576b"
             ],
             [
              0.6666666666666666,
              "#ed7953"
             ],
             [
              0.7777777777777778,
              "#fb9f3a"
             ],
             [
              0.8888888888888888,
              "#fdca26"
             ],
             [
              1,
              "#f0f921"
             ]
            ],
            "type": "heatmap"
           }
          ],
          "heatmapgl": [
           {
            "colorbar": {
             "outlinewidth": 0,
             "ticks": ""
            },
            "colorscale": [
             [
              0,
              "#0d0887"
             ],
             [
              0.1111111111111111,
              "#46039f"
             ],
             [
              0.2222222222222222,
              "#7201a8"
             ],
             [
              0.3333333333333333,
              "#9c179e"
             ],
             [
              0.4444444444444444,
              "#bd3786"
             ],
             [
              0.5555555555555556,
              "#d8576b"
             ],
             [
              0.6666666666666666,
              "#ed7953"
             ],
             [
              0.7777777777777778,
              "#fb9f3a"
             ],
             [
              0.8888888888888888,
              "#fdca26"
             ],
             [
              1,
              "#f0f921"
             ]
            ],
            "type": "heatmapgl"
           }
          ],
          "histogram": [
           {
            "marker": {
             "pattern": {
              "fillmode": "overlay",
              "size": 10,
              "solidity": 0.2
             }
            },
            "type": "histogram"
           }
          ],
          "histogram2d": [
           {
            "colorbar": {
             "outlinewidth": 0,
             "ticks": ""
            },
            "colorscale": [
             [
              0,
              "#0d0887"
             ],
             [
              0.1111111111111111,
              "#46039f"
             ],
             [
              0.2222222222222222,
              "#7201a8"
             ],
             [
              0.3333333333333333,
              "#9c179e"
             ],
             [
              0.4444444444444444,
              "#bd3786"
             ],
             [
              0.5555555555555556,
              "#d8576b"
             ],
             [
              0.6666666666666666,
              "#ed7953"
             ],
             [
              0.7777777777777778,
              "#fb9f3a"
             ],
             [
              0.8888888888888888,
              "#fdca26"
             ],
             [
              1,
              "#f0f921"
             ]
            ],
            "type": "histogram2d"
           }
          ],
          "histogram2dcontour": [
           {
            "colorbar": {
             "outlinewidth": 0,
             "ticks": ""
            },
            "colorscale": [
             [
              0,
              "#0d0887"
             ],
             [
              0.1111111111111111,
              "#46039f"
             ],
             [
              0.2222222222222222,
              "#7201a8"
             ],
             [
              0.3333333333333333,
              "#9c179e"
             ],
             [
              0.4444444444444444,
              "#bd3786"
             ],
             [
              0.5555555555555556,
              "#d8576b"
             ],
             [
              0.6666666666666666,
              "#ed7953"
             ],
             [
              0.7777777777777778,
              "#fb9f3a"
             ],
             [
              0.8888888888888888,
              "#fdca26"
             ],
             [
              1,
              "#f0f921"
             ]
            ],
            "type": "histogram2dcontour"
           }
          ],
          "mesh3d": [
           {
            "colorbar": {
             "outlinewidth": 0,
             "ticks": ""
            },
            "type": "mesh3d"
           }
          ],
          "parcoords": [
           {
            "line": {
             "colorbar": {
              "outlinewidth": 0,
              "ticks": ""
             }
            },
            "type": "parcoords"
           }
          ],
          "pie": [
           {
            "automargin": true,
            "type": "pie"
           }
          ],
          "scatter": [
           {
            "fillpattern": {
             "fillmode": "overlay",
             "size": 10,
             "solidity": 0.2
            },
            "type": "scatter"
           }
          ],
          "scatter3d": [
           {
            "line": {
             "colorbar": {
              "outlinewidth": 0,
              "ticks": ""
             }
            },
            "marker": {
             "colorbar": {
              "outlinewidth": 0,
              "ticks": ""
             }
            },
            "type": "scatter3d"
           }
          ],
          "scattercarpet": [
           {
            "marker": {
             "colorbar": {
              "outlinewidth": 0,
              "ticks": ""
             }
            },
            "type": "scattercarpet"
           }
          ],
          "scattergeo": [
           {
            "marker": {
             "colorbar": {
              "outlinewidth": 0,
              "ticks": ""
             }
            },
            "type": "scattergeo"
           }
          ],
          "scattergl": [
           {
            "marker": {
             "colorbar": {
              "outlinewidth": 0,
              "ticks": ""
             }
            },
            "type": "scattergl"
           }
          ],
          "scattermapbox": [
           {
            "marker": {
             "colorbar": {
              "outlinewidth": 0,
              "ticks": ""
             }
            },
            "type": "scattermapbox"
           }
          ],
          "scatterpolar": [
           {
            "marker": {
             "colorbar": {
              "outlinewidth": 0,
              "ticks": ""
             }
            },
            "type": "scatterpolar"
           }
          ],
          "scatterpolargl": [
           {
            "marker": {
             "colorbar": {
              "outlinewidth": 0,
              "ticks": ""
             }
            },
            "type": "scatterpolargl"
           }
          ],
          "scatterternary": [
           {
            "marker": {
             "colorbar": {
              "outlinewidth": 0,
              "ticks": ""
             }
            },
            "type": "scatterternary"
           }
          ],
          "surface": [
           {
            "colorbar": {
             "outlinewidth": 0,
             "ticks": ""
            },
            "colorscale": [
             [
              0,
              "#0d0887"
             ],
             [
              0.1111111111111111,
              "#46039f"
             ],
             [
              0.2222222222222222,
              "#7201a8"
             ],
             [
              0.3333333333333333,
              "#9c179e"
             ],
             [
              0.4444444444444444,
              "#bd3786"
             ],
             [
              0.5555555555555556,
              "#d8576b"
             ],
             [
              0.6666666666666666,
              "#ed7953"
             ],
             [
              0.7777777777777778,
              "#fb9f3a"
             ],
             [
              0.8888888888888888,
              "#fdca26"
             ],
             [
              1,
              "#f0f921"
             ]
            ],
            "type": "surface"
           }
          ],
          "table": [
           {
            "cells": {
             "fill": {
              "color": "#EBF0F8"
             },
             "line": {
              "color": "white"
             }
            },
            "header": {
             "fill": {
              "color": "#C8D4E3"
             },
             "line": {
              "color": "white"
             }
            },
            "type": "table"
           }
          ]
         },
         "layout": {
          "annotationdefaults": {
           "arrowcolor": "#2a3f5f",
           "arrowhead": 0,
           "arrowwidth": 1
          },
          "autotypenumbers": "strict",
          "coloraxis": {
           "colorbar": {
            "outlinewidth": 0,
            "ticks": ""
           }
          },
          "colorscale": {
           "diverging": [
            [
             0,
             "#8e0152"
            ],
            [
             0.1,
             "#c51b7d"
            ],
            [
             0.2,
             "#de77ae"
            ],
            [
             0.3,
             "#f1b6da"
            ],
            [
             0.4,
             "#fde0ef"
            ],
            [
             0.5,
             "#f7f7f7"
            ],
            [
             0.6,
             "#e6f5d0"
            ],
            [
             0.7,
             "#b8e186"
            ],
            [
             0.8,
             "#7fbc41"
            ],
            [
             0.9,
             "#4d9221"
            ],
            [
             1,
             "#276419"
            ]
           ],
           "sequential": [
            [
             0,
             "#0d0887"
            ],
            [
             0.1111111111111111,
             "#46039f"
            ],
            [
             0.2222222222222222,
             "#7201a8"
            ],
            [
             0.3333333333333333,
             "#9c179e"
            ],
            [
             0.4444444444444444,
             "#bd3786"
            ],
            [
             0.5555555555555556,
             "#d8576b"
            ],
            [
             0.6666666666666666,
             "#ed7953"
            ],
            [
             0.7777777777777778,
             "#fb9f3a"
            ],
            [
             0.8888888888888888,
             "#fdca26"
            ],
            [
             1,
             "#f0f921"
            ]
           ],
           "sequentialminus": [
            [
             0,
             "#0d0887"
            ],
            [
             0.1111111111111111,
             "#46039f"
            ],
            [
             0.2222222222222222,
             "#7201a8"
            ],
            [
             0.3333333333333333,
             "#9c179e"
            ],
            [
             0.4444444444444444,
             "#bd3786"
            ],
            [
             0.5555555555555556,
             "#d8576b"
            ],
            [
             0.6666666666666666,
             "#ed7953"
            ],
            [
             0.7777777777777778,
             "#fb9f3a"
            ],
            [
             0.8888888888888888,
             "#fdca26"
            ],
            [
             1,
             "#f0f921"
            ]
           ]
          },
          "colorway": [
           "#636efa",
           "#EF553B",
           "#00cc96",
           "#ab63fa",
           "#FFA15A",
           "#19d3f3",
           "#FF6692",
           "#B6E880",
           "#FF97FF",
           "#FECB52"
          ],
          "font": {
           "color": "#2a3f5f"
          },
          "geo": {
           "bgcolor": "white",
           "lakecolor": "white",
           "landcolor": "#E5ECF6",
           "showlakes": true,
           "showland": true,
           "subunitcolor": "white"
          },
          "hoverlabel": {
           "align": "left"
          },
          "hovermode": "closest",
          "mapbox": {
           "style": "light"
          },
          "paper_bgcolor": "white",
          "plot_bgcolor": "#E5ECF6",
          "polar": {
           "angularaxis": {
            "gridcolor": "white",
            "linecolor": "white",
            "ticks": ""
           },
           "bgcolor": "#E5ECF6",
           "radialaxis": {
            "gridcolor": "white",
            "linecolor": "white",
            "ticks": ""
           }
          },
          "scene": {
           "xaxis": {
            "backgroundcolor": "#E5ECF6",
            "gridcolor": "white",
            "gridwidth": 2,
            "linecolor": "white",
            "showbackground": true,
            "ticks": "",
            "zerolinecolor": "white"
           },
           "yaxis": {
            "backgroundcolor": "#E5ECF6",
            "gridcolor": "white",
            "gridwidth": 2,
            "linecolor": "white",
            "showbackground": true,
            "ticks": "",
            "zerolinecolor": "white"
           },
           "zaxis": {
            "backgroundcolor": "#E5ECF6",
            "gridcolor": "white",
            "gridwidth": 2,
            "linecolor": "white",
            "showbackground": true,
            "ticks": "",
            "zerolinecolor": "white"
           }
          },
          "shapedefaults": {
           "line": {
            "color": "#2a3f5f"
           }
          },
          "ternary": {
           "aaxis": {
            "gridcolor": "white",
            "linecolor": "white",
            "ticks": ""
           },
           "baxis": {
            "gridcolor": "white",
            "linecolor": "white",
            "ticks": ""
           },
           "bgcolor": "#E5ECF6",
           "caxis": {
            "gridcolor": "white",
            "linecolor": "white",
            "ticks": ""
           }
          },
          "title": {
           "x": 0.05
          },
          "xaxis": {
           "automargin": true,
           "gridcolor": "white",
           "linecolor": "white",
           "ticks": "",
           "title": {
            "standoff": 15
           },
           "zerolinecolor": "white",
           "zerolinewidth": 2
          },
          "yaxis": {
           "automargin": true,
           "gridcolor": "white",
           "linecolor": "white",
           "ticks": "",
           "title": {
            "standoff": 15
           },
           "zerolinecolor": "white",
           "zerolinewidth": 2
          }
         }
        },
        "title": {
         "font": {
          "color": "#4D5663"
         }
        },
        "xaxis": {
         "gridcolor": "#E1E5ED",
         "showgrid": true,
         "tickfont": {
          "color": "#4D5663"
         },
         "title": {
          "font": {
           "color": "#4D5663"
          },
          "text": ""
         },
         "zerolinecolor": "#E1E5ED"
        },
        "yaxis": {
         "gridcolor": "#E1E5ED",
         "showgrid": true,
         "tickfont": {
          "color": "#4D5663"
         },
         "title": {
          "font": {
           "color": "#4D5663"
          },
          "text": ""
         },
         "zerolinecolor": "#E1E5ED"
        }
       }
      },
      "text/html": [
       "<div>                            <div id=\"40f49d4d-c667-496b-8cd0-4b3e85c2c4c5\" class=\"plotly-graph-div\" style=\"height:525px; width:100%;\"></div>            <script type=\"text/javascript\">                require([\"plotly\"], function(Plotly) {                    window.PLOTLYENV=window.PLOTLYENV || {};\n",
       "                    window.PLOTLYENV.BASE_URL='https://plot.ly';                                    if (document.getElementById(\"40f49d4d-c667-496b-8cd0-4b3e85c2c4c5\")) {                    Plotly.newPlot(                        \"40f49d4d-c667-496b-8cd0-4b3e85c2c4c5\",                        [{\"marker\":{\"color\":\"rgba(255, 153, 51, 0.6)\",\"line\":{\"color\":\"rgba(255, 153, 51, 1.0)\",\"width\":1}},\"name\":\"Values\",\"orientation\":\"v\",\"text\":\"\",\"x\":[\"A\",\"B\",\"C\"],\"y\":[32,43,50],\"type\":\"bar\"}],                        {\"legend\":{\"bgcolor\":\"#F5F6F9\",\"font\":{\"color\":\"#4D5663\"}},\"paper_bgcolor\":\"#F5F6F9\",\"plot_bgcolor\":\"#F5F6F9\",\"template\":{\"data\":{\"barpolar\":[{\"marker\":{\"line\":{\"color\":\"#E5ECF6\",\"width\":0.5},\"pattern\":{\"fillmode\":\"overlay\",\"size\":10,\"solidity\":0.2}},\"type\":\"barpolar\"}],\"bar\":[{\"error_x\":{\"color\":\"#2a3f5f\"},\"error_y\":{\"color\":\"#2a3f5f\"},\"marker\":{\"line\":{\"color\":\"#E5ECF6\",\"width\":0.5},\"pattern\":{\"fillmode\":\"overlay\",\"size\":10,\"solidity\":0.2}},\"type\":\"bar\"}],\"carpet\":[{\"aaxis\":{\"endlinecolor\":\"#2a3f5f\",\"gridcolor\":\"white\",\"linecolor\":\"white\",\"minorgridcolor\":\"white\",\"startlinecolor\":\"#2a3f5f\"},\"baxis\":{\"endlinecolor\":\"#2a3f5f\",\"gridcolor\":\"white\",\"linecolor\":\"white\",\"minorgridcolor\":\"white\",\"startlinecolor\":\"#2a3f5f\"},\"type\":\"carpet\"}],\"choropleth\":[{\"colorbar\":{\"outlinewidth\":0,\"ticks\":\"\"},\"type\":\"choropleth\"}],\"contourcarpet\":[{\"colorbar\":{\"outlinewidth\":0,\"ticks\":\"\"},\"type\":\"contourcarpet\"}],\"contour\":[{\"colorbar\":{\"outlinewidth\":0,\"ticks\":\"\"},\"colorscale\":[[0.0,\"#0d0887\"],[0.1111111111111111,\"#46039f\"],[0.2222222222222222,\"#7201a8\"],[0.3333333333333333,\"#9c179e\"],[0.4444444444444444,\"#bd3786\"],[0.5555555555555556,\"#d8576b\"],[0.6666666666666666,\"#ed7953\"],[0.7777777777777778,\"#fb9f3a\"],[0.8888888888888888,\"#fdca26\"],[1.0,\"#f0f921\"]],\"type\":\"contour\"}],\"heatmapgl\":[{\"colorbar\":{\"outlinewidth\":0,\"ticks\":\"\"},\"colorscale\":[[0.0,\"#0d0887\"],[0.1111111111111111,\"#46039f\"],[0.2222222222222222,\"#7201a8\"],[0.3333333333333333,\"#9c179e\"],[0.4444444444444444,\"#bd3786\"],[0.5555555555555556,\"#d8576b\"],[0.6666666666666666,\"#ed7953\"],[0.7777777777777778,\"#fb9f3a\"],[0.8888888888888888,\"#fdca26\"],[1.0,\"#f0f921\"]],\"type\":\"heatmapgl\"}],\"heatmap\":[{\"colorbar\":{\"outlinewidth\":0,\"ticks\":\"\"},\"colorscale\":[[0.0,\"#0d0887\"],[0.1111111111111111,\"#46039f\"],[0.2222222222222222,\"#7201a8\"],[0.3333333333333333,\"#9c179e\"],[0.4444444444444444,\"#bd3786\"],[0.5555555555555556,\"#d8576b\"],[0.6666666666666666,\"#ed7953\"],[0.7777777777777778,\"#fb9f3a\"],[0.8888888888888888,\"#fdca26\"],[1.0,\"#f0f921\"]],\"type\":\"heatmap\"}],\"histogram2dcontour\":[{\"colorbar\":{\"outlinewidth\":0,\"ticks\":\"\"},\"colorscale\":[[0.0,\"#0d0887\"],[0.1111111111111111,\"#46039f\"],[0.2222222222222222,\"#7201a8\"],[0.3333333333333333,\"#9c179e\"],[0.4444444444444444,\"#bd3786\"],[0.5555555555555556,\"#d8576b\"],[0.6666666666666666,\"#ed7953\"],[0.7777777777777778,\"#fb9f3a\"],[0.8888888888888888,\"#fdca26\"],[1.0,\"#f0f921\"]],\"type\":\"histogram2dcontour\"}],\"histogram2d\":[{\"colorbar\":{\"outlinewidth\":0,\"ticks\":\"\"},\"colorscale\":[[0.0,\"#0d0887\"],[0.1111111111111111,\"#46039f\"],[0.2222222222222222,\"#7201a8\"],[0.3333333333333333,\"#9c179e\"],[0.4444444444444444,\"#bd3786\"],[0.5555555555555556,\"#d8576b\"],[0.6666666666666666,\"#ed7953\"],[0.7777777777777778,\"#fb9f3a\"],[0.8888888888888888,\"#fdca26\"],[1.0,\"#f0f921\"]],\"type\":\"histogram2d\"}],\"histogram\":[{\"marker\":{\"pattern\":{\"fillmode\":\"overlay\",\"size\":10,\"solidity\":0.2}},\"type\":\"histogram\"}],\"mesh3d\":[{\"colorbar\":{\"outlinewidth\":0,\"ticks\":\"\"},\"type\":\"mesh3d\"}],\"parcoords\":[{\"line\":{\"colorbar\":{\"outlinewidth\":0,\"ticks\":\"\"}},\"type\":\"parcoords\"}],\"pie\":[{\"automargin\":true,\"type\":\"pie\"}],\"scatter3d\":[{\"line\":{\"colorbar\":{\"outlinewidth\":0,\"ticks\":\"\"}},\"marker\":{\"colorbar\":{\"outlinewidth\":0,\"ticks\":\"\"}},\"type\":\"scatter3d\"}],\"scattercarpet\":[{\"marker\":{\"colorbar\":{\"outlinewidth\":0,\"ticks\":\"\"}},\"type\":\"scattercarpet\"}],\"scattergeo\":[{\"marker\":{\"colorbar\":{\"outlinewidth\":0,\"ticks\":\"\"}},\"type\":\"scattergeo\"}],\"scattergl\":[{\"marker\":{\"colorbar\":{\"outlinewidth\":0,\"ticks\":\"\"}},\"type\":\"scattergl\"}],\"scattermapbox\":[{\"marker\":{\"colorbar\":{\"outlinewidth\":0,\"ticks\":\"\"}},\"type\":\"scattermapbox\"}],\"scatterpolargl\":[{\"marker\":{\"colorbar\":{\"outlinewidth\":0,\"ticks\":\"\"}},\"type\":\"scatterpolargl\"}],\"scatterpolar\":[{\"marker\":{\"colorbar\":{\"outlinewidth\":0,\"ticks\":\"\"}},\"type\":\"scatterpolar\"}],\"scatter\":[{\"fillpattern\":{\"fillmode\":\"overlay\",\"size\":10,\"solidity\":0.2},\"type\":\"scatter\"}],\"scatterternary\":[{\"marker\":{\"colorbar\":{\"outlinewidth\":0,\"ticks\":\"\"}},\"type\":\"scatterternary\"}],\"surface\":[{\"colorbar\":{\"outlinewidth\":0,\"ticks\":\"\"},\"colorscale\":[[0.0,\"#0d0887\"],[0.1111111111111111,\"#46039f\"],[0.2222222222222222,\"#7201a8\"],[0.3333333333333333,\"#9c179e\"],[0.4444444444444444,\"#bd3786\"],[0.5555555555555556,\"#d8576b\"],[0.6666666666666666,\"#ed7953\"],[0.7777777777777778,\"#fb9f3a\"],[0.8888888888888888,\"#fdca26\"],[1.0,\"#f0f921\"]],\"type\":\"surface\"}],\"table\":[{\"cells\":{\"fill\":{\"color\":\"#EBF0F8\"},\"line\":{\"color\":\"white\"}},\"header\":{\"fill\":{\"color\":\"#C8D4E3\"},\"line\":{\"color\":\"white\"}},\"type\":\"table\"}]},\"layout\":{\"annotationdefaults\":{\"arrowcolor\":\"#2a3f5f\",\"arrowhead\":0,\"arrowwidth\":1},\"autotypenumbers\":\"strict\",\"coloraxis\":{\"colorbar\":{\"outlinewidth\":0,\"ticks\":\"\"}},\"colorscale\":{\"diverging\":[[0,\"#8e0152\"],[0.1,\"#c51b7d\"],[0.2,\"#de77ae\"],[0.3,\"#f1b6da\"],[0.4,\"#fde0ef\"],[0.5,\"#f7f7f7\"],[0.6,\"#e6f5d0\"],[0.7,\"#b8e186\"],[0.8,\"#7fbc41\"],[0.9,\"#4d9221\"],[1,\"#276419\"]],\"sequential\":[[0.0,\"#0d0887\"],[0.1111111111111111,\"#46039f\"],[0.2222222222222222,\"#7201a8\"],[0.3333333333333333,\"#9c179e\"],[0.4444444444444444,\"#bd3786\"],[0.5555555555555556,\"#d8576b\"],[0.6666666666666666,\"#ed7953\"],[0.7777777777777778,\"#fb9f3a\"],[0.8888888888888888,\"#fdca26\"],[1.0,\"#f0f921\"]],\"sequentialminus\":[[0.0,\"#0d0887\"],[0.1111111111111111,\"#46039f\"],[0.2222222222222222,\"#7201a8\"],[0.3333333333333333,\"#9c179e\"],[0.4444444444444444,\"#bd3786\"],[0.5555555555555556,\"#d8576b\"],[0.6666666666666666,\"#ed7953\"],[0.7777777777777778,\"#fb9f3a\"],[0.8888888888888888,\"#fdca26\"],[1.0,\"#f0f921\"]]},\"colorway\":[\"#636efa\",\"#EF553B\",\"#00cc96\",\"#ab63fa\",\"#FFA15A\",\"#19d3f3\",\"#FF6692\",\"#B6E880\",\"#FF97FF\",\"#FECB52\"],\"font\":{\"color\":\"#2a3f5f\"},\"geo\":{\"bgcolor\":\"white\",\"lakecolor\":\"white\",\"landcolor\":\"#E5ECF6\",\"showlakes\":true,\"showland\":true,\"subunitcolor\":\"white\"},\"hoverlabel\":{\"align\":\"left\"},\"hovermode\":\"closest\",\"mapbox\":{\"style\":\"light\"},\"paper_bgcolor\":\"white\",\"plot_bgcolor\":\"#E5ECF6\",\"polar\":{\"angularaxis\":{\"gridcolor\":\"white\",\"linecolor\":\"white\",\"ticks\":\"\"},\"bgcolor\":\"#E5ECF6\",\"radialaxis\":{\"gridcolor\":\"white\",\"linecolor\":\"white\",\"ticks\":\"\"}},\"scene\":{\"xaxis\":{\"backgroundcolor\":\"#E5ECF6\",\"gridcolor\":\"white\",\"gridwidth\":2,\"linecolor\":\"white\",\"showbackground\":true,\"ticks\":\"\",\"zerolinecolor\":\"white\"},\"yaxis\":{\"backgroundcolor\":\"#E5ECF6\",\"gridcolor\":\"white\",\"gridwidth\":2,\"linecolor\":\"white\",\"showbackground\":true,\"ticks\":\"\",\"zerolinecolor\":\"white\"},\"zaxis\":{\"backgroundcolor\":\"#E5ECF6\",\"gridcolor\":\"white\",\"gridwidth\":2,\"linecolor\":\"white\",\"showbackground\":true,\"ticks\":\"\",\"zerolinecolor\":\"white\"}},\"shapedefaults\":{\"line\":{\"color\":\"#2a3f5f\"}},\"ternary\":{\"aaxis\":{\"gridcolor\":\"white\",\"linecolor\":\"white\",\"ticks\":\"\"},\"baxis\":{\"gridcolor\":\"white\",\"linecolor\":\"white\",\"ticks\":\"\"},\"bgcolor\":\"#E5ECF6\",\"caxis\":{\"gridcolor\":\"white\",\"linecolor\":\"white\",\"ticks\":\"\"}},\"title\":{\"x\":0.05},\"xaxis\":{\"automargin\":true,\"gridcolor\":\"white\",\"linecolor\":\"white\",\"ticks\":\"\",\"title\":{\"standoff\":15},\"zerolinecolor\":\"white\",\"zerolinewidth\":2},\"yaxis\":{\"automargin\":true,\"gridcolor\":\"white\",\"linecolor\":\"white\",\"ticks\":\"\",\"title\":{\"standoff\":15},\"zerolinecolor\":\"white\",\"zerolinewidth\":2}}},\"title\":{\"font\":{\"color\":\"#4D5663\"}},\"xaxis\":{\"gridcolor\":\"#E1E5ED\",\"showgrid\":true,\"tickfont\":{\"color\":\"#4D5663\"},\"title\":{\"font\":{\"color\":\"#4D5663\"},\"text\":\"\"},\"zerolinecolor\":\"#E1E5ED\"},\"yaxis\":{\"gridcolor\":\"#E1E5ED\",\"showgrid\":true,\"tickfont\":{\"color\":\"#4D5663\"},\"title\":{\"font\":{\"color\":\"#4D5663\"},\"text\":\"\"},\"zerolinecolor\":\"#E1E5ED\"}},                        {\"showLink\": true, \"linkText\": \"Export to plot.ly\", \"plotlyServerURL\": \"https://plot.ly\", \"responsive\": true}                    ).then(function(){\n",
       "                            \n",
       "var gd = document.getElementById('40f49d4d-c667-496b-8cd0-4b3e85c2c4c5');\n",
       "var x = new MutationObserver(function (mutations, observer) {{\n",
       "        var display = window.getComputedStyle(gd).display;\n",
       "        if (!display || display === 'none') {{\n",
       "            console.log([gd, 'removed!']);\n",
       "            Plotly.purge(gd);\n",
       "            observer.disconnect();\n",
       "        }}\n",
       "}});\n",
       "\n",
       "// Listen for the removal of the full notebook cells\n",
       "var notebookContainer = gd.closest('#notebook-container');\n",
       "if (notebookContainer) {{\n",
       "    x.observe(notebookContainer, {childList: true});\n",
       "}}\n",
       "\n",
       "// Listen for the clearing of the current output cell\n",
       "var outputEl = gd.closest('.output');\n",
       "if (outputEl) {{\n",
       "    x.observe(outputEl, {childList: true});\n",
       "}}\n",
       "\n",
       "                        })                };                });            </script>        </div>"
      ]
     },
     "metadata": {},
     "output_type": "display_data"
    }
   ],
   "source": [
    "df2.iplot(kind='bar',x='Catagory',y='Values')"
   ]
  },
  {
   "cell_type": "code",
   "execution_count": 21,
   "id": "89c2a2df",
   "metadata": {},
   "outputs": [
    {
     "data": {
      "text/html": [
       "<div>\n",
       "<style scoped>\n",
       "    .dataframe tbody tr th:only-of-type {\n",
       "        vertical-align: middle;\n",
       "    }\n",
       "\n",
       "    .dataframe tbody tr th {\n",
       "        vertical-align: top;\n",
       "    }\n",
       "\n",
       "    .dataframe thead th {\n",
       "        text-align: right;\n",
       "    }\n",
       "</style>\n",
       "<table border=\"1\" class=\"dataframe\">\n",
       "  <thead>\n",
       "    <tr style=\"text-align: right;\">\n",
       "      <th></th>\n",
       "      <th>A</th>\n",
       "      <th>B</th>\n",
       "      <th>C</th>\n",
       "      <th>D</th>\n",
       "    </tr>\n",
       "  </thead>\n",
       "  <tbody>\n",
       "    <tr>\n",
       "      <th>0</th>\n",
       "      <td>-0.055592</td>\n",
       "      <td>1.452833</td>\n",
       "      <td>0.255008</td>\n",
       "      <td>0.185267</td>\n",
       "    </tr>\n",
       "    <tr>\n",
       "      <th>1</th>\n",
       "      <td>0.562045</td>\n",
       "      <td>-2.801290</td>\n",
       "      <td>-2.022830</td>\n",
       "      <td>-0.443458</td>\n",
       "    </tr>\n",
       "    <tr>\n",
       "      <th>2</th>\n",
       "      <td>-1.789940</td>\n",
       "      <td>1.467471</td>\n",
       "      <td>-1.594137</td>\n",
       "      <td>0.232732</td>\n",
       "    </tr>\n",
       "    <tr>\n",
       "      <th>3</th>\n",
       "      <td>1.500518</td>\n",
       "      <td>1.107515</td>\n",
       "      <td>0.756638</td>\n",
       "      <td>-1.490353</td>\n",
       "    </tr>\n",
       "    <tr>\n",
       "      <th>4</th>\n",
       "      <td>0.752837</td>\n",
       "      <td>0.590062</td>\n",
       "      <td>0.090425</td>\n",
       "      <td>0.268490</td>\n",
       "    </tr>\n",
       "    <tr>\n",
       "      <th>...</th>\n",
       "      <td>...</td>\n",
       "      <td>...</td>\n",
       "      <td>...</td>\n",
       "      <td>...</td>\n",
       "    </tr>\n",
       "    <tr>\n",
       "      <th>95</th>\n",
       "      <td>0.594385</td>\n",
       "      <td>0.670542</td>\n",
       "      <td>-0.085313</td>\n",
       "      <td>-0.765776</td>\n",
       "    </tr>\n",
       "    <tr>\n",
       "      <th>96</th>\n",
       "      <td>-0.250764</td>\n",
       "      <td>0.702578</td>\n",
       "      <td>-0.049465</td>\n",
       "      <td>0.057515</td>\n",
       "    </tr>\n",
       "    <tr>\n",
       "      <th>97</th>\n",
       "      <td>-1.450671</td>\n",
       "      <td>0.978333</td>\n",
       "      <td>-0.152504</td>\n",
       "      <td>-0.838995</td>\n",
       "    </tr>\n",
       "    <tr>\n",
       "      <th>98</th>\n",
       "      <td>-0.329762</td>\n",
       "      <td>0.137185</td>\n",
       "      <td>0.211644</td>\n",
       "      <td>0.477485</td>\n",
       "    </tr>\n",
       "    <tr>\n",
       "      <th>99</th>\n",
       "      <td>-0.517308</td>\n",
       "      <td>0.088648</td>\n",
       "      <td>-1.324338</td>\n",
       "      <td>-2.032981</td>\n",
       "    </tr>\n",
       "  </tbody>\n",
       "</table>\n",
       "<p>100 rows × 4 columns</p>\n",
       "</div>"
      ],
      "text/plain": [
       "           A         B         C         D\n",
       "0  -0.055592  1.452833  0.255008  0.185267\n",
       "1   0.562045 -2.801290 -2.022830 -0.443458\n",
       "2  -1.789940  1.467471 -1.594137  0.232732\n",
       "3   1.500518  1.107515  0.756638 -1.490353\n",
       "4   0.752837  0.590062  0.090425  0.268490\n",
       "..       ...       ...       ...       ...\n",
       "95  0.594385  0.670542 -0.085313 -0.765776\n",
       "96 -0.250764  0.702578 -0.049465  0.057515\n",
       "97 -1.450671  0.978333 -0.152504 -0.838995\n",
       "98 -0.329762  0.137185  0.211644  0.477485\n",
       "99 -0.517308  0.088648 -1.324338 -2.032981\n",
       "\n",
       "[100 rows x 4 columns]"
      ]
     },
     "execution_count": 21,
     "metadata": {},
     "output_type": "execute_result"
    }
   ],
   "source": [
    "df"
   ]
  },
  {
   "cell_type": "code",
   "execution_count": 22,
   "id": "75c5b1ff",
   "metadata": {},
   "outputs": [
    {
     "data": {
      "application/vnd.plotly.v1+json": {
       "config": {
        "linkText": "Export to plot.ly",
        "plotlyServerURL": "https://plot.ly",
        "showLink": true
       },
       "data": [
        {
         "marker": {
          "color": "rgba(255, 153, 51, 0.6)",
          "line": {
           "color": "rgba(255, 153, 51, 1.0)",
           "width": 1
          }
         },
         "name": "A",
         "orientation": "v",
         "text": "",
         "type": "bar",
         "x": [
          0,
          1,
          2,
          3,
          4,
          5,
          6,
          7,
          8,
          9,
          10,
          11,
          12,
          13,
          14,
          15,
          16,
          17,
          18,
          19,
          20,
          21,
          22,
          23,
          24,
          25,
          26,
          27,
          28,
          29,
          30,
          31,
          32,
          33,
          34,
          35,
          36,
          37,
          38,
          39,
          40,
          41,
          42,
          43,
          44,
          45,
          46,
          47,
          48,
          49,
          50,
          51,
          52,
          53,
          54,
          55,
          56,
          57,
          58,
          59,
          60,
          61,
          62,
          63,
          64,
          65,
          66,
          67,
          68,
          69,
          70,
          71,
          72,
          73,
          74,
          75,
          76,
          77,
          78,
          79,
          80,
          81,
          82,
          83,
          84,
          85,
          86,
          87,
          88,
          89,
          90,
          91,
          92,
          93,
          94,
          95,
          96,
          97,
          98,
          99
         ],
         "y": [
          -0.05559180576518184,
          0.5620453907383516,
          -1.7899404051407906,
          1.500518268376267,
          0.7528373449617896,
          -1.1771597300556,
          1.97138381329973,
          0.3020214150295912,
          -1.9247991418812365,
          0.709441640718662,
          -0.01703638589202485,
          0.8199877942986776,
          0.5591157966803538,
          -0.07831734859886214,
          2.0263777208694695,
          -0.07574584864740508,
          -0.396370799265584,
          0.4191186184191619,
          0.9098700431175843,
          -1.0431608126404592,
          -1.7937637698431927,
          0.3067825397453611,
          0.2691059102780455,
          -0.31836442674890625,
          0.24337795539086785,
          0.512773733565278,
          -1.4073754758808312,
          0.5457544007462951,
          -0.6571845396135951,
          -2.0639373239813503,
          -1.4468588683638646,
          -0.9789754188086063,
          -2.1306056808379563,
          -0.20480729972649234,
          -0.8222382380694211,
          -0.33300118314536314,
          -0.29784234037258445,
          0.5307423401569827,
          0.15380642956204912,
          -0.1188208875107539,
          -0.8383589645894698,
          -0.5427105997081095,
          2.488310572074583,
          -0.2645552704783902,
          -0.45784207536797183,
          -1.8720226996945561,
          -0.7221199763313748,
          0.7303713162051148,
          -0.5675927577151667,
          0.2743443549958475,
          -0.8363932058173486,
          -0.197070058476929,
          -0.20013495199757259,
          -2.245092326684816,
          0.5943639003035389,
          -2.4438290349158693,
          -2.312513093070422,
          -0.10226142096044005,
          -0.3540991820914685,
          1.1846112283224697,
          0.5785961937800251,
          0.9454529767507993,
          -0.9378679023799694,
          2.252026617954698,
          0.8836245400728469,
          0.19770903317243588,
          0.5820505519137525,
          0.7000403498804273,
          0.18687441456797468,
          -2.605904251516702,
          1.013838593924159,
          0.7048394896011076,
          -0.9700118607851692,
          1.4122071311811517,
          0.22121580587926673,
          1.2618498032297492,
          -0.5281752604894419,
          -0.7421908714692181,
          1.5430526507489388,
          1.6370858753648112,
          0.15153329405330462,
          -0.35805431200293014,
          -0.9283089709763265,
          0.3293002280206697,
          -0.04430655153238148,
          1.125980853731697,
          -0.8103951450968989,
          -0.636133320370373,
          -0.5840496782043829,
          0.2912078731205048,
          -0.5137033735673227,
          -0.5894102919320074,
          -0.44662329985137666,
          1.4453702578010075,
          -2.8820121087644,
          0.5943854382063423,
          -0.2507644033592735,
          -1.4506707195233537,
          -0.32976243758703705,
          -0.5173084332484963
         ]
        },
        {
         "marker": {
          "color": "rgba(55, 128, 191, 0.6)",
          "line": {
           "color": "rgba(55, 128, 191, 1.0)",
           "width": 1
          }
         },
         "name": "B",
         "orientation": "v",
         "text": "",
         "type": "bar",
         "x": [
          0,
          1,
          2,
          3,
          4,
          5,
          6,
          7,
          8,
          9,
          10,
          11,
          12,
          13,
          14,
          15,
          16,
          17,
          18,
          19,
          20,
          21,
          22,
          23,
          24,
          25,
          26,
          27,
          28,
          29,
          30,
          31,
          32,
          33,
          34,
          35,
          36,
          37,
          38,
          39,
          40,
          41,
          42,
          43,
          44,
          45,
          46,
          47,
          48,
          49,
          50,
          51,
          52,
          53,
          54,
          55,
          56,
          57,
          58,
          59,
          60,
          61,
          62,
          63,
          64,
          65,
          66,
          67,
          68,
          69,
          70,
          71,
          72,
          73,
          74,
          75,
          76,
          77,
          78,
          79,
          80,
          81,
          82,
          83,
          84,
          85,
          86,
          87,
          88,
          89,
          90,
          91,
          92,
          93,
          94,
          95,
          96,
          97,
          98,
          99
         ],
         "y": [
          1.452833408522823,
          -2.801289721404959,
          1.467471032771779,
          1.1075149196133212,
          0.5900621714557223,
          -0.28302847996604674,
          0.23427324061681518,
          -1.215558624206029,
          0.813168712095642,
          -0.27005007088545496,
          -0.38243213069474835,
          1.6853155435237392,
          -0.6607753287657827,
          -0.3472588976686309,
          0.6719544662985177,
          -1.2237508738534368,
          0.3183787636673109,
          -0.72535952550027,
          -0.26260020669625433,
          -0.850618401548025,
          -0.7274756636907109,
          1.1687905305044257,
          0.49469694638536177,
          -0.26871518589218507,
          0.15290598210181186,
          1.2097075310133023,
          1.000422474088806,
          0.3136146057400716,
          -0.2833208420357839,
          -0.1860803660624252,
          -0.9564691687831892,
          1.6672459232340364,
          0.6683703526469932,
          1.3610316950494012,
          -1.8351289950778071,
          0.2251323174580143,
          -0.5417476758860279,
          -1.0073462642598332,
          -0.38783816934944704,
          0.5531661483954752,
          -0.29784593859479686,
          0.27348929840642366,
          0.4691760622386405,
          -0.3761511711516631,
          -0.7725927101520446,
          -0.4637975839720279,
          -1.3947025101192394,
          -0.1830294614098356,
          1.625397974734619,
          0.7544921969987086,
          0.4104847513780054,
          -0.9092909463854356,
          1.171510476069789,
          0.5458990143642105,
          -0.5844526689136395,
          0.4425182954767783,
          -0.7817994944058249,
          1.0153723508764105,
          0.23275728789967648,
          -1.5989167066075543,
          1.1460289758089788,
          -0.7504446965323814,
          1.6300471548892737,
          -1.598248946404511,
          0.8595031406047959,
          0.16147366754361436,
          -0.45353015445403494,
          -0.31061877236519714,
          -0.6243507521232172,
          0.06250609987067719,
          -0.7759860097109451,
          -0.8472620099074127,
          1.5987177491523321,
          -1.1678132491490123,
          -1.247064428257644,
          -0.369826813335805,
          0.46232826804011073,
          1.7838081747848518,
          1.2909978570591278,
          -1.496859178399673,
          0.22001922625256887,
          -0.9113831617477044,
          0.49478127902387076,
          1.8100591568741062,
          1.0511618624121364,
          -0.8846969102030365,
          -0.861736858706487,
          -1.8399566183192644,
          -1.2004936606910546,
          -0.008772066069577691,
          -1.2661127544327189,
          0.12930024126805745,
          -0.9741132348621366,
          1.911126529769431,
          -0.8669170987643292,
          0.6705416816248445,
          0.7025783402266444,
          0.9783330874535535,
          0.13718527998129446,
          0.08864824382977793
         ]
        },
        {
         "marker": {
          "color": "rgba(50, 171, 96, 0.6)",
          "line": {
           "color": "rgba(50, 171, 96, 1.0)",
           "width": 1
          }
         },
         "name": "C",
         "orientation": "v",
         "text": "",
         "type": "bar",
         "x": [
          0,
          1,
          2,
          3,
          4,
          5,
          6,
          7,
          8,
          9,
          10,
          11,
          12,
          13,
          14,
          15,
          16,
          17,
          18,
          19,
          20,
          21,
          22,
          23,
          24,
          25,
          26,
          27,
          28,
          29,
          30,
          31,
          32,
          33,
          34,
          35,
          36,
          37,
          38,
          39,
          40,
          41,
          42,
          43,
          44,
          45,
          46,
          47,
          48,
          49,
          50,
          51,
          52,
          53,
          54,
          55,
          56,
          57,
          58,
          59,
          60,
          61,
          62,
          63,
          64,
          65,
          66,
          67,
          68,
          69,
          70,
          71,
          72,
          73,
          74,
          75,
          76,
          77,
          78,
          79,
          80,
          81,
          82,
          83,
          84,
          85,
          86,
          87,
          88,
          89,
          90,
          91,
          92,
          93,
          94,
          95,
          96,
          97,
          98,
          99
         ],
         "y": [
          0.25500841675327135,
          -2.0228296660047334,
          -1.5941368496927122,
          0.7566379326733458,
          0.09042462761333182,
          0.7880099583693712,
          0.33110955233396566,
          0.633630161318091,
          -3.104318720313925,
          0.15769519846695176,
          -0.01821056361192945,
          0.32975254187472197,
          0.6691148817820453,
          0.8882708461650792,
          0.32571083062195644,
          1.2969248124686905,
          -0.828469691493726,
          0.8186951502774704,
          -0.8481415447451287,
          -0.005448656858547519,
          -1.046985396498361,
          2.0876629941168403,
          -0.4932176461548644,
          -1.479742227493446,
          -0.893779716681242,
          1.059693973315859,
          -0.4218995577916561,
          0.3037603245140057,
          -0.295718885568225,
          -1.456631526768783,
          0.6726281780162228,
          -0.2513454101392943,
          -0.0029946532401559714,
          1.2223245878227034,
          -1.400357848874864,
          -0.9745231933933619,
          -0.7394884299589058,
          0.07692397890434306,
          -0.13916293510562336,
          1.0262265227965133,
          0.8681801213723014,
          -0.1558700044747346,
          0.8154873912086121,
          -0.040550112558222724,
          -0.022995195337995825,
          0.19472825145585765,
          -0.8294809719858296,
          0.253481929767634,
          -0.6680928324389981,
          -0.3741609826317901,
          -2.5647984075760584,
          1.202281009334771,
          1.5356448424278233,
          -0.658681268678709,
          0.98511260312972,
          -1.5569511626557264,
          0.6959850736666175,
          0.041869074233176394,
          -0.2940238445233744,
          -0.8855718078598309,
          -0.312486874051758,
          -1.2120957514801096,
          -0.0804516775894421,
          -0.06955069706107143,
          0.4213701146254383,
          -0.5824044836334542,
          0.3320929214372528,
          0.20034650112127014,
          1.139537356515105,
          -0.11636411784016422,
          -1.5580486253908081,
          0.4787958649368819,
          0.06371197852824667,
          -0.34365931506835834,
          0.6165488060556412,
          -0.9339932703085433,
          -1.2679418729267968,
          -0.37370211392929065,
          0.1553807466229721,
          -1.6790618079561024,
          -0.8153431874050666,
          0.027609721305113872,
          1.7125284633192528,
          0.477293575773967,
          -0.2107470140392488,
          1.2466380227088456,
          0.7268506778475627,
          1.1825032117586856,
          -0.19560223128214535,
          -0.6394964865536716,
          -0.33517501376555675,
          -1.4772991809849378,
          -0.3722722426648912,
          -0.03242252178216725,
          -0.11089344856880662,
          -0.08531307864935869,
          -0.04946493715695045,
          -0.15250410087849134,
          0.21164430464328296,
          -1.3243384652903012
         ]
        },
        {
         "marker": {
          "color": "rgba(128, 0, 128, 0.6)",
          "line": {
           "color": "rgba(128, 0, 128, 1.0)",
           "width": 1
          }
         },
         "name": "D",
         "orientation": "v",
         "text": "",
         "type": "bar",
         "x": [
          0,
          1,
          2,
          3,
          4,
          5,
          6,
          7,
          8,
          9,
          10,
          11,
          12,
          13,
          14,
          15,
          16,
          17,
          18,
          19,
          20,
          21,
          22,
          23,
          24,
          25,
          26,
          27,
          28,
          29,
          30,
          31,
          32,
          33,
          34,
          35,
          36,
          37,
          38,
          39,
          40,
          41,
          42,
          43,
          44,
          45,
          46,
          47,
          48,
          49,
          50,
          51,
          52,
          53,
          54,
          55,
          56,
          57,
          58,
          59,
          60,
          61,
          62,
          63,
          64,
          65,
          66,
          67,
          68,
          69,
          70,
          71,
          72,
          73,
          74,
          75,
          76,
          77,
          78,
          79,
          80,
          81,
          82,
          83,
          84,
          85,
          86,
          87,
          88,
          89,
          90,
          91,
          92,
          93,
          94,
          95,
          96,
          97,
          98,
          99
         ],
         "y": [
          0.1852673937213632,
          -0.44345827589806286,
          0.23273235167467715,
          -1.4903533275627932,
          0.2684902198097901,
          -0.686946223039476,
          -1.569611132126099,
          -0.8268636691466774,
          -0.047241527713950904,
          0.3700385806309308,
          -0.12732821435940275,
          -0.05036277629562494,
          -0.23921120887225938,
          -1.4846129257255232,
          0.9073179324373805,
          -0.5060076669401903,
          -0.4252614976966761,
          0.8346728660773869,
          -0.8427060950773964,
          -0.6135320914829894,
          -0.21523062705508028,
          0.5190812206976291,
          -0.9747123694425338,
          0.6537487327723273,
          2.322045329576906,
          1.413449387959019,
          0.34455620354785615,
          0.3188526310664666,
          0.7529156688198151,
          -0.33504683404000546,
          -0.8437176298130339,
          0.317721829730343,
          -1.2661495137545982,
          -0.0691429255933767,
          -0.8604798829031324,
          2.244452010671782,
          -0.15145796577193404,
          -0.07665135642775489,
          0.9513143318656485,
          -0.7160571745760614,
          -0.29852813553670526,
          -0.8587877409131487,
          -1.4672603813825607,
          1.0988442496704036,
          2.2760038379975467,
          1.6788414832474532,
          0.3726091108126695,
          0.7095174950341702,
          0.24877327374638,
          -0.36465139177197653,
          1.2706006745818645,
          1.5503467450343724,
          -0.31556209173554794,
          0.14718624186491758,
          0.3107995244034444,
          -0.5392879787433942,
          -1.129334155516057,
          -1.9162127924810703,
          -2.1991377381215975,
          -0.011759833599251049,
          0.8752288310754693,
          0.29250397526317556,
          1.5709858892377442,
          0.7655654796656748,
          -0.39031204352562565,
          -0.05988632666417284,
          -0.40006195094696545,
          -0.44417344480293425,
          0.49296792393382693,
          0.8103708801937014,
          -0.6640410877996384,
          -0.908551237967371,
          -1.1917658635528445,
          -1.2482720132411318,
          1.562451015147158,
          0.8826104656621604,
          -0.036813081581456845,
          -0.20533878048949492,
          -1.5318890996535242,
          -1.227574563627396,
          -0.3059276791424916,
          -0.25738907516547643,
          -0.6834027796862429,
          0.14073356590044747,
          -0.4964738906067588,
          0.1674286564235268,
          -1.941966835411613,
          0.8441767911667543,
          0.6505909193640828,
          0.5297311519789127,
          1.771393610824138,
          0.5653915202360102,
          -0.5629050155770081,
          -0.15828529933860774,
          1.3641429553783466,
          -0.7657757222716708,
          0.057515198937703314,
          -0.8389954153033105,
          0.47748464268948704,
          -2.0329806242365693
         ]
        }
       ],
       "layout": {
        "legend": {
         "bgcolor": "#F5F6F9",
         "font": {
          "color": "#4D5663"
         }
        },
        "paper_bgcolor": "#F5F6F9",
        "plot_bgcolor": "#F5F6F9",
        "template": {
         "data": {
          "bar": [
           {
            "error_x": {
             "color": "#2a3f5f"
            },
            "error_y": {
             "color": "#2a3f5f"
            },
            "marker": {
             "line": {
              "color": "#E5ECF6",
              "width": 0.5
             },
             "pattern": {
              "fillmode": "overlay",
              "size": 10,
              "solidity": 0.2
             }
            },
            "type": "bar"
           }
          ],
          "barpolar": [
           {
            "marker": {
             "line": {
              "color": "#E5ECF6",
              "width": 0.5
             },
             "pattern": {
              "fillmode": "overlay",
              "size": 10,
              "solidity": 0.2
             }
            },
            "type": "barpolar"
           }
          ],
          "carpet": [
           {
            "aaxis": {
             "endlinecolor": "#2a3f5f",
             "gridcolor": "white",
             "linecolor": "white",
             "minorgridcolor": "white",
             "startlinecolor": "#2a3f5f"
            },
            "baxis": {
             "endlinecolor": "#2a3f5f",
             "gridcolor": "white",
             "linecolor": "white",
             "minorgridcolor": "white",
             "startlinecolor": "#2a3f5f"
            },
            "type": "carpet"
           }
          ],
          "choropleth": [
           {
            "colorbar": {
             "outlinewidth": 0,
             "ticks": ""
            },
            "type": "choropleth"
           }
          ],
          "contour": [
           {
            "colorbar": {
             "outlinewidth": 0,
             "ticks": ""
            },
            "colorscale": [
             [
              0,
              "#0d0887"
             ],
             [
              0.1111111111111111,
              "#46039f"
             ],
             [
              0.2222222222222222,
              "#7201a8"
             ],
             [
              0.3333333333333333,
              "#9c179e"
             ],
             [
              0.4444444444444444,
              "#bd3786"
             ],
             [
              0.5555555555555556,
              "#d8576b"
             ],
             [
              0.6666666666666666,
              "#ed7953"
             ],
             [
              0.7777777777777778,
              "#fb9f3a"
             ],
             [
              0.8888888888888888,
              "#fdca26"
             ],
             [
              1,
              "#f0f921"
             ]
            ],
            "type": "contour"
           }
          ],
          "contourcarpet": [
           {
            "colorbar": {
             "outlinewidth": 0,
             "ticks": ""
            },
            "type": "contourcarpet"
           }
          ],
          "heatmap": [
           {
            "colorbar": {
             "outlinewidth": 0,
             "ticks": ""
            },
            "colorscale": [
             [
              0,
              "#0d0887"
             ],
             [
              0.1111111111111111,
              "#46039f"
             ],
             [
              0.2222222222222222,
              "#7201a8"
             ],
             [
              0.3333333333333333,
              "#9c179e"
             ],
             [
              0.4444444444444444,
              "#bd3786"
             ],
             [
              0.5555555555555556,
              "#d8576b"
             ],
             [
              0.6666666666666666,
              "#ed7953"
             ],
             [
              0.7777777777777778,
              "#fb9f3a"
             ],
             [
              0.8888888888888888,
              "#fdca26"
             ],
             [
              1,
              "#f0f921"
             ]
            ],
            "type": "heatmap"
           }
          ],
          "heatmapgl": [
           {
            "colorbar": {
             "outlinewidth": 0,
             "ticks": ""
            },
            "colorscale": [
             [
              0,
              "#0d0887"
             ],
             [
              0.1111111111111111,
              "#46039f"
             ],
             [
              0.2222222222222222,
              "#7201a8"
             ],
             [
              0.3333333333333333,
              "#9c179e"
             ],
             [
              0.4444444444444444,
              "#bd3786"
             ],
             [
              0.5555555555555556,
              "#d8576b"
             ],
             [
              0.6666666666666666,
              "#ed7953"
             ],
             [
              0.7777777777777778,
              "#fb9f3a"
             ],
             [
              0.8888888888888888,
              "#fdca26"
             ],
             [
              1,
              "#f0f921"
             ]
            ],
            "type": "heatmapgl"
           }
          ],
          "histogram": [
           {
            "marker": {
             "pattern": {
              "fillmode": "overlay",
              "size": 10,
              "solidity": 0.2
             }
            },
            "type": "histogram"
           }
          ],
          "histogram2d": [
           {
            "colorbar": {
             "outlinewidth": 0,
             "ticks": ""
            },
            "colorscale": [
             [
              0,
              "#0d0887"
             ],
             [
              0.1111111111111111,
              "#46039f"
             ],
             [
              0.2222222222222222,
              "#7201a8"
             ],
             [
              0.3333333333333333,
              "#9c179e"
             ],
             [
              0.4444444444444444,
              "#bd3786"
             ],
             [
              0.5555555555555556,
              "#d8576b"
             ],
             [
              0.6666666666666666,
              "#ed7953"
             ],
             [
              0.7777777777777778,
              "#fb9f3a"
             ],
             [
              0.8888888888888888,
              "#fdca26"
             ],
             [
              1,
              "#f0f921"
             ]
            ],
            "type": "histogram2d"
           }
          ],
          "histogram2dcontour": [
           {
            "colorbar": {
             "outlinewidth": 0,
             "ticks": ""
            },
            "colorscale": [
             [
              0,
              "#0d0887"
             ],
             [
              0.1111111111111111,
              "#46039f"
             ],
             [
              0.2222222222222222,
              "#7201a8"
             ],
             [
              0.3333333333333333,
              "#9c179e"
             ],
             [
              0.4444444444444444,
              "#bd3786"
             ],
             [
              0.5555555555555556,
              "#d8576b"
             ],
             [
              0.6666666666666666,
              "#ed7953"
             ],
             [
              0.7777777777777778,
              "#fb9f3a"
             ],
             [
              0.8888888888888888,
              "#fdca26"
             ],
             [
              1,
              "#f0f921"
             ]
            ],
            "type": "histogram2dcontour"
           }
          ],
          "mesh3d": [
           {
            "colorbar": {
             "outlinewidth": 0,
             "ticks": ""
            },
            "type": "mesh3d"
           }
          ],
          "parcoords": [
           {
            "line": {
             "colorbar": {
              "outlinewidth": 0,
              "ticks": ""
             }
            },
            "type": "parcoords"
           }
          ],
          "pie": [
           {
            "automargin": true,
            "type": "pie"
           }
          ],
          "scatter": [
           {
            "fillpattern": {
             "fillmode": "overlay",
             "size": 10,
             "solidity": 0.2
            },
            "type": "scatter"
           }
          ],
          "scatter3d": [
           {
            "line": {
             "colorbar": {
              "outlinewidth": 0,
              "ticks": ""
             }
            },
            "marker": {
             "colorbar": {
              "outlinewidth": 0,
              "ticks": ""
             }
            },
            "type": "scatter3d"
           }
          ],
          "scattercarpet": [
           {
            "marker": {
             "colorbar": {
              "outlinewidth": 0,
              "ticks": ""
             }
            },
            "type": "scattercarpet"
           }
          ],
          "scattergeo": [
           {
            "marker": {
             "colorbar": {
              "outlinewidth": 0,
              "ticks": ""
             }
            },
            "type": "scattergeo"
           }
          ],
          "scattergl": [
           {
            "marker": {
             "colorbar": {
              "outlinewidth": 0,
              "ticks": ""
             }
            },
            "type": "scattergl"
           }
          ],
          "scattermapbox": [
           {
            "marker": {
             "colorbar": {
              "outlinewidth": 0,
              "ticks": ""
             }
            },
            "type": "scattermapbox"
           }
          ],
          "scatterpolar": [
           {
            "marker": {
             "colorbar": {
              "outlinewidth": 0,
              "ticks": ""
             }
            },
            "type": "scatterpolar"
           }
          ],
          "scatterpolargl": [
           {
            "marker": {
             "colorbar": {
              "outlinewidth": 0,
              "ticks": ""
             }
            },
            "type": "scatterpolargl"
           }
          ],
          "scatterternary": [
           {
            "marker": {
             "colorbar": {
              "outlinewidth": 0,
              "ticks": ""
             }
            },
            "type": "scatterternary"
           }
          ],
          "surface": [
           {
            "colorbar": {
             "outlinewidth": 0,
             "ticks": ""
            },
            "colorscale": [
             [
              0,
              "#0d0887"
             ],
             [
              0.1111111111111111,
              "#46039f"
             ],
             [
              0.2222222222222222,
              "#7201a8"
             ],
             [
              0.3333333333333333,
              "#9c179e"
             ],
             [
              0.4444444444444444,
              "#bd3786"
             ],
             [
              0.5555555555555556,
              "#d8576b"
             ],
             [
              0.6666666666666666,
              "#ed7953"
             ],
             [
              0.7777777777777778,
              "#fb9f3a"
             ],
             [
              0.8888888888888888,
              "#fdca26"
             ],
             [
              1,
              "#f0f921"
             ]
            ],
            "type": "surface"
           }
          ],
          "table": [
           {
            "cells": {
             "fill": {
              "color": "#EBF0F8"
             },
             "line": {
              "color": "white"
             }
            },
            "header": {
             "fill": {
              "color": "#C8D4E3"
             },
             "line": {
              "color": "white"
             }
            },
            "type": "table"
           }
          ]
         },
         "layout": {
          "annotationdefaults": {
           "arrowcolor": "#2a3f5f",
           "arrowhead": 0,
           "arrowwidth": 1
          },
          "autotypenumbers": "strict",
          "coloraxis": {
           "colorbar": {
            "outlinewidth": 0,
            "ticks": ""
           }
          },
          "colorscale": {
           "diverging": [
            [
             0,
             "#8e0152"
            ],
            [
             0.1,
             "#c51b7d"
            ],
            [
             0.2,
             "#de77ae"
            ],
            [
             0.3,
             "#f1b6da"
            ],
            [
             0.4,
             "#fde0ef"
            ],
            [
             0.5,
             "#f7f7f7"
            ],
            [
             0.6,
             "#e6f5d0"
            ],
            [
             0.7,
             "#b8e186"
            ],
            [
             0.8,
             "#7fbc41"
            ],
            [
             0.9,
             "#4d9221"
            ],
            [
             1,
             "#276419"
            ]
           ],
           "sequential": [
            [
             0,
             "#0d0887"
            ],
            [
             0.1111111111111111,
             "#46039f"
            ],
            [
             0.2222222222222222,
             "#7201a8"
            ],
            [
             0.3333333333333333,
             "#9c179e"
            ],
            [
             0.4444444444444444,
             "#bd3786"
            ],
            [
             0.5555555555555556,
             "#d8576b"
            ],
            [
             0.6666666666666666,
             "#ed7953"
            ],
            [
             0.7777777777777778,
             "#fb9f3a"
            ],
            [
             0.8888888888888888,
             "#fdca26"
            ],
            [
             1,
             "#f0f921"
            ]
           ],
           "sequentialminus": [
            [
             0,
             "#0d0887"
            ],
            [
             0.1111111111111111,
             "#46039f"
            ],
            [
             0.2222222222222222,
             "#7201a8"
            ],
            [
             0.3333333333333333,
             "#9c179e"
            ],
            [
             0.4444444444444444,
             "#bd3786"
            ],
            [
             0.5555555555555556,
             "#d8576b"
            ],
            [
             0.6666666666666666,
             "#ed7953"
            ],
            [
             0.7777777777777778,
             "#fb9f3a"
            ],
            [
             0.8888888888888888,
             "#fdca26"
            ],
            [
             1,
             "#f0f921"
            ]
           ]
          },
          "colorway": [
           "#636efa",
           "#EF553B",
           "#00cc96",
           "#ab63fa",
           "#FFA15A",
           "#19d3f3",
           "#FF6692",
           "#B6E880",
           "#FF97FF",
           "#FECB52"
          ],
          "font": {
           "color": "#2a3f5f"
          },
          "geo": {
           "bgcolor": "white",
           "lakecolor": "white",
           "landcolor": "#E5ECF6",
           "showlakes": true,
           "showland": true,
           "subunitcolor": "white"
          },
          "hoverlabel": {
           "align": "left"
          },
          "hovermode": "closest",
          "mapbox": {
           "style": "light"
          },
          "paper_bgcolor": "white",
          "plot_bgcolor": "#E5ECF6",
          "polar": {
           "angularaxis": {
            "gridcolor": "white",
            "linecolor": "white",
            "ticks": ""
           },
           "bgcolor": "#E5ECF6",
           "radialaxis": {
            "gridcolor": "white",
            "linecolor": "white",
            "ticks": ""
           }
          },
          "scene": {
           "xaxis": {
            "backgroundcolor": "#E5ECF6",
            "gridcolor": "white",
            "gridwidth": 2,
            "linecolor": "white",
            "showbackground": true,
            "ticks": "",
            "zerolinecolor": "white"
           },
           "yaxis": {
            "backgroundcolor": "#E5ECF6",
            "gridcolor": "white",
            "gridwidth": 2,
            "linecolor": "white",
            "showbackground": true,
            "ticks": "",
            "zerolinecolor": "white"
           },
           "zaxis": {
            "backgroundcolor": "#E5ECF6",
            "gridcolor": "white",
            "gridwidth": 2,
            "linecolor": "white",
            "showbackground": true,
            "ticks": "",
            "zerolinecolor": "white"
           }
          },
          "shapedefaults": {
           "line": {
            "color": "#2a3f5f"
           }
          },
          "ternary": {
           "aaxis": {
            "gridcolor": "white",
            "linecolor": "white",
            "ticks": ""
           },
           "baxis": {
            "gridcolor": "white",
            "linecolor": "white",
            "ticks": ""
           },
           "bgcolor": "#E5ECF6",
           "caxis": {
            "gridcolor": "white",
            "linecolor": "white",
            "ticks": ""
           }
          },
          "title": {
           "x": 0.05
          },
          "xaxis": {
           "automargin": true,
           "gridcolor": "white",
           "linecolor": "white",
           "ticks": "",
           "title": {
            "standoff": 15
           },
           "zerolinecolor": "white",
           "zerolinewidth": 2
          },
          "yaxis": {
           "automargin": true,
           "gridcolor": "white",
           "linecolor": "white",
           "ticks": "",
           "title": {
            "standoff": 15
           },
           "zerolinecolor": "white",
           "zerolinewidth": 2
          }
         }
        },
        "title": {
         "font": {
          "color": "#4D5663"
         }
        },
        "xaxis": {
         "gridcolor": "#E1E5ED",
         "showgrid": true,
         "tickfont": {
          "color": "#4D5663"
         },
         "title": {
          "font": {
           "color": "#4D5663"
          },
          "text": ""
         },
         "zerolinecolor": "#E1E5ED"
        },
        "yaxis": {
         "gridcolor": "#E1E5ED",
         "showgrid": true,
         "tickfont": {
          "color": "#4D5663"
         },
         "title": {
          "font": {
           "color": "#4D5663"
          },
          "text": ""
         },
         "zerolinecolor": "#E1E5ED"
        }
       }
      },
      "text/html": [
       "<div>                            <div id=\"80043fec-b956-4ce4-baad-aa8da9b7b002\" class=\"plotly-graph-div\" style=\"height:525px; width:100%;\"></div>            <script type=\"text/javascript\">                require([\"plotly\"], function(Plotly) {                    window.PLOTLYENV=window.PLOTLYENV || {};\n",
       "                    window.PLOTLYENV.BASE_URL='https://plot.ly';                                    if (document.getElementById(\"80043fec-b956-4ce4-baad-aa8da9b7b002\")) {                    Plotly.newPlot(                        \"80043fec-b956-4ce4-baad-aa8da9b7b002\",                        [{\"marker\":{\"color\":\"rgba(255, 153, 51, 0.6)\",\"line\":{\"color\":\"rgba(255, 153, 51, 1.0)\",\"width\":1}},\"name\":\"A\",\"orientation\":\"v\",\"text\":\"\",\"x\":[0,1,2,3,4,5,6,7,8,9,10,11,12,13,14,15,16,17,18,19,20,21,22,23,24,25,26,27,28,29,30,31,32,33,34,35,36,37,38,39,40,41,42,43,44,45,46,47,48,49,50,51,52,53,54,55,56,57,58,59,60,61,62,63,64,65,66,67,68,69,70,71,72,73,74,75,76,77,78,79,80,81,82,83,84,85,86,87,88,89,90,91,92,93,94,95,96,97,98,99],\"y\":[-0.05559180576518184,0.5620453907383516,-1.7899404051407906,1.500518268376267,0.7528373449617896,-1.1771597300556,1.97138381329973,0.3020214150295912,-1.9247991418812365,0.709441640718662,-0.01703638589202485,0.8199877942986776,0.5591157966803538,-0.07831734859886214,2.0263777208694695,-0.07574584864740508,-0.396370799265584,0.4191186184191619,0.9098700431175843,-1.0431608126404592,-1.7937637698431927,0.3067825397453611,0.2691059102780455,-0.31836442674890625,0.24337795539086785,0.512773733565278,-1.4073754758808312,0.5457544007462951,-0.6571845396135951,-2.0639373239813503,-1.4468588683638646,-0.9789754188086063,-2.1306056808379563,-0.20480729972649234,-0.8222382380694211,-0.33300118314536314,-0.29784234037258445,0.5307423401569827,0.15380642956204912,-0.1188208875107539,-0.8383589645894698,-0.5427105997081095,2.488310572074583,-0.2645552704783902,-0.45784207536797183,-1.8720226996945561,-0.7221199763313748,0.7303713162051148,-0.5675927577151667,0.2743443549958475,-0.8363932058173486,-0.197070058476929,-0.20013495199757259,-2.245092326684816,0.5943639003035389,-2.4438290349158693,-2.312513093070422,-0.10226142096044005,-0.3540991820914685,1.1846112283224697,0.5785961937800251,0.9454529767507993,-0.9378679023799694,2.252026617954698,0.8836245400728469,0.19770903317243588,0.5820505519137525,0.7000403498804273,0.18687441456797468,-2.605904251516702,1.013838593924159,0.7048394896011076,-0.9700118607851692,1.4122071311811517,0.22121580587926673,1.2618498032297492,-0.5281752604894419,-0.7421908714692181,1.5430526507489388,1.6370858753648112,0.15153329405330462,-0.35805431200293014,-0.9283089709763265,0.3293002280206697,-0.04430655153238148,1.125980853731697,-0.8103951450968989,-0.636133320370373,-0.5840496782043829,0.2912078731205048,-0.5137033735673227,-0.5894102919320074,-0.44662329985137666,1.4453702578010075,-2.8820121087644,0.5943854382063423,-0.2507644033592735,-1.4506707195233537,-0.32976243758703705,-0.5173084332484963],\"type\":\"bar\"},{\"marker\":{\"color\":\"rgba(55, 128, 191, 0.6)\",\"line\":{\"color\":\"rgba(55, 128, 191, 1.0)\",\"width\":1}},\"name\":\"B\",\"orientation\":\"v\",\"text\":\"\",\"x\":[0,1,2,3,4,5,6,7,8,9,10,11,12,13,14,15,16,17,18,19,20,21,22,23,24,25,26,27,28,29,30,31,32,33,34,35,36,37,38,39,40,41,42,43,44,45,46,47,48,49,50,51,52,53,54,55,56,57,58,59,60,61,62,63,64,65,66,67,68,69,70,71,72,73,74,75,76,77,78,79,80,81,82,83,84,85,86,87,88,89,90,91,92,93,94,95,96,97,98,99],\"y\":[1.452833408522823,-2.801289721404959,1.467471032771779,1.1075149196133212,0.5900621714557223,-0.28302847996604674,0.23427324061681518,-1.215558624206029,0.813168712095642,-0.27005007088545496,-0.38243213069474835,1.6853155435237392,-0.6607753287657827,-0.3472588976686309,0.6719544662985177,-1.2237508738534368,0.3183787636673109,-0.72535952550027,-0.26260020669625433,-0.850618401548025,-0.7274756636907109,1.1687905305044257,0.49469694638536177,-0.26871518589218507,0.15290598210181186,1.2097075310133023,1.000422474088806,0.3136146057400716,-0.2833208420357839,-0.1860803660624252,-0.9564691687831892,1.6672459232340364,0.6683703526469932,1.3610316950494012,-1.8351289950778071,0.2251323174580143,-0.5417476758860279,-1.0073462642598332,-0.38783816934944704,0.5531661483954752,-0.29784593859479686,0.27348929840642366,0.4691760622386405,-0.3761511711516631,-0.7725927101520446,-0.4637975839720279,-1.3947025101192394,-0.1830294614098356,1.625397974734619,0.7544921969987086,0.4104847513780054,-0.9092909463854356,1.171510476069789,0.5458990143642105,-0.5844526689136395,0.4425182954767783,-0.7817994944058249,1.0153723508764105,0.23275728789967648,-1.5989167066075543,1.1460289758089788,-0.7504446965323814,1.6300471548892737,-1.598248946404511,0.8595031406047959,0.16147366754361436,-0.45353015445403494,-0.31061877236519714,-0.6243507521232172,0.06250609987067719,-0.7759860097109451,-0.8472620099074127,1.5987177491523321,-1.1678132491490123,-1.247064428257644,-0.369826813335805,0.46232826804011073,1.7838081747848518,1.2909978570591278,-1.496859178399673,0.22001922625256887,-0.9113831617477044,0.49478127902387076,1.8100591568741062,1.0511618624121364,-0.8846969102030365,-0.861736858706487,-1.8399566183192644,-1.2004936606910546,-0.008772066069577691,-1.2661127544327189,0.12930024126805745,-0.9741132348621366,1.911126529769431,-0.8669170987643292,0.6705416816248445,0.7025783402266444,0.9783330874535535,0.13718527998129446,0.08864824382977793],\"type\":\"bar\"},{\"marker\":{\"color\":\"rgba(50, 171, 96, 0.6)\",\"line\":{\"color\":\"rgba(50, 171, 96, 1.0)\",\"width\":1}},\"name\":\"C\",\"orientation\":\"v\",\"text\":\"\",\"x\":[0,1,2,3,4,5,6,7,8,9,10,11,12,13,14,15,16,17,18,19,20,21,22,23,24,25,26,27,28,29,30,31,32,33,34,35,36,37,38,39,40,41,42,43,44,45,46,47,48,49,50,51,52,53,54,55,56,57,58,59,60,61,62,63,64,65,66,67,68,69,70,71,72,73,74,75,76,77,78,79,80,81,82,83,84,85,86,87,88,89,90,91,92,93,94,95,96,97,98,99],\"y\":[0.25500841675327135,-2.0228296660047334,-1.5941368496927122,0.7566379326733458,0.09042462761333182,0.7880099583693712,0.33110955233396566,0.633630161318091,-3.104318720313925,0.15769519846695176,-0.01821056361192945,0.32975254187472197,0.6691148817820453,0.8882708461650792,0.32571083062195644,1.2969248124686905,-0.828469691493726,0.8186951502774704,-0.8481415447451287,-0.005448656858547519,-1.046985396498361,2.0876629941168403,-0.4932176461548644,-1.479742227493446,-0.893779716681242,1.059693973315859,-0.4218995577916561,0.3037603245140057,-0.295718885568225,-1.456631526768783,0.6726281780162228,-0.2513454101392943,-0.0029946532401559714,1.2223245878227034,-1.400357848874864,-0.9745231933933619,-0.7394884299589058,0.07692397890434306,-0.13916293510562336,1.0262265227965133,0.8681801213723014,-0.1558700044747346,0.8154873912086121,-0.040550112558222724,-0.022995195337995825,0.19472825145585765,-0.8294809719858296,0.253481929767634,-0.6680928324389981,-0.3741609826317901,-2.5647984075760584,1.202281009334771,1.5356448424278233,-0.658681268678709,0.98511260312972,-1.5569511626557264,0.6959850736666175,0.041869074233176394,-0.2940238445233744,-0.8855718078598309,-0.312486874051758,-1.2120957514801096,-0.0804516775894421,-0.06955069706107143,0.4213701146254383,-0.5824044836334542,0.3320929214372528,0.20034650112127014,1.139537356515105,-0.11636411784016422,-1.5580486253908081,0.4787958649368819,0.06371197852824667,-0.34365931506835834,0.6165488060556412,-0.9339932703085433,-1.2679418729267968,-0.37370211392929065,0.1553807466229721,-1.6790618079561024,-0.8153431874050666,0.027609721305113872,1.7125284633192528,0.477293575773967,-0.2107470140392488,1.2466380227088456,0.7268506778475627,1.1825032117586856,-0.19560223128214535,-0.6394964865536716,-0.33517501376555675,-1.4772991809849378,-0.3722722426648912,-0.03242252178216725,-0.11089344856880662,-0.08531307864935869,-0.04946493715695045,-0.15250410087849134,0.21164430464328296,-1.3243384652903012],\"type\":\"bar\"},{\"marker\":{\"color\":\"rgba(128, 0, 128, 0.6)\",\"line\":{\"color\":\"rgba(128, 0, 128, 1.0)\",\"width\":1}},\"name\":\"D\",\"orientation\":\"v\",\"text\":\"\",\"x\":[0,1,2,3,4,5,6,7,8,9,10,11,12,13,14,15,16,17,18,19,20,21,22,23,24,25,26,27,28,29,30,31,32,33,34,35,36,37,38,39,40,41,42,43,44,45,46,47,48,49,50,51,52,53,54,55,56,57,58,59,60,61,62,63,64,65,66,67,68,69,70,71,72,73,74,75,76,77,78,79,80,81,82,83,84,85,86,87,88,89,90,91,92,93,94,95,96,97,98,99],\"y\":[0.1852673937213632,-0.44345827589806286,0.23273235167467715,-1.4903533275627932,0.2684902198097901,-0.686946223039476,-1.569611132126099,-0.8268636691466774,-0.047241527713950904,0.3700385806309308,-0.12732821435940275,-0.05036277629562494,-0.23921120887225938,-1.4846129257255232,0.9073179324373805,-0.5060076669401903,-0.4252614976966761,0.8346728660773869,-0.8427060950773964,-0.6135320914829894,-0.21523062705508028,0.5190812206976291,-0.9747123694425338,0.6537487327723273,2.322045329576906,1.413449387959019,0.34455620354785615,0.3188526310664666,0.7529156688198151,-0.33504683404000546,-0.8437176298130339,0.317721829730343,-1.2661495137545982,-0.0691429255933767,-0.8604798829031324,2.244452010671782,-0.15145796577193404,-0.07665135642775489,0.9513143318656485,-0.7160571745760614,-0.29852813553670526,-0.8587877409131487,-1.4672603813825607,1.0988442496704036,2.2760038379975467,1.6788414832474532,0.3726091108126695,0.7095174950341702,0.24877327374638,-0.36465139177197653,1.2706006745818645,1.5503467450343724,-0.31556209173554794,0.14718624186491758,0.3107995244034444,-0.5392879787433942,-1.129334155516057,-1.9162127924810703,-2.1991377381215975,-0.011759833599251049,0.8752288310754693,0.29250397526317556,1.5709858892377442,0.7655654796656748,-0.39031204352562565,-0.05988632666417284,-0.40006195094696545,-0.44417344480293425,0.49296792393382693,0.8103708801937014,-0.6640410877996384,-0.908551237967371,-1.1917658635528445,-1.2482720132411318,1.562451015147158,0.8826104656621604,-0.036813081581456845,-0.20533878048949492,-1.5318890996535242,-1.227574563627396,-0.3059276791424916,-0.25738907516547643,-0.6834027796862429,0.14073356590044747,-0.4964738906067588,0.1674286564235268,-1.941966835411613,0.8441767911667543,0.6505909193640828,0.5297311519789127,1.771393610824138,0.5653915202360102,-0.5629050155770081,-0.15828529933860774,1.3641429553783466,-0.7657757222716708,0.057515198937703314,-0.8389954153033105,0.47748464268948704,-2.0329806242365693],\"type\":\"bar\"}],                        {\"legend\":{\"bgcolor\":\"#F5F6F9\",\"font\":{\"color\":\"#4D5663\"}},\"paper_bgcolor\":\"#F5F6F9\",\"plot_bgcolor\":\"#F5F6F9\",\"template\":{\"data\":{\"barpolar\":[{\"marker\":{\"line\":{\"color\":\"#E5ECF6\",\"width\":0.5},\"pattern\":{\"fillmode\":\"overlay\",\"size\":10,\"solidity\":0.2}},\"type\":\"barpolar\"}],\"bar\":[{\"error_x\":{\"color\":\"#2a3f5f\"},\"error_y\":{\"color\":\"#2a3f5f\"},\"marker\":{\"line\":{\"color\":\"#E5ECF6\",\"width\":0.5},\"pattern\":{\"fillmode\":\"overlay\",\"size\":10,\"solidity\":0.2}},\"type\":\"bar\"}],\"carpet\":[{\"aaxis\":{\"endlinecolor\":\"#2a3f5f\",\"gridcolor\":\"white\",\"linecolor\":\"white\",\"minorgridcolor\":\"white\",\"startlinecolor\":\"#2a3f5f\"},\"baxis\":{\"endlinecolor\":\"#2a3f5f\",\"gridcolor\":\"white\",\"linecolor\":\"white\",\"minorgridcolor\":\"white\",\"startlinecolor\":\"#2a3f5f\"},\"type\":\"carpet\"}],\"choropleth\":[{\"colorbar\":{\"outlinewidth\":0,\"ticks\":\"\"},\"type\":\"choropleth\"}],\"contourcarpet\":[{\"colorbar\":{\"outlinewidth\":0,\"ticks\":\"\"},\"type\":\"contourcarpet\"}],\"contour\":[{\"colorbar\":{\"outlinewidth\":0,\"ticks\":\"\"},\"colorscale\":[[0.0,\"#0d0887\"],[0.1111111111111111,\"#46039f\"],[0.2222222222222222,\"#7201a8\"],[0.3333333333333333,\"#9c179e\"],[0.4444444444444444,\"#bd3786\"],[0.5555555555555556,\"#d8576b\"],[0.6666666666666666,\"#ed7953\"],[0.7777777777777778,\"#fb9f3a\"],[0.8888888888888888,\"#fdca26\"],[1.0,\"#f0f921\"]],\"type\":\"contour\"}],\"heatmapgl\":[{\"colorbar\":{\"outlinewidth\":0,\"ticks\":\"\"},\"colorscale\":[[0.0,\"#0d0887\"],[0.1111111111111111,\"#46039f\"],[0.2222222222222222,\"#7201a8\"],[0.3333333333333333,\"#9c179e\"],[0.4444444444444444,\"#bd3786\"],[0.5555555555555556,\"#d8576b\"],[0.6666666666666666,\"#ed7953\"],[0.7777777777777778,\"#fb9f3a\"],[0.8888888888888888,\"#fdca26\"],[1.0,\"#f0f921\"]],\"type\":\"heatmapgl\"}],\"heatmap\":[{\"colorbar\":{\"outlinewidth\":0,\"ticks\":\"\"},\"colorscale\":[[0.0,\"#0d0887\"],[0.1111111111111111,\"#46039f\"],[0.2222222222222222,\"#7201a8\"],[0.3333333333333333,\"#9c179e\"],[0.4444444444444444,\"#bd3786\"],[0.5555555555555556,\"#d8576b\"],[0.6666666666666666,\"#ed7953\"],[0.7777777777777778,\"#fb9f3a\"],[0.8888888888888888,\"#fdca26\"],[1.0,\"#f0f921\"]],\"type\":\"heatmap\"}],\"histogram2dcontour\":[{\"colorbar\":{\"outlinewidth\":0,\"ticks\":\"\"},\"colorscale\":[[0.0,\"#0d0887\"],[0.1111111111111111,\"#46039f\"],[0.2222222222222222,\"#7201a8\"],[0.3333333333333333,\"#9c179e\"],[0.4444444444444444,\"#bd3786\"],[0.5555555555555556,\"#d8576b\"],[0.6666666666666666,\"#ed7953\"],[0.7777777777777778,\"#fb9f3a\"],[0.8888888888888888,\"#fdca26\"],[1.0,\"#f0f921\"]],\"type\":\"histogram2dcontour\"}],\"histogram2d\":[{\"colorbar\":{\"outlinewidth\":0,\"ticks\":\"\"},\"colorscale\":[[0.0,\"#0d0887\"],[0.1111111111111111,\"#46039f\"],[0.2222222222222222,\"#7201a8\"],[0.3333333333333333,\"#9c179e\"],[0.4444444444444444,\"#bd3786\"],[0.5555555555555556,\"#d8576b\"],[0.6666666666666666,\"#ed7953\"],[0.7777777777777778,\"#fb9f3a\"],[0.8888888888888888,\"#fdca26\"],[1.0,\"#f0f921\"]],\"type\":\"histogram2d\"}],\"histogram\":[{\"marker\":{\"pattern\":{\"fillmode\":\"overlay\",\"size\":10,\"solidity\":0.2}},\"type\":\"histogram\"}],\"mesh3d\":[{\"colorbar\":{\"outlinewidth\":0,\"ticks\":\"\"},\"type\":\"mesh3d\"}],\"parcoords\":[{\"line\":{\"colorbar\":{\"outlinewidth\":0,\"ticks\":\"\"}},\"type\":\"parcoords\"}],\"pie\":[{\"automargin\":true,\"type\":\"pie\"}],\"scatter3d\":[{\"line\":{\"colorbar\":{\"outlinewidth\":0,\"ticks\":\"\"}},\"marker\":{\"colorbar\":{\"outlinewidth\":0,\"ticks\":\"\"}},\"type\":\"scatter3d\"}],\"scattercarpet\":[{\"marker\":{\"colorbar\":{\"outlinewidth\":0,\"ticks\":\"\"}},\"type\":\"scattercarpet\"}],\"scattergeo\":[{\"marker\":{\"colorbar\":{\"outlinewidth\":0,\"ticks\":\"\"}},\"type\":\"scattergeo\"}],\"scattergl\":[{\"marker\":{\"colorbar\":{\"outlinewidth\":0,\"ticks\":\"\"}},\"type\":\"scattergl\"}],\"scattermapbox\":[{\"marker\":{\"colorbar\":{\"outlinewidth\":0,\"ticks\":\"\"}},\"type\":\"scattermapbox\"}],\"scatterpolargl\":[{\"marker\":{\"colorbar\":{\"outlinewidth\":0,\"ticks\":\"\"}},\"type\":\"scatterpolargl\"}],\"scatterpolar\":[{\"marker\":{\"colorbar\":{\"outlinewidth\":0,\"ticks\":\"\"}},\"type\":\"scatterpolar\"}],\"scatter\":[{\"fillpattern\":{\"fillmode\":\"overlay\",\"size\":10,\"solidity\":0.2},\"type\":\"scatter\"}],\"scatterternary\":[{\"marker\":{\"colorbar\":{\"outlinewidth\":0,\"ticks\":\"\"}},\"type\":\"scatterternary\"}],\"surface\":[{\"colorbar\":{\"outlinewidth\":0,\"ticks\":\"\"},\"colorscale\":[[0.0,\"#0d0887\"],[0.1111111111111111,\"#46039f\"],[0.2222222222222222,\"#7201a8\"],[0.3333333333333333,\"#9c179e\"],[0.4444444444444444,\"#bd3786\"],[0.5555555555555556,\"#d8576b\"],[0.6666666666666666,\"#ed7953\"],[0.7777777777777778,\"#fb9f3a\"],[0.8888888888888888,\"#fdca26\"],[1.0,\"#f0f921\"]],\"type\":\"surface\"}],\"table\":[{\"cells\":{\"fill\":{\"color\":\"#EBF0F8\"},\"line\":{\"color\":\"white\"}},\"header\":{\"fill\":{\"color\":\"#C8D4E3\"},\"line\":{\"color\":\"white\"}},\"type\":\"table\"}]},\"layout\":{\"annotationdefaults\":{\"arrowcolor\":\"#2a3f5f\",\"arrowhead\":0,\"arrowwidth\":1},\"autotypenumbers\":\"strict\",\"coloraxis\":{\"colorbar\":{\"outlinewidth\":0,\"ticks\":\"\"}},\"colorscale\":{\"diverging\":[[0,\"#8e0152\"],[0.1,\"#c51b7d\"],[0.2,\"#de77ae\"],[0.3,\"#f1b6da\"],[0.4,\"#fde0ef\"],[0.5,\"#f7f7f7\"],[0.6,\"#e6f5d0\"],[0.7,\"#b8e186\"],[0.8,\"#7fbc41\"],[0.9,\"#4d9221\"],[1,\"#276419\"]],\"sequential\":[[0.0,\"#0d0887\"],[0.1111111111111111,\"#46039f\"],[0.2222222222222222,\"#7201a8\"],[0.3333333333333333,\"#9c179e\"],[0.4444444444444444,\"#bd3786\"],[0.5555555555555556,\"#d8576b\"],[0.6666666666666666,\"#ed7953\"],[0.7777777777777778,\"#fb9f3a\"],[0.8888888888888888,\"#fdca26\"],[1.0,\"#f0f921\"]],\"sequentialminus\":[[0.0,\"#0d0887\"],[0.1111111111111111,\"#46039f\"],[0.2222222222222222,\"#7201a8\"],[0.3333333333333333,\"#9c179e\"],[0.4444444444444444,\"#bd3786\"],[0.5555555555555556,\"#d8576b\"],[0.6666666666666666,\"#ed7953\"],[0.7777777777777778,\"#fb9f3a\"],[0.8888888888888888,\"#fdca26\"],[1.0,\"#f0f921\"]]},\"colorway\":[\"#636efa\",\"#EF553B\",\"#00cc96\",\"#ab63fa\",\"#FFA15A\",\"#19d3f3\",\"#FF6692\",\"#B6E880\",\"#FF97FF\",\"#FECB52\"],\"font\":{\"color\":\"#2a3f5f\"},\"geo\":{\"bgcolor\":\"white\",\"lakecolor\":\"white\",\"landcolor\":\"#E5ECF6\",\"showlakes\":true,\"showland\":true,\"subunitcolor\":\"white\"},\"hoverlabel\":{\"align\":\"left\"},\"hovermode\":\"closest\",\"mapbox\":{\"style\":\"light\"},\"paper_bgcolor\":\"white\",\"plot_bgcolor\":\"#E5ECF6\",\"polar\":{\"angularaxis\":{\"gridcolor\":\"white\",\"linecolor\":\"white\",\"ticks\":\"\"},\"bgcolor\":\"#E5ECF6\",\"radialaxis\":{\"gridcolor\":\"white\",\"linecolor\":\"white\",\"ticks\":\"\"}},\"scene\":{\"xaxis\":{\"backgroundcolor\":\"#E5ECF6\",\"gridcolor\":\"white\",\"gridwidth\":2,\"linecolor\":\"white\",\"showbackground\":true,\"ticks\":\"\",\"zerolinecolor\":\"white\"},\"yaxis\":{\"backgroundcolor\":\"#E5ECF6\",\"gridcolor\":\"white\",\"gridwidth\":2,\"linecolor\":\"white\",\"showbackground\":true,\"ticks\":\"\",\"zerolinecolor\":\"white\"},\"zaxis\":{\"backgroundcolor\":\"#E5ECF6\",\"gridcolor\":\"white\",\"gridwidth\":2,\"linecolor\":\"white\",\"showbackground\":true,\"ticks\":\"\",\"zerolinecolor\":\"white\"}},\"shapedefaults\":{\"line\":{\"color\":\"#2a3f5f\"}},\"ternary\":{\"aaxis\":{\"gridcolor\":\"white\",\"linecolor\":\"white\",\"ticks\":\"\"},\"baxis\":{\"gridcolor\":\"white\",\"linecolor\":\"white\",\"ticks\":\"\"},\"bgcolor\":\"#E5ECF6\",\"caxis\":{\"gridcolor\":\"white\",\"linecolor\":\"white\",\"ticks\":\"\"}},\"title\":{\"x\":0.05},\"xaxis\":{\"automargin\":true,\"gridcolor\":\"white\",\"linecolor\":\"white\",\"ticks\":\"\",\"title\":{\"standoff\":15},\"zerolinecolor\":\"white\",\"zerolinewidth\":2},\"yaxis\":{\"automargin\":true,\"gridcolor\":\"white\",\"linecolor\":\"white\",\"ticks\":\"\",\"title\":{\"standoff\":15},\"zerolinecolor\":\"white\",\"zerolinewidth\":2}}},\"title\":{\"font\":{\"color\":\"#4D5663\"}},\"xaxis\":{\"gridcolor\":\"#E1E5ED\",\"showgrid\":true,\"tickfont\":{\"color\":\"#4D5663\"},\"title\":{\"font\":{\"color\":\"#4D5663\"},\"text\":\"\"},\"zerolinecolor\":\"#E1E5ED\"},\"yaxis\":{\"gridcolor\":\"#E1E5ED\",\"showgrid\":true,\"tickfont\":{\"color\":\"#4D5663\"},\"title\":{\"font\":{\"color\":\"#4D5663\"},\"text\":\"\"},\"zerolinecolor\":\"#E1E5ED\"}},                        {\"showLink\": true, \"linkText\": \"Export to plot.ly\", \"plotlyServerURL\": \"https://plot.ly\", \"responsive\": true}                    ).then(function(){\n",
       "                            \n",
       "var gd = document.getElementById('80043fec-b956-4ce4-baad-aa8da9b7b002');\n",
       "var x = new MutationObserver(function (mutations, observer) {{\n",
       "        var display = window.getComputedStyle(gd).display;\n",
       "        if (!display || display === 'none') {{\n",
       "            console.log([gd, 'removed!']);\n",
       "            Plotly.purge(gd);\n",
       "            observer.disconnect();\n",
       "        }}\n",
       "}});\n",
       "\n",
       "// Listen for the removal of the full notebook cells\n",
       "var notebookContainer = gd.closest('#notebook-container');\n",
       "if (notebookContainer) {{\n",
       "    x.observe(notebookContainer, {childList: true});\n",
       "}}\n",
       "\n",
       "// Listen for the clearing of the current output cell\n",
       "var outputEl = gd.closest('.output');\n",
       "if (outputEl) {{\n",
       "    x.observe(outputEl, {childList: true});\n",
       "}}\n",
       "\n",
       "                        })                };                });            </script>        </div>"
      ]
     },
     "metadata": {},
     "output_type": "display_data"
    }
   ],
   "source": [
    "df.iplot(kind='bar')"
   ]
  },
  {
   "cell_type": "code",
   "execution_count": 23,
   "id": "7a8ccdcf",
   "metadata": {},
   "outputs": [
    {
     "data": {
      "application/vnd.plotly.v1+json": {
       "config": {
        "linkText": "Export to plot.ly",
        "plotlyServerURL": "https://plot.ly",
        "showLink": true
       },
       "data": [
        {
         "marker": {
          "color": "rgba(255, 153, 51, 0.6)",
          "line": {
           "color": "rgba(255, 153, 51, 1.0)",
           "width": 1
          }
         },
         "name": "None",
         "orientation": "v",
         "text": "",
         "type": "bar",
         "x": [
          "A",
          "B",
          "C",
          "D"
         ],
         "y": [
          100,
          100,
          100,
          100
         ]
        }
       ],
       "layout": {
        "legend": {
         "bgcolor": "#F5F6F9",
         "font": {
          "color": "#4D5663"
         }
        },
        "paper_bgcolor": "#F5F6F9",
        "plot_bgcolor": "#F5F6F9",
        "template": {
         "data": {
          "bar": [
           {
            "error_x": {
             "color": "#2a3f5f"
            },
            "error_y": {
             "color": "#2a3f5f"
            },
            "marker": {
             "line": {
              "color": "#E5ECF6",
              "width": 0.5
             },
             "pattern": {
              "fillmode": "overlay",
              "size": 10,
              "solidity": 0.2
             }
            },
            "type": "bar"
           }
          ],
          "barpolar": [
           {
            "marker": {
             "line": {
              "color": "#E5ECF6",
              "width": 0.5
             },
             "pattern": {
              "fillmode": "overlay",
              "size": 10,
              "solidity": 0.2
             }
            },
            "type": "barpolar"
           }
          ],
          "carpet": [
           {
            "aaxis": {
             "endlinecolor": "#2a3f5f",
             "gridcolor": "white",
             "linecolor": "white",
             "minorgridcolor": "white",
             "startlinecolor": "#2a3f5f"
            },
            "baxis": {
             "endlinecolor": "#2a3f5f",
             "gridcolor": "white",
             "linecolor": "white",
             "minorgridcolor": "white",
             "startlinecolor": "#2a3f5f"
            },
            "type": "carpet"
           }
          ],
          "choropleth": [
           {
            "colorbar": {
             "outlinewidth": 0,
             "ticks": ""
            },
            "type": "choropleth"
           }
          ],
          "contour": [
           {
            "colorbar": {
             "outlinewidth": 0,
             "ticks": ""
            },
            "colorscale": [
             [
              0,
              "#0d0887"
             ],
             [
              0.1111111111111111,
              "#46039f"
             ],
             [
              0.2222222222222222,
              "#7201a8"
             ],
             [
              0.3333333333333333,
              "#9c179e"
             ],
             [
              0.4444444444444444,
              "#bd3786"
             ],
             [
              0.5555555555555556,
              "#d8576b"
             ],
             [
              0.6666666666666666,
              "#ed7953"
             ],
             [
              0.7777777777777778,
              "#fb9f3a"
             ],
             [
              0.8888888888888888,
              "#fdca26"
             ],
             [
              1,
              "#f0f921"
             ]
            ],
            "type": "contour"
           }
          ],
          "contourcarpet": [
           {
            "colorbar": {
             "outlinewidth": 0,
             "ticks": ""
            },
            "type": "contourcarpet"
           }
          ],
          "heatmap": [
           {
            "colorbar": {
             "outlinewidth": 0,
             "ticks": ""
            },
            "colorscale": [
             [
              0,
              "#0d0887"
             ],
             [
              0.1111111111111111,
              "#46039f"
             ],
             [
              0.2222222222222222,
              "#7201a8"
             ],
             [
              0.3333333333333333,
              "#9c179e"
             ],
             [
              0.4444444444444444,
              "#bd3786"
             ],
             [
              0.5555555555555556,
              "#d8576b"
             ],
             [
              0.6666666666666666,
              "#ed7953"
             ],
             [
              0.7777777777777778,
              "#fb9f3a"
             ],
             [
              0.8888888888888888,
              "#fdca26"
             ],
             [
              1,
              "#f0f921"
             ]
            ],
            "type": "heatmap"
           }
          ],
          "heatmapgl": [
           {
            "colorbar": {
             "outlinewidth": 0,
             "ticks": ""
            },
            "colorscale": [
             [
              0,
              "#0d0887"
             ],
             [
              0.1111111111111111,
              "#46039f"
             ],
             [
              0.2222222222222222,
              "#7201a8"
             ],
             [
              0.3333333333333333,
              "#9c179e"
             ],
             [
              0.4444444444444444,
              "#bd3786"
             ],
             [
              0.5555555555555556,
              "#d8576b"
             ],
             [
              0.6666666666666666,
              "#ed7953"
             ],
             [
              0.7777777777777778,
              "#fb9f3a"
             ],
             [
              0.8888888888888888,
              "#fdca26"
             ],
             [
              1,
              "#f0f921"
             ]
            ],
            "type": "heatmapgl"
           }
          ],
          "histogram": [
           {
            "marker": {
             "pattern": {
              "fillmode": "overlay",
              "size": 10,
              "solidity": 0.2
             }
            },
            "type": "histogram"
           }
          ],
          "histogram2d": [
           {
            "colorbar": {
             "outlinewidth": 0,
             "ticks": ""
            },
            "colorscale": [
             [
              0,
              "#0d0887"
             ],
             [
              0.1111111111111111,
              "#46039f"
             ],
             [
              0.2222222222222222,
              "#7201a8"
             ],
             [
              0.3333333333333333,
              "#9c179e"
             ],
             [
              0.4444444444444444,
              "#bd3786"
             ],
             [
              0.5555555555555556,
              "#d8576b"
             ],
             [
              0.6666666666666666,
              "#ed7953"
             ],
             [
              0.7777777777777778,
              "#fb9f3a"
             ],
             [
              0.8888888888888888,
              "#fdca26"
             ],
             [
              1,
              "#f0f921"
             ]
            ],
            "type": "histogram2d"
           }
          ],
          "histogram2dcontour": [
           {
            "colorbar": {
             "outlinewidth": 0,
             "ticks": ""
            },
            "colorscale": [
             [
              0,
              "#0d0887"
             ],
             [
              0.1111111111111111,
              "#46039f"
             ],
             [
              0.2222222222222222,
              "#7201a8"
             ],
             [
              0.3333333333333333,
              "#9c179e"
             ],
             [
              0.4444444444444444,
              "#bd3786"
             ],
             [
              0.5555555555555556,
              "#d8576b"
             ],
             [
              0.6666666666666666,
              "#ed7953"
             ],
             [
              0.7777777777777778,
              "#fb9f3a"
             ],
             [
              0.8888888888888888,
              "#fdca26"
             ],
             [
              1,
              "#f0f921"
             ]
            ],
            "type": "histogram2dcontour"
           }
          ],
          "mesh3d": [
           {
            "colorbar": {
             "outlinewidth": 0,
             "ticks": ""
            },
            "type": "mesh3d"
           }
          ],
          "parcoords": [
           {
            "line": {
             "colorbar": {
              "outlinewidth": 0,
              "ticks": ""
             }
            },
            "type": "parcoords"
           }
          ],
          "pie": [
           {
            "automargin": true,
            "type": "pie"
           }
          ],
          "scatter": [
           {
            "fillpattern": {
             "fillmode": "overlay",
             "size": 10,
             "solidity": 0.2
            },
            "type": "scatter"
           }
          ],
          "scatter3d": [
           {
            "line": {
             "colorbar": {
              "outlinewidth": 0,
              "ticks": ""
             }
            },
            "marker": {
             "colorbar": {
              "outlinewidth": 0,
              "ticks": ""
             }
            },
            "type": "scatter3d"
           }
          ],
          "scattercarpet": [
           {
            "marker": {
             "colorbar": {
              "outlinewidth": 0,
              "ticks": ""
             }
            },
            "type": "scattercarpet"
           }
          ],
          "scattergeo": [
           {
            "marker": {
             "colorbar": {
              "outlinewidth": 0,
              "ticks": ""
             }
            },
            "type": "scattergeo"
           }
          ],
          "scattergl": [
           {
            "marker": {
             "colorbar": {
              "outlinewidth": 0,
              "ticks": ""
             }
            },
            "type": "scattergl"
           }
          ],
          "scattermapbox": [
           {
            "marker": {
             "colorbar": {
              "outlinewidth": 0,
              "ticks": ""
             }
            },
            "type": "scattermapbox"
           }
          ],
          "scatterpolar": [
           {
            "marker": {
             "colorbar": {
              "outlinewidth": 0,
              "ticks": ""
             }
            },
            "type": "scatterpolar"
           }
          ],
          "scatterpolargl": [
           {
            "marker": {
             "colorbar": {
              "outlinewidth": 0,
              "ticks": ""
             }
            },
            "type": "scatterpolargl"
           }
          ],
          "scatterternary": [
           {
            "marker": {
             "colorbar": {
              "outlinewidth": 0,
              "ticks": ""
             }
            },
            "type": "scatterternary"
           }
          ],
          "surface": [
           {
            "colorbar": {
             "outlinewidth": 0,
             "ticks": ""
            },
            "colorscale": [
             [
              0,
              "#0d0887"
             ],
             [
              0.1111111111111111,
              "#46039f"
             ],
             [
              0.2222222222222222,
              "#7201a8"
             ],
             [
              0.3333333333333333,
              "#9c179e"
             ],
             [
              0.4444444444444444,
              "#bd3786"
             ],
             [
              0.5555555555555556,
              "#d8576b"
             ],
             [
              0.6666666666666666,
              "#ed7953"
             ],
             [
              0.7777777777777778,
              "#fb9f3a"
             ],
             [
              0.8888888888888888,
              "#fdca26"
             ],
             [
              1,
              "#f0f921"
             ]
            ],
            "type": "surface"
           }
          ],
          "table": [
           {
            "cells": {
             "fill": {
              "color": "#EBF0F8"
             },
             "line": {
              "color": "white"
             }
            },
            "header": {
             "fill": {
              "color": "#C8D4E3"
             },
             "line": {
              "color": "white"
             }
            },
            "type": "table"
           }
          ]
         },
         "layout": {
          "annotationdefaults": {
           "arrowcolor": "#2a3f5f",
           "arrowhead": 0,
           "arrowwidth": 1
          },
          "autotypenumbers": "strict",
          "coloraxis": {
           "colorbar": {
            "outlinewidth": 0,
            "ticks": ""
           }
          },
          "colorscale": {
           "diverging": [
            [
             0,
             "#8e0152"
            ],
            [
             0.1,
             "#c51b7d"
            ],
            [
             0.2,
             "#de77ae"
            ],
            [
             0.3,
             "#f1b6da"
            ],
            [
             0.4,
             "#fde0ef"
            ],
            [
             0.5,
             "#f7f7f7"
            ],
            [
             0.6,
             "#e6f5d0"
            ],
            [
             0.7,
             "#b8e186"
            ],
            [
             0.8,
             "#7fbc41"
            ],
            [
             0.9,
             "#4d9221"
            ],
            [
             1,
             "#276419"
            ]
           ],
           "sequential": [
            [
             0,
             "#0d0887"
            ],
            [
             0.1111111111111111,
             "#46039f"
            ],
            [
             0.2222222222222222,
             "#7201a8"
            ],
            [
             0.3333333333333333,
             "#9c179e"
            ],
            [
             0.4444444444444444,
             "#bd3786"
            ],
            [
             0.5555555555555556,
             "#d8576b"
            ],
            [
             0.6666666666666666,
             "#ed7953"
            ],
            [
             0.7777777777777778,
             "#fb9f3a"
            ],
            [
             0.8888888888888888,
             "#fdca26"
            ],
            [
             1,
             "#f0f921"
            ]
           ],
           "sequentialminus": [
            [
             0,
             "#0d0887"
            ],
            [
             0.1111111111111111,
             "#46039f"
            ],
            [
             0.2222222222222222,
             "#7201a8"
            ],
            [
             0.3333333333333333,
             "#9c179e"
            ],
            [
             0.4444444444444444,
             "#bd3786"
            ],
            [
             0.5555555555555556,
             "#d8576b"
            ],
            [
             0.6666666666666666,
             "#ed7953"
            ],
            [
             0.7777777777777778,
             "#fb9f3a"
            ],
            [
             0.8888888888888888,
             "#fdca26"
            ],
            [
             1,
             "#f0f921"
            ]
           ]
          },
          "colorway": [
           "#636efa",
           "#EF553B",
           "#00cc96",
           "#ab63fa",
           "#FFA15A",
           "#19d3f3",
           "#FF6692",
           "#B6E880",
           "#FF97FF",
           "#FECB52"
          ],
          "font": {
           "color": "#2a3f5f"
          },
          "geo": {
           "bgcolor": "white",
           "lakecolor": "white",
           "landcolor": "#E5ECF6",
           "showlakes": true,
           "showland": true,
           "subunitcolor": "white"
          },
          "hoverlabel": {
           "align": "left"
          },
          "hovermode": "closest",
          "mapbox": {
           "style": "light"
          },
          "paper_bgcolor": "white",
          "plot_bgcolor": "#E5ECF6",
          "polar": {
           "angularaxis": {
            "gridcolor": "white",
            "linecolor": "white",
            "ticks": ""
           },
           "bgcolor": "#E5ECF6",
           "radialaxis": {
            "gridcolor": "white",
            "linecolor": "white",
            "ticks": ""
           }
          },
          "scene": {
           "xaxis": {
            "backgroundcolor": "#E5ECF6",
            "gridcolor": "white",
            "gridwidth": 2,
            "linecolor": "white",
            "showbackground": true,
            "ticks": "",
            "zerolinecolor": "white"
           },
           "yaxis": {
            "backgroundcolor": "#E5ECF6",
            "gridcolor": "white",
            "gridwidth": 2,
            "linecolor": "white",
            "showbackground": true,
            "ticks": "",
            "zerolinecolor": "white"
           },
           "zaxis": {
            "backgroundcolor": "#E5ECF6",
            "gridcolor": "white",
            "gridwidth": 2,
            "linecolor": "white",
            "showbackground": true,
            "ticks": "",
            "zerolinecolor": "white"
           }
          },
          "shapedefaults": {
           "line": {
            "color": "#2a3f5f"
           }
          },
          "ternary": {
           "aaxis": {
            "gridcolor": "white",
            "linecolor": "white",
            "ticks": ""
           },
           "baxis": {
            "gridcolor": "white",
            "linecolor": "white",
            "ticks": ""
           },
           "bgcolor": "#E5ECF6",
           "caxis": {
            "gridcolor": "white",
            "linecolor": "white",
            "ticks": ""
           }
          },
          "title": {
           "x": 0.05
          },
          "xaxis": {
           "automargin": true,
           "gridcolor": "white",
           "linecolor": "white",
           "ticks": "",
           "title": {
            "standoff": 15
           },
           "zerolinecolor": "white",
           "zerolinewidth": 2
          },
          "yaxis": {
           "automargin": true,
           "gridcolor": "white",
           "linecolor": "white",
           "ticks": "",
           "title": {
            "standoff": 15
           },
           "zerolinecolor": "white",
           "zerolinewidth": 2
          }
         }
        },
        "title": {
         "font": {
          "color": "#4D5663"
         }
        },
        "xaxis": {
         "gridcolor": "#E1E5ED",
         "showgrid": true,
         "tickfont": {
          "color": "#4D5663"
         },
         "title": {
          "font": {
           "color": "#4D5663"
          },
          "text": ""
         },
         "zerolinecolor": "#E1E5ED"
        },
        "yaxis": {
         "gridcolor": "#E1E5ED",
         "showgrid": true,
         "tickfont": {
          "color": "#4D5663"
         },
         "title": {
          "font": {
           "color": "#4D5663"
          },
          "text": ""
         },
         "zerolinecolor": "#E1E5ED"
        }
       }
      },
      "text/html": [
       "<div>                            <div id=\"104d296e-e37b-4656-bdcd-16cc7978bfc0\" class=\"plotly-graph-div\" style=\"height:525px; width:100%;\"></div>            <script type=\"text/javascript\">                require([\"plotly\"], function(Plotly) {                    window.PLOTLYENV=window.PLOTLYENV || {};\n",
       "                    window.PLOTLYENV.BASE_URL='https://plot.ly';                                    if (document.getElementById(\"104d296e-e37b-4656-bdcd-16cc7978bfc0\")) {                    Plotly.newPlot(                        \"104d296e-e37b-4656-bdcd-16cc7978bfc0\",                        [{\"marker\":{\"color\":\"rgba(255, 153, 51, 0.6)\",\"line\":{\"color\":\"rgba(255, 153, 51, 1.0)\",\"width\":1}},\"name\":\"None\",\"orientation\":\"v\",\"text\":\"\",\"x\":[\"A\",\"B\",\"C\",\"D\"],\"y\":[100,100,100,100],\"type\":\"bar\"}],                        {\"legend\":{\"bgcolor\":\"#F5F6F9\",\"font\":{\"color\":\"#4D5663\"}},\"paper_bgcolor\":\"#F5F6F9\",\"plot_bgcolor\":\"#F5F6F9\",\"template\":{\"data\":{\"barpolar\":[{\"marker\":{\"line\":{\"color\":\"#E5ECF6\",\"width\":0.5},\"pattern\":{\"fillmode\":\"overlay\",\"size\":10,\"solidity\":0.2}},\"type\":\"barpolar\"}],\"bar\":[{\"error_x\":{\"color\":\"#2a3f5f\"},\"error_y\":{\"color\":\"#2a3f5f\"},\"marker\":{\"line\":{\"color\":\"#E5ECF6\",\"width\":0.5},\"pattern\":{\"fillmode\":\"overlay\",\"size\":10,\"solidity\":0.2}},\"type\":\"bar\"}],\"carpet\":[{\"aaxis\":{\"endlinecolor\":\"#2a3f5f\",\"gridcolor\":\"white\",\"linecolor\":\"white\",\"minorgridcolor\":\"white\",\"startlinecolor\":\"#2a3f5f\"},\"baxis\":{\"endlinecolor\":\"#2a3f5f\",\"gridcolor\":\"white\",\"linecolor\":\"white\",\"minorgridcolor\":\"white\",\"startlinecolor\":\"#2a3f5f\"},\"type\":\"carpet\"}],\"choropleth\":[{\"colorbar\":{\"outlinewidth\":0,\"ticks\":\"\"},\"type\":\"choropleth\"}],\"contourcarpet\":[{\"colorbar\":{\"outlinewidth\":0,\"ticks\":\"\"},\"type\":\"contourcarpet\"}],\"contour\":[{\"colorbar\":{\"outlinewidth\":0,\"ticks\":\"\"},\"colorscale\":[[0.0,\"#0d0887\"],[0.1111111111111111,\"#46039f\"],[0.2222222222222222,\"#7201a8\"],[0.3333333333333333,\"#9c179e\"],[0.4444444444444444,\"#bd3786\"],[0.5555555555555556,\"#d8576b\"],[0.6666666666666666,\"#ed7953\"],[0.7777777777777778,\"#fb9f3a\"],[0.8888888888888888,\"#fdca26\"],[1.0,\"#f0f921\"]],\"type\":\"contour\"}],\"heatmapgl\":[{\"colorbar\":{\"outlinewidth\":0,\"ticks\":\"\"},\"colorscale\":[[0.0,\"#0d0887\"],[0.1111111111111111,\"#46039f\"],[0.2222222222222222,\"#7201a8\"],[0.3333333333333333,\"#9c179e\"],[0.4444444444444444,\"#bd3786\"],[0.5555555555555556,\"#d8576b\"],[0.6666666666666666,\"#ed7953\"],[0.7777777777777778,\"#fb9f3a\"],[0.8888888888888888,\"#fdca26\"],[1.0,\"#f0f921\"]],\"type\":\"heatmapgl\"}],\"heatmap\":[{\"colorbar\":{\"outlinewidth\":0,\"ticks\":\"\"},\"colorscale\":[[0.0,\"#0d0887\"],[0.1111111111111111,\"#46039f\"],[0.2222222222222222,\"#7201a8\"],[0.3333333333333333,\"#9c179e\"],[0.4444444444444444,\"#bd3786\"],[0.5555555555555556,\"#d8576b\"],[0.6666666666666666,\"#ed7953\"],[0.7777777777777778,\"#fb9f3a\"],[0.8888888888888888,\"#fdca26\"],[1.0,\"#f0f921\"]],\"type\":\"heatmap\"}],\"histogram2dcontour\":[{\"colorbar\":{\"outlinewidth\":0,\"ticks\":\"\"},\"colorscale\":[[0.0,\"#0d0887\"],[0.1111111111111111,\"#46039f\"],[0.2222222222222222,\"#7201a8\"],[0.3333333333333333,\"#9c179e\"],[0.4444444444444444,\"#bd3786\"],[0.5555555555555556,\"#d8576b\"],[0.6666666666666666,\"#ed7953\"],[0.7777777777777778,\"#fb9f3a\"],[0.8888888888888888,\"#fdca26\"],[1.0,\"#f0f921\"]],\"type\":\"histogram2dcontour\"}],\"histogram2d\":[{\"colorbar\":{\"outlinewidth\":0,\"ticks\":\"\"},\"colorscale\":[[0.0,\"#0d0887\"],[0.1111111111111111,\"#46039f\"],[0.2222222222222222,\"#7201a8\"],[0.3333333333333333,\"#9c179e\"],[0.4444444444444444,\"#bd3786\"],[0.5555555555555556,\"#d8576b\"],[0.6666666666666666,\"#ed7953\"],[0.7777777777777778,\"#fb9f3a\"],[0.8888888888888888,\"#fdca26\"],[1.0,\"#f0f921\"]],\"type\":\"histogram2d\"}],\"histogram\":[{\"marker\":{\"pattern\":{\"fillmode\":\"overlay\",\"size\":10,\"solidity\":0.2}},\"type\":\"histogram\"}],\"mesh3d\":[{\"colorbar\":{\"outlinewidth\":0,\"ticks\":\"\"},\"type\":\"mesh3d\"}],\"parcoords\":[{\"line\":{\"colorbar\":{\"outlinewidth\":0,\"ticks\":\"\"}},\"type\":\"parcoords\"}],\"pie\":[{\"automargin\":true,\"type\":\"pie\"}],\"scatter3d\":[{\"line\":{\"colorbar\":{\"outlinewidth\":0,\"ticks\":\"\"}},\"marker\":{\"colorbar\":{\"outlinewidth\":0,\"ticks\":\"\"}},\"type\":\"scatter3d\"}],\"scattercarpet\":[{\"marker\":{\"colorbar\":{\"outlinewidth\":0,\"ticks\":\"\"}},\"type\":\"scattercarpet\"}],\"scattergeo\":[{\"marker\":{\"colorbar\":{\"outlinewidth\":0,\"ticks\":\"\"}},\"type\":\"scattergeo\"}],\"scattergl\":[{\"marker\":{\"colorbar\":{\"outlinewidth\":0,\"ticks\":\"\"}},\"type\":\"scattergl\"}],\"scattermapbox\":[{\"marker\":{\"colorbar\":{\"outlinewidth\":0,\"ticks\":\"\"}},\"type\":\"scattermapbox\"}],\"scatterpolargl\":[{\"marker\":{\"colorbar\":{\"outlinewidth\":0,\"ticks\":\"\"}},\"type\":\"scatterpolargl\"}],\"scatterpolar\":[{\"marker\":{\"colorbar\":{\"outlinewidth\":0,\"ticks\":\"\"}},\"type\":\"scatterpolar\"}],\"scatter\":[{\"fillpattern\":{\"fillmode\":\"overlay\",\"size\":10,\"solidity\":0.2},\"type\":\"scatter\"}],\"scatterternary\":[{\"marker\":{\"colorbar\":{\"outlinewidth\":0,\"ticks\":\"\"}},\"type\":\"scatterternary\"}],\"surface\":[{\"colorbar\":{\"outlinewidth\":0,\"ticks\":\"\"},\"colorscale\":[[0.0,\"#0d0887\"],[0.1111111111111111,\"#46039f\"],[0.2222222222222222,\"#7201a8\"],[0.3333333333333333,\"#9c179e\"],[0.4444444444444444,\"#bd3786\"],[0.5555555555555556,\"#d8576b\"],[0.6666666666666666,\"#ed7953\"],[0.7777777777777778,\"#fb9f3a\"],[0.8888888888888888,\"#fdca26\"],[1.0,\"#f0f921\"]],\"type\":\"surface\"}],\"table\":[{\"cells\":{\"fill\":{\"color\":\"#EBF0F8\"},\"line\":{\"color\":\"white\"}},\"header\":{\"fill\":{\"color\":\"#C8D4E3\"},\"line\":{\"color\":\"white\"}},\"type\":\"table\"}]},\"layout\":{\"annotationdefaults\":{\"arrowcolor\":\"#2a3f5f\",\"arrowhead\":0,\"arrowwidth\":1},\"autotypenumbers\":\"strict\",\"coloraxis\":{\"colorbar\":{\"outlinewidth\":0,\"ticks\":\"\"}},\"colorscale\":{\"diverging\":[[0,\"#8e0152\"],[0.1,\"#c51b7d\"],[0.2,\"#de77ae\"],[0.3,\"#f1b6da\"],[0.4,\"#fde0ef\"],[0.5,\"#f7f7f7\"],[0.6,\"#e6f5d0\"],[0.7,\"#b8e186\"],[0.8,\"#7fbc41\"],[0.9,\"#4d9221\"],[1,\"#276419\"]],\"sequential\":[[0.0,\"#0d0887\"],[0.1111111111111111,\"#46039f\"],[0.2222222222222222,\"#7201a8\"],[0.3333333333333333,\"#9c179e\"],[0.4444444444444444,\"#bd3786\"],[0.5555555555555556,\"#d8576b\"],[0.6666666666666666,\"#ed7953\"],[0.7777777777777778,\"#fb9f3a\"],[0.8888888888888888,\"#fdca26\"],[1.0,\"#f0f921\"]],\"sequentialminus\":[[0.0,\"#0d0887\"],[0.1111111111111111,\"#46039f\"],[0.2222222222222222,\"#7201a8\"],[0.3333333333333333,\"#9c179e\"],[0.4444444444444444,\"#bd3786\"],[0.5555555555555556,\"#d8576b\"],[0.6666666666666666,\"#ed7953\"],[0.7777777777777778,\"#fb9f3a\"],[0.8888888888888888,\"#fdca26\"],[1.0,\"#f0f921\"]]},\"colorway\":[\"#636efa\",\"#EF553B\",\"#00cc96\",\"#ab63fa\",\"#FFA15A\",\"#19d3f3\",\"#FF6692\",\"#B6E880\",\"#FF97FF\",\"#FECB52\"],\"font\":{\"color\":\"#2a3f5f\"},\"geo\":{\"bgcolor\":\"white\",\"lakecolor\":\"white\",\"landcolor\":\"#E5ECF6\",\"showlakes\":true,\"showland\":true,\"subunitcolor\":\"white\"},\"hoverlabel\":{\"align\":\"left\"},\"hovermode\":\"closest\",\"mapbox\":{\"style\":\"light\"},\"paper_bgcolor\":\"white\",\"plot_bgcolor\":\"#E5ECF6\",\"polar\":{\"angularaxis\":{\"gridcolor\":\"white\",\"linecolor\":\"white\",\"ticks\":\"\"},\"bgcolor\":\"#E5ECF6\",\"radialaxis\":{\"gridcolor\":\"white\",\"linecolor\":\"white\",\"ticks\":\"\"}},\"scene\":{\"xaxis\":{\"backgroundcolor\":\"#E5ECF6\",\"gridcolor\":\"white\",\"gridwidth\":2,\"linecolor\":\"white\",\"showbackground\":true,\"ticks\":\"\",\"zerolinecolor\":\"white\"},\"yaxis\":{\"backgroundcolor\":\"#E5ECF6\",\"gridcolor\":\"white\",\"gridwidth\":2,\"linecolor\":\"white\",\"showbackground\":true,\"ticks\":\"\",\"zerolinecolor\":\"white\"},\"zaxis\":{\"backgroundcolor\":\"#E5ECF6\",\"gridcolor\":\"white\",\"gridwidth\":2,\"linecolor\":\"white\",\"showbackground\":true,\"ticks\":\"\",\"zerolinecolor\":\"white\"}},\"shapedefaults\":{\"line\":{\"color\":\"#2a3f5f\"}},\"ternary\":{\"aaxis\":{\"gridcolor\":\"white\",\"linecolor\":\"white\",\"ticks\":\"\"},\"baxis\":{\"gridcolor\":\"white\",\"linecolor\":\"white\",\"ticks\":\"\"},\"bgcolor\":\"#E5ECF6\",\"caxis\":{\"gridcolor\":\"white\",\"linecolor\":\"white\",\"ticks\":\"\"}},\"title\":{\"x\":0.05},\"xaxis\":{\"automargin\":true,\"gridcolor\":\"white\",\"linecolor\":\"white\",\"ticks\":\"\",\"title\":{\"standoff\":15},\"zerolinecolor\":\"white\",\"zerolinewidth\":2},\"yaxis\":{\"automargin\":true,\"gridcolor\":\"white\",\"linecolor\":\"white\",\"ticks\":\"\",\"title\":{\"standoff\":15},\"zerolinecolor\":\"white\",\"zerolinewidth\":2}}},\"title\":{\"font\":{\"color\":\"#4D5663\"}},\"xaxis\":{\"gridcolor\":\"#E1E5ED\",\"showgrid\":true,\"tickfont\":{\"color\":\"#4D5663\"},\"title\":{\"font\":{\"color\":\"#4D5663\"},\"text\":\"\"},\"zerolinecolor\":\"#E1E5ED\"},\"yaxis\":{\"gridcolor\":\"#E1E5ED\",\"showgrid\":true,\"tickfont\":{\"color\":\"#4D5663\"},\"title\":{\"font\":{\"color\":\"#4D5663\"},\"text\":\"\"},\"zerolinecolor\":\"#E1E5ED\"}},                        {\"showLink\": true, \"linkText\": \"Export to plot.ly\", \"plotlyServerURL\": \"https://plot.ly\", \"responsive\": true}                    ).then(function(){\n",
       "                            \n",
       "var gd = document.getElementById('104d296e-e37b-4656-bdcd-16cc7978bfc0');\n",
       "var x = new MutationObserver(function (mutations, observer) {{\n",
       "        var display = window.getComputedStyle(gd).display;\n",
       "        if (!display || display === 'none') {{\n",
       "            console.log([gd, 'removed!']);\n",
       "            Plotly.purge(gd);\n",
       "            observer.disconnect();\n",
       "        }}\n",
       "}});\n",
       "\n",
       "// Listen for the removal of the full notebook cells\n",
       "var notebookContainer = gd.closest('#notebook-container');\n",
       "if (notebookContainer) {{\n",
       "    x.observe(notebookContainer, {childList: true});\n",
       "}}\n",
       "\n",
       "// Listen for the clearing of the current output cell\n",
       "var outputEl = gd.closest('.output');\n",
       "if (outputEl) {{\n",
       "    x.observe(outputEl, {childList: true});\n",
       "}}\n",
       "\n",
       "                        })                };                });            </script>        </div>"
      ]
     },
     "metadata": {},
     "output_type": "display_data"
    }
   ],
   "source": [
    "df.count().iplot(kind='bar')"
   ]
  },
  {
   "cell_type": "code",
   "execution_count": 26,
   "id": "9a05e10b",
   "metadata": {},
   "outputs": [
    {
     "data": {
      "application/vnd.plotly.v1+json": {
       "config": {
        "linkText": "Export to plot.ly",
        "plotlyServerURL": "https://plot.ly",
        "showLink": true
       },
       "data": [
        {
         "marker": {
          "color": "rgba(255, 153, 51, 0.6)",
          "line": {
           "color": "rgba(255, 153, 51, 1.0)",
           "width": 1
          }
         },
         "name": "None",
         "orientation": "v",
         "text": "",
         "type": "bar",
         "x": [
          "A",
          "B",
          "C",
          "D"
         ],
         "y": [
          -12.788842040535284,
          0.25068933172142793,
          -11.02338419336744,
          -4.193994181177383
         ]
        }
       ],
       "layout": {
        "legend": {
         "bgcolor": "#F5F6F9",
         "font": {
          "color": "#4D5663"
         }
        },
        "paper_bgcolor": "#F5F6F9",
        "plot_bgcolor": "#F5F6F9",
        "template": {
         "data": {
          "bar": [
           {
            "error_x": {
             "color": "#2a3f5f"
            },
            "error_y": {
             "color": "#2a3f5f"
            },
            "marker": {
             "line": {
              "color": "#E5ECF6",
              "width": 0.5
             },
             "pattern": {
              "fillmode": "overlay",
              "size": 10,
              "solidity": 0.2
             }
            },
            "type": "bar"
           }
          ],
          "barpolar": [
           {
            "marker": {
             "line": {
              "color": "#E5ECF6",
              "width": 0.5
             },
             "pattern": {
              "fillmode": "overlay",
              "size": 10,
              "solidity": 0.2
             }
            },
            "type": "barpolar"
           }
          ],
          "carpet": [
           {
            "aaxis": {
             "endlinecolor": "#2a3f5f",
             "gridcolor": "white",
             "linecolor": "white",
             "minorgridcolor": "white",
             "startlinecolor": "#2a3f5f"
            },
            "baxis": {
             "endlinecolor": "#2a3f5f",
             "gridcolor": "white",
             "linecolor": "white",
             "minorgridcolor": "white",
             "startlinecolor": "#2a3f5f"
            },
            "type": "carpet"
           }
          ],
          "choropleth": [
           {
            "colorbar": {
             "outlinewidth": 0,
             "ticks": ""
            },
            "type": "choropleth"
           }
          ],
          "contour": [
           {
            "colorbar": {
             "outlinewidth": 0,
             "ticks": ""
            },
            "colorscale": [
             [
              0,
              "#0d0887"
             ],
             [
              0.1111111111111111,
              "#46039f"
             ],
             [
              0.2222222222222222,
              "#7201a8"
             ],
             [
              0.3333333333333333,
              "#9c179e"
             ],
             [
              0.4444444444444444,
              "#bd3786"
             ],
             [
              0.5555555555555556,
              "#d8576b"
             ],
             [
              0.6666666666666666,
              "#ed7953"
             ],
             [
              0.7777777777777778,
              "#fb9f3a"
             ],
             [
              0.8888888888888888,
              "#fdca26"
             ],
             [
              1,
              "#f0f921"
             ]
            ],
            "type": "contour"
           }
          ],
          "contourcarpet": [
           {
            "colorbar": {
             "outlinewidth": 0,
             "ticks": ""
            },
            "type": "contourcarpet"
           }
          ],
          "heatmap": [
           {
            "colorbar": {
             "outlinewidth": 0,
             "ticks": ""
            },
            "colorscale": [
             [
              0,
              "#0d0887"
             ],
             [
              0.1111111111111111,
              "#46039f"
             ],
             [
              0.2222222222222222,
              "#7201a8"
             ],
             [
              0.3333333333333333,
              "#9c179e"
             ],
             [
              0.4444444444444444,
              "#bd3786"
             ],
             [
              0.5555555555555556,
              "#d8576b"
             ],
             [
              0.6666666666666666,
              "#ed7953"
             ],
             [
              0.7777777777777778,
              "#fb9f3a"
             ],
             [
              0.8888888888888888,
              "#fdca26"
             ],
             [
              1,
              "#f0f921"
             ]
            ],
            "type": "heatmap"
           }
          ],
          "heatmapgl": [
           {
            "colorbar": {
             "outlinewidth": 0,
             "ticks": ""
            },
            "colorscale": [
             [
              0,
              "#0d0887"
             ],
             [
              0.1111111111111111,
              "#46039f"
             ],
             [
              0.2222222222222222,
              "#7201a8"
             ],
             [
              0.3333333333333333,
              "#9c179e"
             ],
             [
              0.4444444444444444,
              "#bd3786"
             ],
             [
              0.5555555555555556,
              "#d8576b"
             ],
             [
              0.6666666666666666,
              "#ed7953"
             ],
             [
              0.7777777777777778,
              "#fb9f3a"
             ],
             [
              0.8888888888888888,
              "#fdca26"
             ],
             [
              1,
              "#f0f921"
             ]
            ],
            "type": "heatmapgl"
           }
          ],
          "histogram": [
           {
            "marker": {
             "pattern": {
              "fillmode": "overlay",
              "size": 10,
              "solidity": 0.2
             }
            },
            "type": "histogram"
           }
          ],
          "histogram2d": [
           {
            "colorbar": {
             "outlinewidth": 0,
             "ticks": ""
            },
            "colorscale": [
             [
              0,
              "#0d0887"
             ],
             [
              0.1111111111111111,
              "#46039f"
             ],
             [
              0.2222222222222222,
              "#7201a8"
             ],
             [
              0.3333333333333333,
              "#9c179e"
             ],
             [
              0.4444444444444444,
              "#bd3786"
             ],
             [
              0.5555555555555556,
              "#d8576b"
             ],
             [
              0.6666666666666666,
              "#ed7953"
             ],
             [
              0.7777777777777778,
              "#fb9f3a"
             ],
             [
              0.8888888888888888,
              "#fdca26"
             ],
             [
              1,
              "#f0f921"
             ]
            ],
            "type": "histogram2d"
           }
          ],
          "histogram2dcontour": [
           {
            "colorbar": {
             "outlinewidth": 0,
             "ticks": ""
            },
            "colorscale": [
             [
              0,
              "#0d0887"
             ],
             [
              0.1111111111111111,
              "#46039f"
             ],
             [
              0.2222222222222222,
              "#7201a8"
             ],
             [
              0.3333333333333333,
              "#9c179e"
             ],
             [
              0.4444444444444444,
              "#bd3786"
             ],
             [
              0.5555555555555556,
              "#d8576b"
             ],
             [
              0.6666666666666666,
              "#ed7953"
             ],
             [
              0.7777777777777778,
              "#fb9f3a"
             ],
             [
              0.8888888888888888,
              "#fdca26"
             ],
             [
              1,
              "#f0f921"
             ]
            ],
            "type": "histogram2dcontour"
           }
          ],
          "mesh3d": [
           {
            "colorbar": {
             "outlinewidth": 0,
             "ticks": ""
            },
            "type": "mesh3d"
           }
          ],
          "parcoords": [
           {
            "line": {
             "colorbar": {
              "outlinewidth": 0,
              "ticks": ""
             }
            },
            "type": "parcoords"
           }
          ],
          "pie": [
           {
            "automargin": true,
            "type": "pie"
           }
          ],
          "scatter": [
           {
            "fillpattern": {
             "fillmode": "overlay",
             "size": 10,
             "solidity": 0.2
            },
            "type": "scatter"
           }
          ],
          "scatter3d": [
           {
            "line": {
             "colorbar": {
              "outlinewidth": 0,
              "ticks": ""
             }
            },
            "marker": {
             "colorbar": {
              "outlinewidth": 0,
              "ticks": ""
             }
            },
            "type": "scatter3d"
           }
          ],
          "scattercarpet": [
           {
            "marker": {
             "colorbar": {
              "outlinewidth": 0,
              "ticks": ""
             }
            },
            "type": "scattercarpet"
           }
          ],
          "scattergeo": [
           {
            "marker": {
             "colorbar": {
              "outlinewidth": 0,
              "ticks": ""
             }
            },
            "type": "scattergeo"
           }
          ],
          "scattergl": [
           {
            "marker": {
             "colorbar": {
              "outlinewidth": 0,
              "ticks": ""
             }
            },
            "type": "scattergl"
           }
          ],
          "scattermapbox": [
           {
            "marker": {
             "colorbar": {
              "outlinewidth": 0,
              "ticks": ""
             }
            },
            "type": "scattermapbox"
           }
          ],
          "scatterpolar": [
           {
            "marker": {
             "colorbar": {
              "outlinewidth": 0,
              "ticks": ""
             }
            },
            "type": "scatterpolar"
           }
          ],
          "scatterpolargl": [
           {
            "marker": {
             "colorbar": {
              "outlinewidth": 0,
              "ticks": ""
             }
            },
            "type": "scatterpolargl"
           }
          ],
          "scatterternary": [
           {
            "marker": {
             "colorbar": {
              "outlinewidth": 0,
              "ticks": ""
             }
            },
            "type": "scatterternary"
           }
          ],
          "surface": [
           {
            "colorbar": {
             "outlinewidth": 0,
             "ticks": ""
            },
            "colorscale": [
             [
              0,
              "#0d0887"
             ],
             [
              0.1111111111111111,
              "#46039f"
             ],
             [
              0.2222222222222222,
              "#7201a8"
             ],
             [
              0.3333333333333333,
              "#9c179e"
             ],
             [
              0.4444444444444444,
              "#bd3786"
             ],
             [
              0.5555555555555556,
              "#d8576b"
             ],
             [
              0.6666666666666666,
              "#ed7953"
             ],
             [
              0.7777777777777778,
              "#fb9f3a"
             ],
             [
              0.8888888888888888,
              "#fdca26"
             ],
             [
              1,
              "#f0f921"
             ]
            ],
            "type": "surface"
           }
          ],
          "table": [
           {
            "cells": {
             "fill": {
              "color": "#EBF0F8"
             },
             "line": {
              "color": "white"
             }
            },
            "header": {
             "fill": {
              "color": "#C8D4E3"
             },
             "line": {
              "color": "white"
             }
            },
            "type": "table"
           }
          ]
         },
         "layout": {
          "annotationdefaults": {
           "arrowcolor": "#2a3f5f",
           "arrowhead": 0,
           "arrowwidth": 1
          },
          "autotypenumbers": "strict",
          "coloraxis": {
           "colorbar": {
            "outlinewidth": 0,
            "ticks": ""
           }
          },
          "colorscale": {
           "diverging": [
            [
             0,
             "#8e0152"
            ],
            [
             0.1,
             "#c51b7d"
            ],
            [
             0.2,
             "#de77ae"
            ],
            [
             0.3,
             "#f1b6da"
            ],
            [
             0.4,
             "#fde0ef"
            ],
            [
             0.5,
             "#f7f7f7"
            ],
            [
             0.6,
             "#e6f5d0"
            ],
            [
             0.7,
             "#b8e186"
            ],
            [
             0.8,
             "#7fbc41"
            ],
            [
             0.9,
             "#4d9221"
            ],
            [
             1,
             "#276419"
            ]
           ],
           "sequential": [
            [
             0,
             "#0d0887"
            ],
            [
             0.1111111111111111,
             "#46039f"
            ],
            [
             0.2222222222222222,
             "#7201a8"
            ],
            [
             0.3333333333333333,
             "#9c179e"
            ],
            [
             0.4444444444444444,
             "#bd3786"
            ],
            [
             0.5555555555555556,
             "#d8576b"
            ],
            [
             0.6666666666666666,
             "#ed7953"
            ],
            [
             0.7777777777777778,
             "#fb9f3a"
            ],
            [
             0.8888888888888888,
             "#fdca26"
            ],
            [
             1,
             "#f0f921"
            ]
           ],
           "sequentialminus": [
            [
             0,
             "#0d0887"
            ],
            [
             0.1111111111111111,
             "#46039f"
            ],
            [
             0.2222222222222222,
             "#7201a8"
            ],
            [
             0.3333333333333333,
             "#9c179e"
            ],
            [
             0.4444444444444444,
             "#bd3786"
            ],
            [
             0.5555555555555556,
             "#d8576b"
            ],
            [
             0.6666666666666666,
             "#ed7953"
            ],
            [
             0.7777777777777778,
             "#fb9f3a"
            ],
            [
             0.8888888888888888,
             "#fdca26"
            ],
            [
             1,
             "#f0f921"
            ]
           ]
          },
          "colorway": [
           "#636efa",
           "#EF553B",
           "#00cc96",
           "#ab63fa",
           "#FFA15A",
           "#19d3f3",
           "#FF6692",
           "#B6E880",
           "#FF97FF",
           "#FECB52"
          ],
          "font": {
           "color": "#2a3f5f"
          },
          "geo": {
           "bgcolor": "white",
           "lakecolor": "white",
           "landcolor": "#E5ECF6",
           "showlakes": true,
           "showland": true,
           "subunitcolor": "white"
          },
          "hoverlabel": {
           "align": "left"
          },
          "hovermode": "closest",
          "mapbox": {
           "style": "light"
          },
          "paper_bgcolor": "white",
          "plot_bgcolor": "#E5ECF6",
          "polar": {
           "angularaxis": {
            "gridcolor": "white",
            "linecolor": "white",
            "ticks": ""
           },
           "bgcolor": "#E5ECF6",
           "radialaxis": {
            "gridcolor": "white",
            "linecolor": "white",
            "ticks": ""
           }
          },
          "scene": {
           "xaxis": {
            "backgroundcolor": "#E5ECF6",
            "gridcolor": "white",
            "gridwidth": 2,
            "linecolor": "white",
            "showbackground": true,
            "ticks": "",
            "zerolinecolor": "white"
           },
           "yaxis": {
            "backgroundcolor": "#E5ECF6",
            "gridcolor": "white",
            "gridwidth": 2,
            "linecolor": "white",
            "showbackground": true,
            "ticks": "",
            "zerolinecolor": "white"
           },
           "zaxis": {
            "backgroundcolor": "#E5ECF6",
            "gridcolor": "white",
            "gridwidth": 2,
            "linecolor": "white",
            "showbackground": true,
            "ticks": "",
            "zerolinecolor": "white"
           }
          },
          "shapedefaults": {
           "line": {
            "color": "#2a3f5f"
           }
          },
          "ternary": {
           "aaxis": {
            "gridcolor": "white",
            "linecolor": "white",
            "ticks": ""
           },
           "baxis": {
            "gridcolor": "white",
            "linecolor": "white",
            "ticks": ""
           },
           "bgcolor": "#E5ECF6",
           "caxis": {
            "gridcolor": "white",
            "linecolor": "white",
            "ticks": ""
           }
          },
          "title": {
           "x": 0.05
          },
          "xaxis": {
           "automargin": true,
           "gridcolor": "white",
           "linecolor": "white",
           "ticks": "",
           "title": {
            "standoff": 15
           },
           "zerolinecolor": "white",
           "zerolinewidth": 2
          },
          "yaxis": {
           "automargin": true,
           "gridcolor": "white",
           "linecolor": "white",
           "ticks": "",
           "title": {
            "standoff": 15
           },
           "zerolinecolor": "white",
           "zerolinewidth": 2
          }
         }
        },
        "title": {
         "font": {
          "color": "#4D5663"
         }
        },
        "xaxis": {
         "gridcolor": "#E1E5ED",
         "showgrid": true,
         "tickfont": {
          "color": "#4D5663"
         },
         "title": {
          "font": {
           "color": "#4D5663"
          },
          "text": ""
         },
         "zerolinecolor": "#E1E5ED"
        },
        "yaxis": {
         "gridcolor": "#E1E5ED",
         "showgrid": true,
         "tickfont": {
          "color": "#4D5663"
         },
         "title": {
          "font": {
           "color": "#4D5663"
          },
          "text": ""
         },
         "zerolinecolor": "#E1E5ED"
        }
       }
      },
      "text/html": [
       "<div>                            <div id=\"977053ff-0b60-4e25-b3df-b70bd4989d01\" class=\"plotly-graph-div\" style=\"height:525px; width:100%;\"></div>            <script type=\"text/javascript\">                require([\"plotly\"], function(Plotly) {                    window.PLOTLYENV=window.PLOTLYENV || {};\n",
       "                    window.PLOTLYENV.BASE_URL='https://plot.ly';                                    if (document.getElementById(\"977053ff-0b60-4e25-b3df-b70bd4989d01\")) {                    Plotly.newPlot(                        \"977053ff-0b60-4e25-b3df-b70bd4989d01\",                        [{\"marker\":{\"color\":\"rgba(255, 153, 51, 0.6)\",\"line\":{\"color\":\"rgba(255, 153, 51, 1.0)\",\"width\":1}},\"name\":\"None\",\"orientation\":\"v\",\"text\":\"\",\"x\":[\"A\",\"B\",\"C\",\"D\"],\"y\":[-12.788842040535284,0.25068933172142793,-11.02338419336744,-4.193994181177383],\"type\":\"bar\"}],                        {\"legend\":{\"bgcolor\":\"#F5F6F9\",\"font\":{\"color\":\"#4D5663\"}},\"paper_bgcolor\":\"#F5F6F9\",\"plot_bgcolor\":\"#F5F6F9\",\"template\":{\"data\":{\"barpolar\":[{\"marker\":{\"line\":{\"color\":\"#E5ECF6\",\"width\":0.5},\"pattern\":{\"fillmode\":\"overlay\",\"size\":10,\"solidity\":0.2}},\"type\":\"barpolar\"}],\"bar\":[{\"error_x\":{\"color\":\"#2a3f5f\"},\"error_y\":{\"color\":\"#2a3f5f\"},\"marker\":{\"line\":{\"color\":\"#E5ECF6\",\"width\":0.5},\"pattern\":{\"fillmode\":\"overlay\",\"size\":10,\"solidity\":0.2}},\"type\":\"bar\"}],\"carpet\":[{\"aaxis\":{\"endlinecolor\":\"#2a3f5f\",\"gridcolor\":\"white\",\"linecolor\":\"white\",\"minorgridcolor\":\"white\",\"startlinecolor\":\"#2a3f5f\"},\"baxis\":{\"endlinecolor\":\"#2a3f5f\",\"gridcolor\":\"white\",\"linecolor\":\"white\",\"minorgridcolor\":\"white\",\"startlinecolor\":\"#2a3f5f\"},\"type\":\"carpet\"}],\"choropleth\":[{\"colorbar\":{\"outlinewidth\":0,\"ticks\":\"\"},\"type\":\"choropleth\"}],\"contourcarpet\":[{\"colorbar\":{\"outlinewidth\":0,\"ticks\":\"\"},\"type\":\"contourcarpet\"}],\"contour\":[{\"colorbar\":{\"outlinewidth\":0,\"ticks\":\"\"},\"colorscale\":[[0.0,\"#0d0887\"],[0.1111111111111111,\"#46039f\"],[0.2222222222222222,\"#7201a8\"],[0.3333333333333333,\"#9c179e\"],[0.4444444444444444,\"#bd3786\"],[0.5555555555555556,\"#d8576b\"],[0.6666666666666666,\"#ed7953\"],[0.7777777777777778,\"#fb9f3a\"],[0.8888888888888888,\"#fdca26\"],[1.0,\"#f0f921\"]],\"type\":\"contour\"}],\"heatmapgl\":[{\"colorbar\":{\"outlinewidth\":0,\"ticks\":\"\"},\"colorscale\":[[0.0,\"#0d0887\"],[0.1111111111111111,\"#46039f\"],[0.2222222222222222,\"#7201a8\"],[0.3333333333333333,\"#9c179e\"],[0.4444444444444444,\"#bd3786\"],[0.5555555555555556,\"#d8576b\"],[0.6666666666666666,\"#ed7953\"],[0.7777777777777778,\"#fb9f3a\"],[0.8888888888888888,\"#fdca26\"],[1.0,\"#f0f921\"]],\"type\":\"heatmapgl\"}],\"heatmap\":[{\"colorbar\":{\"outlinewidth\":0,\"ticks\":\"\"},\"colorscale\":[[0.0,\"#0d0887\"],[0.1111111111111111,\"#46039f\"],[0.2222222222222222,\"#7201a8\"],[0.3333333333333333,\"#9c179e\"],[0.4444444444444444,\"#bd3786\"],[0.5555555555555556,\"#d8576b\"],[0.6666666666666666,\"#ed7953\"],[0.7777777777777778,\"#fb9f3a\"],[0.8888888888888888,\"#fdca26\"],[1.0,\"#f0f921\"]],\"type\":\"heatmap\"}],\"histogram2dcontour\":[{\"colorbar\":{\"outlinewidth\":0,\"ticks\":\"\"},\"colorscale\":[[0.0,\"#0d0887\"],[0.1111111111111111,\"#46039f\"],[0.2222222222222222,\"#7201a8\"],[0.3333333333333333,\"#9c179e\"],[0.4444444444444444,\"#bd3786\"],[0.5555555555555556,\"#d8576b\"],[0.6666666666666666,\"#ed7953\"],[0.7777777777777778,\"#fb9f3a\"],[0.8888888888888888,\"#fdca26\"],[1.0,\"#f0f921\"]],\"type\":\"histogram2dcontour\"}],\"histogram2d\":[{\"colorbar\":{\"outlinewidth\":0,\"ticks\":\"\"},\"colorscale\":[[0.0,\"#0d0887\"],[0.1111111111111111,\"#46039f\"],[0.2222222222222222,\"#7201a8\"],[0.3333333333333333,\"#9c179e\"],[0.4444444444444444,\"#bd3786\"],[0.5555555555555556,\"#d8576b\"],[0.6666666666666666,\"#ed7953\"],[0.7777777777777778,\"#fb9f3a\"],[0.8888888888888888,\"#fdca26\"],[1.0,\"#f0f921\"]],\"type\":\"histogram2d\"}],\"histogram\":[{\"marker\":{\"pattern\":{\"fillmode\":\"overlay\",\"size\":10,\"solidity\":0.2}},\"type\":\"histogram\"}],\"mesh3d\":[{\"colorbar\":{\"outlinewidth\":0,\"ticks\":\"\"},\"type\":\"mesh3d\"}],\"parcoords\":[{\"line\":{\"colorbar\":{\"outlinewidth\":0,\"ticks\":\"\"}},\"type\":\"parcoords\"}],\"pie\":[{\"automargin\":true,\"type\":\"pie\"}],\"scatter3d\":[{\"line\":{\"colorbar\":{\"outlinewidth\":0,\"ticks\":\"\"}},\"marker\":{\"colorbar\":{\"outlinewidth\":0,\"ticks\":\"\"}},\"type\":\"scatter3d\"}],\"scattercarpet\":[{\"marker\":{\"colorbar\":{\"outlinewidth\":0,\"ticks\":\"\"}},\"type\":\"scattercarpet\"}],\"scattergeo\":[{\"marker\":{\"colorbar\":{\"outlinewidth\":0,\"ticks\":\"\"}},\"type\":\"scattergeo\"}],\"scattergl\":[{\"marker\":{\"colorbar\":{\"outlinewidth\":0,\"ticks\":\"\"}},\"type\":\"scattergl\"}],\"scattermapbox\":[{\"marker\":{\"colorbar\":{\"outlinewidth\":0,\"ticks\":\"\"}},\"type\":\"scattermapbox\"}],\"scatterpolargl\":[{\"marker\":{\"colorbar\":{\"outlinewidth\":0,\"ticks\":\"\"}},\"type\":\"scatterpolargl\"}],\"scatterpolar\":[{\"marker\":{\"colorbar\":{\"outlinewidth\":0,\"ticks\":\"\"}},\"type\":\"scatterpolar\"}],\"scatter\":[{\"fillpattern\":{\"fillmode\":\"overlay\",\"size\":10,\"solidity\":0.2},\"type\":\"scatter\"}],\"scatterternary\":[{\"marker\":{\"colorbar\":{\"outlinewidth\":0,\"ticks\":\"\"}},\"type\":\"scatterternary\"}],\"surface\":[{\"colorbar\":{\"outlinewidth\":0,\"ticks\":\"\"},\"colorscale\":[[0.0,\"#0d0887\"],[0.1111111111111111,\"#46039f\"],[0.2222222222222222,\"#7201a8\"],[0.3333333333333333,\"#9c179e\"],[0.4444444444444444,\"#bd3786\"],[0.5555555555555556,\"#d8576b\"],[0.6666666666666666,\"#ed7953\"],[0.7777777777777778,\"#fb9f3a\"],[0.8888888888888888,\"#fdca26\"],[1.0,\"#f0f921\"]],\"type\":\"surface\"}],\"table\":[{\"cells\":{\"fill\":{\"color\":\"#EBF0F8\"},\"line\":{\"color\":\"white\"}},\"header\":{\"fill\":{\"color\":\"#C8D4E3\"},\"line\":{\"color\":\"white\"}},\"type\":\"table\"}]},\"layout\":{\"annotationdefaults\":{\"arrowcolor\":\"#2a3f5f\",\"arrowhead\":0,\"arrowwidth\":1},\"autotypenumbers\":\"strict\",\"coloraxis\":{\"colorbar\":{\"outlinewidth\":0,\"ticks\":\"\"}},\"colorscale\":{\"diverging\":[[0,\"#8e0152\"],[0.1,\"#c51b7d\"],[0.2,\"#de77ae\"],[0.3,\"#f1b6da\"],[0.4,\"#fde0ef\"],[0.5,\"#f7f7f7\"],[0.6,\"#e6f5d0\"],[0.7,\"#b8e186\"],[0.8,\"#7fbc41\"],[0.9,\"#4d9221\"],[1,\"#276419\"]],\"sequential\":[[0.0,\"#0d0887\"],[0.1111111111111111,\"#46039f\"],[0.2222222222222222,\"#7201a8\"],[0.3333333333333333,\"#9c179e\"],[0.4444444444444444,\"#bd3786\"],[0.5555555555555556,\"#d8576b\"],[0.6666666666666666,\"#ed7953\"],[0.7777777777777778,\"#fb9f3a\"],[0.8888888888888888,\"#fdca26\"],[1.0,\"#f0f921\"]],\"sequentialminus\":[[0.0,\"#0d0887\"],[0.1111111111111111,\"#46039f\"],[0.2222222222222222,\"#7201a8\"],[0.3333333333333333,\"#9c179e\"],[0.4444444444444444,\"#bd3786\"],[0.5555555555555556,\"#d8576b\"],[0.6666666666666666,\"#ed7953\"],[0.7777777777777778,\"#fb9f3a\"],[0.8888888888888888,\"#fdca26\"],[1.0,\"#f0f921\"]]},\"colorway\":[\"#636efa\",\"#EF553B\",\"#00cc96\",\"#ab63fa\",\"#FFA15A\",\"#19d3f3\",\"#FF6692\",\"#B6E880\",\"#FF97FF\",\"#FECB52\"],\"font\":{\"color\":\"#2a3f5f\"},\"geo\":{\"bgcolor\":\"white\",\"lakecolor\":\"white\",\"landcolor\":\"#E5ECF6\",\"showlakes\":true,\"showland\":true,\"subunitcolor\":\"white\"},\"hoverlabel\":{\"align\":\"left\"},\"hovermode\":\"closest\",\"mapbox\":{\"style\":\"light\"},\"paper_bgcolor\":\"white\",\"plot_bgcolor\":\"#E5ECF6\",\"polar\":{\"angularaxis\":{\"gridcolor\":\"white\",\"linecolor\":\"white\",\"ticks\":\"\"},\"bgcolor\":\"#E5ECF6\",\"radialaxis\":{\"gridcolor\":\"white\",\"linecolor\":\"white\",\"ticks\":\"\"}},\"scene\":{\"xaxis\":{\"backgroundcolor\":\"#E5ECF6\",\"gridcolor\":\"white\",\"gridwidth\":2,\"linecolor\":\"white\",\"showbackground\":true,\"ticks\":\"\",\"zerolinecolor\":\"white\"},\"yaxis\":{\"backgroundcolor\":\"#E5ECF6\",\"gridcolor\":\"white\",\"gridwidth\":2,\"linecolor\":\"white\",\"showbackground\":true,\"ticks\":\"\",\"zerolinecolor\":\"white\"},\"zaxis\":{\"backgroundcolor\":\"#E5ECF6\",\"gridcolor\":\"white\",\"gridwidth\":2,\"linecolor\":\"white\",\"showbackground\":true,\"ticks\":\"\",\"zerolinecolor\":\"white\"}},\"shapedefaults\":{\"line\":{\"color\":\"#2a3f5f\"}},\"ternary\":{\"aaxis\":{\"gridcolor\":\"white\",\"linecolor\":\"white\",\"ticks\":\"\"},\"baxis\":{\"gridcolor\":\"white\",\"linecolor\":\"white\",\"ticks\":\"\"},\"bgcolor\":\"#E5ECF6\",\"caxis\":{\"gridcolor\":\"white\",\"linecolor\":\"white\",\"ticks\":\"\"}},\"title\":{\"x\":0.05},\"xaxis\":{\"automargin\":true,\"gridcolor\":\"white\",\"linecolor\":\"white\",\"ticks\":\"\",\"title\":{\"standoff\":15},\"zerolinecolor\":\"white\",\"zerolinewidth\":2},\"yaxis\":{\"automargin\":true,\"gridcolor\":\"white\",\"linecolor\":\"white\",\"ticks\":\"\",\"title\":{\"standoff\":15},\"zerolinecolor\":\"white\",\"zerolinewidth\":2}}},\"title\":{\"font\":{\"color\":\"#4D5663\"}},\"xaxis\":{\"gridcolor\":\"#E1E5ED\",\"showgrid\":true,\"tickfont\":{\"color\":\"#4D5663\"},\"title\":{\"font\":{\"color\":\"#4D5663\"},\"text\":\"\"},\"zerolinecolor\":\"#E1E5ED\"},\"yaxis\":{\"gridcolor\":\"#E1E5ED\",\"showgrid\":true,\"tickfont\":{\"color\":\"#4D5663\"},\"title\":{\"font\":{\"color\":\"#4D5663\"},\"text\":\"\"},\"zerolinecolor\":\"#E1E5ED\"}},                        {\"showLink\": true, \"linkText\": \"Export to plot.ly\", \"plotlyServerURL\": \"https://plot.ly\", \"responsive\": true}                    ).then(function(){\n",
       "                            \n",
       "var gd = document.getElementById('977053ff-0b60-4e25-b3df-b70bd4989d01');\n",
       "var x = new MutationObserver(function (mutations, observer) {{\n",
       "        var display = window.getComputedStyle(gd).display;\n",
       "        if (!display || display === 'none') {{\n",
       "            console.log([gd, 'removed!']);\n",
       "            Plotly.purge(gd);\n",
       "            observer.disconnect();\n",
       "        }}\n",
       "}});\n",
       "\n",
       "// Listen for the removal of the full notebook cells\n",
       "var notebookContainer = gd.closest('#notebook-container');\n",
       "if (notebookContainer) {{\n",
       "    x.observe(notebookContainer, {childList: true});\n",
       "}}\n",
       "\n",
       "// Listen for the clearing of the current output cell\n",
       "var outputEl = gd.closest('.output');\n",
       "if (outputEl) {{\n",
       "    x.observe(outputEl, {childList: true});\n",
       "}}\n",
       "\n",
       "                        })                };                });            </script>        </div>"
      ]
     },
     "metadata": {},
     "output_type": "display_data"
    }
   ],
   "source": [
    "df.sum().iplot(kind='bar')"
   ]
  },
  {
   "cell_type": "code",
   "execution_count": 28,
   "id": "eac2e45b",
   "metadata": {},
   "outputs": [
    {
     "data": {
      "application/vnd.plotly.v1+json": {
       "config": {
        "linkText": "Export to plot.ly",
        "plotlyServerURL": "https://plot.ly",
        "showLink": true
       },
       "data": [
        {
         "boxpoints": false,
         "line": {
          "width": 1.3
         },
         "marker": {
          "color": "rgba(255, 153, 51, 1.0)"
         },
         "name": "A",
         "orientation": "v",
         "type": "box",
         "y": [
          -0.05559180576518184,
          0.5620453907383516,
          -1.7899404051407906,
          1.500518268376267,
          0.7528373449617896,
          -1.1771597300556,
          1.97138381329973,
          0.3020214150295912,
          -1.9247991418812365,
          0.709441640718662,
          -0.01703638589202485,
          0.8199877942986776,
          0.5591157966803538,
          -0.07831734859886214,
          2.0263777208694695,
          -0.07574584864740508,
          -0.396370799265584,
          0.4191186184191619,
          0.9098700431175843,
          -1.0431608126404592,
          -1.7937637698431927,
          0.3067825397453611,
          0.2691059102780455,
          -0.31836442674890625,
          0.24337795539086785,
          0.512773733565278,
          -1.4073754758808312,
          0.5457544007462951,
          -0.6571845396135951,
          -2.0639373239813503,
          -1.4468588683638646,
          -0.9789754188086063,
          -2.1306056808379563,
          -0.20480729972649234,
          -0.8222382380694211,
          -0.33300118314536314,
          -0.29784234037258445,
          0.5307423401569827,
          0.15380642956204912,
          -0.1188208875107539,
          -0.8383589645894698,
          -0.5427105997081095,
          2.488310572074583,
          -0.2645552704783902,
          -0.45784207536797183,
          -1.8720226996945561,
          -0.7221199763313748,
          0.7303713162051148,
          -0.5675927577151667,
          0.2743443549958475,
          -0.8363932058173486,
          -0.197070058476929,
          -0.20013495199757259,
          -2.245092326684816,
          0.5943639003035389,
          -2.4438290349158693,
          -2.312513093070422,
          -0.10226142096044005,
          -0.3540991820914685,
          1.1846112283224697,
          0.5785961937800251,
          0.9454529767507993,
          -0.9378679023799694,
          2.252026617954698,
          0.8836245400728469,
          0.19770903317243588,
          0.5820505519137525,
          0.7000403498804273,
          0.18687441456797468,
          -2.605904251516702,
          1.013838593924159,
          0.7048394896011076,
          -0.9700118607851692,
          1.4122071311811517,
          0.22121580587926673,
          1.2618498032297492,
          -0.5281752604894419,
          -0.7421908714692181,
          1.5430526507489388,
          1.6370858753648112,
          0.15153329405330462,
          -0.35805431200293014,
          -0.9283089709763265,
          0.3293002280206697,
          -0.04430655153238148,
          1.125980853731697,
          -0.8103951450968989,
          -0.636133320370373,
          -0.5840496782043829,
          0.2912078731205048,
          -0.5137033735673227,
          -0.5894102919320074,
          -0.44662329985137666,
          1.4453702578010075,
          -2.8820121087644,
          0.5943854382063423,
          -0.2507644033592735,
          -1.4506707195233537,
          -0.32976243758703705,
          -0.5173084332484963
         ]
        },
        {
         "boxpoints": false,
         "line": {
          "width": 1.3
         },
         "marker": {
          "color": "rgba(55, 128, 191, 1.0)"
         },
         "name": "B",
         "orientation": "v",
         "type": "box",
         "y": [
          1.452833408522823,
          -2.801289721404959,
          1.467471032771779,
          1.1075149196133212,
          0.5900621714557223,
          -0.28302847996604674,
          0.23427324061681518,
          -1.215558624206029,
          0.813168712095642,
          -0.27005007088545496,
          -0.38243213069474835,
          1.6853155435237392,
          -0.6607753287657827,
          -0.3472588976686309,
          0.6719544662985177,
          -1.2237508738534368,
          0.3183787636673109,
          -0.72535952550027,
          -0.26260020669625433,
          -0.850618401548025,
          -0.7274756636907109,
          1.1687905305044257,
          0.49469694638536177,
          -0.26871518589218507,
          0.15290598210181186,
          1.2097075310133023,
          1.000422474088806,
          0.3136146057400716,
          -0.2833208420357839,
          -0.1860803660624252,
          -0.9564691687831892,
          1.6672459232340364,
          0.6683703526469932,
          1.3610316950494012,
          -1.8351289950778071,
          0.2251323174580143,
          -0.5417476758860279,
          -1.0073462642598332,
          -0.38783816934944704,
          0.5531661483954752,
          -0.29784593859479686,
          0.27348929840642366,
          0.4691760622386405,
          -0.3761511711516631,
          -0.7725927101520446,
          -0.4637975839720279,
          -1.3947025101192394,
          -0.1830294614098356,
          1.625397974734619,
          0.7544921969987086,
          0.4104847513780054,
          -0.9092909463854356,
          1.171510476069789,
          0.5458990143642105,
          -0.5844526689136395,
          0.4425182954767783,
          -0.7817994944058249,
          1.0153723508764105,
          0.23275728789967648,
          -1.5989167066075543,
          1.1460289758089788,
          -0.7504446965323814,
          1.6300471548892737,
          -1.598248946404511,
          0.8595031406047959,
          0.16147366754361436,
          -0.45353015445403494,
          -0.31061877236519714,
          -0.6243507521232172,
          0.06250609987067719,
          -0.7759860097109451,
          -0.8472620099074127,
          1.5987177491523321,
          -1.1678132491490123,
          -1.247064428257644,
          -0.369826813335805,
          0.46232826804011073,
          1.7838081747848518,
          1.2909978570591278,
          -1.496859178399673,
          0.22001922625256887,
          -0.9113831617477044,
          0.49478127902387076,
          1.8100591568741062,
          1.0511618624121364,
          -0.8846969102030365,
          -0.861736858706487,
          -1.8399566183192644,
          -1.2004936606910546,
          -0.008772066069577691,
          -1.2661127544327189,
          0.12930024126805745,
          -0.9741132348621366,
          1.911126529769431,
          -0.8669170987643292,
          0.6705416816248445,
          0.7025783402266444,
          0.9783330874535535,
          0.13718527998129446,
          0.08864824382977793
         ]
        },
        {
         "boxpoints": false,
         "line": {
          "width": 1.3
         },
         "marker": {
          "color": "rgba(50, 171, 96, 1.0)"
         },
         "name": "C",
         "orientation": "v",
         "type": "box",
         "y": [
          0.25500841675327135,
          -2.0228296660047334,
          -1.5941368496927122,
          0.7566379326733458,
          0.09042462761333182,
          0.7880099583693712,
          0.33110955233396566,
          0.633630161318091,
          -3.104318720313925,
          0.15769519846695176,
          -0.01821056361192945,
          0.32975254187472197,
          0.6691148817820453,
          0.8882708461650792,
          0.32571083062195644,
          1.2969248124686905,
          -0.828469691493726,
          0.8186951502774704,
          -0.8481415447451287,
          -0.005448656858547519,
          -1.046985396498361,
          2.0876629941168403,
          -0.4932176461548644,
          -1.479742227493446,
          -0.893779716681242,
          1.059693973315859,
          -0.4218995577916561,
          0.3037603245140057,
          -0.295718885568225,
          -1.456631526768783,
          0.6726281780162228,
          -0.2513454101392943,
          -0.0029946532401559714,
          1.2223245878227034,
          -1.400357848874864,
          -0.9745231933933619,
          -0.7394884299589058,
          0.07692397890434306,
          -0.13916293510562336,
          1.0262265227965133,
          0.8681801213723014,
          -0.1558700044747346,
          0.8154873912086121,
          -0.040550112558222724,
          -0.022995195337995825,
          0.19472825145585765,
          -0.8294809719858296,
          0.253481929767634,
          -0.6680928324389981,
          -0.3741609826317901,
          -2.5647984075760584,
          1.202281009334771,
          1.5356448424278233,
          -0.658681268678709,
          0.98511260312972,
          -1.5569511626557264,
          0.6959850736666175,
          0.041869074233176394,
          -0.2940238445233744,
          -0.8855718078598309,
          -0.312486874051758,
          -1.2120957514801096,
          -0.0804516775894421,
          -0.06955069706107143,
          0.4213701146254383,
          -0.5824044836334542,
          0.3320929214372528,
          0.20034650112127014,
          1.139537356515105,
          -0.11636411784016422,
          -1.5580486253908081,
          0.4787958649368819,
          0.06371197852824667,
          -0.34365931506835834,
          0.6165488060556412,
          -0.9339932703085433,
          -1.2679418729267968,
          -0.37370211392929065,
          0.1553807466229721,
          -1.6790618079561024,
          -0.8153431874050666,
          0.027609721305113872,
          1.7125284633192528,
          0.477293575773967,
          -0.2107470140392488,
          1.2466380227088456,
          0.7268506778475627,
          1.1825032117586856,
          -0.19560223128214535,
          -0.6394964865536716,
          -0.33517501376555675,
          -1.4772991809849378,
          -0.3722722426648912,
          -0.03242252178216725,
          -0.11089344856880662,
          -0.08531307864935869,
          -0.04946493715695045,
          -0.15250410087849134,
          0.21164430464328296,
          -1.3243384652903012
         ]
        },
        {
         "boxpoints": false,
         "line": {
          "width": 1.3
         },
         "marker": {
          "color": "rgba(128, 0, 128, 1.0)"
         },
         "name": "D",
         "orientation": "v",
         "type": "box",
         "y": [
          0.1852673937213632,
          -0.44345827589806286,
          0.23273235167467715,
          -1.4903533275627932,
          0.2684902198097901,
          -0.686946223039476,
          -1.569611132126099,
          -0.8268636691466774,
          -0.047241527713950904,
          0.3700385806309308,
          -0.12732821435940275,
          -0.05036277629562494,
          -0.23921120887225938,
          -1.4846129257255232,
          0.9073179324373805,
          -0.5060076669401903,
          -0.4252614976966761,
          0.8346728660773869,
          -0.8427060950773964,
          -0.6135320914829894,
          -0.21523062705508028,
          0.5190812206976291,
          -0.9747123694425338,
          0.6537487327723273,
          2.322045329576906,
          1.413449387959019,
          0.34455620354785615,
          0.3188526310664666,
          0.7529156688198151,
          -0.33504683404000546,
          -0.8437176298130339,
          0.317721829730343,
          -1.2661495137545982,
          -0.0691429255933767,
          -0.8604798829031324,
          2.244452010671782,
          -0.15145796577193404,
          -0.07665135642775489,
          0.9513143318656485,
          -0.7160571745760614,
          -0.29852813553670526,
          -0.8587877409131487,
          -1.4672603813825607,
          1.0988442496704036,
          2.2760038379975467,
          1.6788414832474532,
          0.3726091108126695,
          0.7095174950341702,
          0.24877327374638,
          -0.36465139177197653,
          1.2706006745818645,
          1.5503467450343724,
          -0.31556209173554794,
          0.14718624186491758,
          0.3107995244034444,
          -0.5392879787433942,
          -1.129334155516057,
          -1.9162127924810703,
          -2.1991377381215975,
          -0.011759833599251049,
          0.8752288310754693,
          0.29250397526317556,
          1.5709858892377442,
          0.7655654796656748,
          -0.39031204352562565,
          -0.05988632666417284,
          -0.40006195094696545,
          -0.44417344480293425,
          0.49296792393382693,
          0.8103708801937014,
          -0.6640410877996384,
          -0.908551237967371,
          -1.1917658635528445,
          -1.2482720132411318,
          1.562451015147158,
          0.8826104656621604,
          -0.036813081581456845,
          -0.20533878048949492,
          -1.5318890996535242,
          -1.227574563627396,
          -0.3059276791424916,
          -0.25738907516547643,
          -0.6834027796862429,
          0.14073356590044747,
          -0.4964738906067588,
          0.1674286564235268,
          -1.941966835411613,
          0.8441767911667543,
          0.6505909193640828,
          0.5297311519789127,
          1.771393610824138,
          0.5653915202360102,
          -0.5629050155770081,
          -0.15828529933860774,
          1.3641429553783466,
          -0.7657757222716708,
          0.057515198937703314,
          -0.8389954153033105,
          0.47748464268948704,
          -2.0329806242365693
         ]
        }
       ],
       "layout": {
        "legend": {
         "bgcolor": "#F5F6F9",
         "font": {
          "color": "#4D5663"
         }
        },
        "paper_bgcolor": "#F5F6F9",
        "plot_bgcolor": "#F5F6F9",
        "template": {
         "data": {
          "bar": [
           {
            "error_x": {
             "color": "#2a3f5f"
            },
            "error_y": {
             "color": "#2a3f5f"
            },
            "marker": {
             "line": {
              "color": "#E5ECF6",
              "width": 0.5
             },
             "pattern": {
              "fillmode": "overlay",
              "size": 10,
              "solidity": 0.2
             }
            },
            "type": "bar"
           }
          ],
          "barpolar": [
           {
            "marker": {
             "line": {
              "color": "#E5ECF6",
              "width": 0.5
             },
             "pattern": {
              "fillmode": "overlay",
              "size": 10,
              "solidity": 0.2
             }
            },
            "type": "barpolar"
           }
          ],
          "carpet": [
           {
            "aaxis": {
             "endlinecolor": "#2a3f5f",
             "gridcolor": "white",
             "linecolor": "white",
             "minorgridcolor": "white",
             "startlinecolor": "#2a3f5f"
            },
            "baxis": {
             "endlinecolor": "#2a3f5f",
             "gridcolor": "white",
             "linecolor": "white",
             "minorgridcolor": "white",
             "startlinecolor": "#2a3f5f"
            },
            "type": "carpet"
           }
          ],
          "choropleth": [
           {
            "colorbar": {
             "outlinewidth": 0,
             "ticks": ""
            },
            "type": "choropleth"
           }
          ],
          "contour": [
           {
            "colorbar": {
             "outlinewidth": 0,
             "ticks": ""
            },
            "colorscale": [
             [
              0,
              "#0d0887"
             ],
             [
              0.1111111111111111,
              "#46039f"
             ],
             [
              0.2222222222222222,
              "#7201a8"
             ],
             [
              0.3333333333333333,
              "#9c179e"
             ],
             [
              0.4444444444444444,
              "#bd3786"
             ],
             [
              0.5555555555555556,
              "#d8576b"
             ],
             [
              0.6666666666666666,
              "#ed7953"
             ],
             [
              0.7777777777777778,
              "#fb9f3a"
             ],
             [
              0.8888888888888888,
              "#fdca26"
             ],
             [
              1,
              "#f0f921"
             ]
            ],
            "type": "contour"
           }
          ],
          "contourcarpet": [
           {
            "colorbar": {
             "outlinewidth": 0,
             "ticks": ""
            },
            "type": "contourcarpet"
           }
          ],
          "heatmap": [
           {
            "colorbar": {
             "outlinewidth": 0,
             "ticks": ""
            },
            "colorscale": [
             [
              0,
              "#0d0887"
             ],
             [
              0.1111111111111111,
              "#46039f"
             ],
             [
              0.2222222222222222,
              "#7201a8"
             ],
             [
              0.3333333333333333,
              "#9c179e"
             ],
             [
              0.4444444444444444,
              "#bd3786"
             ],
             [
              0.5555555555555556,
              "#d8576b"
             ],
             [
              0.6666666666666666,
              "#ed7953"
             ],
             [
              0.7777777777777778,
              "#fb9f3a"
             ],
             [
              0.8888888888888888,
              "#fdca26"
             ],
             [
              1,
              "#f0f921"
             ]
            ],
            "type": "heatmap"
           }
          ],
          "heatmapgl": [
           {
            "colorbar": {
             "outlinewidth": 0,
             "ticks": ""
            },
            "colorscale": [
             [
              0,
              "#0d0887"
             ],
             [
              0.1111111111111111,
              "#46039f"
             ],
             [
              0.2222222222222222,
              "#7201a8"
             ],
             [
              0.3333333333333333,
              "#9c179e"
             ],
             [
              0.4444444444444444,
              "#bd3786"
             ],
             [
              0.5555555555555556,
              "#d8576b"
             ],
             [
              0.6666666666666666,
              "#ed7953"
             ],
             [
              0.7777777777777778,
              "#fb9f3a"
             ],
             [
              0.8888888888888888,
              "#fdca26"
             ],
             [
              1,
              "#f0f921"
             ]
            ],
            "type": "heatmapgl"
           }
          ],
          "histogram": [
           {
            "marker": {
             "pattern": {
              "fillmode": "overlay",
              "size": 10,
              "solidity": 0.2
             }
            },
            "type": "histogram"
           }
          ],
          "histogram2d": [
           {
            "colorbar": {
             "outlinewidth": 0,
             "ticks": ""
            },
            "colorscale": [
             [
              0,
              "#0d0887"
             ],
             [
              0.1111111111111111,
              "#46039f"
             ],
             [
              0.2222222222222222,
              "#7201a8"
             ],
             [
              0.3333333333333333,
              "#9c179e"
             ],
             [
              0.4444444444444444,
              "#bd3786"
             ],
             [
              0.5555555555555556,
              "#d8576b"
             ],
             [
              0.6666666666666666,
              "#ed7953"
             ],
             [
              0.7777777777777778,
              "#fb9f3a"
             ],
             [
              0.8888888888888888,
              "#fdca26"
             ],
             [
              1,
              "#f0f921"
             ]
            ],
            "type": "histogram2d"
           }
          ],
          "histogram2dcontour": [
           {
            "colorbar": {
             "outlinewidth": 0,
             "ticks": ""
            },
            "colorscale": [
             [
              0,
              "#0d0887"
             ],
             [
              0.1111111111111111,
              "#46039f"
             ],
             [
              0.2222222222222222,
              "#7201a8"
             ],
             [
              0.3333333333333333,
              "#9c179e"
             ],
             [
              0.4444444444444444,
              "#bd3786"
             ],
             [
              0.5555555555555556,
              "#d8576b"
             ],
             [
              0.6666666666666666,
              "#ed7953"
             ],
             [
              0.7777777777777778,
              "#fb9f3a"
             ],
             [
              0.8888888888888888,
              "#fdca26"
             ],
             [
              1,
              "#f0f921"
             ]
            ],
            "type": "histogram2dcontour"
           }
          ],
          "mesh3d": [
           {
            "colorbar": {
             "outlinewidth": 0,
             "ticks": ""
            },
            "type": "mesh3d"
           }
          ],
          "parcoords": [
           {
            "line": {
             "colorbar": {
              "outlinewidth": 0,
              "ticks": ""
             }
            },
            "type": "parcoords"
           }
          ],
          "pie": [
           {
            "automargin": true,
            "type": "pie"
           }
          ],
          "scatter": [
           {
            "fillpattern": {
             "fillmode": "overlay",
             "size": 10,
             "solidity": 0.2
            },
            "type": "scatter"
           }
          ],
          "scatter3d": [
           {
            "line": {
             "colorbar": {
              "outlinewidth": 0,
              "ticks": ""
             }
            },
            "marker": {
             "colorbar": {
              "outlinewidth": 0,
              "ticks": ""
             }
            },
            "type": "scatter3d"
           }
          ],
          "scattercarpet": [
           {
            "marker": {
             "colorbar": {
              "outlinewidth": 0,
              "ticks": ""
             }
            },
            "type": "scattercarpet"
           }
          ],
          "scattergeo": [
           {
            "marker": {
             "colorbar": {
              "outlinewidth": 0,
              "ticks": ""
             }
            },
            "type": "scattergeo"
           }
          ],
          "scattergl": [
           {
            "marker": {
             "colorbar": {
              "outlinewidth": 0,
              "ticks": ""
             }
            },
            "type": "scattergl"
           }
          ],
          "scattermapbox": [
           {
            "marker": {
             "colorbar": {
              "outlinewidth": 0,
              "ticks": ""
             }
            },
            "type": "scattermapbox"
           }
          ],
          "scatterpolar": [
           {
            "marker": {
             "colorbar": {
              "outlinewidth": 0,
              "ticks": ""
             }
            },
            "type": "scatterpolar"
           }
          ],
          "scatterpolargl": [
           {
            "marker": {
             "colorbar": {
              "outlinewidth": 0,
              "ticks": ""
             }
            },
            "type": "scatterpolargl"
           }
          ],
          "scatterternary": [
           {
            "marker": {
             "colorbar": {
              "outlinewidth": 0,
              "ticks": ""
             }
            },
            "type": "scatterternary"
           }
          ],
          "surface": [
           {
            "colorbar": {
             "outlinewidth": 0,
             "ticks": ""
            },
            "colorscale": [
             [
              0,
              "#0d0887"
             ],
             [
              0.1111111111111111,
              "#46039f"
             ],
             [
              0.2222222222222222,
              "#7201a8"
             ],
             [
              0.3333333333333333,
              "#9c179e"
             ],
             [
              0.4444444444444444,
              "#bd3786"
             ],
             [
              0.5555555555555556,
              "#d8576b"
             ],
             [
              0.6666666666666666,
              "#ed7953"
             ],
             [
              0.7777777777777778,
              "#fb9f3a"
             ],
             [
              0.8888888888888888,
              "#fdca26"
             ],
             [
              1,
              "#f0f921"
             ]
            ],
            "type": "surface"
           }
          ],
          "table": [
           {
            "cells": {
             "fill": {
              "color": "#EBF0F8"
             },
             "line": {
              "color": "white"
             }
            },
            "header": {
             "fill": {
              "color": "#C8D4E3"
             },
             "line": {
              "color": "white"
             }
            },
            "type": "table"
           }
          ]
         },
         "layout": {
          "annotationdefaults": {
           "arrowcolor": "#2a3f5f",
           "arrowhead": 0,
           "arrowwidth": 1
          },
          "autotypenumbers": "strict",
          "coloraxis": {
           "colorbar": {
            "outlinewidth": 0,
            "ticks": ""
           }
          },
          "colorscale": {
           "diverging": [
            [
             0,
             "#8e0152"
            ],
            [
             0.1,
             "#c51b7d"
            ],
            [
             0.2,
             "#de77ae"
            ],
            [
             0.3,
             "#f1b6da"
            ],
            [
             0.4,
             "#fde0ef"
            ],
            [
             0.5,
             "#f7f7f7"
            ],
            [
             0.6,
             "#e6f5d0"
            ],
            [
             0.7,
             "#b8e186"
            ],
            [
             0.8,
             "#7fbc41"
            ],
            [
             0.9,
             "#4d9221"
            ],
            [
             1,
             "#276419"
            ]
           ],
           "sequential": [
            [
             0,
             "#0d0887"
            ],
            [
             0.1111111111111111,
             "#46039f"
            ],
            [
             0.2222222222222222,
             "#7201a8"
            ],
            [
             0.3333333333333333,
             "#9c179e"
            ],
            [
             0.4444444444444444,
             "#bd3786"
            ],
            [
             0.5555555555555556,
             "#d8576b"
            ],
            [
             0.6666666666666666,
             "#ed7953"
            ],
            [
             0.7777777777777778,
             "#fb9f3a"
            ],
            [
             0.8888888888888888,
             "#fdca26"
            ],
            [
             1,
             "#f0f921"
            ]
           ],
           "sequentialminus": [
            [
             0,
             "#0d0887"
            ],
            [
             0.1111111111111111,
             "#46039f"
            ],
            [
             0.2222222222222222,
             "#7201a8"
            ],
            [
             0.3333333333333333,
             "#9c179e"
            ],
            [
             0.4444444444444444,
             "#bd3786"
            ],
            [
             0.5555555555555556,
             "#d8576b"
            ],
            [
             0.6666666666666666,
             "#ed7953"
            ],
            [
             0.7777777777777778,
             "#fb9f3a"
            ],
            [
             0.8888888888888888,
             "#fdca26"
            ],
            [
             1,
             "#f0f921"
            ]
           ]
          },
          "colorway": [
           "#636efa",
           "#EF553B",
           "#00cc96",
           "#ab63fa",
           "#FFA15A",
           "#19d3f3",
           "#FF6692",
           "#B6E880",
           "#FF97FF",
           "#FECB52"
          ],
          "font": {
           "color": "#2a3f5f"
          },
          "geo": {
           "bgcolor": "white",
           "lakecolor": "white",
           "landcolor": "#E5ECF6",
           "showlakes": true,
           "showland": true,
           "subunitcolor": "white"
          },
          "hoverlabel": {
           "align": "left"
          },
          "hovermode": "closest",
          "mapbox": {
           "style": "light"
          },
          "paper_bgcolor": "white",
          "plot_bgcolor": "#E5ECF6",
          "polar": {
           "angularaxis": {
            "gridcolor": "white",
            "linecolor": "white",
            "ticks": ""
           },
           "bgcolor": "#E5ECF6",
           "radialaxis": {
            "gridcolor": "white",
            "linecolor": "white",
            "ticks": ""
           }
          },
          "scene": {
           "xaxis": {
            "backgroundcolor": "#E5ECF6",
            "gridcolor": "white",
            "gridwidth": 2,
            "linecolor": "white",
            "showbackground": true,
            "ticks": "",
            "zerolinecolor": "white"
           },
           "yaxis": {
            "backgroundcolor": "#E5ECF6",
            "gridcolor": "white",
            "gridwidth": 2,
            "linecolor": "white",
            "showbackground": true,
            "ticks": "",
            "zerolinecolor": "white"
           },
           "zaxis": {
            "backgroundcolor": "#E5ECF6",
            "gridcolor": "white",
            "gridwidth": 2,
            "linecolor": "white",
            "showbackground": true,
            "ticks": "",
            "zerolinecolor": "white"
           }
          },
          "shapedefaults": {
           "line": {
            "color": "#2a3f5f"
           }
          },
          "ternary": {
           "aaxis": {
            "gridcolor": "white",
            "linecolor": "white",
            "ticks": ""
           },
           "baxis": {
            "gridcolor": "white",
            "linecolor": "white",
            "ticks": ""
           },
           "bgcolor": "#E5ECF6",
           "caxis": {
            "gridcolor": "white",
            "linecolor": "white",
            "ticks": ""
           }
          },
          "title": {
           "x": 0.05
          },
          "xaxis": {
           "automargin": true,
           "gridcolor": "white",
           "linecolor": "white",
           "ticks": "",
           "title": {
            "standoff": 15
           },
           "zerolinecolor": "white",
           "zerolinewidth": 2
          },
          "yaxis": {
           "automargin": true,
           "gridcolor": "white",
           "linecolor": "white",
           "ticks": "",
           "title": {
            "standoff": 15
           },
           "zerolinecolor": "white",
           "zerolinewidth": 2
          }
         }
        },
        "title": {
         "font": {
          "color": "#4D5663"
         }
        },
        "xaxis": {
         "gridcolor": "#E1E5ED",
         "showgrid": true,
         "tickfont": {
          "color": "#4D5663"
         },
         "title": {
          "font": {
           "color": "#4D5663"
          },
          "text": ""
         },
         "zerolinecolor": "#E1E5ED"
        },
        "yaxis": {
         "gridcolor": "#E1E5ED",
         "showgrid": true,
         "tickfont": {
          "color": "#4D5663"
         },
         "title": {
          "font": {
           "color": "#4D5663"
          },
          "text": ""
         },
         "zerolinecolor": "#E1E5ED"
        }
       }
      },
      "text/html": [
       "<div>                            <div id=\"0fc27891-cac2-4c6a-8bc7-c9d698bccc7f\" class=\"plotly-graph-div\" style=\"height:525px; width:100%;\"></div>            <script type=\"text/javascript\">                require([\"plotly\"], function(Plotly) {                    window.PLOTLYENV=window.PLOTLYENV || {};\n",
       "                    window.PLOTLYENV.BASE_URL='https://plot.ly';                                    if (document.getElementById(\"0fc27891-cac2-4c6a-8bc7-c9d698bccc7f\")) {                    Plotly.newPlot(                        \"0fc27891-cac2-4c6a-8bc7-c9d698bccc7f\",                        [{\"boxpoints\":false,\"line\":{\"width\":1.3},\"marker\":{\"color\":\"rgba(255, 153, 51, 1.0)\"},\"name\":\"A\",\"orientation\":\"v\",\"y\":[-0.05559180576518184,0.5620453907383516,-1.7899404051407906,1.500518268376267,0.7528373449617896,-1.1771597300556,1.97138381329973,0.3020214150295912,-1.9247991418812365,0.709441640718662,-0.01703638589202485,0.8199877942986776,0.5591157966803538,-0.07831734859886214,2.0263777208694695,-0.07574584864740508,-0.396370799265584,0.4191186184191619,0.9098700431175843,-1.0431608126404592,-1.7937637698431927,0.3067825397453611,0.2691059102780455,-0.31836442674890625,0.24337795539086785,0.512773733565278,-1.4073754758808312,0.5457544007462951,-0.6571845396135951,-2.0639373239813503,-1.4468588683638646,-0.9789754188086063,-2.1306056808379563,-0.20480729972649234,-0.8222382380694211,-0.33300118314536314,-0.29784234037258445,0.5307423401569827,0.15380642956204912,-0.1188208875107539,-0.8383589645894698,-0.5427105997081095,2.488310572074583,-0.2645552704783902,-0.45784207536797183,-1.8720226996945561,-0.7221199763313748,0.7303713162051148,-0.5675927577151667,0.2743443549958475,-0.8363932058173486,-0.197070058476929,-0.20013495199757259,-2.245092326684816,0.5943639003035389,-2.4438290349158693,-2.312513093070422,-0.10226142096044005,-0.3540991820914685,1.1846112283224697,0.5785961937800251,0.9454529767507993,-0.9378679023799694,2.252026617954698,0.8836245400728469,0.19770903317243588,0.5820505519137525,0.7000403498804273,0.18687441456797468,-2.605904251516702,1.013838593924159,0.7048394896011076,-0.9700118607851692,1.4122071311811517,0.22121580587926673,1.2618498032297492,-0.5281752604894419,-0.7421908714692181,1.5430526507489388,1.6370858753648112,0.15153329405330462,-0.35805431200293014,-0.9283089709763265,0.3293002280206697,-0.04430655153238148,1.125980853731697,-0.8103951450968989,-0.636133320370373,-0.5840496782043829,0.2912078731205048,-0.5137033735673227,-0.5894102919320074,-0.44662329985137666,1.4453702578010075,-2.8820121087644,0.5943854382063423,-0.2507644033592735,-1.4506707195233537,-0.32976243758703705,-0.5173084332484963],\"type\":\"box\"},{\"boxpoints\":false,\"line\":{\"width\":1.3},\"marker\":{\"color\":\"rgba(55, 128, 191, 1.0)\"},\"name\":\"B\",\"orientation\":\"v\",\"y\":[1.452833408522823,-2.801289721404959,1.467471032771779,1.1075149196133212,0.5900621714557223,-0.28302847996604674,0.23427324061681518,-1.215558624206029,0.813168712095642,-0.27005007088545496,-0.38243213069474835,1.6853155435237392,-0.6607753287657827,-0.3472588976686309,0.6719544662985177,-1.2237508738534368,0.3183787636673109,-0.72535952550027,-0.26260020669625433,-0.850618401548025,-0.7274756636907109,1.1687905305044257,0.49469694638536177,-0.26871518589218507,0.15290598210181186,1.2097075310133023,1.000422474088806,0.3136146057400716,-0.2833208420357839,-0.1860803660624252,-0.9564691687831892,1.6672459232340364,0.6683703526469932,1.3610316950494012,-1.8351289950778071,0.2251323174580143,-0.5417476758860279,-1.0073462642598332,-0.38783816934944704,0.5531661483954752,-0.29784593859479686,0.27348929840642366,0.4691760622386405,-0.3761511711516631,-0.7725927101520446,-0.4637975839720279,-1.3947025101192394,-0.1830294614098356,1.625397974734619,0.7544921969987086,0.4104847513780054,-0.9092909463854356,1.171510476069789,0.5458990143642105,-0.5844526689136395,0.4425182954767783,-0.7817994944058249,1.0153723508764105,0.23275728789967648,-1.5989167066075543,1.1460289758089788,-0.7504446965323814,1.6300471548892737,-1.598248946404511,0.8595031406047959,0.16147366754361436,-0.45353015445403494,-0.31061877236519714,-0.6243507521232172,0.06250609987067719,-0.7759860097109451,-0.8472620099074127,1.5987177491523321,-1.1678132491490123,-1.247064428257644,-0.369826813335805,0.46232826804011073,1.7838081747848518,1.2909978570591278,-1.496859178399673,0.22001922625256887,-0.9113831617477044,0.49478127902387076,1.8100591568741062,1.0511618624121364,-0.8846969102030365,-0.861736858706487,-1.8399566183192644,-1.2004936606910546,-0.008772066069577691,-1.2661127544327189,0.12930024126805745,-0.9741132348621366,1.911126529769431,-0.8669170987643292,0.6705416816248445,0.7025783402266444,0.9783330874535535,0.13718527998129446,0.08864824382977793],\"type\":\"box\"},{\"boxpoints\":false,\"line\":{\"width\":1.3},\"marker\":{\"color\":\"rgba(50, 171, 96, 1.0)\"},\"name\":\"C\",\"orientation\":\"v\",\"y\":[0.25500841675327135,-2.0228296660047334,-1.5941368496927122,0.7566379326733458,0.09042462761333182,0.7880099583693712,0.33110955233396566,0.633630161318091,-3.104318720313925,0.15769519846695176,-0.01821056361192945,0.32975254187472197,0.6691148817820453,0.8882708461650792,0.32571083062195644,1.2969248124686905,-0.828469691493726,0.8186951502774704,-0.8481415447451287,-0.005448656858547519,-1.046985396498361,2.0876629941168403,-0.4932176461548644,-1.479742227493446,-0.893779716681242,1.059693973315859,-0.4218995577916561,0.3037603245140057,-0.295718885568225,-1.456631526768783,0.6726281780162228,-0.2513454101392943,-0.0029946532401559714,1.2223245878227034,-1.400357848874864,-0.9745231933933619,-0.7394884299589058,0.07692397890434306,-0.13916293510562336,1.0262265227965133,0.8681801213723014,-0.1558700044747346,0.8154873912086121,-0.040550112558222724,-0.022995195337995825,0.19472825145585765,-0.8294809719858296,0.253481929767634,-0.6680928324389981,-0.3741609826317901,-2.5647984075760584,1.202281009334771,1.5356448424278233,-0.658681268678709,0.98511260312972,-1.5569511626557264,0.6959850736666175,0.041869074233176394,-0.2940238445233744,-0.8855718078598309,-0.312486874051758,-1.2120957514801096,-0.0804516775894421,-0.06955069706107143,0.4213701146254383,-0.5824044836334542,0.3320929214372528,0.20034650112127014,1.139537356515105,-0.11636411784016422,-1.5580486253908081,0.4787958649368819,0.06371197852824667,-0.34365931506835834,0.6165488060556412,-0.9339932703085433,-1.2679418729267968,-0.37370211392929065,0.1553807466229721,-1.6790618079561024,-0.8153431874050666,0.027609721305113872,1.7125284633192528,0.477293575773967,-0.2107470140392488,1.2466380227088456,0.7268506778475627,1.1825032117586856,-0.19560223128214535,-0.6394964865536716,-0.33517501376555675,-1.4772991809849378,-0.3722722426648912,-0.03242252178216725,-0.11089344856880662,-0.08531307864935869,-0.04946493715695045,-0.15250410087849134,0.21164430464328296,-1.3243384652903012],\"type\":\"box\"},{\"boxpoints\":false,\"line\":{\"width\":1.3},\"marker\":{\"color\":\"rgba(128, 0, 128, 1.0)\"},\"name\":\"D\",\"orientation\":\"v\",\"y\":[0.1852673937213632,-0.44345827589806286,0.23273235167467715,-1.4903533275627932,0.2684902198097901,-0.686946223039476,-1.569611132126099,-0.8268636691466774,-0.047241527713950904,0.3700385806309308,-0.12732821435940275,-0.05036277629562494,-0.23921120887225938,-1.4846129257255232,0.9073179324373805,-0.5060076669401903,-0.4252614976966761,0.8346728660773869,-0.8427060950773964,-0.6135320914829894,-0.21523062705508028,0.5190812206976291,-0.9747123694425338,0.6537487327723273,2.322045329576906,1.413449387959019,0.34455620354785615,0.3188526310664666,0.7529156688198151,-0.33504683404000546,-0.8437176298130339,0.317721829730343,-1.2661495137545982,-0.0691429255933767,-0.8604798829031324,2.244452010671782,-0.15145796577193404,-0.07665135642775489,0.9513143318656485,-0.7160571745760614,-0.29852813553670526,-0.8587877409131487,-1.4672603813825607,1.0988442496704036,2.2760038379975467,1.6788414832474532,0.3726091108126695,0.7095174950341702,0.24877327374638,-0.36465139177197653,1.2706006745818645,1.5503467450343724,-0.31556209173554794,0.14718624186491758,0.3107995244034444,-0.5392879787433942,-1.129334155516057,-1.9162127924810703,-2.1991377381215975,-0.011759833599251049,0.8752288310754693,0.29250397526317556,1.5709858892377442,0.7655654796656748,-0.39031204352562565,-0.05988632666417284,-0.40006195094696545,-0.44417344480293425,0.49296792393382693,0.8103708801937014,-0.6640410877996384,-0.908551237967371,-1.1917658635528445,-1.2482720132411318,1.562451015147158,0.8826104656621604,-0.036813081581456845,-0.20533878048949492,-1.5318890996535242,-1.227574563627396,-0.3059276791424916,-0.25738907516547643,-0.6834027796862429,0.14073356590044747,-0.4964738906067588,0.1674286564235268,-1.941966835411613,0.8441767911667543,0.6505909193640828,0.5297311519789127,1.771393610824138,0.5653915202360102,-0.5629050155770081,-0.15828529933860774,1.3641429553783466,-0.7657757222716708,0.057515198937703314,-0.8389954153033105,0.47748464268948704,-2.0329806242365693],\"type\":\"box\"}],                        {\"legend\":{\"bgcolor\":\"#F5F6F9\",\"font\":{\"color\":\"#4D5663\"}},\"paper_bgcolor\":\"#F5F6F9\",\"plot_bgcolor\":\"#F5F6F9\",\"template\":{\"data\":{\"barpolar\":[{\"marker\":{\"line\":{\"color\":\"#E5ECF6\",\"width\":0.5},\"pattern\":{\"fillmode\":\"overlay\",\"size\":10,\"solidity\":0.2}},\"type\":\"barpolar\"}],\"bar\":[{\"error_x\":{\"color\":\"#2a3f5f\"},\"error_y\":{\"color\":\"#2a3f5f\"},\"marker\":{\"line\":{\"color\":\"#E5ECF6\",\"width\":0.5},\"pattern\":{\"fillmode\":\"overlay\",\"size\":10,\"solidity\":0.2}},\"type\":\"bar\"}],\"carpet\":[{\"aaxis\":{\"endlinecolor\":\"#2a3f5f\",\"gridcolor\":\"white\",\"linecolor\":\"white\",\"minorgridcolor\":\"white\",\"startlinecolor\":\"#2a3f5f\"},\"baxis\":{\"endlinecolor\":\"#2a3f5f\",\"gridcolor\":\"white\",\"linecolor\":\"white\",\"minorgridcolor\":\"white\",\"startlinecolor\":\"#2a3f5f\"},\"type\":\"carpet\"}],\"choropleth\":[{\"colorbar\":{\"outlinewidth\":0,\"ticks\":\"\"},\"type\":\"choropleth\"}],\"contourcarpet\":[{\"colorbar\":{\"outlinewidth\":0,\"ticks\":\"\"},\"type\":\"contourcarpet\"}],\"contour\":[{\"colorbar\":{\"outlinewidth\":0,\"ticks\":\"\"},\"colorscale\":[[0.0,\"#0d0887\"],[0.1111111111111111,\"#46039f\"],[0.2222222222222222,\"#7201a8\"],[0.3333333333333333,\"#9c179e\"],[0.4444444444444444,\"#bd3786\"],[0.5555555555555556,\"#d8576b\"],[0.6666666666666666,\"#ed7953\"],[0.7777777777777778,\"#fb9f3a\"],[0.8888888888888888,\"#fdca26\"],[1.0,\"#f0f921\"]],\"type\":\"contour\"}],\"heatmapgl\":[{\"colorbar\":{\"outlinewidth\":0,\"ticks\":\"\"},\"colorscale\":[[0.0,\"#0d0887\"],[0.1111111111111111,\"#46039f\"],[0.2222222222222222,\"#7201a8\"],[0.3333333333333333,\"#9c179e\"],[0.4444444444444444,\"#bd3786\"],[0.5555555555555556,\"#d8576b\"],[0.6666666666666666,\"#ed7953\"],[0.7777777777777778,\"#fb9f3a\"],[0.8888888888888888,\"#fdca26\"],[1.0,\"#f0f921\"]],\"type\":\"heatmapgl\"}],\"heatmap\":[{\"colorbar\":{\"outlinewidth\":0,\"ticks\":\"\"},\"colorscale\":[[0.0,\"#0d0887\"],[0.1111111111111111,\"#46039f\"],[0.2222222222222222,\"#7201a8\"],[0.3333333333333333,\"#9c179e\"],[0.4444444444444444,\"#bd3786\"],[0.5555555555555556,\"#d8576b\"],[0.6666666666666666,\"#ed7953\"],[0.7777777777777778,\"#fb9f3a\"],[0.8888888888888888,\"#fdca26\"],[1.0,\"#f0f921\"]],\"type\":\"heatmap\"}],\"histogram2dcontour\":[{\"colorbar\":{\"outlinewidth\":0,\"ticks\":\"\"},\"colorscale\":[[0.0,\"#0d0887\"],[0.1111111111111111,\"#46039f\"],[0.2222222222222222,\"#7201a8\"],[0.3333333333333333,\"#9c179e\"],[0.4444444444444444,\"#bd3786\"],[0.5555555555555556,\"#d8576b\"],[0.6666666666666666,\"#ed7953\"],[0.7777777777777778,\"#fb9f3a\"],[0.8888888888888888,\"#fdca26\"],[1.0,\"#f0f921\"]],\"type\":\"histogram2dcontour\"}],\"histogram2d\":[{\"colorbar\":{\"outlinewidth\":0,\"ticks\":\"\"},\"colorscale\":[[0.0,\"#0d0887\"],[0.1111111111111111,\"#46039f\"],[0.2222222222222222,\"#7201a8\"],[0.3333333333333333,\"#9c179e\"],[0.4444444444444444,\"#bd3786\"],[0.5555555555555556,\"#d8576b\"],[0.6666666666666666,\"#ed7953\"],[0.7777777777777778,\"#fb9f3a\"],[0.8888888888888888,\"#fdca26\"],[1.0,\"#f0f921\"]],\"type\":\"histogram2d\"}],\"histogram\":[{\"marker\":{\"pattern\":{\"fillmode\":\"overlay\",\"size\":10,\"solidity\":0.2}},\"type\":\"histogram\"}],\"mesh3d\":[{\"colorbar\":{\"outlinewidth\":0,\"ticks\":\"\"},\"type\":\"mesh3d\"}],\"parcoords\":[{\"line\":{\"colorbar\":{\"outlinewidth\":0,\"ticks\":\"\"}},\"type\":\"parcoords\"}],\"pie\":[{\"automargin\":true,\"type\":\"pie\"}],\"scatter3d\":[{\"line\":{\"colorbar\":{\"outlinewidth\":0,\"ticks\":\"\"}},\"marker\":{\"colorbar\":{\"outlinewidth\":0,\"ticks\":\"\"}},\"type\":\"scatter3d\"}],\"scattercarpet\":[{\"marker\":{\"colorbar\":{\"outlinewidth\":0,\"ticks\":\"\"}},\"type\":\"scattercarpet\"}],\"scattergeo\":[{\"marker\":{\"colorbar\":{\"outlinewidth\":0,\"ticks\":\"\"}},\"type\":\"scattergeo\"}],\"scattergl\":[{\"marker\":{\"colorbar\":{\"outlinewidth\":0,\"ticks\":\"\"}},\"type\":\"scattergl\"}],\"scattermapbox\":[{\"marker\":{\"colorbar\":{\"outlinewidth\":0,\"ticks\":\"\"}},\"type\":\"scattermapbox\"}],\"scatterpolargl\":[{\"marker\":{\"colorbar\":{\"outlinewidth\":0,\"ticks\":\"\"}},\"type\":\"scatterpolargl\"}],\"scatterpolar\":[{\"marker\":{\"colorbar\":{\"outlinewidth\":0,\"ticks\":\"\"}},\"type\":\"scatterpolar\"}],\"scatter\":[{\"fillpattern\":{\"fillmode\":\"overlay\",\"size\":10,\"solidity\":0.2},\"type\":\"scatter\"}],\"scatterternary\":[{\"marker\":{\"colorbar\":{\"outlinewidth\":0,\"ticks\":\"\"}},\"type\":\"scatterternary\"}],\"surface\":[{\"colorbar\":{\"outlinewidth\":0,\"ticks\":\"\"},\"colorscale\":[[0.0,\"#0d0887\"],[0.1111111111111111,\"#46039f\"],[0.2222222222222222,\"#7201a8\"],[0.3333333333333333,\"#9c179e\"],[0.4444444444444444,\"#bd3786\"],[0.5555555555555556,\"#d8576b\"],[0.6666666666666666,\"#ed7953\"],[0.7777777777777778,\"#fb9f3a\"],[0.8888888888888888,\"#fdca26\"],[1.0,\"#f0f921\"]],\"type\":\"surface\"}],\"table\":[{\"cells\":{\"fill\":{\"color\":\"#EBF0F8\"},\"line\":{\"color\":\"white\"}},\"header\":{\"fill\":{\"color\":\"#C8D4E3\"},\"line\":{\"color\":\"white\"}},\"type\":\"table\"}]},\"layout\":{\"annotationdefaults\":{\"arrowcolor\":\"#2a3f5f\",\"arrowhead\":0,\"arrowwidth\":1},\"autotypenumbers\":\"strict\",\"coloraxis\":{\"colorbar\":{\"outlinewidth\":0,\"ticks\":\"\"}},\"colorscale\":{\"diverging\":[[0,\"#8e0152\"],[0.1,\"#c51b7d\"],[0.2,\"#de77ae\"],[0.3,\"#f1b6da\"],[0.4,\"#fde0ef\"],[0.5,\"#f7f7f7\"],[0.6,\"#e6f5d0\"],[0.7,\"#b8e186\"],[0.8,\"#7fbc41\"],[0.9,\"#4d9221\"],[1,\"#276419\"]],\"sequential\":[[0.0,\"#0d0887\"],[0.1111111111111111,\"#46039f\"],[0.2222222222222222,\"#7201a8\"],[0.3333333333333333,\"#9c179e\"],[0.4444444444444444,\"#bd3786\"],[0.5555555555555556,\"#d8576b\"],[0.6666666666666666,\"#ed7953\"],[0.7777777777777778,\"#fb9f3a\"],[0.8888888888888888,\"#fdca26\"],[1.0,\"#f0f921\"]],\"sequentialminus\":[[0.0,\"#0d0887\"],[0.1111111111111111,\"#46039f\"],[0.2222222222222222,\"#7201a8\"],[0.3333333333333333,\"#9c179e\"],[0.4444444444444444,\"#bd3786\"],[0.5555555555555556,\"#d8576b\"],[0.6666666666666666,\"#ed7953\"],[0.7777777777777778,\"#fb9f3a\"],[0.8888888888888888,\"#fdca26\"],[1.0,\"#f0f921\"]]},\"colorway\":[\"#636efa\",\"#EF553B\",\"#00cc96\",\"#ab63fa\",\"#FFA15A\",\"#19d3f3\",\"#FF6692\",\"#B6E880\",\"#FF97FF\",\"#FECB52\"],\"font\":{\"color\":\"#2a3f5f\"},\"geo\":{\"bgcolor\":\"white\",\"lakecolor\":\"white\",\"landcolor\":\"#E5ECF6\",\"showlakes\":true,\"showland\":true,\"subunitcolor\":\"white\"},\"hoverlabel\":{\"align\":\"left\"},\"hovermode\":\"closest\",\"mapbox\":{\"style\":\"light\"},\"paper_bgcolor\":\"white\",\"plot_bgcolor\":\"#E5ECF6\",\"polar\":{\"angularaxis\":{\"gridcolor\":\"white\",\"linecolor\":\"white\",\"ticks\":\"\"},\"bgcolor\":\"#E5ECF6\",\"radialaxis\":{\"gridcolor\":\"white\",\"linecolor\":\"white\",\"ticks\":\"\"}},\"scene\":{\"xaxis\":{\"backgroundcolor\":\"#E5ECF6\",\"gridcolor\":\"white\",\"gridwidth\":2,\"linecolor\":\"white\",\"showbackground\":true,\"ticks\":\"\",\"zerolinecolor\":\"white\"},\"yaxis\":{\"backgroundcolor\":\"#E5ECF6\",\"gridcolor\":\"white\",\"gridwidth\":2,\"linecolor\":\"white\",\"showbackground\":true,\"ticks\":\"\",\"zerolinecolor\":\"white\"},\"zaxis\":{\"backgroundcolor\":\"#E5ECF6\",\"gridcolor\":\"white\",\"gridwidth\":2,\"linecolor\":\"white\",\"showbackground\":true,\"ticks\":\"\",\"zerolinecolor\":\"white\"}},\"shapedefaults\":{\"line\":{\"color\":\"#2a3f5f\"}},\"ternary\":{\"aaxis\":{\"gridcolor\":\"white\",\"linecolor\":\"white\",\"ticks\":\"\"},\"baxis\":{\"gridcolor\":\"white\",\"linecolor\":\"white\",\"ticks\":\"\"},\"bgcolor\":\"#E5ECF6\",\"caxis\":{\"gridcolor\":\"white\",\"linecolor\":\"white\",\"ticks\":\"\"}},\"title\":{\"x\":0.05},\"xaxis\":{\"automargin\":true,\"gridcolor\":\"white\",\"linecolor\":\"white\",\"ticks\":\"\",\"title\":{\"standoff\":15},\"zerolinecolor\":\"white\",\"zerolinewidth\":2},\"yaxis\":{\"automargin\":true,\"gridcolor\":\"white\",\"linecolor\":\"white\",\"ticks\":\"\",\"title\":{\"standoff\":15},\"zerolinecolor\":\"white\",\"zerolinewidth\":2}}},\"title\":{\"font\":{\"color\":\"#4D5663\"}},\"xaxis\":{\"gridcolor\":\"#E1E5ED\",\"showgrid\":true,\"tickfont\":{\"color\":\"#4D5663\"},\"title\":{\"font\":{\"color\":\"#4D5663\"},\"text\":\"\"},\"zerolinecolor\":\"#E1E5ED\"},\"yaxis\":{\"gridcolor\":\"#E1E5ED\",\"showgrid\":true,\"tickfont\":{\"color\":\"#4D5663\"},\"title\":{\"font\":{\"color\":\"#4D5663\"},\"text\":\"\"},\"zerolinecolor\":\"#E1E5ED\"}},                        {\"showLink\": true, \"linkText\": \"Export to plot.ly\", \"plotlyServerURL\": \"https://plot.ly\", \"responsive\": true}                    ).then(function(){\n",
       "                            \n",
       "var gd = document.getElementById('0fc27891-cac2-4c6a-8bc7-c9d698bccc7f');\n",
       "var x = new MutationObserver(function (mutations, observer) {{\n",
       "        var display = window.getComputedStyle(gd).display;\n",
       "        if (!display || display === 'none') {{\n",
       "            console.log([gd, 'removed!']);\n",
       "            Plotly.purge(gd);\n",
       "            observer.disconnect();\n",
       "        }}\n",
       "}});\n",
       "\n",
       "// Listen for the removal of the full notebook cells\n",
       "var notebookContainer = gd.closest('#notebook-container');\n",
       "if (notebookContainer) {{\n",
       "    x.observe(notebookContainer, {childList: true});\n",
       "}}\n",
       "\n",
       "// Listen for the clearing of the current output cell\n",
       "var outputEl = gd.closest('.output');\n",
       "if (outputEl) {{\n",
       "    x.observe(outputEl, {childList: true});\n",
       "}}\n",
       "\n",
       "                        })                };                });            </script>        </div>"
      ]
     },
     "metadata": {},
     "output_type": "display_data"
    }
   ],
   "source": [
    "df.iplot(kind='box')"
   ]
  },
  {
   "cell_type": "code",
   "execution_count": 32,
   "id": "8b395643",
   "metadata": {},
   "outputs": [],
   "source": [
    "df3 = pd.DataFrame({'x':[1,2,3,4,5],'y':[10,20,30,40,50],'z':[5,4,3,2,1]})"
   ]
  },
  {
   "cell_type": "code",
   "execution_count": 33,
   "id": "cf76ce67",
   "metadata": {},
   "outputs": [
    {
     "data": {
      "text/html": [
       "<div>\n",
       "<style scoped>\n",
       "    .dataframe tbody tr th:only-of-type {\n",
       "        vertical-align: middle;\n",
       "    }\n",
       "\n",
       "    .dataframe tbody tr th {\n",
       "        vertical-align: top;\n",
       "    }\n",
       "\n",
       "    .dataframe thead th {\n",
       "        text-align: right;\n",
       "    }\n",
       "</style>\n",
       "<table border=\"1\" class=\"dataframe\">\n",
       "  <thead>\n",
       "    <tr style=\"text-align: right;\">\n",
       "      <th></th>\n",
       "      <th>x</th>\n",
       "      <th>y</th>\n",
       "      <th>z</th>\n",
       "    </tr>\n",
       "  </thead>\n",
       "  <tbody>\n",
       "    <tr>\n",
       "      <th>0</th>\n",
       "      <td>1</td>\n",
       "      <td>10</td>\n",
       "      <td>5</td>\n",
       "    </tr>\n",
       "    <tr>\n",
       "      <th>1</th>\n",
       "      <td>2</td>\n",
       "      <td>20</td>\n",
       "      <td>4</td>\n",
       "    </tr>\n",
       "    <tr>\n",
       "      <th>2</th>\n",
       "      <td>3</td>\n",
       "      <td>30</td>\n",
       "      <td>3</td>\n",
       "    </tr>\n",
       "    <tr>\n",
       "      <th>3</th>\n",
       "      <td>4</td>\n",
       "      <td>40</td>\n",
       "      <td>2</td>\n",
       "    </tr>\n",
       "    <tr>\n",
       "      <th>4</th>\n",
       "      <td>5</td>\n",
       "      <td>50</td>\n",
       "      <td>1</td>\n",
       "    </tr>\n",
       "  </tbody>\n",
       "</table>\n",
       "</div>"
      ],
      "text/plain": [
       "   x   y  z\n",
       "0  1  10  5\n",
       "1  2  20  4\n",
       "2  3  30  3\n",
       "3  4  40  2\n",
       "4  5  50  1"
      ]
     },
     "execution_count": 33,
     "metadata": {},
     "output_type": "execute_result"
    }
   ],
   "source": [
    "df3"
   ]
  },
  {
   "cell_type": "code",
   "execution_count": 35,
   "id": "146d82c9",
   "metadata": {},
   "outputs": [
    {
     "data": {
      "application/vnd.plotly.v1+json": {
       "config": {
        "linkText": "Export to plot.ly",
        "plotlyServerURL": "https://plot.ly",
        "showLink": true
       },
       "data": [
        {
         "colorscale": [
          [
           0,
           "rgb(165,0,38)"
          ],
          [
           0.1,
           "rgb(215,48,39)"
          ],
          [
           0.2,
           "rgb(244,109,67)"
          ],
          [
           0.3,
           "rgb(253,174,97)"
          ],
          [
           0.4,
           "rgb(254,224,144)"
          ],
          [
           0.5,
           "rgb(255,255,191)"
          ],
          [
           0.6,
           "rgb(224,243,248)"
          ],
          [
           0.7,
           "rgb(171,217,233)"
          ],
          [
           0.8,
           "rgb(116,173,209)"
          ],
          [
           0.9,
           "rgb(69,117,180)"
          ],
          [
           1,
           "rgb(49,54,149)"
          ]
         ],
         "type": "surface",
         "x": [
          0,
          1,
          2,
          3,
          4
         ],
         "y": [
          "x",
          "y",
          "z"
         ],
         "z": [
          [
           1,
           2,
           3,
           4,
           5
          ],
          [
           10,
           20,
           30,
           40,
           50
          ],
          [
           5,
           4,
           3,
           2,
           1
          ]
         ]
        }
       ],
       "layout": {
        "legend": {
         "bgcolor": "#F5F6F9",
         "font": {
          "color": "#4D5663"
         }
        },
        "paper_bgcolor": "#F5F6F9",
        "plot_bgcolor": "#F5F6F9",
        "template": {
         "data": {
          "bar": [
           {
            "error_x": {
             "color": "#2a3f5f"
            },
            "error_y": {
             "color": "#2a3f5f"
            },
            "marker": {
             "line": {
              "color": "#E5ECF6",
              "width": 0.5
             },
             "pattern": {
              "fillmode": "overlay",
              "size": 10,
              "solidity": 0.2
             }
            },
            "type": "bar"
           }
          ],
          "barpolar": [
           {
            "marker": {
             "line": {
              "color": "#E5ECF6",
              "width": 0.5
             },
             "pattern": {
              "fillmode": "overlay",
              "size": 10,
              "solidity": 0.2
             }
            },
            "type": "barpolar"
           }
          ],
          "carpet": [
           {
            "aaxis": {
             "endlinecolor": "#2a3f5f",
             "gridcolor": "white",
             "linecolor": "white",
             "minorgridcolor": "white",
             "startlinecolor": "#2a3f5f"
            },
            "baxis": {
             "endlinecolor": "#2a3f5f",
             "gridcolor": "white",
             "linecolor": "white",
             "minorgridcolor": "white",
             "startlinecolor": "#2a3f5f"
            },
            "type": "carpet"
           }
          ],
          "choropleth": [
           {
            "colorbar": {
             "outlinewidth": 0,
             "ticks": ""
            },
            "type": "choropleth"
           }
          ],
          "contour": [
           {
            "colorbar": {
             "outlinewidth": 0,
             "ticks": ""
            },
            "colorscale": [
             [
              0,
              "#0d0887"
             ],
             [
              0.1111111111111111,
              "#46039f"
             ],
             [
              0.2222222222222222,
              "#7201a8"
             ],
             [
              0.3333333333333333,
              "#9c179e"
             ],
             [
              0.4444444444444444,
              "#bd3786"
             ],
             [
              0.5555555555555556,
              "#d8576b"
             ],
             [
              0.6666666666666666,
              "#ed7953"
             ],
             [
              0.7777777777777778,
              "#fb9f3a"
             ],
             [
              0.8888888888888888,
              "#fdca26"
             ],
             [
              1,
              "#f0f921"
             ]
            ],
            "type": "contour"
           }
          ],
          "contourcarpet": [
           {
            "colorbar": {
             "outlinewidth": 0,
             "ticks": ""
            },
            "type": "contourcarpet"
           }
          ],
          "heatmap": [
           {
            "colorbar": {
             "outlinewidth": 0,
             "ticks": ""
            },
            "colorscale": [
             [
              0,
              "#0d0887"
             ],
             [
              0.1111111111111111,
              "#46039f"
             ],
             [
              0.2222222222222222,
              "#7201a8"
             ],
             [
              0.3333333333333333,
              "#9c179e"
             ],
             [
              0.4444444444444444,
              "#bd3786"
             ],
             [
              0.5555555555555556,
              "#d8576b"
             ],
             [
              0.6666666666666666,
              "#ed7953"
             ],
             [
              0.7777777777777778,
              "#fb9f3a"
             ],
             [
              0.8888888888888888,
              "#fdca26"
             ],
             [
              1,
              "#f0f921"
             ]
            ],
            "type": "heatmap"
           }
          ],
          "heatmapgl": [
           {
            "colorbar": {
             "outlinewidth": 0,
             "ticks": ""
            },
            "colorscale": [
             [
              0,
              "#0d0887"
             ],
             [
              0.1111111111111111,
              "#46039f"
             ],
             [
              0.2222222222222222,
              "#7201a8"
             ],
             [
              0.3333333333333333,
              "#9c179e"
             ],
             [
              0.4444444444444444,
              "#bd3786"
             ],
             [
              0.5555555555555556,
              "#d8576b"
             ],
             [
              0.6666666666666666,
              "#ed7953"
             ],
             [
              0.7777777777777778,
              "#fb9f3a"
             ],
             [
              0.8888888888888888,
              "#fdca26"
             ],
             [
              1,
              "#f0f921"
             ]
            ],
            "type": "heatmapgl"
           }
          ],
          "histogram": [
           {
            "marker": {
             "pattern": {
              "fillmode": "overlay",
              "size": 10,
              "solidity": 0.2
             }
            },
            "type": "histogram"
           }
          ],
          "histogram2d": [
           {
            "colorbar": {
             "outlinewidth": 0,
             "ticks": ""
            },
            "colorscale": [
             [
              0,
              "#0d0887"
             ],
             [
              0.1111111111111111,
              "#46039f"
             ],
             [
              0.2222222222222222,
              "#7201a8"
             ],
             [
              0.3333333333333333,
              "#9c179e"
             ],
             [
              0.4444444444444444,
              "#bd3786"
             ],
             [
              0.5555555555555556,
              "#d8576b"
             ],
             [
              0.6666666666666666,
              "#ed7953"
             ],
             [
              0.7777777777777778,
              "#fb9f3a"
             ],
             [
              0.8888888888888888,
              "#fdca26"
             ],
             [
              1,
              "#f0f921"
             ]
            ],
            "type": "histogram2d"
           }
          ],
          "histogram2dcontour": [
           {
            "colorbar": {
             "outlinewidth": 0,
             "ticks": ""
            },
            "colorscale": [
             [
              0,
              "#0d0887"
             ],
             [
              0.1111111111111111,
              "#46039f"
             ],
             [
              0.2222222222222222,
              "#7201a8"
             ],
             [
              0.3333333333333333,
              "#9c179e"
             ],
             [
              0.4444444444444444,
              "#bd3786"
             ],
             [
              0.5555555555555556,
              "#d8576b"
             ],
             [
              0.6666666666666666,
              "#ed7953"
             ],
             [
              0.7777777777777778,
              "#fb9f3a"
             ],
             [
              0.8888888888888888,
              "#fdca26"
             ],
             [
              1,
              "#f0f921"
             ]
            ],
            "type": "histogram2dcontour"
           }
          ],
          "mesh3d": [
           {
            "colorbar": {
             "outlinewidth": 0,
             "ticks": ""
            },
            "type": "mesh3d"
           }
          ],
          "parcoords": [
           {
            "line": {
             "colorbar": {
              "outlinewidth": 0,
              "ticks": ""
             }
            },
            "type": "parcoords"
           }
          ],
          "pie": [
           {
            "automargin": true,
            "type": "pie"
           }
          ],
          "scatter": [
           {
            "fillpattern": {
             "fillmode": "overlay",
             "size": 10,
             "solidity": 0.2
            },
            "type": "scatter"
           }
          ],
          "scatter3d": [
           {
            "line": {
             "colorbar": {
              "outlinewidth": 0,
              "ticks": ""
             }
            },
            "marker": {
             "colorbar": {
              "outlinewidth": 0,
              "ticks": ""
             }
            },
            "type": "scatter3d"
           }
          ],
          "scattercarpet": [
           {
            "marker": {
             "colorbar": {
              "outlinewidth": 0,
              "ticks": ""
             }
            },
            "type": "scattercarpet"
           }
          ],
          "scattergeo": [
           {
            "marker": {
             "colorbar": {
              "outlinewidth": 0,
              "ticks": ""
             }
            },
            "type": "scattergeo"
           }
          ],
          "scattergl": [
           {
            "marker": {
             "colorbar": {
              "outlinewidth": 0,
              "ticks": ""
             }
            },
            "type": "scattergl"
           }
          ],
          "scattermapbox": [
           {
            "marker": {
             "colorbar": {
              "outlinewidth": 0,
              "ticks": ""
             }
            },
            "type": "scattermapbox"
           }
          ],
          "scatterpolar": [
           {
            "marker": {
             "colorbar": {
              "outlinewidth": 0,
              "ticks": ""
             }
            },
            "type": "scatterpolar"
           }
          ],
          "scatterpolargl": [
           {
            "marker": {
             "colorbar": {
              "outlinewidth": 0,
              "ticks": ""
             }
            },
            "type": "scatterpolargl"
           }
          ],
          "scatterternary": [
           {
            "marker": {
             "colorbar": {
              "outlinewidth": 0,
              "ticks": ""
             }
            },
            "type": "scatterternary"
           }
          ],
          "surface": [
           {
            "colorbar": {
             "outlinewidth": 0,
             "ticks": ""
            },
            "colorscale": [
             [
              0,
              "#0d0887"
             ],
             [
              0.1111111111111111,
              "#46039f"
             ],
             [
              0.2222222222222222,
              "#7201a8"
             ],
             [
              0.3333333333333333,
              "#9c179e"
             ],
             [
              0.4444444444444444,
              "#bd3786"
             ],
             [
              0.5555555555555556,
              "#d8576b"
             ],
             [
              0.6666666666666666,
              "#ed7953"
             ],
             [
              0.7777777777777778,
              "#fb9f3a"
             ],
             [
              0.8888888888888888,
              "#fdca26"
             ],
             [
              1,
              "#f0f921"
             ]
            ],
            "type": "surface"
           }
          ],
          "table": [
           {
            "cells": {
             "fill": {
              "color": "#EBF0F8"
             },
             "line": {
              "color": "white"
             }
            },
            "header": {
             "fill": {
              "color": "#C8D4E3"
             },
             "line": {
              "color": "white"
             }
            },
            "type": "table"
           }
          ]
         },
         "layout": {
          "annotationdefaults": {
           "arrowcolor": "#2a3f5f",
           "arrowhead": 0,
           "arrowwidth": 1
          },
          "autotypenumbers": "strict",
          "coloraxis": {
           "colorbar": {
            "outlinewidth": 0,
            "ticks": ""
           }
          },
          "colorscale": {
           "diverging": [
            [
             0,
             "#8e0152"
            ],
            [
             0.1,
             "#c51b7d"
            ],
            [
             0.2,
             "#de77ae"
            ],
            [
             0.3,
             "#f1b6da"
            ],
            [
             0.4,
             "#fde0ef"
            ],
            [
             0.5,
             "#f7f7f7"
            ],
            [
             0.6,
             "#e6f5d0"
            ],
            [
             0.7,
             "#b8e186"
            ],
            [
             0.8,
             "#7fbc41"
            ],
            [
             0.9,
             "#4d9221"
            ],
            [
             1,
             "#276419"
            ]
           ],
           "sequential": [
            [
             0,
             "#0d0887"
            ],
            [
             0.1111111111111111,
             "#46039f"
            ],
            [
             0.2222222222222222,
             "#7201a8"
            ],
            [
             0.3333333333333333,
             "#9c179e"
            ],
            [
             0.4444444444444444,
             "#bd3786"
            ],
            [
             0.5555555555555556,
             "#d8576b"
            ],
            [
             0.6666666666666666,
             "#ed7953"
            ],
            [
             0.7777777777777778,
             "#fb9f3a"
            ],
            [
             0.8888888888888888,
             "#fdca26"
            ],
            [
             1,
             "#f0f921"
            ]
           ],
           "sequentialminus": [
            [
             0,
             "#0d0887"
            ],
            [
             0.1111111111111111,
             "#46039f"
            ],
            [
             0.2222222222222222,
             "#7201a8"
            ],
            [
             0.3333333333333333,
             "#9c179e"
            ],
            [
             0.4444444444444444,
             "#bd3786"
            ],
            [
             0.5555555555555556,
             "#d8576b"
            ],
            [
             0.6666666666666666,
             "#ed7953"
            ],
            [
             0.7777777777777778,
             "#fb9f3a"
            ],
            [
             0.8888888888888888,
             "#fdca26"
            ],
            [
             1,
             "#f0f921"
            ]
           ]
          },
          "colorway": [
           "#636efa",
           "#EF553B",
           "#00cc96",
           "#ab63fa",
           "#FFA15A",
           "#19d3f3",
           "#FF6692",
           "#B6E880",
           "#FF97FF",
           "#FECB52"
          ],
          "font": {
           "color": "#2a3f5f"
          },
          "geo": {
           "bgcolor": "white",
           "lakecolor": "white",
           "landcolor": "#E5ECF6",
           "showlakes": true,
           "showland": true,
           "subunitcolor": "white"
          },
          "hoverlabel": {
           "align": "left"
          },
          "hovermode": "closest",
          "mapbox": {
           "style": "light"
          },
          "paper_bgcolor": "white",
          "plot_bgcolor": "#E5ECF6",
          "polar": {
           "angularaxis": {
            "gridcolor": "white",
            "linecolor": "white",
            "ticks": ""
           },
           "bgcolor": "#E5ECF6",
           "radialaxis": {
            "gridcolor": "white",
            "linecolor": "white",
            "ticks": ""
           }
          },
          "scene": {
           "xaxis": {
            "backgroundcolor": "#E5ECF6",
            "gridcolor": "white",
            "gridwidth": 2,
            "linecolor": "white",
            "showbackground": true,
            "ticks": "",
            "zerolinecolor": "white"
           },
           "yaxis": {
            "backgroundcolor": "#E5ECF6",
            "gridcolor": "white",
            "gridwidth": 2,
            "linecolor": "white",
            "showbackground": true,
            "ticks": "",
            "zerolinecolor": "white"
           },
           "zaxis": {
            "backgroundcolor": "#E5ECF6",
            "gridcolor": "white",
            "gridwidth": 2,
            "linecolor": "white",
            "showbackground": true,
            "ticks": "",
            "zerolinecolor": "white"
           }
          },
          "shapedefaults": {
           "line": {
            "color": "#2a3f5f"
           }
          },
          "ternary": {
           "aaxis": {
            "gridcolor": "white",
            "linecolor": "white",
            "ticks": ""
           },
           "baxis": {
            "gridcolor": "white",
            "linecolor": "white",
            "ticks": ""
           },
           "bgcolor": "#E5ECF6",
           "caxis": {
            "gridcolor": "white",
            "linecolor": "white",
            "ticks": ""
           }
          },
          "title": {
           "x": 0.05
          },
          "xaxis": {
           "automargin": true,
           "gridcolor": "white",
           "linecolor": "white",
           "ticks": "",
           "title": {
            "standoff": 15
           },
           "zerolinecolor": "white",
           "zerolinewidth": 2
          },
          "yaxis": {
           "automargin": true,
           "gridcolor": "white",
           "linecolor": "white",
           "ticks": "",
           "title": {
            "standoff": 15
           },
           "zerolinecolor": "white",
           "zerolinewidth": 2
          }
         }
        },
        "title": {
         "font": {
          "color": "#4D5663"
         }
        },
        "xaxis": {
         "gridcolor": "#E1E5ED",
         "showgrid": true,
         "tickfont": {
          "color": "#4D5663"
         },
         "title": {
          "font": {
           "color": "#4D5663"
          },
          "text": ""
         },
         "zerolinecolor": "#E1E5ED"
        },
        "yaxis": {
         "gridcolor": "#E1E5ED",
         "showgrid": true,
         "tickfont": {
          "color": "#4D5663"
         },
         "title": {
          "font": {
           "color": "#4D5663"
          },
          "text": ""
         },
         "zerolinecolor": "#E1E5ED"
        }
       }
      },
      "text/html": [
       "<div>                            <div id=\"e4fda208-23c7-411b-a0d5-60b229bbc776\" class=\"plotly-graph-div\" style=\"height:525px; width:100%;\"></div>            <script type=\"text/javascript\">                require([\"plotly\"], function(Plotly) {                    window.PLOTLYENV=window.PLOTLYENV || {};\n",
       "                    window.PLOTLYENV.BASE_URL='https://plot.ly';                                    if (document.getElementById(\"e4fda208-23c7-411b-a0d5-60b229bbc776\")) {                    Plotly.newPlot(                        \"e4fda208-23c7-411b-a0d5-60b229bbc776\",                        [{\"colorscale\":[[0.0,\"rgb(165,0,38)\"],[0.1,\"rgb(215,48,39)\"],[0.2,\"rgb(244,109,67)\"],[0.3,\"rgb(253,174,97)\"],[0.4,\"rgb(254,224,144)\"],[0.5,\"rgb(255,255,191)\"],[0.6,\"rgb(224,243,248)\"],[0.7,\"rgb(171,217,233)\"],[0.8,\"rgb(116,173,209)\"],[0.9,\"rgb(69,117,180)\"],[1.0,\"rgb(49,54,149)\"]],\"x\":[0,1,2,3,4],\"y\":[\"x\",\"y\",\"z\"],\"z\":[[1,2,3,4,5],[10,20,30,40,50],[5,4,3,2,1]],\"type\":\"surface\"}],                        {\"legend\":{\"bgcolor\":\"#F5F6F9\",\"font\":{\"color\":\"#4D5663\"}},\"paper_bgcolor\":\"#F5F6F9\",\"plot_bgcolor\":\"#F5F6F9\",\"template\":{\"data\":{\"barpolar\":[{\"marker\":{\"line\":{\"color\":\"#E5ECF6\",\"width\":0.5},\"pattern\":{\"fillmode\":\"overlay\",\"size\":10,\"solidity\":0.2}},\"type\":\"barpolar\"}],\"bar\":[{\"error_x\":{\"color\":\"#2a3f5f\"},\"error_y\":{\"color\":\"#2a3f5f\"},\"marker\":{\"line\":{\"color\":\"#E5ECF6\",\"width\":0.5},\"pattern\":{\"fillmode\":\"overlay\",\"size\":10,\"solidity\":0.2}},\"type\":\"bar\"}],\"carpet\":[{\"aaxis\":{\"endlinecolor\":\"#2a3f5f\",\"gridcolor\":\"white\",\"linecolor\":\"white\",\"minorgridcolor\":\"white\",\"startlinecolor\":\"#2a3f5f\"},\"baxis\":{\"endlinecolor\":\"#2a3f5f\",\"gridcolor\":\"white\",\"linecolor\":\"white\",\"minorgridcolor\":\"white\",\"startlinecolor\":\"#2a3f5f\"},\"type\":\"carpet\"}],\"choropleth\":[{\"colorbar\":{\"outlinewidth\":0,\"ticks\":\"\"},\"type\":\"choropleth\"}],\"contourcarpet\":[{\"colorbar\":{\"outlinewidth\":0,\"ticks\":\"\"},\"type\":\"contourcarpet\"}],\"contour\":[{\"colorbar\":{\"outlinewidth\":0,\"ticks\":\"\"},\"colorscale\":[[0.0,\"#0d0887\"],[0.1111111111111111,\"#46039f\"],[0.2222222222222222,\"#7201a8\"],[0.3333333333333333,\"#9c179e\"],[0.4444444444444444,\"#bd3786\"],[0.5555555555555556,\"#d8576b\"],[0.6666666666666666,\"#ed7953\"],[0.7777777777777778,\"#fb9f3a\"],[0.8888888888888888,\"#fdca26\"],[1.0,\"#f0f921\"]],\"type\":\"contour\"}],\"heatmapgl\":[{\"colorbar\":{\"outlinewidth\":0,\"ticks\":\"\"},\"colorscale\":[[0.0,\"#0d0887\"],[0.1111111111111111,\"#46039f\"],[0.2222222222222222,\"#7201a8\"],[0.3333333333333333,\"#9c179e\"],[0.4444444444444444,\"#bd3786\"],[0.5555555555555556,\"#d8576b\"],[0.6666666666666666,\"#ed7953\"],[0.7777777777777778,\"#fb9f3a\"],[0.8888888888888888,\"#fdca26\"],[1.0,\"#f0f921\"]],\"type\":\"heatmapgl\"}],\"heatmap\":[{\"colorbar\":{\"outlinewidth\":0,\"ticks\":\"\"},\"colorscale\":[[0.0,\"#0d0887\"],[0.1111111111111111,\"#46039f\"],[0.2222222222222222,\"#7201a8\"],[0.3333333333333333,\"#9c179e\"],[0.4444444444444444,\"#bd3786\"],[0.5555555555555556,\"#d8576b\"],[0.6666666666666666,\"#ed7953\"],[0.7777777777777778,\"#fb9f3a\"],[0.8888888888888888,\"#fdca26\"],[1.0,\"#f0f921\"]],\"type\":\"heatmap\"}],\"histogram2dcontour\":[{\"colorbar\":{\"outlinewidth\":0,\"ticks\":\"\"},\"colorscale\":[[0.0,\"#0d0887\"],[0.1111111111111111,\"#46039f\"],[0.2222222222222222,\"#7201a8\"],[0.3333333333333333,\"#9c179e\"],[0.4444444444444444,\"#bd3786\"],[0.5555555555555556,\"#d8576b\"],[0.6666666666666666,\"#ed7953\"],[0.7777777777777778,\"#fb9f3a\"],[0.8888888888888888,\"#fdca26\"],[1.0,\"#f0f921\"]],\"type\":\"histogram2dcontour\"}],\"histogram2d\":[{\"colorbar\":{\"outlinewidth\":0,\"ticks\":\"\"},\"colorscale\":[[0.0,\"#0d0887\"],[0.1111111111111111,\"#46039f\"],[0.2222222222222222,\"#7201a8\"],[0.3333333333333333,\"#9c179e\"],[0.4444444444444444,\"#bd3786\"],[0.5555555555555556,\"#d8576b\"],[0.6666666666666666,\"#ed7953\"],[0.7777777777777778,\"#fb9f3a\"],[0.8888888888888888,\"#fdca26\"],[1.0,\"#f0f921\"]],\"type\":\"histogram2d\"}],\"histogram\":[{\"marker\":{\"pattern\":{\"fillmode\":\"overlay\",\"size\":10,\"solidity\":0.2}},\"type\":\"histogram\"}],\"mesh3d\":[{\"colorbar\":{\"outlinewidth\":0,\"ticks\":\"\"},\"type\":\"mesh3d\"}],\"parcoords\":[{\"line\":{\"colorbar\":{\"outlinewidth\":0,\"ticks\":\"\"}},\"type\":\"parcoords\"}],\"pie\":[{\"automargin\":true,\"type\":\"pie\"}],\"scatter3d\":[{\"line\":{\"colorbar\":{\"outlinewidth\":0,\"ticks\":\"\"}},\"marker\":{\"colorbar\":{\"outlinewidth\":0,\"ticks\":\"\"}},\"type\":\"scatter3d\"}],\"scattercarpet\":[{\"marker\":{\"colorbar\":{\"outlinewidth\":0,\"ticks\":\"\"}},\"type\":\"scattercarpet\"}],\"scattergeo\":[{\"marker\":{\"colorbar\":{\"outlinewidth\":0,\"ticks\":\"\"}},\"type\":\"scattergeo\"}],\"scattergl\":[{\"marker\":{\"colorbar\":{\"outlinewidth\":0,\"ticks\":\"\"}},\"type\":\"scattergl\"}],\"scattermapbox\":[{\"marker\":{\"colorbar\":{\"outlinewidth\":0,\"ticks\":\"\"}},\"type\":\"scattermapbox\"}],\"scatterpolargl\":[{\"marker\":{\"colorbar\":{\"outlinewidth\":0,\"ticks\":\"\"}},\"type\":\"scatterpolargl\"}],\"scatterpolar\":[{\"marker\":{\"colorbar\":{\"outlinewidth\":0,\"ticks\":\"\"}},\"type\":\"scatterpolar\"}],\"scatter\":[{\"fillpattern\":{\"fillmode\":\"overlay\",\"size\":10,\"solidity\":0.2},\"type\":\"scatter\"}],\"scatterternary\":[{\"marker\":{\"colorbar\":{\"outlinewidth\":0,\"ticks\":\"\"}},\"type\":\"scatterternary\"}],\"surface\":[{\"colorbar\":{\"outlinewidth\":0,\"ticks\":\"\"},\"colorscale\":[[0.0,\"#0d0887\"],[0.1111111111111111,\"#46039f\"],[0.2222222222222222,\"#7201a8\"],[0.3333333333333333,\"#9c179e\"],[0.4444444444444444,\"#bd3786\"],[0.5555555555555556,\"#d8576b\"],[0.6666666666666666,\"#ed7953\"],[0.7777777777777778,\"#fb9f3a\"],[0.8888888888888888,\"#fdca26\"],[1.0,\"#f0f921\"]],\"type\":\"surface\"}],\"table\":[{\"cells\":{\"fill\":{\"color\":\"#EBF0F8\"},\"line\":{\"color\":\"white\"}},\"header\":{\"fill\":{\"color\":\"#C8D4E3\"},\"line\":{\"color\":\"white\"}},\"type\":\"table\"}]},\"layout\":{\"annotationdefaults\":{\"arrowcolor\":\"#2a3f5f\",\"arrowhead\":0,\"arrowwidth\":1},\"autotypenumbers\":\"strict\",\"coloraxis\":{\"colorbar\":{\"outlinewidth\":0,\"ticks\":\"\"}},\"colorscale\":{\"diverging\":[[0,\"#8e0152\"],[0.1,\"#c51b7d\"],[0.2,\"#de77ae\"],[0.3,\"#f1b6da\"],[0.4,\"#fde0ef\"],[0.5,\"#f7f7f7\"],[0.6,\"#e6f5d0\"],[0.7,\"#b8e186\"],[0.8,\"#7fbc41\"],[0.9,\"#4d9221\"],[1,\"#276419\"]],\"sequential\":[[0.0,\"#0d0887\"],[0.1111111111111111,\"#46039f\"],[0.2222222222222222,\"#7201a8\"],[0.3333333333333333,\"#9c179e\"],[0.4444444444444444,\"#bd3786\"],[0.5555555555555556,\"#d8576b\"],[0.6666666666666666,\"#ed7953\"],[0.7777777777777778,\"#fb9f3a\"],[0.8888888888888888,\"#fdca26\"],[1.0,\"#f0f921\"]],\"sequentialminus\":[[0.0,\"#0d0887\"],[0.1111111111111111,\"#46039f\"],[0.2222222222222222,\"#7201a8\"],[0.3333333333333333,\"#9c179e\"],[0.4444444444444444,\"#bd3786\"],[0.5555555555555556,\"#d8576b\"],[0.6666666666666666,\"#ed7953\"],[0.7777777777777778,\"#fb9f3a\"],[0.8888888888888888,\"#fdca26\"],[1.0,\"#f0f921\"]]},\"colorway\":[\"#636efa\",\"#EF553B\",\"#00cc96\",\"#ab63fa\",\"#FFA15A\",\"#19d3f3\",\"#FF6692\",\"#B6E880\",\"#FF97FF\",\"#FECB52\"],\"font\":{\"color\":\"#2a3f5f\"},\"geo\":{\"bgcolor\":\"white\",\"lakecolor\":\"white\",\"landcolor\":\"#E5ECF6\",\"showlakes\":true,\"showland\":true,\"subunitcolor\":\"white\"},\"hoverlabel\":{\"align\":\"left\"},\"hovermode\":\"closest\",\"mapbox\":{\"style\":\"light\"},\"paper_bgcolor\":\"white\",\"plot_bgcolor\":\"#E5ECF6\",\"polar\":{\"angularaxis\":{\"gridcolor\":\"white\",\"linecolor\":\"white\",\"ticks\":\"\"},\"bgcolor\":\"#E5ECF6\",\"radialaxis\":{\"gridcolor\":\"white\",\"linecolor\":\"white\",\"ticks\":\"\"}},\"scene\":{\"xaxis\":{\"backgroundcolor\":\"#E5ECF6\",\"gridcolor\":\"white\",\"gridwidth\":2,\"linecolor\":\"white\",\"showbackground\":true,\"ticks\":\"\",\"zerolinecolor\":\"white\"},\"yaxis\":{\"backgroundcolor\":\"#E5ECF6\",\"gridcolor\":\"white\",\"gridwidth\":2,\"linecolor\":\"white\",\"showbackground\":true,\"ticks\":\"\",\"zerolinecolor\":\"white\"},\"zaxis\":{\"backgroundcolor\":\"#E5ECF6\",\"gridcolor\":\"white\",\"gridwidth\":2,\"linecolor\":\"white\",\"showbackground\":true,\"ticks\":\"\",\"zerolinecolor\":\"white\"}},\"shapedefaults\":{\"line\":{\"color\":\"#2a3f5f\"}},\"ternary\":{\"aaxis\":{\"gridcolor\":\"white\",\"linecolor\":\"white\",\"ticks\":\"\"},\"baxis\":{\"gridcolor\":\"white\",\"linecolor\":\"white\",\"ticks\":\"\"},\"bgcolor\":\"#E5ECF6\",\"caxis\":{\"gridcolor\":\"white\",\"linecolor\":\"white\",\"ticks\":\"\"}},\"title\":{\"x\":0.05},\"xaxis\":{\"automargin\":true,\"gridcolor\":\"white\",\"linecolor\":\"white\",\"ticks\":\"\",\"title\":{\"standoff\":15},\"zerolinecolor\":\"white\",\"zerolinewidth\":2},\"yaxis\":{\"automargin\":true,\"gridcolor\":\"white\",\"linecolor\":\"white\",\"ticks\":\"\",\"title\":{\"standoff\":15},\"zerolinecolor\":\"white\",\"zerolinewidth\":2}}},\"title\":{\"font\":{\"color\":\"#4D5663\"}},\"xaxis\":{\"gridcolor\":\"#E1E5ED\",\"showgrid\":true,\"tickfont\":{\"color\":\"#4D5663\"},\"title\":{\"font\":{\"color\":\"#4D5663\"},\"text\":\"\"},\"zerolinecolor\":\"#E1E5ED\"},\"yaxis\":{\"gridcolor\":\"#E1E5ED\",\"showgrid\":true,\"tickfont\":{\"color\":\"#4D5663\"},\"title\":{\"font\":{\"color\":\"#4D5663\"},\"text\":\"\"},\"zerolinecolor\":\"#E1E5ED\"}},                        {\"showLink\": true, \"linkText\": \"Export to plot.ly\", \"plotlyServerURL\": \"https://plot.ly\", \"responsive\": true}                    ).then(function(){\n",
       "                            \n",
       "var gd = document.getElementById('e4fda208-23c7-411b-a0d5-60b229bbc776');\n",
       "var x = new MutationObserver(function (mutations, observer) {{\n",
       "        var display = window.getComputedStyle(gd).display;\n",
       "        if (!display || display === 'none') {{\n",
       "            console.log([gd, 'removed!']);\n",
       "            Plotly.purge(gd);\n",
       "            observer.disconnect();\n",
       "        }}\n",
       "}});\n",
       "\n",
       "// Listen for the removal of the full notebook cells\n",
       "var notebookContainer = gd.closest('#notebook-container');\n",
       "if (notebookContainer) {{\n",
       "    x.observe(notebookContainer, {childList: true});\n",
       "}}\n",
       "\n",
       "// Listen for the clearing of the current output cell\n",
       "var outputEl = gd.closest('.output');\n",
       "if (outputEl) {{\n",
       "    x.observe(outputEl, {childList: true});\n",
       "}}\n",
       "\n",
       "                        })                };                });            </script>        </div>"
      ]
     },
     "metadata": {},
     "output_type": "display_data"
    }
   ],
   "source": [
    "df3.iplot(kind='surface',colorscale='rdylbu')"
   ]
  },
  {
   "cell_type": "code",
   "execution_count": 36,
   "id": "cb9b0994",
   "metadata": {},
   "outputs": [
    {
     "data": {
      "application/vnd.plotly.v1+json": {
       "config": {
        "linkText": "Export to plot.ly",
        "plotlyServerURL": "https://plot.ly",
        "showLink": true
       },
       "data": [
        {
         "histfunc": "count",
         "histnorm": "",
         "marker": {
          "color": "rgba(255, 153, 51, 1.0)",
          "line": {
           "color": "#4D5663",
           "width": 1.3
          }
         },
         "name": "A",
         "opacity": 0.8,
         "orientation": "v",
         "type": "histogram",
         "x": [
          -0.05559180576518184,
          0.5620453907383516,
          -1.7899404051407906,
          1.500518268376267,
          0.7528373449617896,
          -1.1771597300556,
          1.97138381329973,
          0.3020214150295912,
          -1.9247991418812365,
          0.709441640718662,
          -0.01703638589202485,
          0.8199877942986776,
          0.5591157966803538,
          -0.07831734859886214,
          2.0263777208694695,
          -0.07574584864740508,
          -0.396370799265584,
          0.4191186184191619,
          0.9098700431175843,
          -1.0431608126404592,
          -1.7937637698431927,
          0.3067825397453611,
          0.2691059102780455,
          -0.31836442674890625,
          0.24337795539086785,
          0.512773733565278,
          -1.4073754758808312,
          0.5457544007462951,
          -0.6571845396135951,
          -2.0639373239813503,
          -1.4468588683638646,
          -0.9789754188086063,
          -2.1306056808379563,
          -0.20480729972649234,
          -0.8222382380694211,
          -0.33300118314536314,
          -0.29784234037258445,
          0.5307423401569827,
          0.15380642956204912,
          -0.1188208875107539,
          -0.8383589645894698,
          -0.5427105997081095,
          2.488310572074583,
          -0.2645552704783902,
          -0.45784207536797183,
          -1.8720226996945561,
          -0.7221199763313748,
          0.7303713162051148,
          -0.5675927577151667,
          0.2743443549958475,
          -0.8363932058173486,
          -0.197070058476929,
          -0.20013495199757259,
          -2.245092326684816,
          0.5943639003035389,
          -2.4438290349158693,
          -2.312513093070422,
          -0.10226142096044005,
          -0.3540991820914685,
          1.1846112283224697,
          0.5785961937800251,
          0.9454529767507993,
          -0.9378679023799694,
          2.252026617954698,
          0.8836245400728469,
          0.19770903317243588,
          0.5820505519137525,
          0.7000403498804273,
          0.18687441456797468,
          -2.605904251516702,
          1.013838593924159,
          0.7048394896011076,
          -0.9700118607851692,
          1.4122071311811517,
          0.22121580587926673,
          1.2618498032297492,
          -0.5281752604894419,
          -0.7421908714692181,
          1.5430526507489388,
          1.6370858753648112,
          0.15153329405330462,
          -0.35805431200293014,
          -0.9283089709763265,
          0.3293002280206697,
          -0.04430655153238148,
          1.125980853731697,
          -0.8103951450968989,
          -0.636133320370373,
          -0.5840496782043829,
          0.2912078731205048,
          -0.5137033735673227,
          -0.5894102919320074,
          -0.44662329985137666,
          1.4453702578010075,
          -2.8820121087644,
          0.5943854382063423,
          -0.2507644033592735,
          -1.4506707195233537,
          -0.32976243758703705,
          -0.5173084332484963
         ]
        }
       ],
       "layout": {
        "barmode": "overlay",
        "legend": {
         "bgcolor": "#F5F6F9",
         "font": {
          "color": "#4D5663"
         }
        },
        "paper_bgcolor": "#F5F6F9",
        "plot_bgcolor": "#F5F6F9",
        "template": {
         "data": {
          "bar": [
           {
            "error_x": {
             "color": "#2a3f5f"
            },
            "error_y": {
             "color": "#2a3f5f"
            },
            "marker": {
             "line": {
              "color": "#E5ECF6",
              "width": 0.5
             },
             "pattern": {
              "fillmode": "overlay",
              "size": 10,
              "solidity": 0.2
             }
            },
            "type": "bar"
           }
          ],
          "barpolar": [
           {
            "marker": {
             "line": {
              "color": "#E5ECF6",
              "width": 0.5
             },
             "pattern": {
              "fillmode": "overlay",
              "size": 10,
              "solidity": 0.2
             }
            },
            "type": "barpolar"
           }
          ],
          "carpet": [
           {
            "aaxis": {
             "endlinecolor": "#2a3f5f",
             "gridcolor": "white",
             "linecolor": "white",
             "minorgridcolor": "white",
             "startlinecolor": "#2a3f5f"
            },
            "baxis": {
             "endlinecolor": "#2a3f5f",
             "gridcolor": "white",
             "linecolor": "white",
             "minorgridcolor": "white",
             "startlinecolor": "#2a3f5f"
            },
            "type": "carpet"
           }
          ],
          "choropleth": [
           {
            "colorbar": {
             "outlinewidth": 0,
             "ticks": ""
            },
            "type": "choropleth"
           }
          ],
          "contour": [
           {
            "colorbar": {
             "outlinewidth": 0,
             "ticks": ""
            },
            "colorscale": [
             [
              0,
              "#0d0887"
             ],
             [
              0.1111111111111111,
              "#46039f"
             ],
             [
              0.2222222222222222,
              "#7201a8"
             ],
             [
              0.3333333333333333,
              "#9c179e"
             ],
             [
              0.4444444444444444,
              "#bd3786"
             ],
             [
              0.5555555555555556,
              "#d8576b"
             ],
             [
              0.6666666666666666,
              "#ed7953"
             ],
             [
              0.7777777777777778,
              "#fb9f3a"
             ],
             [
              0.8888888888888888,
              "#fdca26"
             ],
             [
              1,
              "#f0f921"
             ]
            ],
            "type": "contour"
           }
          ],
          "contourcarpet": [
           {
            "colorbar": {
             "outlinewidth": 0,
             "ticks": ""
            },
            "type": "contourcarpet"
           }
          ],
          "heatmap": [
           {
            "colorbar": {
             "outlinewidth": 0,
             "ticks": ""
            },
            "colorscale": [
             [
              0,
              "#0d0887"
             ],
             [
              0.1111111111111111,
              "#46039f"
             ],
             [
              0.2222222222222222,
              "#7201a8"
             ],
             [
              0.3333333333333333,
              "#9c179e"
             ],
             [
              0.4444444444444444,
              "#bd3786"
             ],
             [
              0.5555555555555556,
              "#d8576b"
             ],
             [
              0.6666666666666666,
              "#ed7953"
             ],
             [
              0.7777777777777778,
              "#fb9f3a"
             ],
             [
              0.8888888888888888,
              "#fdca26"
             ],
             [
              1,
              "#f0f921"
             ]
            ],
            "type": "heatmap"
           }
          ],
          "heatmapgl": [
           {
            "colorbar": {
             "outlinewidth": 0,
             "ticks": ""
            },
            "colorscale": [
             [
              0,
              "#0d0887"
             ],
             [
              0.1111111111111111,
              "#46039f"
             ],
             [
              0.2222222222222222,
              "#7201a8"
             ],
             [
              0.3333333333333333,
              "#9c179e"
             ],
             [
              0.4444444444444444,
              "#bd3786"
             ],
             [
              0.5555555555555556,
              "#d8576b"
             ],
             [
              0.6666666666666666,
              "#ed7953"
             ],
             [
              0.7777777777777778,
              "#fb9f3a"
             ],
             [
              0.8888888888888888,
              "#fdca26"
             ],
             [
              1,
              "#f0f921"
             ]
            ],
            "type": "heatmapgl"
           }
          ],
          "histogram": [
           {
            "marker": {
             "pattern": {
              "fillmode": "overlay",
              "size": 10,
              "solidity": 0.2
             }
            },
            "type": "histogram"
           }
          ],
          "histogram2d": [
           {
            "colorbar": {
             "outlinewidth": 0,
             "ticks": ""
            },
            "colorscale": [
             [
              0,
              "#0d0887"
             ],
             [
              0.1111111111111111,
              "#46039f"
             ],
             [
              0.2222222222222222,
              "#7201a8"
             ],
             [
              0.3333333333333333,
              "#9c179e"
             ],
             [
              0.4444444444444444,
              "#bd3786"
             ],
             [
              0.5555555555555556,
              "#d8576b"
             ],
             [
              0.6666666666666666,
              "#ed7953"
             ],
             [
              0.7777777777777778,
              "#fb9f3a"
             ],
             [
              0.8888888888888888,
              "#fdca26"
             ],
             [
              1,
              "#f0f921"
             ]
            ],
            "type": "histogram2d"
           }
          ],
          "histogram2dcontour": [
           {
            "colorbar": {
             "outlinewidth": 0,
             "ticks": ""
            },
            "colorscale": [
             [
              0,
              "#0d0887"
             ],
             [
              0.1111111111111111,
              "#46039f"
             ],
             [
              0.2222222222222222,
              "#7201a8"
             ],
             [
              0.3333333333333333,
              "#9c179e"
             ],
             [
              0.4444444444444444,
              "#bd3786"
             ],
             [
              0.5555555555555556,
              "#d8576b"
             ],
             [
              0.6666666666666666,
              "#ed7953"
             ],
             [
              0.7777777777777778,
              "#fb9f3a"
             ],
             [
              0.8888888888888888,
              "#fdca26"
             ],
             [
              1,
              "#f0f921"
             ]
            ],
            "type": "histogram2dcontour"
           }
          ],
          "mesh3d": [
           {
            "colorbar": {
             "outlinewidth": 0,
             "ticks": ""
            },
            "type": "mesh3d"
           }
          ],
          "parcoords": [
           {
            "line": {
             "colorbar": {
              "outlinewidth": 0,
              "ticks": ""
             }
            },
            "type": "parcoords"
           }
          ],
          "pie": [
           {
            "automargin": true,
            "type": "pie"
           }
          ],
          "scatter": [
           {
            "fillpattern": {
             "fillmode": "overlay",
             "size": 10,
             "solidity": 0.2
            },
            "type": "scatter"
           }
          ],
          "scatter3d": [
           {
            "line": {
             "colorbar": {
              "outlinewidth": 0,
              "ticks": ""
             }
            },
            "marker": {
             "colorbar": {
              "outlinewidth": 0,
              "ticks": ""
             }
            },
            "type": "scatter3d"
           }
          ],
          "scattercarpet": [
           {
            "marker": {
             "colorbar": {
              "outlinewidth": 0,
              "ticks": ""
             }
            },
            "type": "scattercarpet"
           }
          ],
          "scattergeo": [
           {
            "marker": {
             "colorbar": {
              "outlinewidth": 0,
              "ticks": ""
             }
            },
            "type": "scattergeo"
           }
          ],
          "scattergl": [
           {
            "marker": {
             "colorbar": {
              "outlinewidth": 0,
              "ticks": ""
             }
            },
            "type": "scattergl"
           }
          ],
          "scattermapbox": [
           {
            "marker": {
             "colorbar": {
              "outlinewidth": 0,
              "ticks": ""
             }
            },
            "type": "scattermapbox"
           }
          ],
          "scatterpolar": [
           {
            "marker": {
             "colorbar": {
              "outlinewidth": 0,
              "ticks": ""
             }
            },
            "type": "scatterpolar"
           }
          ],
          "scatterpolargl": [
           {
            "marker": {
             "colorbar": {
              "outlinewidth": 0,
              "ticks": ""
             }
            },
            "type": "scatterpolargl"
           }
          ],
          "scatterternary": [
           {
            "marker": {
             "colorbar": {
              "outlinewidth": 0,
              "ticks": ""
             }
            },
            "type": "scatterternary"
           }
          ],
          "surface": [
           {
            "colorbar": {
             "outlinewidth": 0,
             "ticks": ""
            },
            "colorscale": [
             [
              0,
              "#0d0887"
             ],
             [
              0.1111111111111111,
              "#46039f"
             ],
             [
              0.2222222222222222,
              "#7201a8"
             ],
             [
              0.3333333333333333,
              "#9c179e"
             ],
             [
              0.4444444444444444,
              "#bd3786"
             ],
             [
              0.5555555555555556,
              "#d8576b"
             ],
             [
              0.6666666666666666,
              "#ed7953"
             ],
             [
              0.7777777777777778,
              "#fb9f3a"
             ],
             [
              0.8888888888888888,
              "#fdca26"
             ],
             [
              1,
              "#f0f921"
             ]
            ],
            "type": "surface"
           }
          ],
          "table": [
           {
            "cells": {
             "fill": {
              "color": "#EBF0F8"
             },
             "line": {
              "color": "white"
             }
            },
            "header": {
             "fill": {
              "color": "#C8D4E3"
             },
             "line": {
              "color": "white"
             }
            },
            "type": "table"
           }
          ]
         },
         "layout": {
          "annotationdefaults": {
           "arrowcolor": "#2a3f5f",
           "arrowhead": 0,
           "arrowwidth": 1
          },
          "autotypenumbers": "strict",
          "coloraxis": {
           "colorbar": {
            "outlinewidth": 0,
            "ticks": ""
           }
          },
          "colorscale": {
           "diverging": [
            [
             0,
             "#8e0152"
            ],
            [
             0.1,
             "#c51b7d"
            ],
            [
             0.2,
             "#de77ae"
            ],
            [
             0.3,
             "#f1b6da"
            ],
            [
             0.4,
             "#fde0ef"
            ],
            [
             0.5,
             "#f7f7f7"
            ],
            [
             0.6,
             "#e6f5d0"
            ],
            [
             0.7,
             "#b8e186"
            ],
            [
             0.8,
             "#7fbc41"
            ],
            [
             0.9,
             "#4d9221"
            ],
            [
             1,
             "#276419"
            ]
           ],
           "sequential": [
            [
             0,
             "#0d0887"
            ],
            [
             0.1111111111111111,
             "#46039f"
            ],
            [
             0.2222222222222222,
             "#7201a8"
            ],
            [
             0.3333333333333333,
             "#9c179e"
            ],
            [
             0.4444444444444444,
             "#bd3786"
            ],
            [
             0.5555555555555556,
             "#d8576b"
            ],
            [
             0.6666666666666666,
             "#ed7953"
            ],
            [
             0.7777777777777778,
             "#fb9f3a"
            ],
            [
             0.8888888888888888,
             "#fdca26"
            ],
            [
             1,
             "#f0f921"
            ]
           ],
           "sequentialminus": [
            [
             0,
             "#0d0887"
            ],
            [
             0.1111111111111111,
             "#46039f"
            ],
            [
             0.2222222222222222,
             "#7201a8"
            ],
            [
             0.3333333333333333,
             "#9c179e"
            ],
            [
             0.4444444444444444,
             "#bd3786"
            ],
            [
             0.5555555555555556,
             "#d8576b"
            ],
            [
             0.6666666666666666,
             "#ed7953"
            ],
            [
             0.7777777777777778,
             "#fb9f3a"
            ],
            [
             0.8888888888888888,
             "#fdca26"
            ],
            [
             1,
             "#f0f921"
            ]
           ]
          },
          "colorway": [
           "#636efa",
           "#EF553B",
           "#00cc96",
           "#ab63fa",
           "#FFA15A",
           "#19d3f3",
           "#FF6692",
           "#B6E880",
           "#FF97FF",
           "#FECB52"
          ],
          "font": {
           "color": "#2a3f5f"
          },
          "geo": {
           "bgcolor": "white",
           "lakecolor": "white",
           "landcolor": "#E5ECF6",
           "showlakes": true,
           "showland": true,
           "subunitcolor": "white"
          },
          "hoverlabel": {
           "align": "left"
          },
          "hovermode": "closest",
          "mapbox": {
           "style": "light"
          },
          "paper_bgcolor": "white",
          "plot_bgcolor": "#E5ECF6",
          "polar": {
           "angularaxis": {
            "gridcolor": "white",
            "linecolor": "white",
            "ticks": ""
           },
           "bgcolor": "#E5ECF6",
           "radialaxis": {
            "gridcolor": "white",
            "linecolor": "white",
            "ticks": ""
           }
          },
          "scene": {
           "xaxis": {
            "backgroundcolor": "#E5ECF6",
            "gridcolor": "white",
            "gridwidth": 2,
            "linecolor": "white",
            "showbackground": true,
            "ticks": "",
            "zerolinecolor": "white"
           },
           "yaxis": {
            "backgroundcolor": "#E5ECF6",
            "gridcolor": "white",
            "gridwidth": 2,
            "linecolor": "white",
            "showbackground": true,
            "ticks": "",
            "zerolinecolor": "white"
           },
           "zaxis": {
            "backgroundcolor": "#E5ECF6",
            "gridcolor": "white",
            "gridwidth": 2,
            "linecolor": "white",
            "showbackground": true,
            "ticks": "",
            "zerolinecolor": "white"
           }
          },
          "shapedefaults": {
           "line": {
            "color": "#2a3f5f"
           }
          },
          "ternary": {
           "aaxis": {
            "gridcolor": "white",
            "linecolor": "white",
            "ticks": ""
           },
           "baxis": {
            "gridcolor": "white",
            "linecolor": "white",
            "ticks": ""
           },
           "bgcolor": "#E5ECF6",
           "caxis": {
            "gridcolor": "white",
            "linecolor": "white",
            "ticks": ""
           }
          },
          "title": {
           "x": 0.05
          },
          "xaxis": {
           "automargin": true,
           "gridcolor": "white",
           "linecolor": "white",
           "ticks": "",
           "title": {
            "standoff": 15
           },
           "zerolinecolor": "white",
           "zerolinewidth": 2
          },
          "yaxis": {
           "automargin": true,
           "gridcolor": "white",
           "linecolor": "white",
           "ticks": "",
           "title": {
            "standoff": 15
           },
           "zerolinecolor": "white",
           "zerolinewidth": 2
          }
         }
        },
        "title": {
         "font": {
          "color": "#4D5663"
         }
        },
        "xaxis": {
         "gridcolor": "#E1E5ED",
         "showgrid": true,
         "tickfont": {
          "color": "#4D5663"
         },
         "title": {
          "font": {
           "color": "#4D5663"
          },
          "text": ""
         },
         "zerolinecolor": "#E1E5ED"
        },
        "yaxis": {
         "gridcolor": "#E1E5ED",
         "showgrid": true,
         "tickfont": {
          "color": "#4D5663"
         },
         "title": {
          "font": {
           "color": "#4D5663"
          },
          "text": ""
         },
         "zerolinecolor": "#E1E5ED"
        }
       }
      },
      "text/html": [
       "<div>                            <div id=\"dc82096a-8550-4477-9d8e-969d1e561ced\" class=\"plotly-graph-div\" style=\"height:525px; width:100%;\"></div>            <script type=\"text/javascript\">                require([\"plotly\"], function(Plotly) {                    window.PLOTLYENV=window.PLOTLYENV || {};\n",
       "                    window.PLOTLYENV.BASE_URL='https://plot.ly';                                    if (document.getElementById(\"dc82096a-8550-4477-9d8e-969d1e561ced\")) {                    Plotly.newPlot(                        \"dc82096a-8550-4477-9d8e-969d1e561ced\",                        [{\"histfunc\":\"count\",\"histnorm\":\"\",\"marker\":{\"color\":\"rgba(255, 153, 51, 1.0)\",\"line\":{\"color\":\"#4D5663\",\"width\":1.3}},\"name\":\"A\",\"opacity\":0.8,\"orientation\":\"v\",\"x\":[-0.05559180576518184,0.5620453907383516,-1.7899404051407906,1.500518268376267,0.7528373449617896,-1.1771597300556,1.97138381329973,0.3020214150295912,-1.9247991418812365,0.709441640718662,-0.01703638589202485,0.8199877942986776,0.5591157966803538,-0.07831734859886214,2.0263777208694695,-0.07574584864740508,-0.396370799265584,0.4191186184191619,0.9098700431175843,-1.0431608126404592,-1.7937637698431927,0.3067825397453611,0.2691059102780455,-0.31836442674890625,0.24337795539086785,0.512773733565278,-1.4073754758808312,0.5457544007462951,-0.6571845396135951,-2.0639373239813503,-1.4468588683638646,-0.9789754188086063,-2.1306056808379563,-0.20480729972649234,-0.8222382380694211,-0.33300118314536314,-0.29784234037258445,0.5307423401569827,0.15380642956204912,-0.1188208875107539,-0.8383589645894698,-0.5427105997081095,2.488310572074583,-0.2645552704783902,-0.45784207536797183,-1.8720226996945561,-0.7221199763313748,0.7303713162051148,-0.5675927577151667,0.2743443549958475,-0.8363932058173486,-0.197070058476929,-0.20013495199757259,-2.245092326684816,0.5943639003035389,-2.4438290349158693,-2.312513093070422,-0.10226142096044005,-0.3540991820914685,1.1846112283224697,0.5785961937800251,0.9454529767507993,-0.9378679023799694,2.252026617954698,0.8836245400728469,0.19770903317243588,0.5820505519137525,0.7000403498804273,0.18687441456797468,-2.605904251516702,1.013838593924159,0.7048394896011076,-0.9700118607851692,1.4122071311811517,0.22121580587926673,1.2618498032297492,-0.5281752604894419,-0.7421908714692181,1.5430526507489388,1.6370858753648112,0.15153329405330462,-0.35805431200293014,-0.9283089709763265,0.3293002280206697,-0.04430655153238148,1.125980853731697,-0.8103951450968989,-0.636133320370373,-0.5840496782043829,0.2912078731205048,-0.5137033735673227,-0.5894102919320074,-0.44662329985137666,1.4453702578010075,-2.8820121087644,0.5943854382063423,-0.2507644033592735,-1.4506707195233537,-0.32976243758703705,-0.5173084332484963],\"type\":\"histogram\"}],                        {\"barmode\":\"overlay\",\"legend\":{\"bgcolor\":\"#F5F6F9\",\"font\":{\"color\":\"#4D5663\"}},\"paper_bgcolor\":\"#F5F6F9\",\"plot_bgcolor\":\"#F5F6F9\",\"template\":{\"data\":{\"barpolar\":[{\"marker\":{\"line\":{\"color\":\"#E5ECF6\",\"width\":0.5},\"pattern\":{\"fillmode\":\"overlay\",\"size\":10,\"solidity\":0.2}},\"type\":\"barpolar\"}],\"bar\":[{\"error_x\":{\"color\":\"#2a3f5f\"},\"error_y\":{\"color\":\"#2a3f5f\"},\"marker\":{\"line\":{\"color\":\"#E5ECF6\",\"width\":0.5},\"pattern\":{\"fillmode\":\"overlay\",\"size\":10,\"solidity\":0.2}},\"type\":\"bar\"}],\"carpet\":[{\"aaxis\":{\"endlinecolor\":\"#2a3f5f\",\"gridcolor\":\"white\",\"linecolor\":\"white\",\"minorgridcolor\":\"white\",\"startlinecolor\":\"#2a3f5f\"},\"baxis\":{\"endlinecolor\":\"#2a3f5f\",\"gridcolor\":\"white\",\"linecolor\":\"white\",\"minorgridcolor\":\"white\",\"startlinecolor\":\"#2a3f5f\"},\"type\":\"carpet\"}],\"choropleth\":[{\"colorbar\":{\"outlinewidth\":0,\"ticks\":\"\"},\"type\":\"choropleth\"}],\"contourcarpet\":[{\"colorbar\":{\"outlinewidth\":0,\"ticks\":\"\"},\"type\":\"contourcarpet\"}],\"contour\":[{\"colorbar\":{\"outlinewidth\":0,\"ticks\":\"\"},\"colorscale\":[[0.0,\"#0d0887\"],[0.1111111111111111,\"#46039f\"],[0.2222222222222222,\"#7201a8\"],[0.3333333333333333,\"#9c179e\"],[0.4444444444444444,\"#bd3786\"],[0.5555555555555556,\"#d8576b\"],[0.6666666666666666,\"#ed7953\"],[0.7777777777777778,\"#fb9f3a\"],[0.8888888888888888,\"#fdca26\"],[1.0,\"#f0f921\"]],\"type\":\"contour\"}],\"heatmapgl\":[{\"colorbar\":{\"outlinewidth\":0,\"ticks\":\"\"},\"colorscale\":[[0.0,\"#0d0887\"],[0.1111111111111111,\"#46039f\"],[0.2222222222222222,\"#7201a8\"],[0.3333333333333333,\"#9c179e\"],[0.4444444444444444,\"#bd3786\"],[0.5555555555555556,\"#d8576b\"],[0.6666666666666666,\"#ed7953\"],[0.7777777777777778,\"#fb9f3a\"],[0.8888888888888888,\"#fdca26\"],[1.0,\"#f0f921\"]],\"type\":\"heatmapgl\"}],\"heatmap\":[{\"colorbar\":{\"outlinewidth\":0,\"ticks\":\"\"},\"colorscale\":[[0.0,\"#0d0887\"],[0.1111111111111111,\"#46039f\"],[0.2222222222222222,\"#7201a8\"],[0.3333333333333333,\"#9c179e\"],[0.4444444444444444,\"#bd3786\"],[0.5555555555555556,\"#d8576b\"],[0.6666666666666666,\"#ed7953\"],[0.7777777777777778,\"#fb9f3a\"],[0.8888888888888888,\"#fdca26\"],[1.0,\"#f0f921\"]],\"type\":\"heatmap\"}],\"histogram2dcontour\":[{\"colorbar\":{\"outlinewidth\":0,\"ticks\":\"\"},\"colorscale\":[[0.0,\"#0d0887\"],[0.1111111111111111,\"#46039f\"],[0.2222222222222222,\"#7201a8\"],[0.3333333333333333,\"#9c179e\"],[0.4444444444444444,\"#bd3786\"],[0.5555555555555556,\"#d8576b\"],[0.6666666666666666,\"#ed7953\"],[0.7777777777777778,\"#fb9f3a\"],[0.8888888888888888,\"#fdca26\"],[1.0,\"#f0f921\"]],\"type\":\"histogram2dcontour\"}],\"histogram2d\":[{\"colorbar\":{\"outlinewidth\":0,\"ticks\":\"\"},\"colorscale\":[[0.0,\"#0d0887\"],[0.1111111111111111,\"#46039f\"],[0.2222222222222222,\"#7201a8\"],[0.3333333333333333,\"#9c179e\"],[0.4444444444444444,\"#bd3786\"],[0.5555555555555556,\"#d8576b\"],[0.6666666666666666,\"#ed7953\"],[0.7777777777777778,\"#fb9f3a\"],[0.8888888888888888,\"#fdca26\"],[1.0,\"#f0f921\"]],\"type\":\"histogram2d\"}],\"histogram\":[{\"marker\":{\"pattern\":{\"fillmode\":\"overlay\",\"size\":10,\"solidity\":0.2}},\"type\":\"histogram\"}],\"mesh3d\":[{\"colorbar\":{\"outlinewidth\":0,\"ticks\":\"\"},\"type\":\"mesh3d\"}],\"parcoords\":[{\"line\":{\"colorbar\":{\"outlinewidth\":0,\"ticks\":\"\"}},\"type\":\"parcoords\"}],\"pie\":[{\"automargin\":true,\"type\":\"pie\"}],\"scatter3d\":[{\"line\":{\"colorbar\":{\"outlinewidth\":0,\"ticks\":\"\"}},\"marker\":{\"colorbar\":{\"outlinewidth\":0,\"ticks\":\"\"}},\"type\":\"scatter3d\"}],\"scattercarpet\":[{\"marker\":{\"colorbar\":{\"outlinewidth\":0,\"ticks\":\"\"}},\"type\":\"scattercarpet\"}],\"scattergeo\":[{\"marker\":{\"colorbar\":{\"outlinewidth\":0,\"ticks\":\"\"}},\"type\":\"scattergeo\"}],\"scattergl\":[{\"marker\":{\"colorbar\":{\"outlinewidth\":0,\"ticks\":\"\"}},\"type\":\"scattergl\"}],\"scattermapbox\":[{\"marker\":{\"colorbar\":{\"outlinewidth\":0,\"ticks\":\"\"}},\"type\":\"scattermapbox\"}],\"scatterpolargl\":[{\"marker\":{\"colorbar\":{\"outlinewidth\":0,\"ticks\":\"\"}},\"type\":\"scatterpolargl\"}],\"scatterpolar\":[{\"marker\":{\"colorbar\":{\"outlinewidth\":0,\"ticks\":\"\"}},\"type\":\"scatterpolar\"}],\"scatter\":[{\"fillpattern\":{\"fillmode\":\"overlay\",\"size\":10,\"solidity\":0.2},\"type\":\"scatter\"}],\"scatterternary\":[{\"marker\":{\"colorbar\":{\"outlinewidth\":0,\"ticks\":\"\"}},\"type\":\"scatterternary\"}],\"surface\":[{\"colorbar\":{\"outlinewidth\":0,\"ticks\":\"\"},\"colorscale\":[[0.0,\"#0d0887\"],[0.1111111111111111,\"#46039f\"],[0.2222222222222222,\"#7201a8\"],[0.3333333333333333,\"#9c179e\"],[0.4444444444444444,\"#bd3786\"],[0.5555555555555556,\"#d8576b\"],[0.6666666666666666,\"#ed7953\"],[0.7777777777777778,\"#fb9f3a\"],[0.8888888888888888,\"#fdca26\"],[1.0,\"#f0f921\"]],\"type\":\"surface\"}],\"table\":[{\"cells\":{\"fill\":{\"color\":\"#EBF0F8\"},\"line\":{\"color\":\"white\"}},\"header\":{\"fill\":{\"color\":\"#C8D4E3\"},\"line\":{\"color\":\"white\"}},\"type\":\"table\"}]},\"layout\":{\"annotationdefaults\":{\"arrowcolor\":\"#2a3f5f\",\"arrowhead\":0,\"arrowwidth\":1},\"autotypenumbers\":\"strict\",\"coloraxis\":{\"colorbar\":{\"outlinewidth\":0,\"ticks\":\"\"}},\"colorscale\":{\"diverging\":[[0,\"#8e0152\"],[0.1,\"#c51b7d\"],[0.2,\"#de77ae\"],[0.3,\"#f1b6da\"],[0.4,\"#fde0ef\"],[0.5,\"#f7f7f7\"],[0.6,\"#e6f5d0\"],[0.7,\"#b8e186\"],[0.8,\"#7fbc41\"],[0.9,\"#4d9221\"],[1,\"#276419\"]],\"sequential\":[[0.0,\"#0d0887\"],[0.1111111111111111,\"#46039f\"],[0.2222222222222222,\"#7201a8\"],[0.3333333333333333,\"#9c179e\"],[0.4444444444444444,\"#bd3786\"],[0.5555555555555556,\"#d8576b\"],[0.6666666666666666,\"#ed7953\"],[0.7777777777777778,\"#fb9f3a\"],[0.8888888888888888,\"#fdca26\"],[1.0,\"#f0f921\"]],\"sequentialminus\":[[0.0,\"#0d0887\"],[0.1111111111111111,\"#46039f\"],[0.2222222222222222,\"#7201a8\"],[0.3333333333333333,\"#9c179e\"],[0.4444444444444444,\"#bd3786\"],[0.5555555555555556,\"#d8576b\"],[0.6666666666666666,\"#ed7953\"],[0.7777777777777778,\"#fb9f3a\"],[0.8888888888888888,\"#fdca26\"],[1.0,\"#f0f921\"]]},\"colorway\":[\"#636efa\",\"#EF553B\",\"#00cc96\",\"#ab63fa\",\"#FFA15A\",\"#19d3f3\",\"#FF6692\",\"#B6E880\",\"#FF97FF\",\"#FECB52\"],\"font\":{\"color\":\"#2a3f5f\"},\"geo\":{\"bgcolor\":\"white\",\"lakecolor\":\"white\",\"landcolor\":\"#E5ECF6\",\"showlakes\":true,\"showland\":true,\"subunitcolor\":\"white\"},\"hoverlabel\":{\"align\":\"left\"},\"hovermode\":\"closest\",\"mapbox\":{\"style\":\"light\"},\"paper_bgcolor\":\"white\",\"plot_bgcolor\":\"#E5ECF6\",\"polar\":{\"angularaxis\":{\"gridcolor\":\"white\",\"linecolor\":\"white\",\"ticks\":\"\"},\"bgcolor\":\"#E5ECF6\",\"radialaxis\":{\"gridcolor\":\"white\",\"linecolor\":\"white\",\"ticks\":\"\"}},\"scene\":{\"xaxis\":{\"backgroundcolor\":\"#E5ECF6\",\"gridcolor\":\"white\",\"gridwidth\":2,\"linecolor\":\"white\",\"showbackground\":true,\"ticks\":\"\",\"zerolinecolor\":\"white\"},\"yaxis\":{\"backgroundcolor\":\"#E5ECF6\",\"gridcolor\":\"white\",\"gridwidth\":2,\"linecolor\":\"white\",\"showbackground\":true,\"ticks\":\"\",\"zerolinecolor\":\"white\"},\"zaxis\":{\"backgroundcolor\":\"#E5ECF6\",\"gridcolor\":\"white\",\"gridwidth\":2,\"linecolor\":\"white\",\"showbackground\":true,\"ticks\":\"\",\"zerolinecolor\":\"white\"}},\"shapedefaults\":{\"line\":{\"color\":\"#2a3f5f\"}},\"ternary\":{\"aaxis\":{\"gridcolor\":\"white\",\"linecolor\":\"white\",\"ticks\":\"\"},\"baxis\":{\"gridcolor\":\"white\",\"linecolor\":\"white\",\"ticks\":\"\"},\"bgcolor\":\"#E5ECF6\",\"caxis\":{\"gridcolor\":\"white\",\"linecolor\":\"white\",\"ticks\":\"\"}},\"title\":{\"x\":0.05},\"xaxis\":{\"automargin\":true,\"gridcolor\":\"white\",\"linecolor\":\"white\",\"ticks\":\"\",\"title\":{\"standoff\":15},\"zerolinecolor\":\"white\",\"zerolinewidth\":2},\"yaxis\":{\"automargin\":true,\"gridcolor\":\"white\",\"linecolor\":\"white\",\"ticks\":\"\",\"title\":{\"standoff\":15},\"zerolinecolor\":\"white\",\"zerolinewidth\":2}}},\"title\":{\"font\":{\"color\":\"#4D5663\"}},\"xaxis\":{\"gridcolor\":\"#E1E5ED\",\"showgrid\":true,\"tickfont\":{\"color\":\"#4D5663\"},\"title\":{\"font\":{\"color\":\"#4D5663\"},\"text\":\"\"},\"zerolinecolor\":\"#E1E5ED\"},\"yaxis\":{\"gridcolor\":\"#E1E5ED\",\"showgrid\":true,\"tickfont\":{\"color\":\"#4D5663\"},\"title\":{\"font\":{\"color\":\"#4D5663\"},\"text\":\"\"},\"zerolinecolor\":\"#E1E5ED\"}},                        {\"showLink\": true, \"linkText\": \"Export to plot.ly\", \"plotlyServerURL\": \"https://plot.ly\", \"responsive\": true}                    ).then(function(){\n",
       "                            \n",
       "var gd = document.getElementById('dc82096a-8550-4477-9d8e-969d1e561ced');\n",
       "var x = new MutationObserver(function (mutations, observer) {{\n",
       "        var display = window.getComputedStyle(gd).display;\n",
       "        if (!display || display === 'none') {{\n",
       "            console.log([gd, 'removed!']);\n",
       "            Plotly.purge(gd);\n",
       "            observer.disconnect();\n",
       "        }}\n",
       "}});\n",
       "\n",
       "// Listen for the removal of the full notebook cells\n",
       "var notebookContainer = gd.closest('#notebook-container');\n",
       "if (notebookContainer) {{\n",
       "    x.observe(notebookContainer, {childList: true});\n",
       "}}\n",
       "\n",
       "// Listen for the clearing of the current output cell\n",
       "var outputEl = gd.closest('.output');\n",
       "if (outputEl) {{\n",
       "    x.observe(outputEl, {childList: true});\n",
       "}}\n",
       "\n",
       "                        })                };                });            </script>        </div>"
      ]
     },
     "metadata": {},
     "output_type": "display_data"
    }
   ],
   "source": [
    "df['A'].iplot(kind='hist')"
   ]
  },
  {
   "cell_type": "code",
   "execution_count": 37,
   "id": "9008202b",
   "metadata": {},
   "outputs": [
    {
     "data": {
      "application/vnd.plotly.v1+json": {
       "config": {
        "linkText": "Export to plot.ly",
        "plotlyServerURL": "https://plot.ly",
        "showLink": true
       },
       "data": [
        {
         "histfunc": "count",
         "histnorm": "",
         "marker": {
          "color": "rgba(255, 153, 51, 1.0)",
          "line": {
           "color": "#4D5663",
           "width": 1.3
          }
         },
         "name": "A",
         "nbinsx": 30,
         "opacity": 0.8,
         "orientation": "v",
         "type": "histogram",
         "x": [
          -0.05559180576518184,
          0.5620453907383516,
          -1.7899404051407906,
          1.500518268376267,
          0.7528373449617896,
          -1.1771597300556,
          1.97138381329973,
          0.3020214150295912,
          -1.9247991418812365,
          0.709441640718662,
          -0.01703638589202485,
          0.8199877942986776,
          0.5591157966803538,
          -0.07831734859886214,
          2.0263777208694695,
          -0.07574584864740508,
          -0.396370799265584,
          0.4191186184191619,
          0.9098700431175843,
          -1.0431608126404592,
          -1.7937637698431927,
          0.3067825397453611,
          0.2691059102780455,
          -0.31836442674890625,
          0.24337795539086785,
          0.512773733565278,
          -1.4073754758808312,
          0.5457544007462951,
          -0.6571845396135951,
          -2.0639373239813503,
          -1.4468588683638646,
          -0.9789754188086063,
          -2.1306056808379563,
          -0.20480729972649234,
          -0.8222382380694211,
          -0.33300118314536314,
          -0.29784234037258445,
          0.5307423401569827,
          0.15380642956204912,
          -0.1188208875107539,
          -0.8383589645894698,
          -0.5427105997081095,
          2.488310572074583,
          -0.2645552704783902,
          -0.45784207536797183,
          -1.8720226996945561,
          -0.7221199763313748,
          0.7303713162051148,
          -0.5675927577151667,
          0.2743443549958475,
          -0.8363932058173486,
          -0.197070058476929,
          -0.20013495199757259,
          -2.245092326684816,
          0.5943639003035389,
          -2.4438290349158693,
          -2.312513093070422,
          -0.10226142096044005,
          -0.3540991820914685,
          1.1846112283224697,
          0.5785961937800251,
          0.9454529767507993,
          -0.9378679023799694,
          2.252026617954698,
          0.8836245400728469,
          0.19770903317243588,
          0.5820505519137525,
          0.7000403498804273,
          0.18687441456797468,
          -2.605904251516702,
          1.013838593924159,
          0.7048394896011076,
          -0.9700118607851692,
          1.4122071311811517,
          0.22121580587926673,
          1.2618498032297492,
          -0.5281752604894419,
          -0.7421908714692181,
          1.5430526507489388,
          1.6370858753648112,
          0.15153329405330462,
          -0.35805431200293014,
          -0.9283089709763265,
          0.3293002280206697,
          -0.04430655153238148,
          1.125980853731697,
          -0.8103951450968989,
          -0.636133320370373,
          -0.5840496782043829,
          0.2912078731205048,
          -0.5137033735673227,
          -0.5894102919320074,
          -0.44662329985137666,
          1.4453702578010075,
          -2.8820121087644,
          0.5943854382063423,
          -0.2507644033592735,
          -1.4506707195233537,
          -0.32976243758703705,
          -0.5173084332484963
         ]
        }
       ],
       "layout": {
        "barmode": "overlay",
        "legend": {
         "bgcolor": "#F5F6F9",
         "font": {
          "color": "#4D5663"
         }
        },
        "paper_bgcolor": "#F5F6F9",
        "plot_bgcolor": "#F5F6F9",
        "template": {
         "data": {
          "bar": [
           {
            "error_x": {
             "color": "#2a3f5f"
            },
            "error_y": {
             "color": "#2a3f5f"
            },
            "marker": {
             "line": {
              "color": "#E5ECF6",
              "width": 0.5
             },
             "pattern": {
              "fillmode": "overlay",
              "size": 10,
              "solidity": 0.2
             }
            },
            "type": "bar"
           }
          ],
          "barpolar": [
           {
            "marker": {
             "line": {
              "color": "#E5ECF6",
              "width": 0.5
             },
             "pattern": {
              "fillmode": "overlay",
              "size": 10,
              "solidity": 0.2
             }
            },
            "type": "barpolar"
           }
          ],
          "carpet": [
           {
            "aaxis": {
             "endlinecolor": "#2a3f5f",
             "gridcolor": "white",
             "linecolor": "white",
             "minorgridcolor": "white",
             "startlinecolor": "#2a3f5f"
            },
            "baxis": {
             "endlinecolor": "#2a3f5f",
             "gridcolor": "white",
             "linecolor": "white",
             "minorgridcolor": "white",
             "startlinecolor": "#2a3f5f"
            },
            "type": "carpet"
           }
          ],
          "choropleth": [
           {
            "colorbar": {
             "outlinewidth": 0,
             "ticks": ""
            },
            "type": "choropleth"
           }
          ],
          "contour": [
           {
            "colorbar": {
             "outlinewidth": 0,
             "ticks": ""
            },
            "colorscale": [
             [
              0,
              "#0d0887"
             ],
             [
              0.1111111111111111,
              "#46039f"
             ],
             [
              0.2222222222222222,
              "#7201a8"
             ],
             [
              0.3333333333333333,
              "#9c179e"
             ],
             [
              0.4444444444444444,
              "#bd3786"
             ],
             [
              0.5555555555555556,
              "#d8576b"
             ],
             [
              0.6666666666666666,
              "#ed7953"
             ],
             [
              0.7777777777777778,
              "#fb9f3a"
             ],
             [
              0.8888888888888888,
              "#fdca26"
             ],
             [
              1,
              "#f0f921"
             ]
            ],
            "type": "contour"
           }
          ],
          "contourcarpet": [
           {
            "colorbar": {
             "outlinewidth": 0,
             "ticks": ""
            },
            "type": "contourcarpet"
           }
          ],
          "heatmap": [
           {
            "colorbar": {
             "outlinewidth": 0,
             "ticks": ""
            },
            "colorscale": [
             [
              0,
              "#0d0887"
             ],
             [
              0.1111111111111111,
              "#46039f"
             ],
             [
              0.2222222222222222,
              "#7201a8"
             ],
             [
              0.3333333333333333,
              "#9c179e"
             ],
             [
              0.4444444444444444,
              "#bd3786"
             ],
             [
              0.5555555555555556,
              "#d8576b"
             ],
             [
              0.6666666666666666,
              "#ed7953"
             ],
             [
              0.7777777777777778,
              "#fb9f3a"
             ],
             [
              0.8888888888888888,
              "#fdca26"
             ],
             [
              1,
              "#f0f921"
             ]
            ],
            "type": "heatmap"
           }
          ],
          "heatmapgl": [
           {
            "colorbar": {
             "outlinewidth": 0,
             "ticks": ""
            },
            "colorscale": [
             [
              0,
              "#0d0887"
             ],
             [
              0.1111111111111111,
              "#46039f"
             ],
             [
              0.2222222222222222,
              "#7201a8"
             ],
             [
              0.3333333333333333,
              "#9c179e"
             ],
             [
              0.4444444444444444,
              "#bd3786"
             ],
             [
              0.5555555555555556,
              "#d8576b"
             ],
             [
              0.6666666666666666,
              "#ed7953"
             ],
             [
              0.7777777777777778,
              "#fb9f3a"
             ],
             [
              0.8888888888888888,
              "#fdca26"
             ],
             [
              1,
              "#f0f921"
             ]
            ],
            "type": "heatmapgl"
           }
          ],
          "histogram": [
           {
            "marker": {
             "pattern": {
              "fillmode": "overlay",
              "size": 10,
              "solidity": 0.2
             }
            },
            "type": "histogram"
           }
          ],
          "histogram2d": [
           {
            "colorbar": {
             "outlinewidth": 0,
             "ticks": ""
            },
            "colorscale": [
             [
              0,
              "#0d0887"
             ],
             [
              0.1111111111111111,
              "#46039f"
             ],
             [
              0.2222222222222222,
              "#7201a8"
             ],
             [
              0.3333333333333333,
              "#9c179e"
             ],
             [
              0.4444444444444444,
              "#bd3786"
             ],
             [
              0.5555555555555556,
              "#d8576b"
             ],
             [
              0.6666666666666666,
              "#ed7953"
             ],
             [
              0.7777777777777778,
              "#fb9f3a"
             ],
             [
              0.8888888888888888,
              "#fdca26"
             ],
             [
              1,
              "#f0f921"
             ]
            ],
            "type": "histogram2d"
           }
          ],
          "histogram2dcontour": [
           {
            "colorbar": {
             "outlinewidth": 0,
             "ticks": ""
            },
            "colorscale": [
             [
              0,
              "#0d0887"
             ],
             [
              0.1111111111111111,
              "#46039f"
             ],
             [
              0.2222222222222222,
              "#7201a8"
             ],
             [
              0.3333333333333333,
              "#9c179e"
             ],
             [
              0.4444444444444444,
              "#bd3786"
             ],
             [
              0.5555555555555556,
              "#d8576b"
             ],
             [
              0.6666666666666666,
              "#ed7953"
             ],
             [
              0.7777777777777778,
              "#fb9f3a"
             ],
             [
              0.8888888888888888,
              "#fdca26"
             ],
             [
              1,
              "#f0f921"
             ]
            ],
            "type": "histogram2dcontour"
           }
          ],
          "mesh3d": [
           {
            "colorbar": {
             "outlinewidth": 0,
             "ticks": ""
            },
            "type": "mesh3d"
           }
          ],
          "parcoords": [
           {
            "line": {
             "colorbar": {
              "outlinewidth": 0,
              "ticks": ""
             }
            },
            "type": "parcoords"
           }
          ],
          "pie": [
           {
            "automargin": true,
            "type": "pie"
           }
          ],
          "scatter": [
           {
            "fillpattern": {
             "fillmode": "overlay",
             "size": 10,
             "solidity": 0.2
            },
            "type": "scatter"
           }
          ],
          "scatter3d": [
           {
            "line": {
             "colorbar": {
              "outlinewidth": 0,
              "ticks": ""
             }
            },
            "marker": {
             "colorbar": {
              "outlinewidth": 0,
              "ticks": ""
             }
            },
            "type": "scatter3d"
           }
          ],
          "scattercarpet": [
           {
            "marker": {
             "colorbar": {
              "outlinewidth": 0,
              "ticks": ""
             }
            },
            "type": "scattercarpet"
           }
          ],
          "scattergeo": [
           {
            "marker": {
             "colorbar": {
              "outlinewidth": 0,
              "ticks": ""
             }
            },
            "type": "scattergeo"
           }
          ],
          "scattergl": [
           {
            "marker": {
             "colorbar": {
              "outlinewidth": 0,
              "ticks": ""
             }
            },
            "type": "scattergl"
           }
          ],
          "scattermapbox": [
           {
            "marker": {
             "colorbar": {
              "outlinewidth": 0,
              "ticks": ""
             }
            },
            "type": "scattermapbox"
           }
          ],
          "scatterpolar": [
           {
            "marker": {
             "colorbar": {
              "outlinewidth": 0,
              "ticks": ""
             }
            },
            "type": "scatterpolar"
           }
          ],
          "scatterpolargl": [
           {
            "marker": {
             "colorbar": {
              "outlinewidth": 0,
              "ticks": ""
             }
            },
            "type": "scatterpolargl"
           }
          ],
          "scatterternary": [
           {
            "marker": {
             "colorbar": {
              "outlinewidth": 0,
              "ticks": ""
             }
            },
            "type": "scatterternary"
           }
          ],
          "surface": [
           {
            "colorbar": {
             "outlinewidth": 0,
             "ticks": ""
            },
            "colorscale": [
             [
              0,
              "#0d0887"
             ],
             [
              0.1111111111111111,
              "#46039f"
             ],
             [
              0.2222222222222222,
              "#7201a8"
             ],
             [
              0.3333333333333333,
              "#9c179e"
             ],
             [
              0.4444444444444444,
              "#bd3786"
             ],
             [
              0.5555555555555556,
              "#d8576b"
             ],
             [
              0.6666666666666666,
              "#ed7953"
             ],
             [
              0.7777777777777778,
              "#fb9f3a"
             ],
             [
              0.8888888888888888,
              "#fdca26"
             ],
             [
              1,
              "#f0f921"
             ]
            ],
            "type": "surface"
           }
          ],
          "table": [
           {
            "cells": {
             "fill": {
              "color": "#EBF0F8"
             },
             "line": {
              "color": "white"
             }
            },
            "header": {
             "fill": {
              "color": "#C8D4E3"
             },
             "line": {
              "color": "white"
             }
            },
            "type": "table"
           }
          ]
         },
         "layout": {
          "annotationdefaults": {
           "arrowcolor": "#2a3f5f",
           "arrowhead": 0,
           "arrowwidth": 1
          },
          "autotypenumbers": "strict",
          "coloraxis": {
           "colorbar": {
            "outlinewidth": 0,
            "ticks": ""
           }
          },
          "colorscale": {
           "diverging": [
            [
             0,
             "#8e0152"
            ],
            [
             0.1,
             "#c51b7d"
            ],
            [
             0.2,
             "#de77ae"
            ],
            [
             0.3,
             "#f1b6da"
            ],
            [
             0.4,
             "#fde0ef"
            ],
            [
             0.5,
             "#f7f7f7"
            ],
            [
             0.6,
             "#e6f5d0"
            ],
            [
             0.7,
             "#b8e186"
            ],
            [
             0.8,
             "#7fbc41"
            ],
            [
             0.9,
             "#4d9221"
            ],
            [
             1,
             "#276419"
            ]
           ],
           "sequential": [
            [
             0,
             "#0d0887"
            ],
            [
             0.1111111111111111,
             "#46039f"
            ],
            [
             0.2222222222222222,
             "#7201a8"
            ],
            [
             0.3333333333333333,
             "#9c179e"
            ],
            [
             0.4444444444444444,
             "#bd3786"
            ],
            [
             0.5555555555555556,
             "#d8576b"
            ],
            [
             0.6666666666666666,
             "#ed7953"
            ],
            [
             0.7777777777777778,
             "#fb9f3a"
            ],
            [
             0.8888888888888888,
             "#fdca26"
            ],
            [
             1,
             "#f0f921"
            ]
           ],
           "sequentialminus": [
            [
             0,
             "#0d0887"
            ],
            [
             0.1111111111111111,
             "#46039f"
            ],
            [
             0.2222222222222222,
             "#7201a8"
            ],
            [
             0.3333333333333333,
             "#9c179e"
            ],
            [
             0.4444444444444444,
             "#bd3786"
            ],
            [
             0.5555555555555556,
             "#d8576b"
            ],
            [
             0.6666666666666666,
             "#ed7953"
            ],
            [
             0.7777777777777778,
             "#fb9f3a"
            ],
            [
             0.8888888888888888,
             "#fdca26"
            ],
            [
             1,
             "#f0f921"
            ]
           ]
          },
          "colorway": [
           "#636efa",
           "#EF553B",
           "#00cc96",
           "#ab63fa",
           "#FFA15A",
           "#19d3f3",
           "#FF6692",
           "#B6E880",
           "#FF97FF",
           "#FECB52"
          ],
          "font": {
           "color": "#2a3f5f"
          },
          "geo": {
           "bgcolor": "white",
           "lakecolor": "white",
           "landcolor": "#E5ECF6",
           "showlakes": true,
           "showland": true,
           "subunitcolor": "white"
          },
          "hoverlabel": {
           "align": "left"
          },
          "hovermode": "closest",
          "mapbox": {
           "style": "light"
          },
          "paper_bgcolor": "white",
          "plot_bgcolor": "#E5ECF6",
          "polar": {
           "angularaxis": {
            "gridcolor": "white",
            "linecolor": "white",
            "ticks": ""
           },
           "bgcolor": "#E5ECF6",
           "radialaxis": {
            "gridcolor": "white",
            "linecolor": "white",
            "ticks": ""
           }
          },
          "scene": {
           "xaxis": {
            "backgroundcolor": "#E5ECF6",
            "gridcolor": "white",
            "gridwidth": 2,
            "linecolor": "white",
            "showbackground": true,
            "ticks": "",
            "zerolinecolor": "white"
           },
           "yaxis": {
            "backgroundcolor": "#E5ECF6",
            "gridcolor": "white",
            "gridwidth": 2,
            "linecolor": "white",
            "showbackground": true,
            "ticks": "",
            "zerolinecolor": "white"
           },
           "zaxis": {
            "backgroundcolor": "#E5ECF6",
            "gridcolor": "white",
            "gridwidth": 2,
            "linecolor": "white",
            "showbackground": true,
            "ticks": "",
            "zerolinecolor": "white"
           }
          },
          "shapedefaults": {
           "line": {
            "color": "#2a3f5f"
           }
          },
          "ternary": {
           "aaxis": {
            "gridcolor": "white",
            "linecolor": "white",
            "ticks": ""
           },
           "baxis": {
            "gridcolor": "white",
            "linecolor": "white",
            "ticks": ""
           },
           "bgcolor": "#E5ECF6",
           "caxis": {
            "gridcolor": "white",
            "linecolor": "white",
            "ticks": ""
           }
          },
          "title": {
           "x": 0.05
          },
          "xaxis": {
           "automargin": true,
           "gridcolor": "white",
           "linecolor": "white",
           "ticks": "",
           "title": {
            "standoff": 15
           },
           "zerolinecolor": "white",
           "zerolinewidth": 2
          },
          "yaxis": {
           "automargin": true,
           "gridcolor": "white",
           "linecolor": "white",
           "ticks": "",
           "title": {
            "standoff": 15
           },
           "zerolinecolor": "white",
           "zerolinewidth": 2
          }
         }
        },
        "title": {
         "font": {
          "color": "#4D5663"
         }
        },
        "xaxis": {
         "gridcolor": "#E1E5ED",
         "showgrid": true,
         "tickfont": {
          "color": "#4D5663"
         },
         "title": {
          "font": {
           "color": "#4D5663"
          },
          "text": ""
         },
         "zerolinecolor": "#E1E5ED"
        },
        "yaxis": {
         "gridcolor": "#E1E5ED",
         "showgrid": true,
         "tickfont": {
          "color": "#4D5663"
         },
         "title": {
          "font": {
           "color": "#4D5663"
          },
          "text": ""
         },
         "zerolinecolor": "#E1E5ED"
        }
       }
      },
      "text/html": [
       "<div>                            <div id=\"b1d431ba-9c28-406a-9e51-01c19b08b009\" class=\"plotly-graph-div\" style=\"height:525px; width:100%;\"></div>            <script type=\"text/javascript\">                require([\"plotly\"], function(Plotly) {                    window.PLOTLYENV=window.PLOTLYENV || {};\n",
       "                    window.PLOTLYENV.BASE_URL='https://plot.ly';                                    if (document.getElementById(\"b1d431ba-9c28-406a-9e51-01c19b08b009\")) {                    Plotly.newPlot(                        \"b1d431ba-9c28-406a-9e51-01c19b08b009\",                        [{\"histfunc\":\"count\",\"histnorm\":\"\",\"marker\":{\"color\":\"rgba(255, 153, 51, 1.0)\",\"line\":{\"color\":\"#4D5663\",\"width\":1.3}},\"name\":\"A\",\"nbinsx\":30,\"opacity\":0.8,\"orientation\":\"v\",\"x\":[-0.05559180576518184,0.5620453907383516,-1.7899404051407906,1.500518268376267,0.7528373449617896,-1.1771597300556,1.97138381329973,0.3020214150295912,-1.9247991418812365,0.709441640718662,-0.01703638589202485,0.8199877942986776,0.5591157966803538,-0.07831734859886214,2.0263777208694695,-0.07574584864740508,-0.396370799265584,0.4191186184191619,0.9098700431175843,-1.0431608126404592,-1.7937637698431927,0.3067825397453611,0.2691059102780455,-0.31836442674890625,0.24337795539086785,0.512773733565278,-1.4073754758808312,0.5457544007462951,-0.6571845396135951,-2.0639373239813503,-1.4468588683638646,-0.9789754188086063,-2.1306056808379563,-0.20480729972649234,-0.8222382380694211,-0.33300118314536314,-0.29784234037258445,0.5307423401569827,0.15380642956204912,-0.1188208875107539,-0.8383589645894698,-0.5427105997081095,2.488310572074583,-0.2645552704783902,-0.45784207536797183,-1.8720226996945561,-0.7221199763313748,0.7303713162051148,-0.5675927577151667,0.2743443549958475,-0.8363932058173486,-0.197070058476929,-0.20013495199757259,-2.245092326684816,0.5943639003035389,-2.4438290349158693,-2.312513093070422,-0.10226142096044005,-0.3540991820914685,1.1846112283224697,0.5785961937800251,0.9454529767507993,-0.9378679023799694,2.252026617954698,0.8836245400728469,0.19770903317243588,0.5820505519137525,0.7000403498804273,0.18687441456797468,-2.605904251516702,1.013838593924159,0.7048394896011076,-0.9700118607851692,1.4122071311811517,0.22121580587926673,1.2618498032297492,-0.5281752604894419,-0.7421908714692181,1.5430526507489388,1.6370858753648112,0.15153329405330462,-0.35805431200293014,-0.9283089709763265,0.3293002280206697,-0.04430655153238148,1.125980853731697,-0.8103951450968989,-0.636133320370373,-0.5840496782043829,0.2912078731205048,-0.5137033735673227,-0.5894102919320074,-0.44662329985137666,1.4453702578010075,-2.8820121087644,0.5943854382063423,-0.2507644033592735,-1.4506707195233537,-0.32976243758703705,-0.5173084332484963],\"type\":\"histogram\"}],                        {\"barmode\":\"overlay\",\"legend\":{\"bgcolor\":\"#F5F6F9\",\"font\":{\"color\":\"#4D5663\"}},\"paper_bgcolor\":\"#F5F6F9\",\"plot_bgcolor\":\"#F5F6F9\",\"template\":{\"data\":{\"barpolar\":[{\"marker\":{\"line\":{\"color\":\"#E5ECF6\",\"width\":0.5},\"pattern\":{\"fillmode\":\"overlay\",\"size\":10,\"solidity\":0.2}},\"type\":\"barpolar\"}],\"bar\":[{\"error_x\":{\"color\":\"#2a3f5f\"},\"error_y\":{\"color\":\"#2a3f5f\"},\"marker\":{\"line\":{\"color\":\"#E5ECF6\",\"width\":0.5},\"pattern\":{\"fillmode\":\"overlay\",\"size\":10,\"solidity\":0.2}},\"type\":\"bar\"}],\"carpet\":[{\"aaxis\":{\"endlinecolor\":\"#2a3f5f\",\"gridcolor\":\"white\",\"linecolor\":\"white\",\"minorgridcolor\":\"white\",\"startlinecolor\":\"#2a3f5f\"},\"baxis\":{\"endlinecolor\":\"#2a3f5f\",\"gridcolor\":\"white\",\"linecolor\":\"white\",\"minorgridcolor\":\"white\",\"startlinecolor\":\"#2a3f5f\"},\"type\":\"carpet\"}],\"choropleth\":[{\"colorbar\":{\"outlinewidth\":0,\"ticks\":\"\"},\"type\":\"choropleth\"}],\"contourcarpet\":[{\"colorbar\":{\"outlinewidth\":0,\"ticks\":\"\"},\"type\":\"contourcarpet\"}],\"contour\":[{\"colorbar\":{\"outlinewidth\":0,\"ticks\":\"\"},\"colorscale\":[[0.0,\"#0d0887\"],[0.1111111111111111,\"#46039f\"],[0.2222222222222222,\"#7201a8\"],[0.3333333333333333,\"#9c179e\"],[0.4444444444444444,\"#bd3786\"],[0.5555555555555556,\"#d8576b\"],[0.6666666666666666,\"#ed7953\"],[0.7777777777777778,\"#fb9f3a\"],[0.8888888888888888,\"#fdca26\"],[1.0,\"#f0f921\"]],\"type\":\"contour\"}],\"heatmapgl\":[{\"colorbar\":{\"outlinewidth\":0,\"ticks\":\"\"},\"colorscale\":[[0.0,\"#0d0887\"],[0.1111111111111111,\"#46039f\"],[0.2222222222222222,\"#7201a8\"],[0.3333333333333333,\"#9c179e\"],[0.4444444444444444,\"#bd3786\"],[0.5555555555555556,\"#d8576b\"],[0.6666666666666666,\"#ed7953\"],[0.7777777777777778,\"#fb9f3a\"],[0.8888888888888888,\"#fdca26\"],[1.0,\"#f0f921\"]],\"type\":\"heatmapgl\"}],\"heatmap\":[{\"colorbar\":{\"outlinewidth\":0,\"ticks\":\"\"},\"colorscale\":[[0.0,\"#0d0887\"],[0.1111111111111111,\"#46039f\"],[0.2222222222222222,\"#7201a8\"],[0.3333333333333333,\"#9c179e\"],[0.4444444444444444,\"#bd3786\"],[0.5555555555555556,\"#d8576b\"],[0.6666666666666666,\"#ed7953\"],[0.7777777777777778,\"#fb9f3a\"],[0.8888888888888888,\"#fdca26\"],[1.0,\"#f0f921\"]],\"type\":\"heatmap\"}],\"histogram2dcontour\":[{\"colorbar\":{\"outlinewidth\":0,\"ticks\":\"\"},\"colorscale\":[[0.0,\"#0d0887\"],[0.1111111111111111,\"#46039f\"],[0.2222222222222222,\"#7201a8\"],[0.3333333333333333,\"#9c179e\"],[0.4444444444444444,\"#bd3786\"],[0.5555555555555556,\"#d8576b\"],[0.6666666666666666,\"#ed7953\"],[0.7777777777777778,\"#fb9f3a\"],[0.8888888888888888,\"#fdca26\"],[1.0,\"#f0f921\"]],\"type\":\"histogram2dcontour\"}],\"histogram2d\":[{\"colorbar\":{\"outlinewidth\":0,\"ticks\":\"\"},\"colorscale\":[[0.0,\"#0d0887\"],[0.1111111111111111,\"#46039f\"],[0.2222222222222222,\"#7201a8\"],[0.3333333333333333,\"#9c179e\"],[0.4444444444444444,\"#bd3786\"],[0.5555555555555556,\"#d8576b\"],[0.6666666666666666,\"#ed7953\"],[0.7777777777777778,\"#fb9f3a\"],[0.8888888888888888,\"#fdca26\"],[1.0,\"#f0f921\"]],\"type\":\"histogram2d\"}],\"histogram\":[{\"marker\":{\"pattern\":{\"fillmode\":\"overlay\",\"size\":10,\"solidity\":0.2}},\"type\":\"histogram\"}],\"mesh3d\":[{\"colorbar\":{\"outlinewidth\":0,\"ticks\":\"\"},\"type\":\"mesh3d\"}],\"parcoords\":[{\"line\":{\"colorbar\":{\"outlinewidth\":0,\"ticks\":\"\"}},\"type\":\"parcoords\"}],\"pie\":[{\"automargin\":true,\"type\":\"pie\"}],\"scatter3d\":[{\"line\":{\"colorbar\":{\"outlinewidth\":0,\"ticks\":\"\"}},\"marker\":{\"colorbar\":{\"outlinewidth\":0,\"ticks\":\"\"}},\"type\":\"scatter3d\"}],\"scattercarpet\":[{\"marker\":{\"colorbar\":{\"outlinewidth\":0,\"ticks\":\"\"}},\"type\":\"scattercarpet\"}],\"scattergeo\":[{\"marker\":{\"colorbar\":{\"outlinewidth\":0,\"ticks\":\"\"}},\"type\":\"scattergeo\"}],\"scattergl\":[{\"marker\":{\"colorbar\":{\"outlinewidth\":0,\"ticks\":\"\"}},\"type\":\"scattergl\"}],\"scattermapbox\":[{\"marker\":{\"colorbar\":{\"outlinewidth\":0,\"ticks\":\"\"}},\"type\":\"scattermapbox\"}],\"scatterpolargl\":[{\"marker\":{\"colorbar\":{\"outlinewidth\":0,\"ticks\":\"\"}},\"type\":\"scatterpolargl\"}],\"scatterpolar\":[{\"marker\":{\"colorbar\":{\"outlinewidth\":0,\"ticks\":\"\"}},\"type\":\"scatterpolar\"}],\"scatter\":[{\"fillpattern\":{\"fillmode\":\"overlay\",\"size\":10,\"solidity\":0.2},\"type\":\"scatter\"}],\"scatterternary\":[{\"marker\":{\"colorbar\":{\"outlinewidth\":0,\"ticks\":\"\"}},\"type\":\"scatterternary\"}],\"surface\":[{\"colorbar\":{\"outlinewidth\":0,\"ticks\":\"\"},\"colorscale\":[[0.0,\"#0d0887\"],[0.1111111111111111,\"#46039f\"],[0.2222222222222222,\"#7201a8\"],[0.3333333333333333,\"#9c179e\"],[0.4444444444444444,\"#bd3786\"],[0.5555555555555556,\"#d8576b\"],[0.6666666666666666,\"#ed7953\"],[0.7777777777777778,\"#fb9f3a\"],[0.8888888888888888,\"#fdca26\"],[1.0,\"#f0f921\"]],\"type\":\"surface\"}],\"table\":[{\"cells\":{\"fill\":{\"color\":\"#EBF0F8\"},\"line\":{\"color\":\"white\"}},\"header\":{\"fill\":{\"color\":\"#C8D4E3\"},\"line\":{\"color\":\"white\"}},\"type\":\"table\"}]},\"layout\":{\"annotationdefaults\":{\"arrowcolor\":\"#2a3f5f\",\"arrowhead\":0,\"arrowwidth\":1},\"autotypenumbers\":\"strict\",\"coloraxis\":{\"colorbar\":{\"outlinewidth\":0,\"ticks\":\"\"}},\"colorscale\":{\"diverging\":[[0,\"#8e0152\"],[0.1,\"#c51b7d\"],[0.2,\"#de77ae\"],[0.3,\"#f1b6da\"],[0.4,\"#fde0ef\"],[0.5,\"#f7f7f7\"],[0.6,\"#e6f5d0\"],[0.7,\"#b8e186\"],[0.8,\"#7fbc41\"],[0.9,\"#4d9221\"],[1,\"#276419\"]],\"sequential\":[[0.0,\"#0d0887\"],[0.1111111111111111,\"#46039f\"],[0.2222222222222222,\"#7201a8\"],[0.3333333333333333,\"#9c179e\"],[0.4444444444444444,\"#bd3786\"],[0.5555555555555556,\"#d8576b\"],[0.6666666666666666,\"#ed7953\"],[0.7777777777777778,\"#fb9f3a\"],[0.8888888888888888,\"#fdca26\"],[1.0,\"#f0f921\"]],\"sequentialminus\":[[0.0,\"#0d0887\"],[0.1111111111111111,\"#46039f\"],[0.2222222222222222,\"#7201a8\"],[0.3333333333333333,\"#9c179e\"],[0.4444444444444444,\"#bd3786\"],[0.5555555555555556,\"#d8576b\"],[0.6666666666666666,\"#ed7953\"],[0.7777777777777778,\"#fb9f3a\"],[0.8888888888888888,\"#fdca26\"],[1.0,\"#f0f921\"]]},\"colorway\":[\"#636efa\",\"#EF553B\",\"#00cc96\",\"#ab63fa\",\"#FFA15A\",\"#19d3f3\",\"#FF6692\",\"#B6E880\",\"#FF97FF\",\"#FECB52\"],\"font\":{\"color\":\"#2a3f5f\"},\"geo\":{\"bgcolor\":\"white\",\"lakecolor\":\"white\",\"landcolor\":\"#E5ECF6\",\"showlakes\":true,\"showland\":true,\"subunitcolor\":\"white\"},\"hoverlabel\":{\"align\":\"left\"},\"hovermode\":\"closest\",\"mapbox\":{\"style\":\"light\"},\"paper_bgcolor\":\"white\",\"plot_bgcolor\":\"#E5ECF6\",\"polar\":{\"angularaxis\":{\"gridcolor\":\"white\",\"linecolor\":\"white\",\"ticks\":\"\"},\"bgcolor\":\"#E5ECF6\",\"radialaxis\":{\"gridcolor\":\"white\",\"linecolor\":\"white\",\"ticks\":\"\"}},\"scene\":{\"xaxis\":{\"backgroundcolor\":\"#E5ECF6\",\"gridcolor\":\"white\",\"gridwidth\":2,\"linecolor\":\"white\",\"showbackground\":true,\"ticks\":\"\",\"zerolinecolor\":\"white\"},\"yaxis\":{\"backgroundcolor\":\"#E5ECF6\",\"gridcolor\":\"white\",\"gridwidth\":2,\"linecolor\":\"white\",\"showbackground\":true,\"ticks\":\"\",\"zerolinecolor\":\"white\"},\"zaxis\":{\"backgroundcolor\":\"#E5ECF6\",\"gridcolor\":\"white\",\"gridwidth\":2,\"linecolor\":\"white\",\"showbackground\":true,\"ticks\":\"\",\"zerolinecolor\":\"white\"}},\"shapedefaults\":{\"line\":{\"color\":\"#2a3f5f\"}},\"ternary\":{\"aaxis\":{\"gridcolor\":\"white\",\"linecolor\":\"white\",\"ticks\":\"\"},\"baxis\":{\"gridcolor\":\"white\",\"linecolor\":\"white\",\"ticks\":\"\"},\"bgcolor\":\"#E5ECF6\",\"caxis\":{\"gridcolor\":\"white\",\"linecolor\":\"white\",\"ticks\":\"\"}},\"title\":{\"x\":0.05},\"xaxis\":{\"automargin\":true,\"gridcolor\":\"white\",\"linecolor\":\"white\",\"ticks\":\"\",\"title\":{\"standoff\":15},\"zerolinecolor\":\"white\",\"zerolinewidth\":2},\"yaxis\":{\"automargin\":true,\"gridcolor\":\"white\",\"linecolor\":\"white\",\"ticks\":\"\",\"title\":{\"standoff\":15},\"zerolinecolor\":\"white\",\"zerolinewidth\":2}}},\"title\":{\"font\":{\"color\":\"#4D5663\"}},\"xaxis\":{\"gridcolor\":\"#E1E5ED\",\"showgrid\":true,\"tickfont\":{\"color\":\"#4D5663\"},\"title\":{\"font\":{\"color\":\"#4D5663\"},\"text\":\"\"},\"zerolinecolor\":\"#E1E5ED\"},\"yaxis\":{\"gridcolor\":\"#E1E5ED\",\"showgrid\":true,\"tickfont\":{\"color\":\"#4D5663\"},\"title\":{\"font\":{\"color\":\"#4D5663\"},\"text\":\"\"},\"zerolinecolor\":\"#E1E5ED\"}},                        {\"showLink\": true, \"linkText\": \"Export to plot.ly\", \"plotlyServerURL\": \"https://plot.ly\", \"responsive\": true}                    ).then(function(){\n",
       "                            \n",
       "var gd = document.getElementById('b1d431ba-9c28-406a-9e51-01c19b08b009');\n",
       "var x = new MutationObserver(function (mutations, observer) {{\n",
       "        var display = window.getComputedStyle(gd).display;\n",
       "        if (!display || display === 'none') {{\n",
       "            console.log([gd, 'removed!']);\n",
       "            Plotly.purge(gd);\n",
       "            observer.disconnect();\n",
       "        }}\n",
       "}});\n",
       "\n",
       "// Listen for the removal of the full notebook cells\n",
       "var notebookContainer = gd.closest('#notebook-container');\n",
       "if (notebookContainer) {{\n",
       "    x.observe(notebookContainer, {childList: true});\n",
       "}}\n",
       "\n",
       "// Listen for the clearing of the current output cell\n",
       "var outputEl = gd.closest('.output');\n",
       "if (outputEl) {{\n",
       "    x.observe(outputEl, {childList: true});\n",
       "}}\n",
       "\n",
       "                        })                };                });            </script>        </div>"
      ]
     },
     "metadata": {},
     "output_type": "display_data"
    }
   ],
   "source": [
    "df['A'].iplot(kind='hist',bins=30)"
   ]
  },
  {
   "cell_type": "code",
   "execution_count": 38,
   "id": "1f159610",
   "metadata": {},
   "outputs": [
    {
     "data": {
      "application/vnd.plotly.v1+json": {
       "config": {
        "linkText": "Export to plot.ly",
        "plotlyServerURL": "https://plot.ly",
        "showLink": true
       },
       "data": [
        {
         "histfunc": "count",
         "histnorm": "",
         "marker": {
          "color": "rgba(255, 153, 51, 1.0)",
          "line": {
           "color": "#4D5663",
           "width": 1.3
          }
         },
         "name": "A",
         "opacity": 0.8,
         "orientation": "v",
         "type": "histogram",
         "x": [
          -0.05559180576518184,
          0.5620453907383516,
          -1.7899404051407906,
          1.500518268376267,
          0.7528373449617896,
          -1.1771597300556,
          1.97138381329973,
          0.3020214150295912,
          -1.9247991418812365,
          0.709441640718662,
          -0.01703638589202485,
          0.8199877942986776,
          0.5591157966803538,
          -0.07831734859886214,
          2.0263777208694695,
          -0.07574584864740508,
          -0.396370799265584,
          0.4191186184191619,
          0.9098700431175843,
          -1.0431608126404592,
          -1.7937637698431927,
          0.3067825397453611,
          0.2691059102780455,
          -0.31836442674890625,
          0.24337795539086785,
          0.512773733565278,
          -1.4073754758808312,
          0.5457544007462951,
          -0.6571845396135951,
          -2.0639373239813503,
          -1.4468588683638646,
          -0.9789754188086063,
          -2.1306056808379563,
          -0.20480729972649234,
          -0.8222382380694211,
          -0.33300118314536314,
          -0.29784234037258445,
          0.5307423401569827,
          0.15380642956204912,
          -0.1188208875107539,
          -0.8383589645894698,
          -0.5427105997081095,
          2.488310572074583,
          -0.2645552704783902,
          -0.45784207536797183,
          -1.8720226996945561,
          -0.7221199763313748,
          0.7303713162051148,
          -0.5675927577151667,
          0.2743443549958475,
          -0.8363932058173486,
          -0.197070058476929,
          -0.20013495199757259,
          -2.245092326684816,
          0.5943639003035389,
          -2.4438290349158693,
          -2.312513093070422,
          -0.10226142096044005,
          -0.3540991820914685,
          1.1846112283224697,
          0.5785961937800251,
          0.9454529767507993,
          -0.9378679023799694,
          2.252026617954698,
          0.8836245400728469,
          0.19770903317243588,
          0.5820505519137525,
          0.7000403498804273,
          0.18687441456797468,
          -2.605904251516702,
          1.013838593924159,
          0.7048394896011076,
          -0.9700118607851692,
          1.4122071311811517,
          0.22121580587926673,
          1.2618498032297492,
          -0.5281752604894419,
          -0.7421908714692181,
          1.5430526507489388,
          1.6370858753648112,
          0.15153329405330462,
          -0.35805431200293014,
          -0.9283089709763265,
          0.3293002280206697,
          -0.04430655153238148,
          1.125980853731697,
          -0.8103951450968989,
          -0.636133320370373,
          -0.5840496782043829,
          0.2912078731205048,
          -0.5137033735673227,
          -0.5894102919320074,
          -0.44662329985137666,
          1.4453702578010075,
          -2.8820121087644,
          0.5943854382063423,
          -0.2507644033592735,
          -1.4506707195233537,
          -0.32976243758703705,
          -0.5173084332484963
         ]
        },
        {
         "histfunc": "count",
         "histnorm": "",
         "marker": {
          "color": "rgba(55, 128, 191, 1.0)",
          "line": {
           "color": "#4D5663",
           "width": 1.3
          }
         },
         "name": "B",
         "opacity": 0.8,
         "orientation": "v",
         "type": "histogram",
         "x": [
          1.452833408522823,
          -2.801289721404959,
          1.467471032771779,
          1.1075149196133212,
          0.5900621714557223,
          -0.28302847996604674,
          0.23427324061681518,
          -1.215558624206029,
          0.813168712095642,
          -0.27005007088545496,
          -0.38243213069474835,
          1.6853155435237392,
          -0.6607753287657827,
          -0.3472588976686309,
          0.6719544662985177,
          -1.2237508738534368,
          0.3183787636673109,
          -0.72535952550027,
          -0.26260020669625433,
          -0.850618401548025,
          -0.7274756636907109,
          1.1687905305044257,
          0.49469694638536177,
          -0.26871518589218507,
          0.15290598210181186,
          1.2097075310133023,
          1.000422474088806,
          0.3136146057400716,
          -0.2833208420357839,
          -0.1860803660624252,
          -0.9564691687831892,
          1.6672459232340364,
          0.6683703526469932,
          1.3610316950494012,
          -1.8351289950778071,
          0.2251323174580143,
          -0.5417476758860279,
          -1.0073462642598332,
          -0.38783816934944704,
          0.5531661483954752,
          -0.29784593859479686,
          0.27348929840642366,
          0.4691760622386405,
          -0.3761511711516631,
          -0.7725927101520446,
          -0.4637975839720279,
          -1.3947025101192394,
          -0.1830294614098356,
          1.625397974734619,
          0.7544921969987086,
          0.4104847513780054,
          -0.9092909463854356,
          1.171510476069789,
          0.5458990143642105,
          -0.5844526689136395,
          0.4425182954767783,
          -0.7817994944058249,
          1.0153723508764105,
          0.23275728789967648,
          -1.5989167066075543,
          1.1460289758089788,
          -0.7504446965323814,
          1.6300471548892737,
          -1.598248946404511,
          0.8595031406047959,
          0.16147366754361436,
          -0.45353015445403494,
          -0.31061877236519714,
          -0.6243507521232172,
          0.06250609987067719,
          -0.7759860097109451,
          -0.8472620099074127,
          1.5987177491523321,
          -1.1678132491490123,
          -1.247064428257644,
          -0.369826813335805,
          0.46232826804011073,
          1.7838081747848518,
          1.2909978570591278,
          -1.496859178399673,
          0.22001922625256887,
          -0.9113831617477044,
          0.49478127902387076,
          1.8100591568741062,
          1.0511618624121364,
          -0.8846969102030365,
          -0.861736858706487,
          -1.8399566183192644,
          -1.2004936606910546,
          -0.008772066069577691,
          -1.2661127544327189,
          0.12930024126805745,
          -0.9741132348621366,
          1.911126529769431,
          -0.8669170987643292,
          0.6705416816248445,
          0.7025783402266444,
          0.9783330874535535,
          0.13718527998129446,
          0.08864824382977793
         ]
        },
        {
         "histfunc": "count",
         "histnorm": "",
         "marker": {
          "color": "rgba(50, 171, 96, 1.0)",
          "line": {
           "color": "#4D5663",
           "width": 1.3
          }
         },
         "name": "C",
         "opacity": 0.8,
         "orientation": "v",
         "type": "histogram",
         "x": [
          0.25500841675327135,
          -2.0228296660047334,
          -1.5941368496927122,
          0.7566379326733458,
          0.09042462761333182,
          0.7880099583693712,
          0.33110955233396566,
          0.633630161318091,
          -3.104318720313925,
          0.15769519846695176,
          -0.01821056361192945,
          0.32975254187472197,
          0.6691148817820453,
          0.8882708461650792,
          0.32571083062195644,
          1.2969248124686905,
          -0.828469691493726,
          0.8186951502774704,
          -0.8481415447451287,
          -0.005448656858547519,
          -1.046985396498361,
          2.0876629941168403,
          -0.4932176461548644,
          -1.479742227493446,
          -0.893779716681242,
          1.059693973315859,
          -0.4218995577916561,
          0.3037603245140057,
          -0.295718885568225,
          -1.456631526768783,
          0.6726281780162228,
          -0.2513454101392943,
          -0.0029946532401559714,
          1.2223245878227034,
          -1.400357848874864,
          -0.9745231933933619,
          -0.7394884299589058,
          0.07692397890434306,
          -0.13916293510562336,
          1.0262265227965133,
          0.8681801213723014,
          -0.1558700044747346,
          0.8154873912086121,
          -0.040550112558222724,
          -0.022995195337995825,
          0.19472825145585765,
          -0.8294809719858296,
          0.253481929767634,
          -0.6680928324389981,
          -0.3741609826317901,
          -2.5647984075760584,
          1.202281009334771,
          1.5356448424278233,
          -0.658681268678709,
          0.98511260312972,
          -1.5569511626557264,
          0.6959850736666175,
          0.041869074233176394,
          -0.2940238445233744,
          -0.8855718078598309,
          -0.312486874051758,
          -1.2120957514801096,
          -0.0804516775894421,
          -0.06955069706107143,
          0.4213701146254383,
          -0.5824044836334542,
          0.3320929214372528,
          0.20034650112127014,
          1.139537356515105,
          -0.11636411784016422,
          -1.5580486253908081,
          0.4787958649368819,
          0.06371197852824667,
          -0.34365931506835834,
          0.6165488060556412,
          -0.9339932703085433,
          -1.2679418729267968,
          -0.37370211392929065,
          0.1553807466229721,
          -1.6790618079561024,
          -0.8153431874050666,
          0.027609721305113872,
          1.7125284633192528,
          0.477293575773967,
          -0.2107470140392488,
          1.2466380227088456,
          0.7268506778475627,
          1.1825032117586856,
          -0.19560223128214535,
          -0.6394964865536716,
          -0.33517501376555675,
          -1.4772991809849378,
          -0.3722722426648912,
          -0.03242252178216725,
          -0.11089344856880662,
          -0.08531307864935869,
          -0.04946493715695045,
          -0.15250410087849134,
          0.21164430464328296,
          -1.3243384652903012
         ]
        },
        {
         "histfunc": "count",
         "histnorm": "",
         "marker": {
          "color": "rgba(128, 0, 128, 1.0)",
          "line": {
           "color": "#4D5663",
           "width": 1.3
          }
         },
         "name": "D",
         "opacity": 0.8,
         "orientation": "v",
         "type": "histogram",
         "x": [
          0.1852673937213632,
          -0.44345827589806286,
          0.23273235167467715,
          -1.4903533275627932,
          0.2684902198097901,
          -0.686946223039476,
          -1.569611132126099,
          -0.8268636691466774,
          -0.047241527713950904,
          0.3700385806309308,
          -0.12732821435940275,
          -0.05036277629562494,
          -0.23921120887225938,
          -1.4846129257255232,
          0.9073179324373805,
          -0.5060076669401903,
          -0.4252614976966761,
          0.8346728660773869,
          -0.8427060950773964,
          -0.6135320914829894,
          -0.21523062705508028,
          0.5190812206976291,
          -0.9747123694425338,
          0.6537487327723273,
          2.322045329576906,
          1.413449387959019,
          0.34455620354785615,
          0.3188526310664666,
          0.7529156688198151,
          -0.33504683404000546,
          -0.8437176298130339,
          0.317721829730343,
          -1.2661495137545982,
          -0.0691429255933767,
          -0.8604798829031324,
          2.244452010671782,
          -0.15145796577193404,
          -0.07665135642775489,
          0.9513143318656485,
          -0.7160571745760614,
          -0.29852813553670526,
          -0.8587877409131487,
          -1.4672603813825607,
          1.0988442496704036,
          2.2760038379975467,
          1.6788414832474532,
          0.3726091108126695,
          0.7095174950341702,
          0.24877327374638,
          -0.36465139177197653,
          1.2706006745818645,
          1.5503467450343724,
          -0.31556209173554794,
          0.14718624186491758,
          0.3107995244034444,
          -0.5392879787433942,
          -1.129334155516057,
          -1.9162127924810703,
          -2.1991377381215975,
          -0.011759833599251049,
          0.8752288310754693,
          0.29250397526317556,
          1.5709858892377442,
          0.7655654796656748,
          -0.39031204352562565,
          -0.05988632666417284,
          -0.40006195094696545,
          -0.44417344480293425,
          0.49296792393382693,
          0.8103708801937014,
          -0.6640410877996384,
          -0.908551237967371,
          -1.1917658635528445,
          -1.2482720132411318,
          1.562451015147158,
          0.8826104656621604,
          -0.036813081581456845,
          -0.20533878048949492,
          -1.5318890996535242,
          -1.227574563627396,
          -0.3059276791424916,
          -0.25738907516547643,
          -0.6834027796862429,
          0.14073356590044747,
          -0.4964738906067588,
          0.1674286564235268,
          -1.941966835411613,
          0.8441767911667543,
          0.6505909193640828,
          0.5297311519789127,
          1.771393610824138,
          0.5653915202360102,
          -0.5629050155770081,
          -0.15828529933860774,
          1.3641429553783466,
          -0.7657757222716708,
          0.057515198937703314,
          -0.8389954153033105,
          0.47748464268948704,
          -2.0329806242365693
         ]
        }
       ],
       "layout": {
        "barmode": "overlay",
        "legend": {
         "bgcolor": "#F5F6F9",
         "font": {
          "color": "#4D5663"
         }
        },
        "paper_bgcolor": "#F5F6F9",
        "plot_bgcolor": "#F5F6F9",
        "template": {
         "data": {
          "bar": [
           {
            "error_x": {
             "color": "#2a3f5f"
            },
            "error_y": {
             "color": "#2a3f5f"
            },
            "marker": {
             "line": {
              "color": "#E5ECF6",
              "width": 0.5
             },
             "pattern": {
              "fillmode": "overlay",
              "size": 10,
              "solidity": 0.2
             }
            },
            "type": "bar"
           }
          ],
          "barpolar": [
           {
            "marker": {
             "line": {
              "color": "#E5ECF6",
              "width": 0.5
             },
             "pattern": {
              "fillmode": "overlay",
              "size": 10,
              "solidity": 0.2
             }
            },
            "type": "barpolar"
           }
          ],
          "carpet": [
           {
            "aaxis": {
             "endlinecolor": "#2a3f5f",
             "gridcolor": "white",
             "linecolor": "white",
             "minorgridcolor": "white",
             "startlinecolor": "#2a3f5f"
            },
            "baxis": {
             "endlinecolor": "#2a3f5f",
             "gridcolor": "white",
             "linecolor": "white",
             "minorgridcolor": "white",
             "startlinecolor": "#2a3f5f"
            },
            "type": "carpet"
           }
          ],
          "choropleth": [
           {
            "colorbar": {
             "outlinewidth": 0,
             "ticks": ""
            },
            "type": "choropleth"
           }
          ],
          "contour": [
           {
            "colorbar": {
             "outlinewidth": 0,
             "ticks": ""
            },
            "colorscale": [
             [
              0,
              "#0d0887"
             ],
             [
              0.1111111111111111,
              "#46039f"
             ],
             [
              0.2222222222222222,
              "#7201a8"
             ],
             [
              0.3333333333333333,
              "#9c179e"
             ],
             [
              0.4444444444444444,
              "#bd3786"
             ],
             [
              0.5555555555555556,
              "#d8576b"
             ],
             [
              0.6666666666666666,
              "#ed7953"
             ],
             [
              0.7777777777777778,
              "#fb9f3a"
             ],
             [
              0.8888888888888888,
              "#fdca26"
             ],
             [
              1,
              "#f0f921"
             ]
            ],
            "type": "contour"
           }
          ],
          "contourcarpet": [
           {
            "colorbar": {
             "outlinewidth": 0,
             "ticks": ""
            },
            "type": "contourcarpet"
           }
          ],
          "heatmap": [
           {
            "colorbar": {
             "outlinewidth": 0,
             "ticks": ""
            },
            "colorscale": [
             [
              0,
              "#0d0887"
             ],
             [
              0.1111111111111111,
              "#46039f"
             ],
             [
              0.2222222222222222,
              "#7201a8"
             ],
             [
              0.3333333333333333,
              "#9c179e"
             ],
             [
              0.4444444444444444,
              "#bd3786"
             ],
             [
              0.5555555555555556,
              "#d8576b"
             ],
             [
              0.6666666666666666,
              "#ed7953"
             ],
             [
              0.7777777777777778,
              "#fb9f3a"
             ],
             [
              0.8888888888888888,
              "#fdca26"
             ],
             [
              1,
              "#f0f921"
             ]
            ],
            "type": "heatmap"
           }
          ],
          "heatmapgl": [
           {
            "colorbar": {
             "outlinewidth": 0,
             "ticks": ""
            },
            "colorscale": [
             [
              0,
              "#0d0887"
             ],
             [
              0.1111111111111111,
              "#46039f"
             ],
             [
              0.2222222222222222,
              "#7201a8"
             ],
             [
              0.3333333333333333,
              "#9c179e"
             ],
             [
              0.4444444444444444,
              "#bd3786"
             ],
             [
              0.5555555555555556,
              "#d8576b"
             ],
             [
              0.6666666666666666,
              "#ed7953"
             ],
             [
              0.7777777777777778,
              "#fb9f3a"
             ],
             [
              0.8888888888888888,
              "#fdca26"
             ],
             [
              1,
              "#f0f921"
             ]
            ],
            "type": "heatmapgl"
           }
          ],
          "histogram": [
           {
            "marker": {
             "pattern": {
              "fillmode": "overlay",
              "size": 10,
              "solidity": 0.2
             }
            },
            "type": "histogram"
           }
          ],
          "histogram2d": [
           {
            "colorbar": {
             "outlinewidth": 0,
             "ticks": ""
            },
            "colorscale": [
             [
              0,
              "#0d0887"
             ],
             [
              0.1111111111111111,
              "#46039f"
             ],
             [
              0.2222222222222222,
              "#7201a8"
             ],
             [
              0.3333333333333333,
              "#9c179e"
             ],
             [
              0.4444444444444444,
              "#bd3786"
             ],
             [
              0.5555555555555556,
              "#d8576b"
             ],
             [
              0.6666666666666666,
              "#ed7953"
             ],
             [
              0.7777777777777778,
              "#fb9f3a"
             ],
             [
              0.8888888888888888,
              "#fdca26"
             ],
             [
              1,
              "#f0f921"
             ]
            ],
            "type": "histogram2d"
           }
          ],
          "histogram2dcontour": [
           {
            "colorbar": {
             "outlinewidth": 0,
             "ticks": ""
            },
            "colorscale": [
             [
              0,
              "#0d0887"
             ],
             [
              0.1111111111111111,
              "#46039f"
             ],
             [
              0.2222222222222222,
              "#7201a8"
             ],
             [
              0.3333333333333333,
              "#9c179e"
             ],
             [
              0.4444444444444444,
              "#bd3786"
             ],
             [
              0.5555555555555556,
              "#d8576b"
             ],
             [
              0.6666666666666666,
              "#ed7953"
             ],
             [
              0.7777777777777778,
              "#fb9f3a"
             ],
             [
              0.8888888888888888,
              "#fdca26"
             ],
             [
              1,
              "#f0f921"
             ]
            ],
            "type": "histogram2dcontour"
           }
          ],
          "mesh3d": [
           {
            "colorbar": {
             "outlinewidth": 0,
             "ticks": ""
            },
            "type": "mesh3d"
           }
          ],
          "parcoords": [
           {
            "line": {
             "colorbar": {
              "outlinewidth": 0,
              "ticks": ""
             }
            },
            "type": "parcoords"
           }
          ],
          "pie": [
           {
            "automargin": true,
            "type": "pie"
           }
          ],
          "scatter": [
           {
            "fillpattern": {
             "fillmode": "overlay",
             "size": 10,
             "solidity": 0.2
            },
            "type": "scatter"
           }
          ],
          "scatter3d": [
           {
            "line": {
             "colorbar": {
              "outlinewidth": 0,
              "ticks": ""
             }
            },
            "marker": {
             "colorbar": {
              "outlinewidth": 0,
              "ticks": ""
             }
            },
            "type": "scatter3d"
           }
          ],
          "scattercarpet": [
           {
            "marker": {
             "colorbar": {
              "outlinewidth": 0,
              "ticks": ""
             }
            },
            "type": "scattercarpet"
           }
          ],
          "scattergeo": [
           {
            "marker": {
             "colorbar": {
              "outlinewidth": 0,
              "ticks": ""
             }
            },
            "type": "scattergeo"
           }
          ],
          "scattergl": [
           {
            "marker": {
             "colorbar": {
              "outlinewidth": 0,
              "ticks": ""
             }
            },
            "type": "scattergl"
           }
          ],
          "scattermapbox": [
           {
            "marker": {
             "colorbar": {
              "outlinewidth": 0,
              "ticks": ""
             }
            },
            "type": "scattermapbox"
           }
          ],
          "scatterpolar": [
           {
            "marker": {
             "colorbar": {
              "outlinewidth": 0,
              "ticks": ""
             }
            },
            "type": "scatterpolar"
           }
          ],
          "scatterpolargl": [
           {
            "marker": {
             "colorbar": {
              "outlinewidth": 0,
              "ticks": ""
             }
            },
            "type": "scatterpolargl"
           }
          ],
          "scatterternary": [
           {
            "marker": {
             "colorbar": {
              "outlinewidth": 0,
              "ticks": ""
             }
            },
            "type": "scatterternary"
           }
          ],
          "surface": [
           {
            "colorbar": {
             "outlinewidth": 0,
             "ticks": ""
            },
            "colorscale": [
             [
              0,
              "#0d0887"
             ],
             [
              0.1111111111111111,
              "#46039f"
             ],
             [
              0.2222222222222222,
              "#7201a8"
             ],
             [
              0.3333333333333333,
              "#9c179e"
             ],
             [
              0.4444444444444444,
              "#bd3786"
             ],
             [
              0.5555555555555556,
              "#d8576b"
             ],
             [
              0.6666666666666666,
              "#ed7953"
             ],
             [
              0.7777777777777778,
              "#fb9f3a"
             ],
             [
              0.8888888888888888,
              "#fdca26"
             ],
             [
              1,
              "#f0f921"
             ]
            ],
            "type": "surface"
           }
          ],
          "table": [
           {
            "cells": {
             "fill": {
              "color": "#EBF0F8"
             },
             "line": {
              "color": "white"
             }
            },
            "header": {
             "fill": {
              "color": "#C8D4E3"
             },
             "line": {
              "color": "white"
             }
            },
            "type": "table"
           }
          ]
         },
         "layout": {
          "annotationdefaults": {
           "arrowcolor": "#2a3f5f",
           "arrowhead": 0,
           "arrowwidth": 1
          },
          "autotypenumbers": "strict",
          "coloraxis": {
           "colorbar": {
            "outlinewidth": 0,
            "ticks": ""
           }
          },
          "colorscale": {
           "diverging": [
            [
             0,
             "#8e0152"
            ],
            [
             0.1,
             "#c51b7d"
            ],
            [
             0.2,
             "#de77ae"
            ],
            [
             0.3,
             "#f1b6da"
            ],
            [
             0.4,
             "#fde0ef"
            ],
            [
             0.5,
             "#f7f7f7"
            ],
            [
             0.6,
             "#e6f5d0"
            ],
            [
             0.7,
             "#b8e186"
            ],
            [
             0.8,
             "#7fbc41"
            ],
            [
             0.9,
             "#4d9221"
            ],
            [
             1,
             "#276419"
            ]
           ],
           "sequential": [
            [
             0,
             "#0d0887"
            ],
            [
             0.1111111111111111,
             "#46039f"
            ],
            [
             0.2222222222222222,
             "#7201a8"
            ],
            [
             0.3333333333333333,
             "#9c179e"
            ],
            [
             0.4444444444444444,
             "#bd3786"
            ],
            [
             0.5555555555555556,
             "#d8576b"
            ],
            [
             0.6666666666666666,
             "#ed7953"
            ],
            [
             0.7777777777777778,
             "#fb9f3a"
            ],
            [
             0.8888888888888888,
             "#fdca26"
            ],
            [
             1,
             "#f0f921"
            ]
           ],
           "sequentialminus": [
            [
             0,
             "#0d0887"
            ],
            [
             0.1111111111111111,
             "#46039f"
            ],
            [
             0.2222222222222222,
             "#7201a8"
            ],
            [
             0.3333333333333333,
             "#9c179e"
            ],
            [
             0.4444444444444444,
             "#bd3786"
            ],
            [
             0.5555555555555556,
             "#d8576b"
            ],
            [
             0.6666666666666666,
             "#ed7953"
            ],
            [
             0.7777777777777778,
             "#fb9f3a"
            ],
            [
             0.8888888888888888,
             "#fdca26"
            ],
            [
             1,
             "#f0f921"
            ]
           ]
          },
          "colorway": [
           "#636efa",
           "#EF553B",
           "#00cc96",
           "#ab63fa",
           "#FFA15A",
           "#19d3f3",
           "#FF6692",
           "#B6E880",
           "#FF97FF",
           "#FECB52"
          ],
          "font": {
           "color": "#2a3f5f"
          },
          "geo": {
           "bgcolor": "white",
           "lakecolor": "white",
           "landcolor": "#E5ECF6",
           "showlakes": true,
           "showland": true,
           "subunitcolor": "white"
          },
          "hoverlabel": {
           "align": "left"
          },
          "hovermode": "closest",
          "mapbox": {
           "style": "light"
          },
          "paper_bgcolor": "white",
          "plot_bgcolor": "#E5ECF6",
          "polar": {
           "angularaxis": {
            "gridcolor": "white",
            "linecolor": "white",
            "ticks": ""
           },
           "bgcolor": "#E5ECF6",
           "radialaxis": {
            "gridcolor": "white",
            "linecolor": "white",
            "ticks": ""
           }
          },
          "scene": {
           "xaxis": {
            "backgroundcolor": "#E5ECF6",
            "gridcolor": "white",
            "gridwidth": 2,
            "linecolor": "white",
            "showbackground": true,
            "ticks": "",
            "zerolinecolor": "white"
           },
           "yaxis": {
            "backgroundcolor": "#E5ECF6",
            "gridcolor": "white",
            "gridwidth": 2,
            "linecolor": "white",
            "showbackground": true,
            "ticks": "",
            "zerolinecolor": "white"
           },
           "zaxis": {
            "backgroundcolor": "#E5ECF6",
            "gridcolor": "white",
            "gridwidth": 2,
            "linecolor": "white",
            "showbackground": true,
            "ticks": "",
            "zerolinecolor": "white"
           }
          },
          "shapedefaults": {
           "line": {
            "color": "#2a3f5f"
           }
          },
          "ternary": {
           "aaxis": {
            "gridcolor": "white",
            "linecolor": "white",
            "ticks": ""
           },
           "baxis": {
            "gridcolor": "white",
            "linecolor": "white",
            "ticks": ""
           },
           "bgcolor": "#E5ECF6",
           "caxis": {
            "gridcolor": "white",
            "linecolor": "white",
            "ticks": ""
           }
          },
          "title": {
           "x": 0.05
          },
          "xaxis": {
           "automargin": true,
           "gridcolor": "white",
           "linecolor": "white",
           "ticks": "",
           "title": {
            "standoff": 15
           },
           "zerolinecolor": "white",
           "zerolinewidth": 2
          },
          "yaxis": {
           "automargin": true,
           "gridcolor": "white",
           "linecolor": "white",
           "ticks": "",
           "title": {
            "standoff": 15
           },
           "zerolinecolor": "white",
           "zerolinewidth": 2
          }
         }
        },
        "title": {
         "font": {
          "color": "#4D5663"
         }
        },
        "xaxis": {
         "gridcolor": "#E1E5ED",
         "showgrid": true,
         "tickfont": {
          "color": "#4D5663"
         },
         "title": {
          "font": {
           "color": "#4D5663"
          },
          "text": ""
         },
         "zerolinecolor": "#E1E5ED"
        },
        "yaxis": {
         "gridcolor": "#E1E5ED",
         "showgrid": true,
         "tickfont": {
          "color": "#4D5663"
         },
         "title": {
          "font": {
           "color": "#4D5663"
          },
          "text": ""
         },
         "zerolinecolor": "#E1E5ED"
        }
       }
      },
      "text/html": [
       "<div>                            <div id=\"50a7a9ec-e242-4149-9c65-e9cdd2368b66\" class=\"plotly-graph-div\" style=\"height:525px; width:100%;\"></div>            <script type=\"text/javascript\">                require([\"plotly\"], function(Plotly) {                    window.PLOTLYENV=window.PLOTLYENV || {};\n",
       "                    window.PLOTLYENV.BASE_URL='https://plot.ly';                                    if (document.getElementById(\"50a7a9ec-e242-4149-9c65-e9cdd2368b66\")) {                    Plotly.newPlot(                        \"50a7a9ec-e242-4149-9c65-e9cdd2368b66\",                        [{\"histfunc\":\"count\",\"histnorm\":\"\",\"marker\":{\"color\":\"rgba(255, 153, 51, 1.0)\",\"line\":{\"color\":\"#4D5663\",\"width\":1.3}},\"name\":\"A\",\"opacity\":0.8,\"orientation\":\"v\",\"x\":[-0.05559180576518184,0.5620453907383516,-1.7899404051407906,1.500518268376267,0.7528373449617896,-1.1771597300556,1.97138381329973,0.3020214150295912,-1.9247991418812365,0.709441640718662,-0.01703638589202485,0.8199877942986776,0.5591157966803538,-0.07831734859886214,2.0263777208694695,-0.07574584864740508,-0.396370799265584,0.4191186184191619,0.9098700431175843,-1.0431608126404592,-1.7937637698431927,0.3067825397453611,0.2691059102780455,-0.31836442674890625,0.24337795539086785,0.512773733565278,-1.4073754758808312,0.5457544007462951,-0.6571845396135951,-2.0639373239813503,-1.4468588683638646,-0.9789754188086063,-2.1306056808379563,-0.20480729972649234,-0.8222382380694211,-0.33300118314536314,-0.29784234037258445,0.5307423401569827,0.15380642956204912,-0.1188208875107539,-0.8383589645894698,-0.5427105997081095,2.488310572074583,-0.2645552704783902,-0.45784207536797183,-1.8720226996945561,-0.7221199763313748,0.7303713162051148,-0.5675927577151667,0.2743443549958475,-0.8363932058173486,-0.197070058476929,-0.20013495199757259,-2.245092326684816,0.5943639003035389,-2.4438290349158693,-2.312513093070422,-0.10226142096044005,-0.3540991820914685,1.1846112283224697,0.5785961937800251,0.9454529767507993,-0.9378679023799694,2.252026617954698,0.8836245400728469,0.19770903317243588,0.5820505519137525,0.7000403498804273,0.18687441456797468,-2.605904251516702,1.013838593924159,0.7048394896011076,-0.9700118607851692,1.4122071311811517,0.22121580587926673,1.2618498032297492,-0.5281752604894419,-0.7421908714692181,1.5430526507489388,1.6370858753648112,0.15153329405330462,-0.35805431200293014,-0.9283089709763265,0.3293002280206697,-0.04430655153238148,1.125980853731697,-0.8103951450968989,-0.636133320370373,-0.5840496782043829,0.2912078731205048,-0.5137033735673227,-0.5894102919320074,-0.44662329985137666,1.4453702578010075,-2.8820121087644,0.5943854382063423,-0.2507644033592735,-1.4506707195233537,-0.32976243758703705,-0.5173084332484963],\"type\":\"histogram\"},{\"histfunc\":\"count\",\"histnorm\":\"\",\"marker\":{\"color\":\"rgba(55, 128, 191, 1.0)\",\"line\":{\"color\":\"#4D5663\",\"width\":1.3}},\"name\":\"B\",\"opacity\":0.8,\"orientation\":\"v\",\"x\":[1.452833408522823,-2.801289721404959,1.467471032771779,1.1075149196133212,0.5900621714557223,-0.28302847996604674,0.23427324061681518,-1.215558624206029,0.813168712095642,-0.27005007088545496,-0.38243213069474835,1.6853155435237392,-0.6607753287657827,-0.3472588976686309,0.6719544662985177,-1.2237508738534368,0.3183787636673109,-0.72535952550027,-0.26260020669625433,-0.850618401548025,-0.7274756636907109,1.1687905305044257,0.49469694638536177,-0.26871518589218507,0.15290598210181186,1.2097075310133023,1.000422474088806,0.3136146057400716,-0.2833208420357839,-0.1860803660624252,-0.9564691687831892,1.6672459232340364,0.6683703526469932,1.3610316950494012,-1.8351289950778071,0.2251323174580143,-0.5417476758860279,-1.0073462642598332,-0.38783816934944704,0.5531661483954752,-0.29784593859479686,0.27348929840642366,0.4691760622386405,-0.3761511711516631,-0.7725927101520446,-0.4637975839720279,-1.3947025101192394,-0.1830294614098356,1.625397974734619,0.7544921969987086,0.4104847513780054,-0.9092909463854356,1.171510476069789,0.5458990143642105,-0.5844526689136395,0.4425182954767783,-0.7817994944058249,1.0153723508764105,0.23275728789967648,-1.5989167066075543,1.1460289758089788,-0.7504446965323814,1.6300471548892737,-1.598248946404511,0.8595031406047959,0.16147366754361436,-0.45353015445403494,-0.31061877236519714,-0.6243507521232172,0.06250609987067719,-0.7759860097109451,-0.8472620099074127,1.5987177491523321,-1.1678132491490123,-1.247064428257644,-0.369826813335805,0.46232826804011073,1.7838081747848518,1.2909978570591278,-1.496859178399673,0.22001922625256887,-0.9113831617477044,0.49478127902387076,1.8100591568741062,1.0511618624121364,-0.8846969102030365,-0.861736858706487,-1.8399566183192644,-1.2004936606910546,-0.008772066069577691,-1.2661127544327189,0.12930024126805745,-0.9741132348621366,1.911126529769431,-0.8669170987643292,0.6705416816248445,0.7025783402266444,0.9783330874535535,0.13718527998129446,0.08864824382977793],\"type\":\"histogram\"},{\"histfunc\":\"count\",\"histnorm\":\"\",\"marker\":{\"color\":\"rgba(50, 171, 96, 1.0)\",\"line\":{\"color\":\"#4D5663\",\"width\":1.3}},\"name\":\"C\",\"opacity\":0.8,\"orientation\":\"v\",\"x\":[0.25500841675327135,-2.0228296660047334,-1.5941368496927122,0.7566379326733458,0.09042462761333182,0.7880099583693712,0.33110955233396566,0.633630161318091,-3.104318720313925,0.15769519846695176,-0.01821056361192945,0.32975254187472197,0.6691148817820453,0.8882708461650792,0.32571083062195644,1.2969248124686905,-0.828469691493726,0.8186951502774704,-0.8481415447451287,-0.005448656858547519,-1.046985396498361,2.0876629941168403,-0.4932176461548644,-1.479742227493446,-0.893779716681242,1.059693973315859,-0.4218995577916561,0.3037603245140057,-0.295718885568225,-1.456631526768783,0.6726281780162228,-0.2513454101392943,-0.0029946532401559714,1.2223245878227034,-1.400357848874864,-0.9745231933933619,-0.7394884299589058,0.07692397890434306,-0.13916293510562336,1.0262265227965133,0.8681801213723014,-0.1558700044747346,0.8154873912086121,-0.040550112558222724,-0.022995195337995825,0.19472825145585765,-0.8294809719858296,0.253481929767634,-0.6680928324389981,-0.3741609826317901,-2.5647984075760584,1.202281009334771,1.5356448424278233,-0.658681268678709,0.98511260312972,-1.5569511626557264,0.6959850736666175,0.041869074233176394,-0.2940238445233744,-0.8855718078598309,-0.312486874051758,-1.2120957514801096,-0.0804516775894421,-0.06955069706107143,0.4213701146254383,-0.5824044836334542,0.3320929214372528,0.20034650112127014,1.139537356515105,-0.11636411784016422,-1.5580486253908081,0.4787958649368819,0.06371197852824667,-0.34365931506835834,0.6165488060556412,-0.9339932703085433,-1.2679418729267968,-0.37370211392929065,0.1553807466229721,-1.6790618079561024,-0.8153431874050666,0.027609721305113872,1.7125284633192528,0.477293575773967,-0.2107470140392488,1.2466380227088456,0.7268506778475627,1.1825032117586856,-0.19560223128214535,-0.6394964865536716,-0.33517501376555675,-1.4772991809849378,-0.3722722426648912,-0.03242252178216725,-0.11089344856880662,-0.08531307864935869,-0.04946493715695045,-0.15250410087849134,0.21164430464328296,-1.3243384652903012],\"type\":\"histogram\"},{\"histfunc\":\"count\",\"histnorm\":\"\",\"marker\":{\"color\":\"rgba(128, 0, 128, 1.0)\",\"line\":{\"color\":\"#4D5663\",\"width\":1.3}},\"name\":\"D\",\"opacity\":0.8,\"orientation\":\"v\",\"x\":[0.1852673937213632,-0.44345827589806286,0.23273235167467715,-1.4903533275627932,0.2684902198097901,-0.686946223039476,-1.569611132126099,-0.8268636691466774,-0.047241527713950904,0.3700385806309308,-0.12732821435940275,-0.05036277629562494,-0.23921120887225938,-1.4846129257255232,0.9073179324373805,-0.5060076669401903,-0.4252614976966761,0.8346728660773869,-0.8427060950773964,-0.6135320914829894,-0.21523062705508028,0.5190812206976291,-0.9747123694425338,0.6537487327723273,2.322045329576906,1.413449387959019,0.34455620354785615,0.3188526310664666,0.7529156688198151,-0.33504683404000546,-0.8437176298130339,0.317721829730343,-1.2661495137545982,-0.0691429255933767,-0.8604798829031324,2.244452010671782,-0.15145796577193404,-0.07665135642775489,0.9513143318656485,-0.7160571745760614,-0.29852813553670526,-0.8587877409131487,-1.4672603813825607,1.0988442496704036,2.2760038379975467,1.6788414832474532,0.3726091108126695,0.7095174950341702,0.24877327374638,-0.36465139177197653,1.2706006745818645,1.5503467450343724,-0.31556209173554794,0.14718624186491758,0.3107995244034444,-0.5392879787433942,-1.129334155516057,-1.9162127924810703,-2.1991377381215975,-0.011759833599251049,0.8752288310754693,0.29250397526317556,1.5709858892377442,0.7655654796656748,-0.39031204352562565,-0.05988632666417284,-0.40006195094696545,-0.44417344480293425,0.49296792393382693,0.8103708801937014,-0.6640410877996384,-0.908551237967371,-1.1917658635528445,-1.2482720132411318,1.562451015147158,0.8826104656621604,-0.036813081581456845,-0.20533878048949492,-1.5318890996535242,-1.227574563627396,-0.3059276791424916,-0.25738907516547643,-0.6834027796862429,0.14073356590044747,-0.4964738906067588,0.1674286564235268,-1.941966835411613,0.8441767911667543,0.6505909193640828,0.5297311519789127,1.771393610824138,0.5653915202360102,-0.5629050155770081,-0.15828529933860774,1.3641429553783466,-0.7657757222716708,0.057515198937703314,-0.8389954153033105,0.47748464268948704,-2.0329806242365693],\"type\":\"histogram\"}],                        {\"barmode\":\"overlay\",\"legend\":{\"bgcolor\":\"#F5F6F9\",\"font\":{\"color\":\"#4D5663\"}},\"paper_bgcolor\":\"#F5F6F9\",\"plot_bgcolor\":\"#F5F6F9\",\"template\":{\"data\":{\"barpolar\":[{\"marker\":{\"line\":{\"color\":\"#E5ECF6\",\"width\":0.5},\"pattern\":{\"fillmode\":\"overlay\",\"size\":10,\"solidity\":0.2}},\"type\":\"barpolar\"}],\"bar\":[{\"error_x\":{\"color\":\"#2a3f5f\"},\"error_y\":{\"color\":\"#2a3f5f\"},\"marker\":{\"line\":{\"color\":\"#E5ECF6\",\"width\":0.5},\"pattern\":{\"fillmode\":\"overlay\",\"size\":10,\"solidity\":0.2}},\"type\":\"bar\"}],\"carpet\":[{\"aaxis\":{\"endlinecolor\":\"#2a3f5f\",\"gridcolor\":\"white\",\"linecolor\":\"white\",\"minorgridcolor\":\"white\",\"startlinecolor\":\"#2a3f5f\"},\"baxis\":{\"endlinecolor\":\"#2a3f5f\",\"gridcolor\":\"white\",\"linecolor\":\"white\",\"minorgridcolor\":\"white\",\"startlinecolor\":\"#2a3f5f\"},\"type\":\"carpet\"}],\"choropleth\":[{\"colorbar\":{\"outlinewidth\":0,\"ticks\":\"\"},\"type\":\"choropleth\"}],\"contourcarpet\":[{\"colorbar\":{\"outlinewidth\":0,\"ticks\":\"\"},\"type\":\"contourcarpet\"}],\"contour\":[{\"colorbar\":{\"outlinewidth\":0,\"ticks\":\"\"},\"colorscale\":[[0.0,\"#0d0887\"],[0.1111111111111111,\"#46039f\"],[0.2222222222222222,\"#7201a8\"],[0.3333333333333333,\"#9c179e\"],[0.4444444444444444,\"#bd3786\"],[0.5555555555555556,\"#d8576b\"],[0.6666666666666666,\"#ed7953\"],[0.7777777777777778,\"#fb9f3a\"],[0.8888888888888888,\"#fdca26\"],[1.0,\"#f0f921\"]],\"type\":\"contour\"}],\"heatmapgl\":[{\"colorbar\":{\"outlinewidth\":0,\"ticks\":\"\"},\"colorscale\":[[0.0,\"#0d0887\"],[0.1111111111111111,\"#46039f\"],[0.2222222222222222,\"#7201a8\"],[0.3333333333333333,\"#9c179e\"],[0.4444444444444444,\"#bd3786\"],[0.5555555555555556,\"#d8576b\"],[0.6666666666666666,\"#ed7953\"],[0.7777777777777778,\"#fb9f3a\"],[0.8888888888888888,\"#fdca26\"],[1.0,\"#f0f921\"]],\"type\":\"heatmapgl\"}],\"heatmap\":[{\"colorbar\":{\"outlinewidth\":0,\"ticks\":\"\"},\"colorscale\":[[0.0,\"#0d0887\"],[0.1111111111111111,\"#46039f\"],[0.2222222222222222,\"#7201a8\"],[0.3333333333333333,\"#9c179e\"],[0.4444444444444444,\"#bd3786\"],[0.5555555555555556,\"#d8576b\"],[0.6666666666666666,\"#ed7953\"],[0.7777777777777778,\"#fb9f3a\"],[0.8888888888888888,\"#fdca26\"],[1.0,\"#f0f921\"]],\"type\":\"heatmap\"}],\"histogram2dcontour\":[{\"colorbar\":{\"outlinewidth\":0,\"ticks\":\"\"},\"colorscale\":[[0.0,\"#0d0887\"],[0.1111111111111111,\"#46039f\"],[0.2222222222222222,\"#7201a8\"],[0.3333333333333333,\"#9c179e\"],[0.4444444444444444,\"#bd3786\"],[0.5555555555555556,\"#d8576b\"],[0.6666666666666666,\"#ed7953\"],[0.7777777777777778,\"#fb9f3a\"],[0.8888888888888888,\"#fdca26\"],[1.0,\"#f0f921\"]],\"type\":\"histogram2dcontour\"}],\"histogram2d\":[{\"colorbar\":{\"outlinewidth\":0,\"ticks\":\"\"},\"colorscale\":[[0.0,\"#0d0887\"],[0.1111111111111111,\"#46039f\"],[0.2222222222222222,\"#7201a8\"],[0.3333333333333333,\"#9c179e\"],[0.4444444444444444,\"#bd3786\"],[0.5555555555555556,\"#d8576b\"],[0.6666666666666666,\"#ed7953\"],[0.7777777777777778,\"#fb9f3a\"],[0.8888888888888888,\"#fdca26\"],[1.0,\"#f0f921\"]],\"type\":\"histogram2d\"}],\"histogram\":[{\"marker\":{\"pattern\":{\"fillmode\":\"overlay\",\"size\":10,\"solidity\":0.2}},\"type\":\"histogram\"}],\"mesh3d\":[{\"colorbar\":{\"outlinewidth\":0,\"ticks\":\"\"},\"type\":\"mesh3d\"}],\"parcoords\":[{\"line\":{\"colorbar\":{\"outlinewidth\":0,\"ticks\":\"\"}},\"type\":\"parcoords\"}],\"pie\":[{\"automargin\":true,\"type\":\"pie\"}],\"scatter3d\":[{\"line\":{\"colorbar\":{\"outlinewidth\":0,\"ticks\":\"\"}},\"marker\":{\"colorbar\":{\"outlinewidth\":0,\"ticks\":\"\"}},\"type\":\"scatter3d\"}],\"scattercarpet\":[{\"marker\":{\"colorbar\":{\"outlinewidth\":0,\"ticks\":\"\"}},\"type\":\"scattercarpet\"}],\"scattergeo\":[{\"marker\":{\"colorbar\":{\"outlinewidth\":0,\"ticks\":\"\"}},\"type\":\"scattergeo\"}],\"scattergl\":[{\"marker\":{\"colorbar\":{\"outlinewidth\":0,\"ticks\":\"\"}},\"type\":\"scattergl\"}],\"scattermapbox\":[{\"marker\":{\"colorbar\":{\"outlinewidth\":0,\"ticks\":\"\"}},\"type\":\"scattermapbox\"}],\"scatterpolargl\":[{\"marker\":{\"colorbar\":{\"outlinewidth\":0,\"ticks\":\"\"}},\"type\":\"scatterpolargl\"}],\"scatterpolar\":[{\"marker\":{\"colorbar\":{\"outlinewidth\":0,\"ticks\":\"\"}},\"type\":\"scatterpolar\"}],\"scatter\":[{\"fillpattern\":{\"fillmode\":\"overlay\",\"size\":10,\"solidity\":0.2},\"type\":\"scatter\"}],\"scatterternary\":[{\"marker\":{\"colorbar\":{\"outlinewidth\":0,\"ticks\":\"\"}},\"type\":\"scatterternary\"}],\"surface\":[{\"colorbar\":{\"outlinewidth\":0,\"ticks\":\"\"},\"colorscale\":[[0.0,\"#0d0887\"],[0.1111111111111111,\"#46039f\"],[0.2222222222222222,\"#7201a8\"],[0.3333333333333333,\"#9c179e\"],[0.4444444444444444,\"#bd3786\"],[0.5555555555555556,\"#d8576b\"],[0.6666666666666666,\"#ed7953\"],[0.7777777777777778,\"#fb9f3a\"],[0.8888888888888888,\"#fdca26\"],[1.0,\"#f0f921\"]],\"type\":\"surface\"}],\"table\":[{\"cells\":{\"fill\":{\"color\":\"#EBF0F8\"},\"line\":{\"color\":\"white\"}},\"header\":{\"fill\":{\"color\":\"#C8D4E3\"},\"line\":{\"color\":\"white\"}},\"type\":\"table\"}]},\"layout\":{\"annotationdefaults\":{\"arrowcolor\":\"#2a3f5f\",\"arrowhead\":0,\"arrowwidth\":1},\"autotypenumbers\":\"strict\",\"coloraxis\":{\"colorbar\":{\"outlinewidth\":0,\"ticks\":\"\"}},\"colorscale\":{\"diverging\":[[0,\"#8e0152\"],[0.1,\"#c51b7d\"],[0.2,\"#de77ae\"],[0.3,\"#f1b6da\"],[0.4,\"#fde0ef\"],[0.5,\"#f7f7f7\"],[0.6,\"#e6f5d0\"],[0.7,\"#b8e186\"],[0.8,\"#7fbc41\"],[0.9,\"#4d9221\"],[1,\"#276419\"]],\"sequential\":[[0.0,\"#0d0887\"],[0.1111111111111111,\"#46039f\"],[0.2222222222222222,\"#7201a8\"],[0.3333333333333333,\"#9c179e\"],[0.4444444444444444,\"#bd3786\"],[0.5555555555555556,\"#d8576b\"],[0.6666666666666666,\"#ed7953\"],[0.7777777777777778,\"#fb9f3a\"],[0.8888888888888888,\"#fdca26\"],[1.0,\"#f0f921\"]],\"sequentialminus\":[[0.0,\"#0d0887\"],[0.1111111111111111,\"#46039f\"],[0.2222222222222222,\"#7201a8\"],[0.3333333333333333,\"#9c179e\"],[0.4444444444444444,\"#bd3786\"],[0.5555555555555556,\"#d8576b\"],[0.6666666666666666,\"#ed7953\"],[0.7777777777777778,\"#fb9f3a\"],[0.8888888888888888,\"#fdca26\"],[1.0,\"#f0f921\"]]},\"colorway\":[\"#636efa\",\"#EF553B\",\"#00cc96\",\"#ab63fa\",\"#FFA15A\",\"#19d3f3\",\"#FF6692\",\"#B6E880\",\"#FF97FF\",\"#FECB52\"],\"font\":{\"color\":\"#2a3f5f\"},\"geo\":{\"bgcolor\":\"white\",\"lakecolor\":\"white\",\"landcolor\":\"#E5ECF6\",\"showlakes\":true,\"showland\":true,\"subunitcolor\":\"white\"},\"hoverlabel\":{\"align\":\"left\"},\"hovermode\":\"closest\",\"mapbox\":{\"style\":\"light\"},\"paper_bgcolor\":\"white\",\"plot_bgcolor\":\"#E5ECF6\",\"polar\":{\"angularaxis\":{\"gridcolor\":\"white\",\"linecolor\":\"white\",\"ticks\":\"\"},\"bgcolor\":\"#E5ECF6\",\"radialaxis\":{\"gridcolor\":\"white\",\"linecolor\":\"white\",\"ticks\":\"\"}},\"scene\":{\"xaxis\":{\"backgroundcolor\":\"#E5ECF6\",\"gridcolor\":\"white\",\"gridwidth\":2,\"linecolor\":\"white\",\"showbackground\":true,\"ticks\":\"\",\"zerolinecolor\":\"white\"},\"yaxis\":{\"backgroundcolor\":\"#E5ECF6\",\"gridcolor\":\"white\",\"gridwidth\":2,\"linecolor\":\"white\",\"showbackground\":true,\"ticks\":\"\",\"zerolinecolor\":\"white\"},\"zaxis\":{\"backgroundcolor\":\"#E5ECF6\",\"gridcolor\":\"white\",\"gridwidth\":2,\"linecolor\":\"white\",\"showbackground\":true,\"ticks\":\"\",\"zerolinecolor\":\"white\"}},\"shapedefaults\":{\"line\":{\"color\":\"#2a3f5f\"}},\"ternary\":{\"aaxis\":{\"gridcolor\":\"white\",\"linecolor\":\"white\",\"ticks\":\"\"},\"baxis\":{\"gridcolor\":\"white\",\"linecolor\":\"white\",\"ticks\":\"\"},\"bgcolor\":\"#E5ECF6\",\"caxis\":{\"gridcolor\":\"white\",\"linecolor\":\"white\",\"ticks\":\"\"}},\"title\":{\"x\":0.05},\"xaxis\":{\"automargin\":true,\"gridcolor\":\"white\",\"linecolor\":\"white\",\"ticks\":\"\",\"title\":{\"standoff\":15},\"zerolinecolor\":\"white\",\"zerolinewidth\":2},\"yaxis\":{\"automargin\":true,\"gridcolor\":\"white\",\"linecolor\":\"white\",\"ticks\":\"\",\"title\":{\"standoff\":15},\"zerolinecolor\":\"white\",\"zerolinewidth\":2}}},\"title\":{\"font\":{\"color\":\"#4D5663\"}},\"xaxis\":{\"gridcolor\":\"#E1E5ED\",\"showgrid\":true,\"tickfont\":{\"color\":\"#4D5663\"},\"title\":{\"font\":{\"color\":\"#4D5663\"},\"text\":\"\"},\"zerolinecolor\":\"#E1E5ED\"},\"yaxis\":{\"gridcolor\":\"#E1E5ED\",\"showgrid\":true,\"tickfont\":{\"color\":\"#4D5663\"},\"title\":{\"font\":{\"color\":\"#4D5663\"},\"text\":\"\"},\"zerolinecolor\":\"#E1E5ED\"}},                        {\"showLink\": true, \"linkText\": \"Export to plot.ly\", \"plotlyServerURL\": \"https://plot.ly\", \"responsive\": true}                    ).then(function(){\n",
       "                            \n",
       "var gd = document.getElementById('50a7a9ec-e242-4149-9c65-e9cdd2368b66');\n",
       "var x = new MutationObserver(function (mutations, observer) {{\n",
       "        var display = window.getComputedStyle(gd).display;\n",
       "        if (!display || display === 'none') {{\n",
       "            console.log([gd, 'removed!']);\n",
       "            Plotly.purge(gd);\n",
       "            observer.disconnect();\n",
       "        }}\n",
       "}});\n",
       "\n",
       "// Listen for the removal of the full notebook cells\n",
       "var notebookContainer = gd.closest('#notebook-container');\n",
       "if (notebookContainer) {{\n",
       "    x.observe(notebookContainer, {childList: true});\n",
       "}}\n",
       "\n",
       "// Listen for the clearing of the current output cell\n",
       "var outputEl = gd.closest('.output');\n",
       "if (outputEl) {{\n",
       "    x.observe(outputEl, {childList: true});\n",
       "}}\n",
       "\n",
       "                        })                };                });            </script>        </div>"
      ]
     },
     "metadata": {},
     "output_type": "display_data"
    }
   ],
   "source": [
    "df.iplot(kind='hist')"
   ]
  },
  {
   "cell_type": "code",
   "execution_count": 40,
   "id": "a98ceeea",
   "metadata": {},
   "outputs": [
    {
     "name": "stderr",
     "output_type": "stream",
     "text": [
      "/Users/pb/anaconda3/lib/python3.11/site-packages/cufflinks/plotlytools.py:849: FutureWarning:\n",
      "\n",
      "The pandas.np module is deprecated and will be removed from pandas in a future version. Import numpy directly instead.\n",
      "\n",
      "/Users/pb/anaconda3/lib/python3.11/site-packages/cufflinks/plotlytools.py:850: FutureWarning:\n",
      "\n",
      "The pandas.np module is deprecated and will be removed from pandas in a future version. Import numpy directly instead.\n",
      "\n"
     ]
    },
    {
     "data": {
      "application/vnd.plotly.v1+json": {
       "config": {
        "linkText": "Export to plot.ly",
        "plotlyServerURL": "https://plot.ly",
        "showLink": true
       },
       "data": [
        {
         "line": {
          "color": "rgba(255, 153, 51, 1.0)",
          "dash": "solid",
          "shape": "linear",
          "width": 1.3
         },
         "mode": "lines",
         "name": "A",
         "text": "",
         "type": "scatter",
         "x": [
          0,
          1,
          2,
          3,
          4,
          5,
          6,
          7,
          8,
          9,
          10,
          11,
          12,
          13,
          14,
          15,
          16,
          17,
          18,
          19,
          20,
          21,
          22,
          23,
          24,
          25,
          26,
          27,
          28,
          29,
          30,
          31,
          32,
          33,
          34,
          35,
          36,
          37,
          38,
          39,
          40,
          41,
          42,
          43,
          44,
          45,
          46,
          47,
          48,
          49,
          50,
          51,
          52,
          53,
          54,
          55,
          56,
          57,
          58,
          59,
          60,
          61,
          62,
          63,
          64,
          65,
          66,
          67,
          68,
          69,
          70,
          71,
          72,
          73,
          74,
          75,
          76,
          77,
          78,
          79,
          80,
          81,
          82,
          83,
          84,
          85,
          86,
          87,
          88,
          89,
          90,
          91,
          92,
          93,
          94,
          95,
          96,
          97,
          98,
          99
         ],
         "y": [
          -0.05559180576518184,
          0.5620453907383516,
          -1.7899404051407906,
          1.500518268376267,
          0.7528373449617896,
          -1.1771597300556,
          1.97138381329973,
          0.3020214150295912,
          -1.9247991418812365,
          0.709441640718662,
          -0.01703638589202485,
          0.8199877942986776,
          0.5591157966803538,
          -0.07831734859886214,
          2.0263777208694695,
          -0.07574584864740508,
          -0.396370799265584,
          0.4191186184191619,
          0.9098700431175843,
          -1.0431608126404592,
          -1.7937637698431927,
          0.3067825397453611,
          0.2691059102780455,
          -0.31836442674890625,
          0.24337795539086785,
          0.512773733565278,
          -1.4073754758808312,
          0.5457544007462951,
          -0.6571845396135951,
          -2.0639373239813503,
          -1.4468588683638646,
          -0.9789754188086063,
          -2.1306056808379563,
          -0.20480729972649234,
          -0.8222382380694211,
          -0.33300118314536314,
          -0.29784234037258445,
          0.5307423401569827,
          0.15380642956204912,
          -0.1188208875107539,
          -0.8383589645894698,
          -0.5427105997081095,
          2.488310572074583,
          -0.2645552704783902,
          -0.45784207536797183,
          -1.8720226996945561,
          -0.7221199763313748,
          0.7303713162051148,
          -0.5675927577151667,
          0.2743443549958475,
          -0.8363932058173486,
          -0.197070058476929,
          -0.20013495199757259,
          -2.245092326684816,
          0.5943639003035389,
          -2.4438290349158693,
          -2.312513093070422,
          -0.10226142096044005,
          -0.3540991820914685,
          1.1846112283224697,
          0.5785961937800251,
          0.9454529767507993,
          -0.9378679023799694,
          2.252026617954698,
          0.8836245400728469,
          0.19770903317243588,
          0.5820505519137525,
          0.7000403498804273,
          0.18687441456797468,
          -2.605904251516702,
          1.013838593924159,
          0.7048394896011076,
          -0.9700118607851692,
          1.4122071311811517,
          0.22121580587926673,
          1.2618498032297492,
          -0.5281752604894419,
          -0.7421908714692181,
          1.5430526507489388,
          1.6370858753648112,
          0.15153329405330462,
          -0.35805431200293014,
          -0.9283089709763265,
          0.3293002280206697,
          -0.04430655153238148,
          1.125980853731697,
          -0.8103951450968989,
          -0.636133320370373,
          -0.5840496782043829,
          0.2912078731205048,
          -0.5137033735673227,
          -0.5894102919320074,
          -0.44662329985137666,
          1.4453702578010075,
          -2.8820121087644,
          0.5943854382063423,
          -0.2507644033592735,
          -1.4506707195233537,
          -0.32976243758703705,
          -0.5173084332484963
         ]
        },
        {
         "line": {
          "color": "rgba(55, 128, 191, 1.0)",
          "dash": "solid",
          "shape": "linear",
          "width": 1.3
         },
         "mode": "lines",
         "name": "B",
         "text": "",
         "type": "scatter",
         "x": [
          0,
          1,
          2,
          3,
          4,
          5,
          6,
          7,
          8,
          9,
          10,
          11,
          12,
          13,
          14,
          15,
          16,
          17,
          18,
          19,
          20,
          21,
          22,
          23,
          24,
          25,
          26,
          27,
          28,
          29,
          30,
          31,
          32,
          33,
          34,
          35,
          36,
          37,
          38,
          39,
          40,
          41,
          42,
          43,
          44,
          45,
          46,
          47,
          48,
          49,
          50,
          51,
          52,
          53,
          54,
          55,
          56,
          57,
          58,
          59,
          60,
          61,
          62,
          63,
          64,
          65,
          66,
          67,
          68,
          69,
          70,
          71,
          72,
          73,
          74,
          75,
          76,
          77,
          78,
          79,
          80,
          81,
          82,
          83,
          84,
          85,
          86,
          87,
          88,
          89,
          90,
          91,
          92,
          93,
          94,
          95,
          96,
          97,
          98,
          99
         ],
         "y": [
          1.452833408522823,
          -2.801289721404959,
          1.467471032771779,
          1.1075149196133212,
          0.5900621714557223,
          -0.28302847996604674,
          0.23427324061681518,
          -1.215558624206029,
          0.813168712095642,
          -0.27005007088545496,
          -0.38243213069474835,
          1.6853155435237392,
          -0.6607753287657827,
          -0.3472588976686309,
          0.6719544662985177,
          -1.2237508738534368,
          0.3183787636673109,
          -0.72535952550027,
          -0.26260020669625433,
          -0.850618401548025,
          -0.7274756636907109,
          1.1687905305044257,
          0.49469694638536177,
          -0.26871518589218507,
          0.15290598210181186,
          1.2097075310133023,
          1.000422474088806,
          0.3136146057400716,
          -0.2833208420357839,
          -0.1860803660624252,
          -0.9564691687831892,
          1.6672459232340364,
          0.6683703526469932,
          1.3610316950494012,
          -1.8351289950778071,
          0.2251323174580143,
          -0.5417476758860279,
          -1.0073462642598332,
          -0.38783816934944704,
          0.5531661483954752,
          -0.29784593859479686,
          0.27348929840642366,
          0.4691760622386405,
          -0.3761511711516631,
          -0.7725927101520446,
          -0.4637975839720279,
          -1.3947025101192394,
          -0.1830294614098356,
          1.625397974734619,
          0.7544921969987086,
          0.4104847513780054,
          -0.9092909463854356,
          1.171510476069789,
          0.5458990143642105,
          -0.5844526689136395,
          0.4425182954767783,
          -0.7817994944058249,
          1.0153723508764105,
          0.23275728789967648,
          -1.5989167066075543,
          1.1460289758089788,
          -0.7504446965323814,
          1.6300471548892737,
          -1.598248946404511,
          0.8595031406047959,
          0.16147366754361436,
          -0.45353015445403494,
          -0.31061877236519714,
          -0.6243507521232172,
          0.06250609987067719,
          -0.7759860097109451,
          -0.8472620099074127,
          1.5987177491523321,
          -1.1678132491490123,
          -1.247064428257644,
          -0.369826813335805,
          0.46232826804011073,
          1.7838081747848518,
          1.2909978570591278,
          -1.496859178399673,
          0.22001922625256887,
          -0.9113831617477044,
          0.49478127902387076,
          1.8100591568741062,
          1.0511618624121364,
          -0.8846969102030365,
          -0.861736858706487,
          -1.8399566183192644,
          -1.2004936606910546,
          -0.008772066069577691,
          -1.2661127544327189,
          0.12930024126805745,
          -0.9741132348621366,
          1.911126529769431,
          -0.8669170987643292,
          0.6705416816248445,
          0.7025783402266444,
          0.9783330874535535,
          0.13718527998129446,
          0.08864824382977793
         ]
        },
        {
         "connectgaps": false,
         "fill": "tozeroy",
         "line": {
          "color": "green",
          "dash": "solid",
          "shape": "linear",
          "width": 0.5
         },
         "mode": "lines",
         "name": "Spread",
         "showlegend": false,
         "type": "scatter",
         "x": [
          0,
          1,
          2,
          3,
          4,
          5,
          6,
          7,
          8,
          9,
          10,
          11,
          12,
          13,
          14,
          15,
          16,
          17,
          18,
          19,
          20,
          21,
          22,
          23,
          24,
          25,
          26,
          27,
          28,
          29,
          30,
          31,
          32,
          33,
          34,
          35,
          36,
          37,
          38,
          39,
          40,
          41,
          42,
          43,
          44,
          45,
          46,
          47,
          48,
          49,
          50,
          51,
          52,
          53,
          54,
          55,
          56,
          57,
          58,
          59,
          60,
          61,
          62,
          63,
          64,
          65,
          66,
          67,
          68,
          69,
          70,
          71,
          72,
          73,
          74,
          75,
          76,
          77,
          78,
          79,
          80,
          81,
          82,
          83,
          84,
          85,
          86,
          87,
          88,
          89,
          90,
          91,
          92,
          93,
          94,
          95,
          96,
          97,
          98,
          99
         ],
         "xaxis": "x2",
         "y": [
          "",
          3.363335112143311,
          "",
          0.39300334876294585,
          0.1627751735060673,
          "",
          1.7371105726829148,
          1.5175800392356202,
          "",
          0.979491711604117,
          0.3653957448027235,
          "",
          1.2198911254461366,
          0.26894154906976875,
          1.3544232545709518,
          1.1480050252060319,
          "",
          1.144478143919432,
          1.1724702498138386,
          "",
          "",
          "",
          "",
          "",
          0.09047197328905598,
          "",
          "",
          0.2321397950062235,
          "",
          "",
          "",
          "",
          "",
          "",
          1.012890757008386,
          "",
          0.24390533551344346,
          1.5380886044168158,
          0.5416445989114962,
          "",
          "",
          "",
          2.0191345098359426,
          0.11159590067327285,
          0.3147506347840727,
          "",
          0.6725825337878646,
          0.9134007776149503,
          "",
          "",
          "",
          0.7122208879085066,
          "",
          "",
          1.1788165692171784,
          "",
          "",
          "",
          "",
          2.783527934930024,
          "",
          1.6958976732831808,
          "",
          3.850275564359209,
          0.02412139946805092,
          0.036235365628821514,
          1.0355807063677875,
          1.0106591222456245,
          0.8112251666911919,
          "",
          1.789824603635104,
          1.5521014995085203,
          "",
          2.580020380330164,
          1.4682802341369108,
          1.6316766165655543,
          "",
          "",
          0.252054793689811,
          3.133945053764484,
          "",
          0.5533288497447743,
          "",
          "",
          "",
          2.0106777639347335,
          0.05134171360958806,
          1.2038232979488914,
          0.6164439824866716,
          0.2999799391900825,
          0.7524093808653962,
          "",
          0.52748993501076,
          "",
          "",
          "",
          "",
          "",
          "",
          ""
         ],
         "yaxis": "y2"
        },
        {
         "connectgaps": false,
         "fill": "tozeroy",
         "line": {
          "color": "red",
          "dash": "solid",
          "shape": "linear",
          "width": 0.5
         },
         "mode": "lines",
         "name": "Spread",
         "showlegend": false,
         "type": "scatter",
         "x": [
          0,
          1,
          2,
          3,
          4,
          5,
          6,
          7,
          8,
          9,
          10,
          11,
          12,
          13,
          14,
          15,
          16,
          17,
          18,
          19,
          20,
          21,
          22,
          23,
          24,
          25,
          26,
          27,
          28,
          29,
          30,
          31,
          32,
          33,
          34,
          35,
          36,
          37,
          38,
          39,
          40,
          41,
          42,
          43,
          44,
          45,
          46,
          47,
          48,
          49,
          50,
          51,
          52,
          53,
          54,
          55,
          56,
          57,
          58,
          59,
          60,
          61,
          62,
          63,
          64,
          65,
          66,
          67,
          68,
          69,
          70,
          71,
          72,
          73,
          74,
          75,
          76,
          77,
          78,
          79,
          80,
          81,
          82,
          83,
          84,
          85,
          86,
          87,
          88,
          89,
          90,
          91,
          92,
          93,
          94,
          95,
          96,
          97,
          98,
          99
         ],
         "xaxis": "x2",
         "y": [
          -1.5084252142880048,
          "",
          -3.2574114379125696,
          "",
          "",
          -0.8941312500895533,
          "",
          "",
          -2.7379678539768784,
          "",
          "",
          -0.8653277492250616,
          "",
          "",
          "",
          "",
          -0.7147495629328948,
          "",
          "",
          -0.1925424110924342,
          -1.0662881061524818,
          -0.8620079907590645,
          -0.2255910361073163,
          -0.04964924085672118,
          "",
          -0.6969337974480243,
          -2.407797949969637,
          "",
          -0.37386369757781124,
          -1.877856957918925,
          -0.49038969958067535,
          -2.646221342042643,
          -2.7989760334849496,
          -1.5658389947758935,
          "",
          -0.5581335006033774,
          "",
          "",
          "",
          -0.6719870359062291,
          -0.5405130259946729,
          -0.8161998981145332,
          "",
          "",
          "",
          -1.4082251157225283,
          "",
          "",
          -2.1929907324497857,
          -0.48014784200286115,
          -1.2468779571953539,
          "",
          -1.3716454280673616,
          -2.790991341049027,
          "",
          -2.8863473303926477,
          -1.5307135986645972,
          -1.1176337718368505,
          -0.5868564699911449,
          "",
          -0.5674327820289536,
          "",
          -2.567915057269243,
          "",
          "",
          "",
          "",
          "",
          "",
          -2.668410351387379,
          "",
          "",
          -2.568729609937501,
          "",
          "",
          "",
          -0.9905035285295526,
          -2.52599904625407,
          "",
          "",
          -0.06848593219926424,
          "",
          -1.4230902500001972,
          -1.4807589288534366,
          -1.0954684139445179,
          "",
          "",
          "",
          "",
          "",
          "",
          -0.718710533200065,
          "",
          -0.4657562719684236,
          -2.015095010000071,
          -0.07615624341850225,
          -0.953342743585918,
          -2.4290038069769073,
          -0.46694771756833153,
          -0.6059566770782743
         ],
         "yaxis": "y2"
        }
       ],
       "layout": {
        "hovermode": "x",
        "legend": {
         "bgcolor": "#F5F6F9",
         "font": {
          "color": "#4D5663"
         }
        },
        "paper_bgcolor": "#F5F6F9",
        "plot_bgcolor": "#F5F6F9",
        "template": {
         "data": {
          "bar": [
           {
            "error_x": {
             "color": "#2a3f5f"
            },
            "error_y": {
             "color": "#2a3f5f"
            },
            "marker": {
             "line": {
              "color": "#E5ECF6",
              "width": 0.5
             },
             "pattern": {
              "fillmode": "overlay",
              "size": 10,
              "solidity": 0.2
             }
            },
            "type": "bar"
           }
          ],
          "barpolar": [
           {
            "marker": {
             "line": {
              "color": "#E5ECF6",
              "width": 0.5
             },
             "pattern": {
              "fillmode": "overlay",
              "size": 10,
              "solidity": 0.2
             }
            },
            "type": "barpolar"
           }
          ],
          "carpet": [
           {
            "aaxis": {
             "endlinecolor": "#2a3f5f",
             "gridcolor": "white",
             "linecolor": "white",
             "minorgridcolor": "white",
             "startlinecolor": "#2a3f5f"
            },
            "baxis": {
             "endlinecolor": "#2a3f5f",
             "gridcolor": "white",
             "linecolor": "white",
             "minorgridcolor": "white",
             "startlinecolor": "#2a3f5f"
            },
            "type": "carpet"
           }
          ],
          "choropleth": [
           {
            "colorbar": {
             "outlinewidth": 0,
             "ticks": ""
            },
            "type": "choropleth"
           }
          ],
          "contour": [
           {
            "colorbar": {
             "outlinewidth": 0,
             "ticks": ""
            },
            "colorscale": [
             [
              0,
              "#0d0887"
             ],
             [
              0.1111111111111111,
              "#46039f"
             ],
             [
              0.2222222222222222,
              "#7201a8"
             ],
             [
              0.3333333333333333,
              "#9c179e"
             ],
             [
              0.4444444444444444,
              "#bd3786"
             ],
             [
              0.5555555555555556,
              "#d8576b"
             ],
             [
              0.6666666666666666,
              "#ed7953"
             ],
             [
              0.7777777777777778,
              "#fb9f3a"
             ],
             [
              0.8888888888888888,
              "#fdca26"
             ],
             [
              1,
              "#f0f921"
             ]
            ],
            "type": "contour"
           }
          ],
          "contourcarpet": [
           {
            "colorbar": {
             "outlinewidth": 0,
             "ticks": ""
            },
            "type": "contourcarpet"
           }
          ],
          "heatmap": [
           {
            "colorbar": {
             "outlinewidth": 0,
             "ticks": ""
            },
            "colorscale": [
             [
              0,
              "#0d0887"
             ],
             [
              0.1111111111111111,
              "#46039f"
             ],
             [
              0.2222222222222222,
              "#7201a8"
             ],
             [
              0.3333333333333333,
              "#9c179e"
             ],
             [
              0.4444444444444444,
              "#bd3786"
             ],
             [
              0.5555555555555556,
              "#d8576b"
             ],
             [
              0.6666666666666666,
              "#ed7953"
             ],
             [
              0.7777777777777778,
              "#fb9f3a"
             ],
             [
              0.8888888888888888,
              "#fdca26"
             ],
             [
              1,
              "#f0f921"
             ]
            ],
            "type": "heatmap"
           }
          ],
          "heatmapgl": [
           {
            "colorbar": {
             "outlinewidth": 0,
             "ticks": ""
            },
            "colorscale": [
             [
              0,
              "#0d0887"
             ],
             [
              0.1111111111111111,
              "#46039f"
             ],
             [
              0.2222222222222222,
              "#7201a8"
             ],
             [
              0.3333333333333333,
              "#9c179e"
             ],
             [
              0.4444444444444444,
              "#bd3786"
             ],
             [
              0.5555555555555556,
              "#d8576b"
             ],
             [
              0.6666666666666666,
              "#ed7953"
             ],
             [
              0.7777777777777778,
              "#fb9f3a"
             ],
             [
              0.8888888888888888,
              "#fdca26"
             ],
             [
              1,
              "#f0f921"
             ]
            ],
            "type": "heatmapgl"
           }
          ],
          "histogram": [
           {
            "marker": {
             "pattern": {
              "fillmode": "overlay",
              "size": 10,
              "solidity": 0.2
             }
            },
            "type": "histogram"
           }
          ],
          "histogram2d": [
           {
            "colorbar": {
             "outlinewidth": 0,
             "ticks": ""
            },
            "colorscale": [
             [
              0,
              "#0d0887"
             ],
             [
              0.1111111111111111,
              "#46039f"
             ],
             [
              0.2222222222222222,
              "#7201a8"
             ],
             [
              0.3333333333333333,
              "#9c179e"
             ],
             [
              0.4444444444444444,
              "#bd3786"
             ],
             [
              0.5555555555555556,
              "#d8576b"
             ],
             [
              0.6666666666666666,
              "#ed7953"
             ],
             [
              0.7777777777777778,
              "#fb9f3a"
             ],
             [
              0.8888888888888888,
              "#fdca26"
             ],
             [
              1,
              "#f0f921"
             ]
            ],
            "type": "histogram2d"
           }
          ],
          "histogram2dcontour": [
           {
            "colorbar": {
             "outlinewidth": 0,
             "ticks": ""
            },
            "colorscale": [
             [
              0,
              "#0d0887"
             ],
             [
              0.1111111111111111,
              "#46039f"
             ],
             [
              0.2222222222222222,
              "#7201a8"
             ],
             [
              0.3333333333333333,
              "#9c179e"
             ],
             [
              0.4444444444444444,
              "#bd3786"
             ],
             [
              0.5555555555555556,
              "#d8576b"
             ],
             [
              0.6666666666666666,
              "#ed7953"
             ],
             [
              0.7777777777777778,
              "#fb9f3a"
             ],
             [
              0.8888888888888888,
              "#fdca26"
             ],
             [
              1,
              "#f0f921"
             ]
            ],
            "type": "histogram2dcontour"
           }
          ],
          "mesh3d": [
           {
            "colorbar": {
             "outlinewidth": 0,
             "ticks": ""
            },
            "type": "mesh3d"
           }
          ],
          "parcoords": [
           {
            "line": {
             "colorbar": {
              "outlinewidth": 0,
              "ticks": ""
             }
            },
            "type": "parcoords"
           }
          ],
          "pie": [
           {
            "automargin": true,
            "type": "pie"
           }
          ],
          "scatter": [
           {
            "fillpattern": {
             "fillmode": "overlay",
             "size": 10,
             "solidity": 0.2
            },
            "type": "scatter"
           }
          ],
          "scatter3d": [
           {
            "line": {
             "colorbar": {
              "outlinewidth": 0,
              "ticks": ""
             }
            },
            "marker": {
             "colorbar": {
              "outlinewidth": 0,
              "ticks": ""
             }
            },
            "type": "scatter3d"
           }
          ],
          "scattercarpet": [
           {
            "marker": {
             "colorbar": {
              "outlinewidth": 0,
              "ticks": ""
             }
            },
            "type": "scattercarpet"
           }
          ],
          "scattergeo": [
           {
            "marker": {
             "colorbar": {
              "outlinewidth": 0,
              "ticks": ""
             }
            },
            "type": "scattergeo"
           }
          ],
          "scattergl": [
           {
            "marker": {
             "colorbar": {
              "outlinewidth": 0,
              "ticks": ""
             }
            },
            "type": "scattergl"
           }
          ],
          "scattermapbox": [
           {
            "marker": {
             "colorbar": {
              "outlinewidth": 0,
              "ticks": ""
             }
            },
            "type": "scattermapbox"
           }
          ],
          "scatterpolar": [
           {
            "marker": {
             "colorbar": {
              "outlinewidth": 0,
              "ticks": ""
             }
            },
            "type": "scatterpolar"
           }
          ],
          "scatterpolargl": [
           {
            "marker": {
             "colorbar": {
              "outlinewidth": 0,
              "ticks": ""
             }
            },
            "type": "scatterpolargl"
           }
          ],
          "scatterternary": [
           {
            "marker": {
             "colorbar": {
              "outlinewidth": 0,
              "ticks": ""
             }
            },
            "type": "scatterternary"
           }
          ],
          "surface": [
           {
            "colorbar": {
             "outlinewidth": 0,
             "ticks": ""
            },
            "colorscale": [
             [
              0,
              "#0d0887"
             ],
             [
              0.1111111111111111,
              "#46039f"
             ],
             [
              0.2222222222222222,
              "#7201a8"
             ],
             [
              0.3333333333333333,
              "#9c179e"
             ],
             [
              0.4444444444444444,
              "#bd3786"
             ],
             [
              0.5555555555555556,
              "#d8576b"
             ],
             [
              0.6666666666666666,
              "#ed7953"
             ],
             [
              0.7777777777777778,
              "#fb9f3a"
             ],
             [
              0.8888888888888888,
              "#fdca26"
             ],
             [
              1,
              "#f0f921"
             ]
            ],
            "type": "surface"
           }
          ],
          "table": [
           {
            "cells": {
             "fill": {
              "color": "#EBF0F8"
             },
             "line": {
              "color": "white"
             }
            },
            "header": {
             "fill": {
              "color": "#C8D4E3"
             },
             "line": {
              "color": "white"
             }
            },
            "type": "table"
           }
          ]
         },
         "layout": {
          "annotationdefaults": {
           "arrowcolor": "#2a3f5f",
           "arrowhead": 0,
           "arrowwidth": 1
          },
          "autotypenumbers": "strict",
          "coloraxis": {
           "colorbar": {
            "outlinewidth": 0,
            "ticks": ""
           }
          },
          "colorscale": {
           "diverging": [
            [
             0,
             "#8e0152"
            ],
            [
             0.1,
             "#c51b7d"
            ],
            [
             0.2,
             "#de77ae"
            ],
            [
             0.3,
             "#f1b6da"
            ],
            [
             0.4,
             "#fde0ef"
            ],
            [
             0.5,
             "#f7f7f7"
            ],
            [
             0.6,
             "#e6f5d0"
            ],
            [
             0.7,
             "#b8e186"
            ],
            [
             0.8,
             "#7fbc41"
            ],
            [
             0.9,
             "#4d9221"
            ],
            [
             1,
             "#276419"
            ]
           ],
           "sequential": [
            [
             0,
             "#0d0887"
            ],
            [
             0.1111111111111111,
             "#46039f"
            ],
            [
             0.2222222222222222,
             "#7201a8"
            ],
            [
             0.3333333333333333,
             "#9c179e"
            ],
            [
             0.4444444444444444,
             "#bd3786"
            ],
            [
             0.5555555555555556,
             "#d8576b"
            ],
            [
             0.6666666666666666,
             "#ed7953"
            ],
            [
             0.7777777777777778,
             "#fb9f3a"
            ],
            [
             0.8888888888888888,
             "#fdca26"
            ],
            [
             1,
             "#f0f921"
            ]
           ],
           "sequentialminus": [
            [
             0,
             "#0d0887"
            ],
            [
             0.1111111111111111,
             "#46039f"
            ],
            [
             0.2222222222222222,
             "#7201a8"
            ],
            [
             0.3333333333333333,
             "#9c179e"
            ],
            [
             0.4444444444444444,
             "#bd3786"
            ],
            [
             0.5555555555555556,
             "#d8576b"
            ],
            [
             0.6666666666666666,
             "#ed7953"
            ],
            [
             0.7777777777777778,
             "#fb9f3a"
            ],
            [
             0.8888888888888888,
             "#fdca26"
            ],
            [
             1,
             "#f0f921"
            ]
           ]
          },
          "colorway": [
           "#636efa",
           "#EF553B",
           "#00cc96",
           "#ab63fa",
           "#FFA15A",
           "#19d3f3",
           "#FF6692",
           "#B6E880",
           "#FF97FF",
           "#FECB52"
          ],
          "font": {
           "color": "#2a3f5f"
          },
          "geo": {
           "bgcolor": "white",
           "lakecolor": "white",
           "landcolor": "#E5ECF6",
           "showlakes": true,
           "showland": true,
           "subunitcolor": "white"
          },
          "hoverlabel": {
           "align": "left"
          },
          "hovermode": "closest",
          "mapbox": {
           "style": "light"
          },
          "paper_bgcolor": "white",
          "plot_bgcolor": "#E5ECF6",
          "polar": {
           "angularaxis": {
            "gridcolor": "white",
            "linecolor": "white",
            "ticks": ""
           },
           "bgcolor": "#E5ECF6",
           "radialaxis": {
            "gridcolor": "white",
            "linecolor": "white",
            "ticks": ""
           }
          },
          "scene": {
           "xaxis": {
            "backgroundcolor": "#E5ECF6",
            "gridcolor": "white",
            "gridwidth": 2,
            "linecolor": "white",
            "showbackground": true,
            "ticks": "",
            "zerolinecolor": "white"
           },
           "yaxis": {
            "backgroundcolor": "#E5ECF6",
            "gridcolor": "white",
            "gridwidth": 2,
            "linecolor": "white",
            "showbackground": true,
            "ticks": "",
            "zerolinecolor": "white"
           },
           "zaxis": {
            "backgroundcolor": "#E5ECF6",
            "gridcolor": "white",
            "gridwidth": 2,
            "linecolor": "white",
            "showbackground": true,
            "ticks": "",
            "zerolinecolor": "white"
           }
          },
          "shapedefaults": {
           "line": {
            "color": "#2a3f5f"
           }
          },
          "ternary": {
           "aaxis": {
            "gridcolor": "white",
            "linecolor": "white",
            "ticks": ""
           },
           "baxis": {
            "gridcolor": "white",
            "linecolor": "white",
            "ticks": ""
           },
           "bgcolor": "#E5ECF6",
           "caxis": {
            "gridcolor": "white",
            "linecolor": "white",
            "ticks": ""
           }
          },
          "title": {
           "x": 0.05
          },
          "xaxis": {
           "automargin": true,
           "gridcolor": "white",
           "linecolor": "white",
           "ticks": "",
           "title": {
            "standoff": 15
           },
           "zerolinecolor": "white",
           "zerolinewidth": 2
          },
          "yaxis": {
           "automargin": true,
           "gridcolor": "white",
           "linecolor": "white",
           "ticks": "",
           "title": {
            "standoff": 15
           },
           "zerolinecolor": "white",
           "zerolinewidth": 2
          }
         }
        },
        "title": {
         "font": {
          "color": "#4D5663"
         }
        },
        "xaxis": {
         "gridcolor": "#E1E5ED",
         "showgrid": true,
         "tickfont": {
          "color": "#4D5663"
         },
         "title": {
          "font": {
           "color": "#4D5663"
          },
          "text": ""
         },
         "zerolinecolor": "#E1E5ED"
        },
        "xaxis2": {
         "anchor": "y2",
         "gridcolor": "#E1E5ED",
         "showgrid": true,
         "showticklabels": false,
         "tickfont": {
          "color": "#4D5663"
         },
         "title": {
          "font": {
           "color": "#4D5663"
          },
          "text": ""
         },
         "zerolinecolor": "#E1E5ED"
        },
        "yaxis": {
         "domain": [
          0.3,
          1
         ],
         "gridcolor": "#E1E5ED",
         "showgrid": true,
         "tickfont": {
          "color": "#4D5663"
         },
         "title": {
          "font": {
           "color": "#4D5663"
          },
          "text": ""
         },
         "zerolinecolor": "#E1E5ED"
        },
        "yaxis2": {
         "domain": [
          0,
          0.25
         ],
         "gridcolor": "#E1E5ED",
         "showgrid": true,
         "tickfont": {
          "color": "#4D5663"
         },
         "title": {
          "font": {
           "color": "#4D5663"
          },
          "text": "Spread"
         },
         "zerolinecolor": "#E1E5ED"
        }
       }
      },
      "text/html": [
       "<div>                            <div id=\"fee90713-e835-4494-b3a5-e1c606202ed7\" class=\"plotly-graph-div\" style=\"height:525px; width:100%;\"></div>            <script type=\"text/javascript\">                require([\"plotly\"], function(Plotly) {                    window.PLOTLYENV=window.PLOTLYENV || {};\n",
       "                    window.PLOTLYENV.BASE_URL='https://plot.ly';                                    if (document.getElementById(\"fee90713-e835-4494-b3a5-e1c606202ed7\")) {                    Plotly.newPlot(                        \"fee90713-e835-4494-b3a5-e1c606202ed7\",                        [{\"line\":{\"color\":\"rgba(255, 153, 51, 1.0)\",\"dash\":\"solid\",\"shape\":\"linear\",\"width\":1.3},\"mode\":\"lines\",\"name\":\"A\",\"text\":\"\",\"x\":[0,1,2,3,4,5,6,7,8,9,10,11,12,13,14,15,16,17,18,19,20,21,22,23,24,25,26,27,28,29,30,31,32,33,34,35,36,37,38,39,40,41,42,43,44,45,46,47,48,49,50,51,52,53,54,55,56,57,58,59,60,61,62,63,64,65,66,67,68,69,70,71,72,73,74,75,76,77,78,79,80,81,82,83,84,85,86,87,88,89,90,91,92,93,94,95,96,97,98,99],\"y\":[-0.05559180576518184,0.5620453907383516,-1.7899404051407906,1.500518268376267,0.7528373449617896,-1.1771597300556,1.97138381329973,0.3020214150295912,-1.9247991418812365,0.709441640718662,-0.01703638589202485,0.8199877942986776,0.5591157966803538,-0.07831734859886214,2.0263777208694695,-0.07574584864740508,-0.396370799265584,0.4191186184191619,0.9098700431175843,-1.0431608126404592,-1.7937637698431927,0.3067825397453611,0.2691059102780455,-0.31836442674890625,0.24337795539086785,0.512773733565278,-1.4073754758808312,0.5457544007462951,-0.6571845396135951,-2.0639373239813503,-1.4468588683638646,-0.9789754188086063,-2.1306056808379563,-0.20480729972649234,-0.8222382380694211,-0.33300118314536314,-0.29784234037258445,0.5307423401569827,0.15380642956204912,-0.1188208875107539,-0.8383589645894698,-0.5427105997081095,2.488310572074583,-0.2645552704783902,-0.45784207536797183,-1.8720226996945561,-0.7221199763313748,0.7303713162051148,-0.5675927577151667,0.2743443549958475,-0.8363932058173486,-0.197070058476929,-0.20013495199757259,-2.245092326684816,0.5943639003035389,-2.4438290349158693,-2.312513093070422,-0.10226142096044005,-0.3540991820914685,1.1846112283224697,0.5785961937800251,0.9454529767507993,-0.9378679023799694,2.252026617954698,0.8836245400728469,0.19770903317243588,0.5820505519137525,0.7000403498804273,0.18687441456797468,-2.605904251516702,1.013838593924159,0.7048394896011076,-0.9700118607851692,1.4122071311811517,0.22121580587926673,1.2618498032297492,-0.5281752604894419,-0.7421908714692181,1.5430526507489388,1.6370858753648112,0.15153329405330462,-0.35805431200293014,-0.9283089709763265,0.3293002280206697,-0.04430655153238148,1.125980853731697,-0.8103951450968989,-0.636133320370373,-0.5840496782043829,0.2912078731205048,-0.5137033735673227,-0.5894102919320074,-0.44662329985137666,1.4453702578010075,-2.8820121087644,0.5943854382063423,-0.2507644033592735,-1.4506707195233537,-0.32976243758703705,-0.5173084332484963],\"type\":\"scatter\"},{\"line\":{\"color\":\"rgba(55, 128, 191, 1.0)\",\"dash\":\"solid\",\"shape\":\"linear\",\"width\":1.3},\"mode\":\"lines\",\"name\":\"B\",\"text\":\"\",\"x\":[0,1,2,3,4,5,6,7,8,9,10,11,12,13,14,15,16,17,18,19,20,21,22,23,24,25,26,27,28,29,30,31,32,33,34,35,36,37,38,39,40,41,42,43,44,45,46,47,48,49,50,51,52,53,54,55,56,57,58,59,60,61,62,63,64,65,66,67,68,69,70,71,72,73,74,75,76,77,78,79,80,81,82,83,84,85,86,87,88,89,90,91,92,93,94,95,96,97,98,99],\"y\":[1.452833408522823,-2.801289721404959,1.467471032771779,1.1075149196133212,0.5900621714557223,-0.28302847996604674,0.23427324061681518,-1.215558624206029,0.813168712095642,-0.27005007088545496,-0.38243213069474835,1.6853155435237392,-0.6607753287657827,-0.3472588976686309,0.6719544662985177,-1.2237508738534368,0.3183787636673109,-0.72535952550027,-0.26260020669625433,-0.850618401548025,-0.7274756636907109,1.1687905305044257,0.49469694638536177,-0.26871518589218507,0.15290598210181186,1.2097075310133023,1.000422474088806,0.3136146057400716,-0.2833208420357839,-0.1860803660624252,-0.9564691687831892,1.6672459232340364,0.6683703526469932,1.3610316950494012,-1.8351289950778071,0.2251323174580143,-0.5417476758860279,-1.0073462642598332,-0.38783816934944704,0.5531661483954752,-0.29784593859479686,0.27348929840642366,0.4691760622386405,-0.3761511711516631,-0.7725927101520446,-0.4637975839720279,-1.3947025101192394,-0.1830294614098356,1.625397974734619,0.7544921969987086,0.4104847513780054,-0.9092909463854356,1.171510476069789,0.5458990143642105,-0.5844526689136395,0.4425182954767783,-0.7817994944058249,1.0153723508764105,0.23275728789967648,-1.5989167066075543,1.1460289758089788,-0.7504446965323814,1.6300471548892737,-1.598248946404511,0.8595031406047959,0.16147366754361436,-0.45353015445403494,-0.31061877236519714,-0.6243507521232172,0.06250609987067719,-0.7759860097109451,-0.8472620099074127,1.5987177491523321,-1.1678132491490123,-1.247064428257644,-0.369826813335805,0.46232826804011073,1.7838081747848518,1.2909978570591278,-1.496859178399673,0.22001922625256887,-0.9113831617477044,0.49478127902387076,1.8100591568741062,1.0511618624121364,-0.8846969102030365,-0.861736858706487,-1.8399566183192644,-1.2004936606910546,-0.008772066069577691,-1.2661127544327189,0.12930024126805745,-0.9741132348621366,1.911126529769431,-0.8669170987643292,0.6705416816248445,0.7025783402266444,0.9783330874535535,0.13718527998129446,0.08864824382977793],\"type\":\"scatter\"},{\"connectgaps\":false,\"fill\":\"tozeroy\",\"line\":{\"color\":\"green\",\"dash\":\"solid\",\"shape\":\"linear\",\"width\":0.5},\"mode\":\"lines\",\"name\":\"Spread\",\"showlegend\":false,\"x\":[0,1,2,3,4,5,6,7,8,9,10,11,12,13,14,15,16,17,18,19,20,21,22,23,24,25,26,27,28,29,30,31,32,33,34,35,36,37,38,39,40,41,42,43,44,45,46,47,48,49,50,51,52,53,54,55,56,57,58,59,60,61,62,63,64,65,66,67,68,69,70,71,72,73,74,75,76,77,78,79,80,81,82,83,84,85,86,87,88,89,90,91,92,93,94,95,96,97,98,99],\"xaxis\":\"x2\",\"y\":[\"\",3.363335112143311,\"\",0.39300334876294585,0.1627751735060673,\"\",1.7371105726829148,1.5175800392356202,\"\",0.979491711604117,0.3653957448027235,\"\",1.2198911254461366,0.26894154906976875,1.3544232545709518,1.1480050252060319,\"\",1.144478143919432,1.1724702498138386,\"\",\"\",\"\",\"\",\"\",0.09047197328905598,\"\",\"\",0.2321397950062235,\"\",\"\",\"\",\"\",\"\",\"\",1.012890757008386,\"\",0.24390533551344346,1.5380886044168158,0.5416445989114962,\"\",\"\",\"\",2.0191345098359426,0.11159590067327285,0.3147506347840727,\"\",0.6725825337878646,0.9134007776149503,\"\",\"\",\"\",0.7122208879085066,\"\",\"\",1.1788165692171784,\"\",\"\",\"\",\"\",2.783527934930024,\"\",1.6958976732831808,\"\",3.850275564359209,0.02412139946805092,0.036235365628821514,1.0355807063677875,1.0106591222456245,0.8112251666911919,\"\",1.789824603635104,1.5521014995085203,\"\",2.580020380330164,1.4682802341369108,1.6316766165655543,\"\",\"\",0.252054793689811,3.133945053764484,\"\",0.5533288497447743,\"\",\"\",\"\",2.0106777639347335,0.05134171360958806,1.2038232979488914,0.6164439824866716,0.2999799391900825,0.7524093808653962,\"\",0.52748993501076,\"\",\"\",\"\",\"\",\"\",\"\",\"\"],\"yaxis\":\"y2\",\"type\":\"scatter\"},{\"connectgaps\":false,\"fill\":\"tozeroy\",\"line\":{\"color\":\"red\",\"dash\":\"solid\",\"shape\":\"linear\",\"width\":0.5},\"mode\":\"lines\",\"name\":\"Spread\",\"showlegend\":false,\"x\":[0,1,2,3,4,5,6,7,8,9,10,11,12,13,14,15,16,17,18,19,20,21,22,23,24,25,26,27,28,29,30,31,32,33,34,35,36,37,38,39,40,41,42,43,44,45,46,47,48,49,50,51,52,53,54,55,56,57,58,59,60,61,62,63,64,65,66,67,68,69,70,71,72,73,74,75,76,77,78,79,80,81,82,83,84,85,86,87,88,89,90,91,92,93,94,95,96,97,98,99],\"xaxis\":\"x2\",\"y\":[-1.5084252142880048,\"\",-3.2574114379125696,\"\",\"\",-0.8941312500895533,\"\",\"\",-2.7379678539768784,\"\",\"\",-0.8653277492250616,\"\",\"\",\"\",\"\",-0.7147495629328948,\"\",\"\",-0.1925424110924342,-1.0662881061524818,-0.8620079907590645,-0.2255910361073163,-0.04964924085672118,\"\",-0.6969337974480243,-2.407797949969637,\"\",-0.37386369757781124,-1.877856957918925,-0.49038969958067535,-2.646221342042643,-2.7989760334849496,-1.5658389947758935,\"\",-0.5581335006033774,\"\",\"\",\"\",-0.6719870359062291,-0.5405130259946729,-0.8161998981145332,\"\",\"\",\"\",-1.4082251157225283,\"\",\"\",-2.1929907324497857,-0.48014784200286115,-1.2468779571953539,\"\",-1.3716454280673616,-2.790991341049027,\"\",-2.8863473303926477,-1.5307135986645972,-1.1176337718368505,-0.5868564699911449,\"\",-0.5674327820289536,\"\",-2.567915057269243,\"\",\"\",\"\",\"\",\"\",\"\",-2.668410351387379,\"\",\"\",-2.568729609937501,\"\",\"\",\"\",-0.9905035285295526,-2.52599904625407,\"\",\"\",-0.06848593219926424,\"\",-1.4230902500001972,-1.4807589288534366,-1.0954684139445179,\"\",\"\",\"\",\"\",\"\",\"\",-0.718710533200065,\"\",-0.4657562719684236,-2.015095010000071,-0.07615624341850225,-0.953342743585918,-2.4290038069769073,-0.46694771756833153,-0.6059566770782743],\"yaxis\":\"y2\",\"type\":\"scatter\"}],                        {\"hovermode\":\"x\",\"legend\":{\"bgcolor\":\"#F5F6F9\",\"font\":{\"color\":\"#4D5663\"}},\"paper_bgcolor\":\"#F5F6F9\",\"plot_bgcolor\":\"#F5F6F9\",\"template\":{\"data\":{\"barpolar\":[{\"marker\":{\"line\":{\"color\":\"#E5ECF6\",\"width\":0.5},\"pattern\":{\"fillmode\":\"overlay\",\"size\":10,\"solidity\":0.2}},\"type\":\"barpolar\"}],\"bar\":[{\"error_x\":{\"color\":\"#2a3f5f\"},\"error_y\":{\"color\":\"#2a3f5f\"},\"marker\":{\"line\":{\"color\":\"#E5ECF6\",\"width\":0.5},\"pattern\":{\"fillmode\":\"overlay\",\"size\":10,\"solidity\":0.2}},\"type\":\"bar\"}],\"carpet\":[{\"aaxis\":{\"endlinecolor\":\"#2a3f5f\",\"gridcolor\":\"white\",\"linecolor\":\"white\",\"minorgridcolor\":\"white\",\"startlinecolor\":\"#2a3f5f\"},\"baxis\":{\"endlinecolor\":\"#2a3f5f\",\"gridcolor\":\"white\",\"linecolor\":\"white\",\"minorgridcolor\":\"white\",\"startlinecolor\":\"#2a3f5f\"},\"type\":\"carpet\"}],\"choropleth\":[{\"colorbar\":{\"outlinewidth\":0,\"ticks\":\"\"},\"type\":\"choropleth\"}],\"contourcarpet\":[{\"colorbar\":{\"outlinewidth\":0,\"ticks\":\"\"},\"type\":\"contourcarpet\"}],\"contour\":[{\"colorbar\":{\"outlinewidth\":0,\"ticks\":\"\"},\"colorscale\":[[0.0,\"#0d0887\"],[0.1111111111111111,\"#46039f\"],[0.2222222222222222,\"#7201a8\"],[0.3333333333333333,\"#9c179e\"],[0.4444444444444444,\"#bd3786\"],[0.5555555555555556,\"#d8576b\"],[0.6666666666666666,\"#ed7953\"],[0.7777777777777778,\"#fb9f3a\"],[0.8888888888888888,\"#fdca26\"],[1.0,\"#f0f921\"]],\"type\":\"contour\"}],\"heatmapgl\":[{\"colorbar\":{\"outlinewidth\":0,\"ticks\":\"\"},\"colorscale\":[[0.0,\"#0d0887\"],[0.1111111111111111,\"#46039f\"],[0.2222222222222222,\"#7201a8\"],[0.3333333333333333,\"#9c179e\"],[0.4444444444444444,\"#bd3786\"],[0.5555555555555556,\"#d8576b\"],[0.6666666666666666,\"#ed7953\"],[0.7777777777777778,\"#fb9f3a\"],[0.8888888888888888,\"#fdca26\"],[1.0,\"#f0f921\"]],\"type\":\"heatmapgl\"}],\"heatmap\":[{\"colorbar\":{\"outlinewidth\":0,\"ticks\":\"\"},\"colorscale\":[[0.0,\"#0d0887\"],[0.1111111111111111,\"#46039f\"],[0.2222222222222222,\"#7201a8\"],[0.3333333333333333,\"#9c179e\"],[0.4444444444444444,\"#bd3786\"],[0.5555555555555556,\"#d8576b\"],[0.6666666666666666,\"#ed7953\"],[0.7777777777777778,\"#fb9f3a\"],[0.8888888888888888,\"#fdca26\"],[1.0,\"#f0f921\"]],\"type\":\"heatmap\"}],\"histogram2dcontour\":[{\"colorbar\":{\"outlinewidth\":0,\"ticks\":\"\"},\"colorscale\":[[0.0,\"#0d0887\"],[0.1111111111111111,\"#46039f\"],[0.2222222222222222,\"#7201a8\"],[0.3333333333333333,\"#9c179e\"],[0.4444444444444444,\"#bd3786\"],[0.5555555555555556,\"#d8576b\"],[0.6666666666666666,\"#ed7953\"],[0.7777777777777778,\"#fb9f3a\"],[0.8888888888888888,\"#fdca26\"],[1.0,\"#f0f921\"]],\"type\":\"histogram2dcontour\"}],\"histogram2d\":[{\"colorbar\":{\"outlinewidth\":0,\"ticks\":\"\"},\"colorscale\":[[0.0,\"#0d0887\"],[0.1111111111111111,\"#46039f\"],[0.2222222222222222,\"#7201a8\"],[0.3333333333333333,\"#9c179e\"],[0.4444444444444444,\"#bd3786\"],[0.5555555555555556,\"#d8576b\"],[0.6666666666666666,\"#ed7953\"],[0.7777777777777778,\"#fb9f3a\"],[0.8888888888888888,\"#fdca26\"],[1.0,\"#f0f921\"]],\"type\":\"histogram2d\"}],\"histogram\":[{\"marker\":{\"pattern\":{\"fillmode\":\"overlay\",\"size\":10,\"solidity\":0.2}},\"type\":\"histogram\"}],\"mesh3d\":[{\"colorbar\":{\"outlinewidth\":0,\"ticks\":\"\"},\"type\":\"mesh3d\"}],\"parcoords\":[{\"line\":{\"colorbar\":{\"outlinewidth\":0,\"ticks\":\"\"}},\"type\":\"parcoords\"}],\"pie\":[{\"automargin\":true,\"type\":\"pie\"}],\"scatter3d\":[{\"line\":{\"colorbar\":{\"outlinewidth\":0,\"ticks\":\"\"}},\"marker\":{\"colorbar\":{\"outlinewidth\":0,\"ticks\":\"\"}},\"type\":\"scatter3d\"}],\"scattercarpet\":[{\"marker\":{\"colorbar\":{\"outlinewidth\":0,\"ticks\":\"\"}},\"type\":\"scattercarpet\"}],\"scattergeo\":[{\"marker\":{\"colorbar\":{\"outlinewidth\":0,\"ticks\":\"\"}},\"type\":\"scattergeo\"}],\"scattergl\":[{\"marker\":{\"colorbar\":{\"outlinewidth\":0,\"ticks\":\"\"}},\"type\":\"scattergl\"}],\"scattermapbox\":[{\"marker\":{\"colorbar\":{\"outlinewidth\":0,\"ticks\":\"\"}},\"type\":\"scattermapbox\"}],\"scatterpolargl\":[{\"marker\":{\"colorbar\":{\"outlinewidth\":0,\"ticks\":\"\"}},\"type\":\"scatterpolargl\"}],\"scatterpolar\":[{\"marker\":{\"colorbar\":{\"outlinewidth\":0,\"ticks\":\"\"}},\"type\":\"scatterpolar\"}],\"scatter\":[{\"fillpattern\":{\"fillmode\":\"overlay\",\"size\":10,\"solidity\":0.2},\"type\":\"scatter\"}],\"scatterternary\":[{\"marker\":{\"colorbar\":{\"outlinewidth\":0,\"ticks\":\"\"}},\"type\":\"scatterternary\"}],\"surface\":[{\"colorbar\":{\"outlinewidth\":0,\"ticks\":\"\"},\"colorscale\":[[0.0,\"#0d0887\"],[0.1111111111111111,\"#46039f\"],[0.2222222222222222,\"#7201a8\"],[0.3333333333333333,\"#9c179e\"],[0.4444444444444444,\"#bd3786\"],[0.5555555555555556,\"#d8576b\"],[0.6666666666666666,\"#ed7953\"],[0.7777777777777778,\"#fb9f3a\"],[0.8888888888888888,\"#fdca26\"],[1.0,\"#f0f921\"]],\"type\":\"surface\"}],\"table\":[{\"cells\":{\"fill\":{\"color\":\"#EBF0F8\"},\"line\":{\"color\":\"white\"}},\"header\":{\"fill\":{\"color\":\"#C8D4E3\"},\"line\":{\"color\":\"white\"}},\"type\":\"table\"}]},\"layout\":{\"annotationdefaults\":{\"arrowcolor\":\"#2a3f5f\",\"arrowhead\":0,\"arrowwidth\":1},\"autotypenumbers\":\"strict\",\"coloraxis\":{\"colorbar\":{\"outlinewidth\":0,\"ticks\":\"\"}},\"colorscale\":{\"diverging\":[[0,\"#8e0152\"],[0.1,\"#c51b7d\"],[0.2,\"#de77ae\"],[0.3,\"#f1b6da\"],[0.4,\"#fde0ef\"],[0.5,\"#f7f7f7\"],[0.6,\"#e6f5d0\"],[0.7,\"#b8e186\"],[0.8,\"#7fbc41\"],[0.9,\"#4d9221\"],[1,\"#276419\"]],\"sequential\":[[0.0,\"#0d0887\"],[0.1111111111111111,\"#46039f\"],[0.2222222222222222,\"#7201a8\"],[0.3333333333333333,\"#9c179e\"],[0.4444444444444444,\"#bd3786\"],[0.5555555555555556,\"#d8576b\"],[0.6666666666666666,\"#ed7953\"],[0.7777777777777778,\"#fb9f3a\"],[0.8888888888888888,\"#fdca26\"],[1.0,\"#f0f921\"]],\"sequentialminus\":[[0.0,\"#0d0887\"],[0.1111111111111111,\"#46039f\"],[0.2222222222222222,\"#7201a8\"],[0.3333333333333333,\"#9c179e\"],[0.4444444444444444,\"#bd3786\"],[0.5555555555555556,\"#d8576b\"],[0.6666666666666666,\"#ed7953\"],[0.7777777777777778,\"#fb9f3a\"],[0.8888888888888888,\"#fdca26\"],[1.0,\"#f0f921\"]]},\"colorway\":[\"#636efa\",\"#EF553B\",\"#00cc96\",\"#ab63fa\",\"#FFA15A\",\"#19d3f3\",\"#FF6692\",\"#B6E880\",\"#FF97FF\",\"#FECB52\"],\"font\":{\"color\":\"#2a3f5f\"},\"geo\":{\"bgcolor\":\"white\",\"lakecolor\":\"white\",\"landcolor\":\"#E5ECF6\",\"showlakes\":true,\"showland\":true,\"subunitcolor\":\"white\"},\"hoverlabel\":{\"align\":\"left\"},\"hovermode\":\"closest\",\"mapbox\":{\"style\":\"light\"},\"paper_bgcolor\":\"white\",\"plot_bgcolor\":\"#E5ECF6\",\"polar\":{\"angularaxis\":{\"gridcolor\":\"white\",\"linecolor\":\"white\",\"ticks\":\"\"},\"bgcolor\":\"#E5ECF6\",\"radialaxis\":{\"gridcolor\":\"white\",\"linecolor\":\"white\",\"ticks\":\"\"}},\"scene\":{\"xaxis\":{\"backgroundcolor\":\"#E5ECF6\",\"gridcolor\":\"white\",\"gridwidth\":2,\"linecolor\":\"white\",\"showbackground\":true,\"ticks\":\"\",\"zerolinecolor\":\"white\"},\"yaxis\":{\"backgroundcolor\":\"#E5ECF6\",\"gridcolor\":\"white\",\"gridwidth\":2,\"linecolor\":\"white\",\"showbackground\":true,\"ticks\":\"\",\"zerolinecolor\":\"white\"},\"zaxis\":{\"backgroundcolor\":\"#E5ECF6\",\"gridcolor\":\"white\",\"gridwidth\":2,\"linecolor\":\"white\",\"showbackground\":true,\"ticks\":\"\",\"zerolinecolor\":\"white\"}},\"shapedefaults\":{\"line\":{\"color\":\"#2a3f5f\"}},\"ternary\":{\"aaxis\":{\"gridcolor\":\"white\",\"linecolor\":\"white\",\"ticks\":\"\"},\"baxis\":{\"gridcolor\":\"white\",\"linecolor\":\"white\",\"ticks\":\"\"},\"bgcolor\":\"#E5ECF6\",\"caxis\":{\"gridcolor\":\"white\",\"linecolor\":\"white\",\"ticks\":\"\"}},\"title\":{\"x\":0.05},\"xaxis\":{\"automargin\":true,\"gridcolor\":\"white\",\"linecolor\":\"white\",\"ticks\":\"\",\"title\":{\"standoff\":15},\"zerolinecolor\":\"white\",\"zerolinewidth\":2},\"yaxis\":{\"automargin\":true,\"gridcolor\":\"white\",\"linecolor\":\"white\",\"ticks\":\"\",\"title\":{\"standoff\":15},\"zerolinecolor\":\"white\",\"zerolinewidth\":2}}},\"title\":{\"font\":{\"color\":\"#4D5663\"}},\"xaxis\":{\"gridcolor\":\"#E1E5ED\",\"showgrid\":true,\"tickfont\":{\"color\":\"#4D5663\"},\"title\":{\"font\":{\"color\":\"#4D5663\"},\"text\":\"\"},\"zerolinecolor\":\"#E1E5ED\"},\"yaxis\":{\"domain\":[0.3,1],\"gridcolor\":\"#E1E5ED\",\"showgrid\":true,\"tickfont\":{\"color\":\"#4D5663\"},\"title\":{\"font\":{\"color\":\"#4D5663\"},\"text\":\"\"},\"zerolinecolor\":\"#E1E5ED\"},\"yaxis2\":{\"domain\":[0,0.25],\"gridcolor\":\"#E1E5ED\",\"showgrid\":true,\"tickfont\":{\"color\":\"#4D5663\"},\"title\":{\"font\":{\"color\":\"#4D5663\"},\"text\":\"Spread\"},\"zerolinecolor\":\"#E1E5ED\"},\"xaxis2\":{\"anchor\":\"y2\",\"gridcolor\":\"#E1E5ED\",\"showgrid\":true,\"showticklabels\":false,\"tickfont\":{\"color\":\"#4D5663\"},\"title\":{\"font\":{\"color\":\"#4D5663\"},\"text\":\"\"},\"zerolinecolor\":\"#E1E5ED\"}},                        {\"showLink\": true, \"linkText\": \"Export to plot.ly\", \"plotlyServerURL\": \"https://plot.ly\", \"responsive\": true}                    ).then(function(){\n",
       "                            \n",
       "var gd = document.getElementById('fee90713-e835-4494-b3a5-e1c606202ed7');\n",
       "var x = new MutationObserver(function (mutations, observer) {{\n",
       "        var display = window.getComputedStyle(gd).display;\n",
       "        if (!display || display === 'none') {{\n",
       "            console.log([gd, 'removed!']);\n",
       "            Plotly.purge(gd);\n",
       "            observer.disconnect();\n",
       "        }}\n",
       "}});\n",
       "\n",
       "// Listen for the removal of the full notebook cells\n",
       "var notebookContainer = gd.closest('#notebook-container');\n",
       "if (notebookContainer) {{\n",
       "    x.observe(notebookContainer, {childList: true});\n",
       "}}\n",
       "\n",
       "// Listen for the clearing of the current output cell\n",
       "var outputEl = gd.closest('.output');\n",
       "if (outputEl) {{\n",
       "    x.observe(outputEl, {childList: true});\n",
       "}}\n",
       "\n",
       "                        })                };                });            </script>        </div>"
      ]
     },
     "metadata": {},
     "output_type": "display_data"
    }
   ],
   "source": [
    "df[['A','B']].iplot(kind='spread')"
   ]
  },
  {
   "cell_type": "code",
   "execution_count": 44,
   "id": "a75d7915",
   "metadata": {},
   "outputs": [
    {
     "data": {
      "application/vnd.plotly.v1+json": {
       "config": {
        "linkText": "Export to plot.ly",
        "plotlyServerURL": "https://plot.ly",
        "showLink": true
       },
       "data": [
        {
         "marker": {
          "color": [
           "rgb(255, 153, 51)",
           "rgb(55, 128, 191)",
           "rgb(50, 171, 96)",
           "rgb(128, 0, 128)",
           "rgb(219, 64, 82)",
           "rgb(0, 128, 128)",
           "rgb(255, 255, 51)",
           "rgb(128, 128, 0)",
           "rgb(251, 128, 114)",
           "rgb(128, 177, 211)"
          ],
          "line": {
           "width": 1.3
          },
          "size": [
           76,
           32,
           41,
           86,
           73,
           86,
           78,
           83,
           12,
           74,
           71,
           78,
           84,
           88,
           78,
           96,
           55,
           87,
           55,
           71,
           51,
           111,
           62,
           43,
           54,
           92,
           63,
           77,
           66,
           43,
           84,
           66,
           71,
           95,
           44,
           53,
           57,
           73,
           69,
           91,
           88,
           68,
           87,
           71,
           71,
           75,
           55,
           76,
           58,
           64,
           22,
           94,
           101,
           59,
           90,
           41,
           85,
           72,
           66,
           54,
           65,
           48,
           70,
           70,
           79,
           60,
           78,
           75,
           93,
           69,
           41,
           81,
           73,
           65,
           83,
           53,
           47,
           64,
           74,
           39,
           56,
           72,
           104,
           80,
           67,
           95,
           85,
           94,
           68,
           59,
           65,
           43,
           64,
           71,
           69,
           70,
           70,
           68,
           75,
           46
          ],
          "symbol": "circle"
         },
         "mode": "markers",
         "text": "",
         "type": "scatter",
         "x": [
          -0.05559180576518184,
          0.5620453907383516,
          -1.7899404051407906,
          1.500518268376267,
          0.7528373449617896,
          -1.1771597300556,
          1.97138381329973,
          0.3020214150295912,
          -1.9247991418812365,
          0.709441640718662,
          -0.01703638589202485,
          0.8199877942986776,
          0.5591157966803538,
          -0.07831734859886214,
          2.0263777208694695,
          -0.07574584864740508,
          -0.396370799265584,
          0.4191186184191619,
          0.9098700431175843,
          -1.0431608126404592,
          -1.7937637698431927,
          0.3067825397453611,
          0.2691059102780455,
          -0.31836442674890625,
          0.24337795539086785,
          0.512773733565278,
          -1.4073754758808312,
          0.5457544007462951,
          -0.6571845396135951,
          -2.0639373239813503,
          -1.4468588683638646,
          -0.9789754188086063,
          -2.1306056808379563,
          -0.20480729972649234,
          -0.8222382380694211,
          -0.33300118314536314,
          -0.29784234037258445,
          0.5307423401569827,
          0.15380642956204912,
          -0.1188208875107539,
          -0.8383589645894698,
          -0.5427105997081095,
          2.488310572074583,
          -0.2645552704783902,
          -0.45784207536797183,
          -1.8720226996945561,
          -0.7221199763313748,
          0.7303713162051148,
          -0.5675927577151667,
          0.2743443549958475,
          -0.8363932058173486,
          -0.197070058476929,
          -0.20013495199757259,
          -2.245092326684816,
          0.5943639003035389,
          -2.4438290349158693,
          -2.312513093070422,
          -0.10226142096044005,
          -0.3540991820914685,
          1.1846112283224697,
          0.5785961937800251,
          0.9454529767507993,
          -0.9378679023799694,
          2.252026617954698,
          0.8836245400728469,
          0.19770903317243588,
          0.5820505519137525,
          0.7000403498804273,
          0.18687441456797468,
          -2.605904251516702,
          1.013838593924159,
          0.7048394896011076,
          -0.9700118607851692,
          1.4122071311811517,
          0.22121580587926673,
          1.2618498032297492,
          -0.5281752604894419,
          -0.7421908714692181,
          1.5430526507489388,
          1.6370858753648112,
          0.15153329405330462,
          -0.35805431200293014,
          -0.9283089709763265,
          0.3293002280206697,
          -0.04430655153238148,
          1.125980853731697,
          -0.8103951450968989,
          -0.636133320370373,
          -0.5840496782043829,
          0.2912078731205048,
          -0.5137033735673227,
          -0.5894102919320074,
          -0.44662329985137666,
          1.4453702578010075,
          -2.8820121087644,
          0.5943854382063423,
          -0.2507644033592735,
          -1.4506707195233537,
          -0.32976243758703705,
          -0.5173084332484963
         ],
         "y": [
          1.452833408522823,
          -2.801289721404959,
          1.467471032771779,
          1.1075149196133212,
          0.5900621714557223,
          -0.28302847996604674,
          0.23427324061681518,
          -1.215558624206029,
          0.813168712095642,
          -0.27005007088545496,
          -0.38243213069474835,
          1.6853155435237392,
          -0.6607753287657827,
          -0.3472588976686309,
          0.6719544662985177,
          -1.2237508738534368,
          0.3183787636673109,
          -0.72535952550027,
          -0.26260020669625433,
          -0.850618401548025,
          -0.7274756636907109,
          1.1687905305044257,
          0.49469694638536177,
          -0.26871518589218507,
          0.15290598210181186,
          1.2097075310133023,
          1.000422474088806,
          0.3136146057400716,
          -0.2833208420357839,
          -0.1860803660624252,
          -0.9564691687831892,
          1.6672459232340364,
          0.6683703526469932,
          1.3610316950494012,
          -1.8351289950778071,
          0.2251323174580143,
          -0.5417476758860279,
          -1.0073462642598332,
          -0.38783816934944704,
          0.5531661483954752,
          -0.29784593859479686,
          0.27348929840642366,
          0.4691760622386405,
          -0.3761511711516631,
          -0.7725927101520446,
          -0.4637975839720279,
          -1.3947025101192394,
          -0.1830294614098356,
          1.625397974734619,
          0.7544921969987086,
          0.4104847513780054,
          -0.9092909463854356,
          1.171510476069789,
          0.5458990143642105,
          -0.5844526689136395,
          0.4425182954767783,
          -0.7817994944058249,
          1.0153723508764105,
          0.23275728789967648,
          -1.5989167066075543,
          1.1460289758089788,
          -0.7504446965323814,
          1.6300471548892737,
          -1.598248946404511,
          0.8595031406047959,
          0.16147366754361436,
          -0.45353015445403494,
          -0.31061877236519714,
          -0.6243507521232172,
          0.06250609987067719,
          -0.7759860097109451,
          -0.8472620099074127,
          1.5987177491523321,
          -1.1678132491490123,
          -1.247064428257644,
          -0.369826813335805,
          0.46232826804011073,
          1.7838081747848518,
          1.2909978570591278,
          -1.496859178399673,
          0.22001922625256887,
          -0.9113831617477044,
          0.49478127902387076,
          1.8100591568741062,
          1.0511618624121364,
          -0.8846969102030365,
          -0.861736858706487,
          -1.8399566183192644,
          -1.2004936606910546,
          -0.008772066069577691,
          -1.2661127544327189,
          0.12930024126805745,
          -0.9741132348621366,
          1.911126529769431,
          -0.8669170987643292,
          0.6705416816248445,
          0.7025783402266444,
          0.9783330874535535,
          0.13718527998129446,
          0.08864824382977793
         ]
        }
       ],
       "layout": {
        "legend": {
         "bgcolor": "#F5F6F9",
         "font": {
          "color": "#4D5663"
         }
        },
        "paper_bgcolor": "#F5F6F9",
        "plot_bgcolor": "#F5F6F9",
        "template": {
         "data": {
          "bar": [
           {
            "error_x": {
             "color": "#2a3f5f"
            },
            "error_y": {
             "color": "#2a3f5f"
            },
            "marker": {
             "line": {
              "color": "#E5ECF6",
              "width": 0.5
             },
             "pattern": {
              "fillmode": "overlay",
              "size": 10,
              "solidity": 0.2
             }
            },
            "type": "bar"
           }
          ],
          "barpolar": [
           {
            "marker": {
             "line": {
              "color": "#E5ECF6",
              "width": 0.5
             },
             "pattern": {
              "fillmode": "overlay",
              "size": 10,
              "solidity": 0.2
             }
            },
            "type": "barpolar"
           }
          ],
          "carpet": [
           {
            "aaxis": {
             "endlinecolor": "#2a3f5f",
             "gridcolor": "white",
             "linecolor": "white",
             "minorgridcolor": "white",
             "startlinecolor": "#2a3f5f"
            },
            "baxis": {
             "endlinecolor": "#2a3f5f",
             "gridcolor": "white",
             "linecolor": "white",
             "minorgridcolor": "white",
             "startlinecolor": "#2a3f5f"
            },
            "type": "carpet"
           }
          ],
          "choropleth": [
           {
            "colorbar": {
             "outlinewidth": 0,
             "ticks": ""
            },
            "type": "choropleth"
           }
          ],
          "contour": [
           {
            "colorbar": {
             "outlinewidth": 0,
             "ticks": ""
            },
            "colorscale": [
             [
              0,
              "#0d0887"
             ],
             [
              0.1111111111111111,
              "#46039f"
             ],
             [
              0.2222222222222222,
              "#7201a8"
             ],
             [
              0.3333333333333333,
              "#9c179e"
             ],
             [
              0.4444444444444444,
              "#bd3786"
             ],
             [
              0.5555555555555556,
              "#d8576b"
             ],
             [
              0.6666666666666666,
              "#ed7953"
             ],
             [
              0.7777777777777778,
              "#fb9f3a"
             ],
             [
              0.8888888888888888,
              "#fdca26"
             ],
             [
              1,
              "#f0f921"
             ]
            ],
            "type": "contour"
           }
          ],
          "contourcarpet": [
           {
            "colorbar": {
             "outlinewidth": 0,
             "ticks": ""
            },
            "type": "contourcarpet"
           }
          ],
          "heatmap": [
           {
            "colorbar": {
             "outlinewidth": 0,
             "ticks": ""
            },
            "colorscale": [
             [
              0,
              "#0d0887"
             ],
             [
              0.1111111111111111,
              "#46039f"
             ],
             [
              0.2222222222222222,
              "#7201a8"
             ],
             [
              0.3333333333333333,
              "#9c179e"
             ],
             [
              0.4444444444444444,
              "#bd3786"
             ],
             [
              0.5555555555555556,
              "#d8576b"
             ],
             [
              0.6666666666666666,
              "#ed7953"
             ],
             [
              0.7777777777777778,
              "#fb9f3a"
             ],
             [
              0.8888888888888888,
              "#fdca26"
             ],
             [
              1,
              "#f0f921"
             ]
            ],
            "type": "heatmap"
           }
          ],
          "heatmapgl": [
           {
            "colorbar": {
             "outlinewidth": 0,
             "ticks": ""
            },
            "colorscale": [
             [
              0,
              "#0d0887"
             ],
             [
              0.1111111111111111,
              "#46039f"
             ],
             [
              0.2222222222222222,
              "#7201a8"
             ],
             [
              0.3333333333333333,
              "#9c179e"
             ],
             [
              0.4444444444444444,
              "#bd3786"
             ],
             [
              0.5555555555555556,
              "#d8576b"
             ],
             [
              0.6666666666666666,
              "#ed7953"
             ],
             [
              0.7777777777777778,
              "#fb9f3a"
             ],
             [
              0.8888888888888888,
              "#fdca26"
             ],
             [
              1,
              "#f0f921"
             ]
            ],
            "type": "heatmapgl"
           }
          ],
          "histogram": [
           {
            "marker": {
             "pattern": {
              "fillmode": "overlay",
              "size": 10,
              "solidity": 0.2
             }
            },
            "type": "histogram"
           }
          ],
          "histogram2d": [
           {
            "colorbar": {
             "outlinewidth": 0,
             "ticks": ""
            },
            "colorscale": [
             [
              0,
              "#0d0887"
             ],
             [
              0.1111111111111111,
              "#46039f"
             ],
             [
              0.2222222222222222,
              "#7201a8"
             ],
             [
              0.3333333333333333,
              "#9c179e"
             ],
             [
              0.4444444444444444,
              "#bd3786"
             ],
             [
              0.5555555555555556,
              "#d8576b"
             ],
             [
              0.6666666666666666,
              "#ed7953"
             ],
             [
              0.7777777777777778,
              "#fb9f3a"
             ],
             [
              0.8888888888888888,
              "#fdca26"
             ],
             [
              1,
              "#f0f921"
             ]
            ],
            "type": "histogram2d"
           }
          ],
          "histogram2dcontour": [
           {
            "colorbar": {
             "outlinewidth": 0,
             "ticks": ""
            },
            "colorscale": [
             [
              0,
              "#0d0887"
             ],
             [
              0.1111111111111111,
              "#46039f"
             ],
             [
              0.2222222222222222,
              "#7201a8"
             ],
             [
              0.3333333333333333,
              "#9c179e"
             ],
             [
              0.4444444444444444,
              "#bd3786"
             ],
             [
              0.5555555555555556,
              "#d8576b"
             ],
             [
              0.6666666666666666,
              "#ed7953"
             ],
             [
              0.7777777777777778,
              "#fb9f3a"
             ],
             [
              0.8888888888888888,
              "#fdca26"
             ],
             [
              1,
              "#f0f921"
             ]
            ],
            "type": "histogram2dcontour"
           }
          ],
          "mesh3d": [
           {
            "colorbar": {
             "outlinewidth": 0,
             "ticks": ""
            },
            "type": "mesh3d"
           }
          ],
          "parcoords": [
           {
            "line": {
             "colorbar": {
              "outlinewidth": 0,
              "ticks": ""
             }
            },
            "type": "parcoords"
           }
          ],
          "pie": [
           {
            "automargin": true,
            "type": "pie"
           }
          ],
          "scatter": [
           {
            "fillpattern": {
             "fillmode": "overlay",
             "size": 10,
             "solidity": 0.2
            },
            "type": "scatter"
           }
          ],
          "scatter3d": [
           {
            "line": {
             "colorbar": {
              "outlinewidth": 0,
              "ticks": ""
             }
            },
            "marker": {
             "colorbar": {
              "outlinewidth": 0,
              "ticks": ""
             }
            },
            "type": "scatter3d"
           }
          ],
          "scattercarpet": [
           {
            "marker": {
             "colorbar": {
              "outlinewidth": 0,
              "ticks": ""
             }
            },
            "type": "scattercarpet"
           }
          ],
          "scattergeo": [
           {
            "marker": {
             "colorbar": {
              "outlinewidth": 0,
              "ticks": ""
             }
            },
            "type": "scattergeo"
           }
          ],
          "scattergl": [
           {
            "marker": {
             "colorbar": {
              "outlinewidth": 0,
              "ticks": ""
             }
            },
            "type": "scattergl"
           }
          ],
          "scattermapbox": [
           {
            "marker": {
             "colorbar": {
              "outlinewidth": 0,
              "ticks": ""
             }
            },
            "type": "scattermapbox"
           }
          ],
          "scatterpolar": [
           {
            "marker": {
             "colorbar": {
              "outlinewidth": 0,
              "ticks": ""
             }
            },
            "type": "scatterpolar"
           }
          ],
          "scatterpolargl": [
           {
            "marker": {
             "colorbar": {
              "outlinewidth": 0,
              "ticks": ""
             }
            },
            "type": "scatterpolargl"
           }
          ],
          "scatterternary": [
           {
            "marker": {
             "colorbar": {
              "outlinewidth": 0,
              "ticks": ""
             }
            },
            "type": "scatterternary"
           }
          ],
          "surface": [
           {
            "colorbar": {
             "outlinewidth": 0,
             "ticks": ""
            },
            "colorscale": [
             [
              0,
              "#0d0887"
             ],
             [
              0.1111111111111111,
              "#46039f"
             ],
             [
              0.2222222222222222,
              "#7201a8"
             ],
             [
              0.3333333333333333,
              "#9c179e"
             ],
             [
              0.4444444444444444,
              "#bd3786"
             ],
             [
              0.5555555555555556,
              "#d8576b"
             ],
             [
              0.6666666666666666,
              "#ed7953"
             ],
             [
              0.7777777777777778,
              "#fb9f3a"
             ],
             [
              0.8888888888888888,
              "#fdca26"
             ],
             [
              1,
              "#f0f921"
             ]
            ],
            "type": "surface"
           }
          ],
          "table": [
           {
            "cells": {
             "fill": {
              "color": "#EBF0F8"
             },
             "line": {
              "color": "white"
             }
            },
            "header": {
             "fill": {
              "color": "#C8D4E3"
             },
             "line": {
              "color": "white"
             }
            },
            "type": "table"
           }
          ]
         },
         "layout": {
          "annotationdefaults": {
           "arrowcolor": "#2a3f5f",
           "arrowhead": 0,
           "arrowwidth": 1
          },
          "autotypenumbers": "strict",
          "coloraxis": {
           "colorbar": {
            "outlinewidth": 0,
            "ticks": ""
           }
          },
          "colorscale": {
           "diverging": [
            [
             0,
             "#8e0152"
            ],
            [
             0.1,
             "#c51b7d"
            ],
            [
             0.2,
             "#de77ae"
            ],
            [
             0.3,
             "#f1b6da"
            ],
            [
             0.4,
             "#fde0ef"
            ],
            [
             0.5,
             "#f7f7f7"
            ],
            [
             0.6,
             "#e6f5d0"
            ],
            [
             0.7,
             "#b8e186"
            ],
            [
             0.8,
             "#7fbc41"
            ],
            [
             0.9,
             "#4d9221"
            ],
            [
             1,
             "#276419"
            ]
           ],
           "sequential": [
            [
             0,
             "#0d0887"
            ],
            [
             0.1111111111111111,
             "#46039f"
            ],
            [
             0.2222222222222222,
             "#7201a8"
            ],
            [
             0.3333333333333333,
             "#9c179e"
            ],
            [
             0.4444444444444444,
             "#bd3786"
            ],
            [
             0.5555555555555556,
             "#d8576b"
            ],
            [
             0.6666666666666666,
             "#ed7953"
            ],
            [
             0.7777777777777778,
             "#fb9f3a"
            ],
            [
             0.8888888888888888,
             "#fdca26"
            ],
            [
             1,
             "#f0f921"
            ]
           ],
           "sequentialminus": [
            [
             0,
             "#0d0887"
            ],
            [
             0.1111111111111111,
             "#46039f"
            ],
            [
             0.2222222222222222,
             "#7201a8"
            ],
            [
             0.3333333333333333,
             "#9c179e"
            ],
            [
             0.4444444444444444,
             "#bd3786"
            ],
            [
             0.5555555555555556,
             "#d8576b"
            ],
            [
             0.6666666666666666,
             "#ed7953"
            ],
            [
             0.7777777777777778,
             "#fb9f3a"
            ],
            [
             0.8888888888888888,
             "#fdca26"
            ],
            [
             1,
             "#f0f921"
            ]
           ]
          },
          "colorway": [
           "#636efa",
           "#EF553B",
           "#00cc96",
           "#ab63fa",
           "#FFA15A",
           "#19d3f3",
           "#FF6692",
           "#B6E880",
           "#FF97FF",
           "#FECB52"
          ],
          "font": {
           "color": "#2a3f5f"
          },
          "geo": {
           "bgcolor": "white",
           "lakecolor": "white",
           "landcolor": "#E5ECF6",
           "showlakes": true,
           "showland": true,
           "subunitcolor": "white"
          },
          "hoverlabel": {
           "align": "left"
          },
          "hovermode": "closest",
          "mapbox": {
           "style": "light"
          },
          "paper_bgcolor": "white",
          "plot_bgcolor": "#E5ECF6",
          "polar": {
           "angularaxis": {
            "gridcolor": "white",
            "linecolor": "white",
            "ticks": ""
           },
           "bgcolor": "#E5ECF6",
           "radialaxis": {
            "gridcolor": "white",
            "linecolor": "white",
            "ticks": ""
           }
          },
          "scene": {
           "xaxis": {
            "backgroundcolor": "#E5ECF6",
            "gridcolor": "white",
            "gridwidth": 2,
            "linecolor": "white",
            "showbackground": true,
            "ticks": "",
            "zerolinecolor": "white"
           },
           "yaxis": {
            "backgroundcolor": "#E5ECF6",
            "gridcolor": "white",
            "gridwidth": 2,
            "linecolor": "white",
            "showbackground": true,
            "ticks": "",
            "zerolinecolor": "white"
           },
           "zaxis": {
            "backgroundcolor": "#E5ECF6",
            "gridcolor": "white",
            "gridwidth": 2,
            "linecolor": "white",
            "showbackground": true,
            "ticks": "",
            "zerolinecolor": "white"
           }
          },
          "shapedefaults": {
           "line": {
            "color": "#2a3f5f"
           }
          },
          "ternary": {
           "aaxis": {
            "gridcolor": "white",
            "linecolor": "white",
            "ticks": ""
           },
           "baxis": {
            "gridcolor": "white",
            "linecolor": "white",
            "ticks": ""
           },
           "bgcolor": "#E5ECF6",
           "caxis": {
            "gridcolor": "white",
            "linecolor": "white",
            "ticks": ""
           }
          },
          "title": {
           "x": 0.05
          },
          "xaxis": {
           "automargin": true,
           "gridcolor": "white",
           "linecolor": "white",
           "ticks": "",
           "title": {
            "standoff": 15
           },
           "zerolinecolor": "white",
           "zerolinewidth": 2
          },
          "yaxis": {
           "automargin": true,
           "gridcolor": "white",
           "linecolor": "white",
           "ticks": "",
           "title": {
            "standoff": 15
           },
           "zerolinecolor": "white",
           "zerolinewidth": 2
          }
         }
        },
        "title": {
         "font": {
          "color": "#4D5663"
         }
        },
        "xaxis": {
         "gridcolor": "#E1E5ED",
         "showgrid": true,
         "tickfont": {
          "color": "#4D5663"
         },
         "title": {
          "font": {
           "color": "#4D5663"
          },
          "text": ""
         },
         "zerolinecolor": "#E1E5ED"
        },
        "yaxis": {
         "gridcolor": "#E1E5ED",
         "showgrid": true,
         "tickfont": {
          "color": "#4D5663"
         },
         "title": {
          "font": {
           "color": "#4D5663"
          },
          "text": ""
         },
         "zerolinecolor": "#E1E5ED"
        }
       }
      },
      "text/html": [
       "<div>                            <div id=\"4a8daba0-f45d-443a-aac4-4322a1be52b4\" class=\"plotly-graph-div\" style=\"height:525px; width:100%;\"></div>            <script type=\"text/javascript\">                require([\"plotly\"], function(Plotly) {                    window.PLOTLYENV=window.PLOTLYENV || {};\n",
       "                    window.PLOTLYENV.BASE_URL='https://plot.ly';                                    if (document.getElementById(\"4a8daba0-f45d-443a-aac4-4322a1be52b4\")) {                    Plotly.newPlot(                        \"4a8daba0-f45d-443a-aac4-4322a1be52b4\",                        [{\"marker\":{\"color\":[\"rgb(255, 153, 51)\",\"rgb(55, 128, 191)\",\"rgb(50, 171, 96)\",\"rgb(128, 0, 128)\",\"rgb(219, 64, 82)\",\"rgb(0, 128, 128)\",\"rgb(255, 255, 51)\",\"rgb(128, 128, 0)\",\"rgb(251, 128, 114)\",\"rgb(128, 177, 211)\"],\"line\":{\"width\":1.3},\"size\":[76,32,41,86,73,86,78,83,12,74,71,78,84,88,78,96,55,87,55,71,51,111,62,43,54,92,63,77,66,43,84,66,71,95,44,53,57,73,69,91,88,68,87,71,71,75,55,76,58,64,22,94,101,59,90,41,85,72,66,54,65,48,70,70,79,60,78,75,93,69,41,81,73,65,83,53,47,64,74,39,56,72,104,80,67,95,85,94,68,59,65,43,64,71,69,70,70,68,75,46],\"symbol\":\"circle\"},\"mode\":\"markers\",\"text\":\"\",\"x\":[-0.05559180576518184,0.5620453907383516,-1.7899404051407906,1.500518268376267,0.7528373449617896,-1.1771597300556,1.97138381329973,0.3020214150295912,-1.9247991418812365,0.709441640718662,-0.01703638589202485,0.8199877942986776,0.5591157966803538,-0.07831734859886214,2.0263777208694695,-0.07574584864740508,-0.396370799265584,0.4191186184191619,0.9098700431175843,-1.0431608126404592,-1.7937637698431927,0.3067825397453611,0.2691059102780455,-0.31836442674890625,0.24337795539086785,0.512773733565278,-1.4073754758808312,0.5457544007462951,-0.6571845396135951,-2.0639373239813503,-1.4468588683638646,-0.9789754188086063,-2.1306056808379563,-0.20480729972649234,-0.8222382380694211,-0.33300118314536314,-0.29784234037258445,0.5307423401569827,0.15380642956204912,-0.1188208875107539,-0.8383589645894698,-0.5427105997081095,2.488310572074583,-0.2645552704783902,-0.45784207536797183,-1.8720226996945561,-0.7221199763313748,0.7303713162051148,-0.5675927577151667,0.2743443549958475,-0.8363932058173486,-0.197070058476929,-0.20013495199757259,-2.245092326684816,0.5943639003035389,-2.4438290349158693,-2.312513093070422,-0.10226142096044005,-0.3540991820914685,1.1846112283224697,0.5785961937800251,0.9454529767507993,-0.9378679023799694,2.252026617954698,0.8836245400728469,0.19770903317243588,0.5820505519137525,0.7000403498804273,0.18687441456797468,-2.605904251516702,1.013838593924159,0.7048394896011076,-0.9700118607851692,1.4122071311811517,0.22121580587926673,1.2618498032297492,-0.5281752604894419,-0.7421908714692181,1.5430526507489388,1.6370858753648112,0.15153329405330462,-0.35805431200293014,-0.9283089709763265,0.3293002280206697,-0.04430655153238148,1.125980853731697,-0.8103951450968989,-0.636133320370373,-0.5840496782043829,0.2912078731205048,-0.5137033735673227,-0.5894102919320074,-0.44662329985137666,1.4453702578010075,-2.8820121087644,0.5943854382063423,-0.2507644033592735,-1.4506707195233537,-0.32976243758703705,-0.5173084332484963],\"y\":[1.452833408522823,-2.801289721404959,1.467471032771779,1.1075149196133212,0.5900621714557223,-0.28302847996604674,0.23427324061681518,-1.215558624206029,0.813168712095642,-0.27005007088545496,-0.38243213069474835,1.6853155435237392,-0.6607753287657827,-0.3472588976686309,0.6719544662985177,-1.2237508738534368,0.3183787636673109,-0.72535952550027,-0.26260020669625433,-0.850618401548025,-0.7274756636907109,1.1687905305044257,0.49469694638536177,-0.26871518589218507,0.15290598210181186,1.2097075310133023,1.000422474088806,0.3136146057400716,-0.2833208420357839,-0.1860803660624252,-0.9564691687831892,1.6672459232340364,0.6683703526469932,1.3610316950494012,-1.8351289950778071,0.2251323174580143,-0.5417476758860279,-1.0073462642598332,-0.38783816934944704,0.5531661483954752,-0.29784593859479686,0.27348929840642366,0.4691760622386405,-0.3761511711516631,-0.7725927101520446,-0.4637975839720279,-1.3947025101192394,-0.1830294614098356,1.625397974734619,0.7544921969987086,0.4104847513780054,-0.9092909463854356,1.171510476069789,0.5458990143642105,-0.5844526689136395,0.4425182954767783,-0.7817994944058249,1.0153723508764105,0.23275728789967648,-1.5989167066075543,1.1460289758089788,-0.7504446965323814,1.6300471548892737,-1.598248946404511,0.8595031406047959,0.16147366754361436,-0.45353015445403494,-0.31061877236519714,-0.6243507521232172,0.06250609987067719,-0.7759860097109451,-0.8472620099074127,1.5987177491523321,-1.1678132491490123,-1.247064428257644,-0.369826813335805,0.46232826804011073,1.7838081747848518,1.2909978570591278,-1.496859178399673,0.22001922625256887,-0.9113831617477044,0.49478127902387076,1.8100591568741062,1.0511618624121364,-0.8846969102030365,-0.861736858706487,-1.8399566183192644,-1.2004936606910546,-0.008772066069577691,-1.2661127544327189,0.12930024126805745,-0.9741132348621366,1.911126529769431,-0.8669170987643292,0.6705416816248445,0.7025783402266444,0.9783330874535535,0.13718527998129446,0.08864824382977793],\"type\":\"scatter\"}],                        {\"legend\":{\"bgcolor\":\"#F5F6F9\",\"font\":{\"color\":\"#4D5663\"}},\"paper_bgcolor\":\"#F5F6F9\",\"plot_bgcolor\":\"#F5F6F9\",\"template\":{\"data\":{\"barpolar\":[{\"marker\":{\"line\":{\"color\":\"#E5ECF6\",\"width\":0.5},\"pattern\":{\"fillmode\":\"overlay\",\"size\":10,\"solidity\":0.2}},\"type\":\"barpolar\"}],\"bar\":[{\"error_x\":{\"color\":\"#2a3f5f\"},\"error_y\":{\"color\":\"#2a3f5f\"},\"marker\":{\"line\":{\"color\":\"#E5ECF6\",\"width\":0.5},\"pattern\":{\"fillmode\":\"overlay\",\"size\":10,\"solidity\":0.2}},\"type\":\"bar\"}],\"carpet\":[{\"aaxis\":{\"endlinecolor\":\"#2a3f5f\",\"gridcolor\":\"white\",\"linecolor\":\"white\",\"minorgridcolor\":\"white\",\"startlinecolor\":\"#2a3f5f\"},\"baxis\":{\"endlinecolor\":\"#2a3f5f\",\"gridcolor\":\"white\",\"linecolor\":\"white\",\"minorgridcolor\":\"white\",\"startlinecolor\":\"#2a3f5f\"},\"type\":\"carpet\"}],\"choropleth\":[{\"colorbar\":{\"outlinewidth\":0,\"ticks\":\"\"},\"type\":\"choropleth\"}],\"contourcarpet\":[{\"colorbar\":{\"outlinewidth\":0,\"ticks\":\"\"},\"type\":\"contourcarpet\"}],\"contour\":[{\"colorbar\":{\"outlinewidth\":0,\"ticks\":\"\"},\"colorscale\":[[0.0,\"#0d0887\"],[0.1111111111111111,\"#46039f\"],[0.2222222222222222,\"#7201a8\"],[0.3333333333333333,\"#9c179e\"],[0.4444444444444444,\"#bd3786\"],[0.5555555555555556,\"#d8576b\"],[0.6666666666666666,\"#ed7953\"],[0.7777777777777778,\"#fb9f3a\"],[0.8888888888888888,\"#fdca26\"],[1.0,\"#f0f921\"]],\"type\":\"contour\"}],\"heatmapgl\":[{\"colorbar\":{\"outlinewidth\":0,\"ticks\":\"\"},\"colorscale\":[[0.0,\"#0d0887\"],[0.1111111111111111,\"#46039f\"],[0.2222222222222222,\"#7201a8\"],[0.3333333333333333,\"#9c179e\"],[0.4444444444444444,\"#bd3786\"],[0.5555555555555556,\"#d8576b\"],[0.6666666666666666,\"#ed7953\"],[0.7777777777777778,\"#fb9f3a\"],[0.8888888888888888,\"#fdca26\"],[1.0,\"#f0f921\"]],\"type\":\"heatmapgl\"}],\"heatmap\":[{\"colorbar\":{\"outlinewidth\":0,\"ticks\":\"\"},\"colorscale\":[[0.0,\"#0d0887\"],[0.1111111111111111,\"#46039f\"],[0.2222222222222222,\"#7201a8\"],[0.3333333333333333,\"#9c179e\"],[0.4444444444444444,\"#bd3786\"],[0.5555555555555556,\"#d8576b\"],[0.6666666666666666,\"#ed7953\"],[0.7777777777777778,\"#fb9f3a\"],[0.8888888888888888,\"#fdca26\"],[1.0,\"#f0f921\"]],\"type\":\"heatmap\"}],\"histogram2dcontour\":[{\"colorbar\":{\"outlinewidth\":0,\"ticks\":\"\"},\"colorscale\":[[0.0,\"#0d0887\"],[0.1111111111111111,\"#46039f\"],[0.2222222222222222,\"#7201a8\"],[0.3333333333333333,\"#9c179e\"],[0.4444444444444444,\"#bd3786\"],[0.5555555555555556,\"#d8576b\"],[0.6666666666666666,\"#ed7953\"],[0.7777777777777778,\"#fb9f3a\"],[0.8888888888888888,\"#fdca26\"],[1.0,\"#f0f921\"]],\"type\":\"histogram2dcontour\"}],\"histogram2d\":[{\"colorbar\":{\"outlinewidth\":0,\"ticks\":\"\"},\"colorscale\":[[0.0,\"#0d0887\"],[0.1111111111111111,\"#46039f\"],[0.2222222222222222,\"#7201a8\"],[0.3333333333333333,\"#9c179e\"],[0.4444444444444444,\"#bd3786\"],[0.5555555555555556,\"#d8576b\"],[0.6666666666666666,\"#ed7953\"],[0.7777777777777778,\"#fb9f3a\"],[0.8888888888888888,\"#fdca26\"],[1.0,\"#f0f921\"]],\"type\":\"histogram2d\"}],\"histogram\":[{\"marker\":{\"pattern\":{\"fillmode\":\"overlay\",\"size\":10,\"solidity\":0.2}},\"type\":\"histogram\"}],\"mesh3d\":[{\"colorbar\":{\"outlinewidth\":0,\"ticks\":\"\"},\"type\":\"mesh3d\"}],\"parcoords\":[{\"line\":{\"colorbar\":{\"outlinewidth\":0,\"ticks\":\"\"}},\"type\":\"parcoords\"}],\"pie\":[{\"automargin\":true,\"type\":\"pie\"}],\"scatter3d\":[{\"line\":{\"colorbar\":{\"outlinewidth\":0,\"ticks\":\"\"}},\"marker\":{\"colorbar\":{\"outlinewidth\":0,\"ticks\":\"\"}},\"type\":\"scatter3d\"}],\"scattercarpet\":[{\"marker\":{\"colorbar\":{\"outlinewidth\":0,\"ticks\":\"\"}},\"type\":\"scattercarpet\"}],\"scattergeo\":[{\"marker\":{\"colorbar\":{\"outlinewidth\":0,\"ticks\":\"\"}},\"type\":\"scattergeo\"}],\"scattergl\":[{\"marker\":{\"colorbar\":{\"outlinewidth\":0,\"ticks\":\"\"}},\"type\":\"scattergl\"}],\"scattermapbox\":[{\"marker\":{\"colorbar\":{\"outlinewidth\":0,\"ticks\":\"\"}},\"type\":\"scattermapbox\"}],\"scatterpolargl\":[{\"marker\":{\"colorbar\":{\"outlinewidth\":0,\"ticks\":\"\"}},\"type\":\"scatterpolargl\"}],\"scatterpolar\":[{\"marker\":{\"colorbar\":{\"outlinewidth\":0,\"ticks\":\"\"}},\"type\":\"scatterpolar\"}],\"scatter\":[{\"fillpattern\":{\"fillmode\":\"overlay\",\"size\":10,\"solidity\":0.2},\"type\":\"scatter\"}],\"scatterternary\":[{\"marker\":{\"colorbar\":{\"outlinewidth\":0,\"ticks\":\"\"}},\"type\":\"scatterternary\"}],\"surface\":[{\"colorbar\":{\"outlinewidth\":0,\"ticks\":\"\"},\"colorscale\":[[0.0,\"#0d0887\"],[0.1111111111111111,\"#46039f\"],[0.2222222222222222,\"#7201a8\"],[0.3333333333333333,\"#9c179e\"],[0.4444444444444444,\"#bd3786\"],[0.5555555555555556,\"#d8576b\"],[0.6666666666666666,\"#ed7953\"],[0.7777777777777778,\"#fb9f3a\"],[0.8888888888888888,\"#fdca26\"],[1.0,\"#f0f921\"]],\"type\":\"surface\"}],\"table\":[{\"cells\":{\"fill\":{\"color\":\"#EBF0F8\"},\"line\":{\"color\":\"white\"}},\"header\":{\"fill\":{\"color\":\"#C8D4E3\"},\"line\":{\"color\":\"white\"}},\"type\":\"table\"}]},\"layout\":{\"annotationdefaults\":{\"arrowcolor\":\"#2a3f5f\",\"arrowhead\":0,\"arrowwidth\":1},\"autotypenumbers\":\"strict\",\"coloraxis\":{\"colorbar\":{\"outlinewidth\":0,\"ticks\":\"\"}},\"colorscale\":{\"diverging\":[[0,\"#8e0152\"],[0.1,\"#c51b7d\"],[0.2,\"#de77ae\"],[0.3,\"#f1b6da\"],[0.4,\"#fde0ef\"],[0.5,\"#f7f7f7\"],[0.6,\"#e6f5d0\"],[0.7,\"#b8e186\"],[0.8,\"#7fbc41\"],[0.9,\"#4d9221\"],[1,\"#276419\"]],\"sequential\":[[0.0,\"#0d0887\"],[0.1111111111111111,\"#46039f\"],[0.2222222222222222,\"#7201a8\"],[0.3333333333333333,\"#9c179e\"],[0.4444444444444444,\"#bd3786\"],[0.5555555555555556,\"#d8576b\"],[0.6666666666666666,\"#ed7953\"],[0.7777777777777778,\"#fb9f3a\"],[0.8888888888888888,\"#fdca26\"],[1.0,\"#f0f921\"]],\"sequentialminus\":[[0.0,\"#0d0887\"],[0.1111111111111111,\"#46039f\"],[0.2222222222222222,\"#7201a8\"],[0.3333333333333333,\"#9c179e\"],[0.4444444444444444,\"#bd3786\"],[0.5555555555555556,\"#d8576b\"],[0.6666666666666666,\"#ed7953\"],[0.7777777777777778,\"#fb9f3a\"],[0.8888888888888888,\"#fdca26\"],[1.0,\"#f0f921\"]]},\"colorway\":[\"#636efa\",\"#EF553B\",\"#00cc96\",\"#ab63fa\",\"#FFA15A\",\"#19d3f3\",\"#FF6692\",\"#B6E880\",\"#FF97FF\",\"#FECB52\"],\"font\":{\"color\":\"#2a3f5f\"},\"geo\":{\"bgcolor\":\"white\",\"lakecolor\":\"white\",\"landcolor\":\"#E5ECF6\",\"showlakes\":true,\"showland\":true,\"subunitcolor\":\"white\"},\"hoverlabel\":{\"align\":\"left\"},\"hovermode\":\"closest\",\"mapbox\":{\"style\":\"light\"},\"paper_bgcolor\":\"white\",\"plot_bgcolor\":\"#E5ECF6\",\"polar\":{\"angularaxis\":{\"gridcolor\":\"white\",\"linecolor\":\"white\",\"ticks\":\"\"},\"bgcolor\":\"#E5ECF6\",\"radialaxis\":{\"gridcolor\":\"white\",\"linecolor\":\"white\",\"ticks\":\"\"}},\"scene\":{\"xaxis\":{\"backgroundcolor\":\"#E5ECF6\",\"gridcolor\":\"white\",\"gridwidth\":2,\"linecolor\":\"white\",\"showbackground\":true,\"ticks\":\"\",\"zerolinecolor\":\"white\"},\"yaxis\":{\"backgroundcolor\":\"#E5ECF6\",\"gridcolor\":\"white\",\"gridwidth\":2,\"linecolor\":\"white\",\"showbackground\":true,\"ticks\":\"\",\"zerolinecolor\":\"white\"},\"zaxis\":{\"backgroundcolor\":\"#E5ECF6\",\"gridcolor\":\"white\",\"gridwidth\":2,\"linecolor\":\"white\",\"showbackground\":true,\"ticks\":\"\",\"zerolinecolor\":\"white\"}},\"shapedefaults\":{\"line\":{\"color\":\"#2a3f5f\"}},\"ternary\":{\"aaxis\":{\"gridcolor\":\"white\",\"linecolor\":\"white\",\"ticks\":\"\"},\"baxis\":{\"gridcolor\":\"white\",\"linecolor\":\"white\",\"ticks\":\"\"},\"bgcolor\":\"#E5ECF6\",\"caxis\":{\"gridcolor\":\"white\",\"linecolor\":\"white\",\"ticks\":\"\"}},\"title\":{\"x\":0.05},\"xaxis\":{\"automargin\":true,\"gridcolor\":\"white\",\"linecolor\":\"white\",\"ticks\":\"\",\"title\":{\"standoff\":15},\"zerolinecolor\":\"white\",\"zerolinewidth\":2},\"yaxis\":{\"automargin\":true,\"gridcolor\":\"white\",\"linecolor\":\"white\",\"ticks\":\"\",\"title\":{\"standoff\":15},\"zerolinecolor\":\"white\",\"zerolinewidth\":2}}},\"title\":{\"font\":{\"color\":\"#4D5663\"}},\"xaxis\":{\"gridcolor\":\"#E1E5ED\",\"showgrid\":true,\"tickfont\":{\"color\":\"#4D5663\"},\"title\":{\"font\":{\"color\":\"#4D5663\"},\"text\":\"\"},\"zerolinecolor\":\"#E1E5ED\"},\"yaxis\":{\"gridcolor\":\"#E1E5ED\",\"showgrid\":true,\"tickfont\":{\"color\":\"#4D5663\"},\"title\":{\"font\":{\"color\":\"#4D5663\"},\"text\":\"\"},\"zerolinecolor\":\"#E1E5ED\"}},                        {\"showLink\": true, \"linkText\": \"Export to plot.ly\", \"plotlyServerURL\": \"https://plot.ly\", \"responsive\": true}                    ).then(function(){\n",
       "                            \n",
       "var gd = document.getElementById('4a8daba0-f45d-443a-aac4-4322a1be52b4');\n",
       "var x = new MutationObserver(function (mutations, observer) {{\n",
       "        var display = window.getComputedStyle(gd).display;\n",
       "        if (!display || display === 'none') {{\n",
       "            console.log([gd, 'removed!']);\n",
       "            Plotly.purge(gd);\n",
       "            observer.disconnect();\n",
       "        }}\n",
       "}});\n",
       "\n",
       "// Listen for the removal of the full notebook cells\n",
       "var notebookContainer = gd.closest('#notebook-container');\n",
       "if (notebookContainer) {{\n",
       "    x.observe(notebookContainer, {childList: true});\n",
       "}}\n",
       "\n",
       "// Listen for the clearing of the current output cell\n",
       "var outputEl = gd.closest('.output');\n",
       "if (outputEl) {{\n",
       "    x.observe(outputEl, {childList: true});\n",
       "}}\n",
       "\n",
       "                        })                };                });            </script>        </div>"
      ]
     },
     "metadata": {},
     "output_type": "display_data"
    }
   ],
   "source": [
    "df.iplot(kind='bubble',x='A',y='B',size='C')"
   ]
  },
  {
   "cell_type": "code",
   "execution_count": 46,
   "id": "5991e4bf",
   "metadata": {},
   "outputs": [
    {
     "data": {
      "application/vnd.plotly.v1+json": {
       "config": {
        "linkText": "Export to plot.ly",
        "plotlyServerURL": "https://plot.ly",
        "showLink": true
       },
       "data": [
        {
         "histfunc": "count",
         "histnorm": "",
         "marker": {
          "color": "rgba(255, 153, 51, 1.0)",
          "line": {
           "color": "#4D5663",
           "width": 1.3
          }
         },
         "name": "A",
         "nbinsx": 10,
         "opacity": 0.8,
         "orientation": "v",
         "type": "histogram",
         "x": [
          -0.05559180576518184,
          0.5620453907383516,
          -1.7899404051407906,
          1.500518268376267,
          0.7528373449617896,
          -1.1771597300556,
          1.97138381329973,
          0.3020214150295912,
          -1.9247991418812365,
          0.709441640718662,
          -0.01703638589202485,
          0.8199877942986776,
          0.5591157966803538,
          -0.07831734859886214,
          2.0263777208694695,
          -0.07574584864740508,
          -0.396370799265584,
          0.4191186184191619,
          0.9098700431175843,
          -1.0431608126404592,
          -1.7937637698431927,
          0.3067825397453611,
          0.2691059102780455,
          -0.31836442674890625,
          0.24337795539086785,
          0.512773733565278,
          -1.4073754758808312,
          0.5457544007462951,
          -0.6571845396135951,
          -2.0639373239813503,
          -1.4468588683638646,
          -0.9789754188086063,
          -2.1306056808379563,
          -0.20480729972649234,
          -0.8222382380694211,
          -0.33300118314536314,
          -0.29784234037258445,
          0.5307423401569827,
          0.15380642956204912,
          -0.1188208875107539,
          -0.8383589645894698,
          -0.5427105997081095,
          2.488310572074583,
          -0.2645552704783902,
          -0.45784207536797183,
          -1.8720226996945561,
          -0.7221199763313748,
          0.7303713162051148,
          -0.5675927577151667,
          0.2743443549958475,
          -0.8363932058173486,
          -0.197070058476929,
          -0.20013495199757259,
          -2.245092326684816,
          0.5943639003035389,
          -2.4438290349158693,
          -2.312513093070422,
          -0.10226142096044005,
          -0.3540991820914685,
          1.1846112283224697,
          0.5785961937800251,
          0.9454529767507993,
          -0.9378679023799694,
          2.252026617954698,
          0.8836245400728469,
          0.19770903317243588,
          0.5820505519137525,
          0.7000403498804273,
          0.18687441456797468,
          -2.605904251516702,
          1.013838593924159,
          0.7048394896011076,
          -0.9700118607851692,
          1.4122071311811517,
          0.22121580587926673,
          1.2618498032297492,
          -0.5281752604894419,
          -0.7421908714692181,
          1.5430526507489388,
          1.6370858753648112,
          0.15153329405330462,
          -0.35805431200293014,
          -0.9283089709763265,
          0.3293002280206697,
          -0.04430655153238148,
          1.125980853731697,
          -0.8103951450968989,
          -0.636133320370373,
          -0.5840496782043829,
          0.2912078731205048,
          -0.5137033735673227,
          -0.5894102919320074,
          -0.44662329985137666,
          1.4453702578010075,
          -2.8820121087644,
          0.5943854382063423,
          -0.2507644033592735,
          -1.4506707195233537,
          -0.32976243758703705,
          -0.5173084332484963
         ],
         "xaxis": "x",
         "yaxis": "y"
        },
        {
         "line": {
          "color": "rgba(128, 128, 128, 1.0)",
          "dash": "solid",
          "shape": "linear",
          "width": 1.3
         },
         "marker": {
          "size": 2,
          "symbol": "circle"
         },
         "mode": "markers",
         "name": "A",
         "text": "",
         "type": "scatter",
         "x": [
          1.452833408522823,
          -2.801289721404959,
          1.467471032771779,
          1.1075149196133212,
          0.5900621714557223,
          -0.28302847996604674,
          0.23427324061681518,
          -1.215558624206029,
          0.813168712095642,
          -0.27005007088545496,
          -0.38243213069474835,
          1.6853155435237392,
          -0.6607753287657827,
          -0.3472588976686309,
          0.6719544662985177,
          -1.2237508738534368,
          0.3183787636673109,
          -0.72535952550027,
          -0.26260020669625433,
          -0.850618401548025,
          -0.7274756636907109,
          1.1687905305044257,
          0.49469694638536177,
          -0.26871518589218507,
          0.15290598210181186,
          1.2097075310133023,
          1.000422474088806,
          0.3136146057400716,
          -0.2833208420357839,
          -0.1860803660624252,
          -0.9564691687831892,
          1.6672459232340364,
          0.6683703526469932,
          1.3610316950494012,
          -1.8351289950778071,
          0.2251323174580143,
          -0.5417476758860279,
          -1.0073462642598332,
          -0.38783816934944704,
          0.5531661483954752,
          -0.29784593859479686,
          0.27348929840642366,
          0.4691760622386405,
          -0.3761511711516631,
          -0.7725927101520446,
          -0.4637975839720279,
          -1.3947025101192394,
          -0.1830294614098356,
          1.625397974734619,
          0.7544921969987086,
          0.4104847513780054,
          -0.9092909463854356,
          1.171510476069789,
          0.5458990143642105,
          -0.5844526689136395,
          0.4425182954767783,
          -0.7817994944058249,
          1.0153723508764105,
          0.23275728789967648,
          -1.5989167066075543,
          1.1460289758089788,
          -0.7504446965323814,
          1.6300471548892737,
          -1.598248946404511,
          0.8595031406047959,
          0.16147366754361436,
          -0.45353015445403494,
          -0.31061877236519714,
          -0.6243507521232172,
          0.06250609987067719,
          -0.7759860097109451,
          -0.8472620099074127,
          1.5987177491523321,
          -1.1678132491490123,
          -1.247064428257644,
          -0.369826813335805,
          0.46232826804011073,
          1.7838081747848518,
          1.2909978570591278,
          -1.496859178399673,
          0.22001922625256887,
          -0.9113831617477044,
          0.49478127902387076,
          1.8100591568741062,
          1.0511618624121364,
          -0.8846969102030365,
          -0.861736858706487,
          -1.8399566183192644,
          -1.2004936606910546,
          -0.008772066069577691,
          -1.2661127544327189,
          0.12930024126805745,
          -0.9741132348621366,
          1.911126529769431,
          -0.8669170987643292,
          0.6705416816248445,
          0.7025783402266444,
          0.9783330874535535,
          0.13718527998129446,
          0.08864824382977793
         ],
         "xaxis": "x2",
         "y": [
          -0.05559180576518184,
          0.5620453907383516,
          -1.7899404051407906,
          1.500518268376267,
          0.7528373449617896,
          -1.1771597300556,
          1.97138381329973,
          0.3020214150295912,
          -1.9247991418812365,
          0.709441640718662,
          -0.01703638589202485,
          0.8199877942986776,
          0.5591157966803538,
          -0.07831734859886214,
          2.0263777208694695,
          -0.07574584864740508,
          -0.396370799265584,
          0.4191186184191619,
          0.9098700431175843,
          -1.0431608126404592,
          -1.7937637698431927,
          0.3067825397453611,
          0.2691059102780455,
          -0.31836442674890625,
          0.24337795539086785,
          0.512773733565278,
          -1.4073754758808312,
          0.5457544007462951,
          -0.6571845396135951,
          -2.0639373239813503,
          -1.4468588683638646,
          -0.9789754188086063,
          -2.1306056808379563,
          -0.20480729972649234,
          -0.8222382380694211,
          -0.33300118314536314,
          -0.29784234037258445,
          0.5307423401569827,
          0.15380642956204912,
          -0.1188208875107539,
          -0.8383589645894698,
          -0.5427105997081095,
          2.488310572074583,
          -0.2645552704783902,
          -0.45784207536797183,
          -1.8720226996945561,
          -0.7221199763313748,
          0.7303713162051148,
          -0.5675927577151667,
          0.2743443549958475,
          -0.8363932058173486,
          -0.197070058476929,
          -0.20013495199757259,
          -2.245092326684816,
          0.5943639003035389,
          -2.4438290349158693,
          -2.312513093070422,
          -0.10226142096044005,
          -0.3540991820914685,
          1.1846112283224697,
          0.5785961937800251,
          0.9454529767507993,
          -0.9378679023799694,
          2.252026617954698,
          0.8836245400728469,
          0.19770903317243588,
          0.5820505519137525,
          0.7000403498804273,
          0.18687441456797468,
          -2.605904251516702,
          1.013838593924159,
          0.7048394896011076,
          -0.9700118607851692,
          1.4122071311811517,
          0.22121580587926673,
          1.2618498032297492,
          -0.5281752604894419,
          -0.7421908714692181,
          1.5430526507489388,
          1.6370858753648112,
          0.15153329405330462,
          -0.35805431200293014,
          -0.9283089709763265,
          0.3293002280206697,
          -0.04430655153238148,
          1.125980853731697,
          -0.8103951450968989,
          -0.636133320370373,
          -0.5840496782043829,
          0.2912078731205048,
          -0.5137033735673227,
          -0.5894102919320074,
          -0.44662329985137666,
          1.4453702578010075,
          -2.8820121087644,
          0.5943854382063423,
          -0.2507644033592735,
          -1.4506707195233537,
          -0.32976243758703705,
          -0.5173084332484963
         ],
         "yaxis": "y2"
        },
        {
         "line": {
          "color": "rgba(128, 128, 128, 1.0)",
          "dash": "solid",
          "shape": "linear",
          "width": 1.3
         },
         "marker": {
          "size": 2,
          "symbol": "circle"
         },
         "mode": "markers",
         "name": "A",
         "text": "",
         "type": "scatter",
         "x": [
          0.25500841675327135,
          -2.0228296660047334,
          -1.5941368496927122,
          0.7566379326733458,
          0.09042462761333182,
          0.7880099583693712,
          0.33110955233396566,
          0.633630161318091,
          -3.104318720313925,
          0.15769519846695176,
          -0.01821056361192945,
          0.32975254187472197,
          0.6691148817820453,
          0.8882708461650792,
          0.32571083062195644,
          1.2969248124686905,
          -0.828469691493726,
          0.8186951502774704,
          -0.8481415447451287,
          -0.005448656858547519,
          -1.046985396498361,
          2.0876629941168403,
          -0.4932176461548644,
          -1.479742227493446,
          -0.893779716681242,
          1.059693973315859,
          -0.4218995577916561,
          0.3037603245140057,
          -0.295718885568225,
          -1.456631526768783,
          0.6726281780162228,
          -0.2513454101392943,
          -0.0029946532401559714,
          1.2223245878227034,
          -1.400357848874864,
          -0.9745231933933619,
          -0.7394884299589058,
          0.07692397890434306,
          -0.13916293510562336,
          1.0262265227965133,
          0.8681801213723014,
          -0.1558700044747346,
          0.8154873912086121,
          -0.040550112558222724,
          -0.022995195337995825,
          0.19472825145585765,
          -0.8294809719858296,
          0.253481929767634,
          -0.6680928324389981,
          -0.3741609826317901,
          -2.5647984075760584,
          1.202281009334771,
          1.5356448424278233,
          -0.658681268678709,
          0.98511260312972,
          -1.5569511626557264,
          0.6959850736666175,
          0.041869074233176394,
          -0.2940238445233744,
          -0.8855718078598309,
          -0.312486874051758,
          -1.2120957514801096,
          -0.0804516775894421,
          -0.06955069706107143,
          0.4213701146254383,
          -0.5824044836334542,
          0.3320929214372528,
          0.20034650112127014,
          1.139537356515105,
          -0.11636411784016422,
          -1.5580486253908081,
          0.4787958649368819,
          0.06371197852824667,
          -0.34365931506835834,
          0.6165488060556412,
          -0.9339932703085433,
          -1.2679418729267968,
          -0.37370211392929065,
          0.1553807466229721,
          -1.6790618079561024,
          -0.8153431874050666,
          0.027609721305113872,
          1.7125284633192528,
          0.477293575773967,
          -0.2107470140392488,
          1.2466380227088456,
          0.7268506778475627,
          1.1825032117586856,
          -0.19560223128214535,
          -0.6394964865536716,
          -0.33517501376555675,
          -1.4772991809849378,
          -0.3722722426648912,
          -0.03242252178216725,
          -0.11089344856880662,
          -0.08531307864935869,
          -0.04946493715695045,
          -0.15250410087849134,
          0.21164430464328296,
          -1.3243384652903012
         ],
         "xaxis": "x3",
         "y": [
          -0.05559180576518184,
          0.5620453907383516,
          -1.7899404051407906,
          1.500518268376267,
          0.7528373449617896,
          -1.1771597300556,
          1.97138381329973,
          0.3020214150295912,
          -1.9247991418812365,
          0.709441640718662,
          -0.01703638589202485,
          0.8199877942986776,
          0.5591157966803538,
          -0.07831734859886214,
          2.0263777208694695,
          -0.07574584864740508,
          -0.396370799265584,
          0.4191186184191619,
          0.9098700431175843,
          -1.0431608126404592,
          -1.7937637698431927,
          0.3067825397453611,
          0.2691059102780455,
          -0.31836442674890625,
          0.24337795539086785,
          0.512773733565278,
          -1.4073754758808312,
          0.5457544007462951,
          -0.6571845396135951,
          -2.0639373239813503,
          -1.4468588683638646,
          -0.9789754188086063,
          -2.1306056808379563,
          -0.20480729972649234,
          -0.8222382380694211,
          -0.33300118314536314,
          -0.29784234037258445,
          0.5307423401569827,
          0.15380642956204912,
          -0.1188208875107539,
          -0.8383589645894698,
          -0.5427105997081095,
          2.488310572074583,
          -0.2645552704783902,
          -0.45784207536797183,
          -1.8720226996945561,
          -0.7221199763313748,
          0.7303713162051148,
          -0.5675927577151667,
          0.2743443549958475,
          -0.8363932058173486,
          -0.197070058476929,
          -0.20013495199757259,
          -2.245092326684816,
          0.5943639003035389,
          -2.4438290349158693,
          -2.312513093070422,
          -0.10226142096044005,
          -0.3540991820914685,
          1.1846112283224697,
          0.5785961937800251,
          0.9454529767507993,
          -0.9378679023799694,
          2.252026617954698,
          0.8836245400728469,
          0.19770903317243588,
          0.5820505519137525,
          0.7000403498804273,
          0.18687441456797468,
          -2.605904251516702,
          1.013838593924159,
          0.7048394896011076,
          -0.9700118607851692,
          1.4122071311811517,
          0.22121580587926673,
          1.2618498032297492,
          -0.5281752604894419,
          -0.7421908714692181,
          1.5430526507489388,
          1.6370858753648112,
          0.15153329405330462,
          -0.35805431200293014,
          -0.9283089709763265,
          0.3293002280206697,
          -0.04430655153238148,
          1.125980853731697,
          -0.8103951450968989,
          -0.636133320370373,
          -0.5840496782043829,
          0.2912078731205048,
          -0.5137033735673227,
          -0.5894102919320074,
          -0.44662329985137666,
          1.4453702578010075,
          -2.8820121087644,
          0.5943854382063423,
          -0.2507644033592735,
          -1.4506707195233537,
          -0.32976243758703705,
          -0.5173084332484963
         ],
         "yaxis": "y3"
        },
        {
         "line": {
          "color": "rgba(128, 128, 128, 1.0)",
          "dash": "solid",
          "shape": "linear",
          "width": 1.3
         },
         "marker": {
          "size": 2,
          "symbol": "circle"
         },
         "mode": "markers",
         "name": "A",
         "text": "",
         "type": "scatter",
         "x": [
          0.1852673937213632,
          -0.44345827589806286,
          0.23273235167467715,
          -1.4903533275627932,
          0.2684902198097901,
          -0.686946223039476,
          -1.569611132126099,
          -0.8268636691466774,
          -0.047241527713950904,
          0.3700385806309308,
          -0.12732821435940275,
          -0.05036277629562494,
          -0.23921120887225938,
          -1.4846129257255232,
          0.9073179324373805,
          -0.5060076669401903,
          -0.4252614976966761,
          0.8346728660773869,
          -0.8427060950773964,
          -0.6135320914829894,
          -0.21523062705508028,
          0.5190812206976291,
          -0.9747123694425338,
          0.6537487327723273,
          2.322045329576906,
          1.413449387959019,
          0.34455620354785615,
          0.3188526310664666,
          0.7529156688198151,
          -0.33504683404000546,
          -0.8437176298130339,
          0.317721829730343,
          -1.2661495137545982,
          -0.0691429255933767,
          -0.8604798829031324,
          2.244452010671782,
          -0.15145796577193404,
          -0.07665135642775489,
          0.9513143318656485,
          -0.7160571745760614,
          -0.29852813553670526,
          -0.8587877409131487,
          -1.4672603813825607,
          1.0988442496704036,
          2.2760038379975467,
          1.6788414832474532,
          0.3726091108126695,
          0.7095174950341702,
          0.24877327374638,
          -0.36465139177197653,
          1.2706006745818645,
          1.5503467450343724,
          -0.31556209173554794,
          0.14718624186491758,
          0.3107995244034444,
          -0.5392879787433942,
          -1.129334155516057,
          -1.9162127924810703,
          -2.1991377381215975,
          -0.011759833599251049,
          0.8752288310754693,
          0.29250397526317556,
          1.5709858892377442,
          0.7655654796656748,
          -0.39031204352562565,
          -0.05988632666417284,
          -0.40006195094696545,
          -0.44417344480293425,
          0.49296792393382693,
          0.8103708801937014,
          -0.6640410877996384,
          -0.908551237967371,
          -1.1917658635528445,
          -1.2482720132411318,
          1.562451015147158,
          0.8826104656621604,
          -0.036813081581456845,
          -0.20533878048949492,
          -1.5318890996535242,
          -1.227574563627396,
          -0.3059276791424916,
          -0.25738907516547643,
          -0.6834027796862429,
          0.14073356590044747,
          -0.4964738906067588,
          0.1674286564235268,
          -1.941966835411613,
          0.8441767911667543,
          0.6505909193640828,
          0.5297311519789127,
          1.771393610824138,
          0.5653915202360102,
          -0.5629050155770081,
          -0.15828529933860774,
          1.3641429553783466,
          -0.7657757222716708,
          0.057515198937703314,
          -0.8389954153033105,
          0.47748464268948704,
          -2.0329806242365693
         ],
         "xaxis": "x4",
         "y": [
          -0.05559180576518184,
          0.5620453907383516,
          -1.7899404051407906,
          1.500518268376267,
          0.7528373449617896,
          -1.1771597300556,
          1.97138381329973,
          0.3020214150295912,
          -1.9247991418812365,
          0.709441640718662,
          -0.01703638589202485,
          0.8199877942986776,
          0.5591157966803538,
          -0.07831734859886214,
          2.0263777208694695,
          -0.07574584864740508,
          -0.396370799265584,
          0.4191186184191619,
          0.9098700431175843,
          -1.0431608126404592,
          -1.7937637698431927,
          0.3067825397453611,
          0.2691059102780455,
          -0.31836442674890625,
          0.24337795539086785,
          0.512773733565278,
          -1.4073754758808312,
          0.5457544007462951,
          -0.6571845396135951,
          -2.0639373239813503,
          -1.4468588683638646,
          -0.9789754188086063,
          -2.1306056808379563,
          -0.20480729972649234,
          -0.8222382380694211,
          -0.33300118314536314,
          -0.29784234037258445,
          0.5307423401569827,
          0.15380642956204912,
          -0.1188208875107539,
          -0.8383589645894698,
          -0.5427105997081095,
          2.488310572074583,
          -0.2645552704783902,
          -0.45784207536797183,
          -1.8720226996945561,
          -0.7221199763313748,
          0.7303713162051148,
          -0.5675927577151667,
          0.2743443549958475,
          -0.8363932058173486,
          -0.197070058476929,
          -0.20013495199757259,
          -2.245092326684816,
          0.5943639003035389,
          -2.4438290349158693,
          -2.312513093070422,
          -0.10226142096044005,
          -0.3540991820914685,
          1.1846112283224697,
          0.5785961937800251,
          0.9454529767507993,
          -0.9378679023799694,
          2.252026617954698,
          0.8836245400728469,
          0.19770903317243588,
          0.5820505519137525,
          0.7000403498804273,
          0.18687441456797468,
          -2.605904251516702,
          1.013838593924159,
          0.7048394896011076,
          -0.9700118607851692,
          1.4122071311811517,
          0.22121580587926673,
          1.2618498032297492,
          -0.5281752604894419,
          -0.7421908714692181,
          1.5430526507489388,
          1.6370858753648112,
          0.15153329405330462,
          -0.35805431200293014,
          -0.9283089709763265,
          0.3293002280206697,
          -0.04430655153238148,
          1.125980853731697,
          -0.8103951450968989,
          -0.636133320370373,
          -0.5840496782043829,
          0.2912078731205048,
          -0.5137033735673227,
          -0.5894102919320074,
          -0.44662329985137666,
          1.4453702578010075,
          -2.8820121087644,
          0.5943854382063423,
          -0.2507644033592735,
          -1.4506707195233537,
          -0.32976243758703705,
          -0.5173084332484963
         ],
         "yaxis": "y4"
        },
        {
         "line": {
          "color": "rgba(128, 128, 128, 1.0)",
          "dash": "solid",
          "shape": "linear",
          "width": 1.3
         },
         "marker": {
          "size": 2,
          "symbol": "circle"
         },
         "mode": "markers",
         "name": "B",
         "text": "",
         "type": "scatter",
         "x": [
          -0.05559180576518184,
          0.5620453907383516,
          -1.7899404051407906,
          1.500518268376267,
          0.7528373449617896,
          -1.1771597300556,
          1.97138381329973,
          0.3020214150295912,
          -1.9247991418812365,
          0.709441640718662,
          -0.01703638589202485,
          0.8199877942986776,
          0.5591157966803538,
          -0.07831734859886214,
          2.0263777208694695,
          -0.07574584864740508,
          -0.396370799265584,
          0.4191186184191619,
          0.9098700431175843,
          -1.0431608126404592,
          -1.7937637698431927,
          0.3067825397453611,
          0.2691059102780455,
          -0.31836442674890625,
          0.24337795539086785,
          0.512773733565278,
          -1.4073754758808312,
          0.5457544007462951,
          -0.6571845396135951,
          -2.0639373239813503,
          -1.4468588683638646,
          -0.9789754188086063,
          -2.1306056808379563,
          -0.20480729972649234,
          -0.8222382380694211,
          -0.33300118314536314,
          -0.29784234037258445,
          0.5307423401569827,
          0.15380642956204912,
          -0.1188208875107539,
          -0.8383589645894698,
          -0.5427105997081095,
          2.488310572074583,
          -0.2645552704783902,
          -0.45784207536797183,
          -1.8720226996945561,
          -0.7221199763313748,
          0.7303713162051148,
          -0.5675927577151667,
          0.2743443549958475,
          -0.8363932058173486,
          -0.197070058476929,
          -0.20013495199757259,
          -2.245092326684816,
          0.5943639003035389,
          -2.4438290349158693,
          -2.312513093070422,
          -0.10226142096044005,
          -0.3540991820914685,
          1.1846112283224697,
          0.5785961937800251,
          0.9454529767507993,
          -0.9378679023799694,
          2.252026617954698,
          0.8836245400728469,
          0.19770903317243588,
          0.5820505519137525,
          0.7000403498804273,
          0.18687441456797468,
          -2.605904251516702,
          1.013838593924159,
          0.7048394896011076,
          -0.9700118607851692,
          1.4122071311811517,
          0.22121580587926673,
          1.2618498032297492,
          -0.5281752604894419,
          -0.7421908714692181,
          1.5430526507489388,
          1.6370858753648112,
          0.15153329405330462,
          -0.35805431200293014,
          -0.9283089709763265,
          0.3293002280206697,
          -0.04430655153238148,
          1.125980853731697,
          -0.8103951450968989,
          -0.636133320370373,
          -0.5840496782043829,
          0.2912078731205048,
          -0.5137033735673227,
          -0.5894102919320074,
          -0.44662329985137666,
          1.4453702578010075,
          -2.8820121087644,
          0.5943854382063423,
          -0.2507644033592735,
          -1.4506707195233537,
          -0.32976243758703705,
          -0.5173084332484963
         ],
         "xaxis": "x5",
         "y": [
          1.452833408522823,
          -2.801289721404959,
          1.467471032771779,
          1.1075149196133212,
          0.5900621714557223,
          -0.28302847996604674,
          0.23427324061681518,
          -1.215558624206029,
          0.813168712095642,
          -0.27005007088545496,
          -0.38243213069474835,
          1.6853155435237392,
          -0.6607753287657827,
          -0.3472588976686309,
          0.6719544662985177,
          -1.2237508738534368,
          0.3183787636673109,
          -0.72535952550027,
          -0.26260020669625433,
          -0.850618401548025,
          -0.7274756636907109,
          1.1687905305044257,
          0.49469694638536177,
          -0.26871518589218507,
          0.15290598210181186,
          1.2097075310133023,
          1.000422474088806,
          0.3136146057400716,
          -0.2833208420357839,
          -0.1860803660624252,
          -0.9564691687831892,
          1.6672459232340364,
          0.6683703526469932,
          1.3610316950494012,
          -1.8351289950778071,
          0.2251323174580143,
          -0.5417476758860279,
          -1.0073462642598332,
          -0.38783816934944704,
          0.5531661483954752,
          -0.29784593859479686,
          0.27348929840642366,
          0.4691760622386405,
          -0.3761511711516631,
          -0.7725927101520446,
          -0.4637975839720279,
          -1.3947025101192394,
          -0.1830294614098356,
          1.625397974734619,
          0.7544921969987086,
          0.4104847513780054,
          -0.9092909463854356,
          1.171510476069789,
          0.5458990143642105,
          -0.5844526689136395,
          0.4425182954767783,
          -0.7817994944058249,
          1.0153723508764105,
          0.23275728789967648,
          -1.5989167066075543,
          1.1460289758089788,
          -0.7504446965323814,
          1.6300471548892737,
          -1.598248946404511,
          0.8595031406047959,
          0.16147366754361436,
          -0.45353015445403494,
          -0.31061877236519714,
          -0.6243507521232172,
          0.06250609987067719,
          -0.7759860097109451,
          -0.8472620099074127,
          1.5987177491523321,
          -1.1678132491490123,
          -1.247064428257644,
          -0.369826813335805,
          0.46232826804011073,
          1.7838081747848518,
          1.2909978570591278,
          -1.496859178399673,
          0.22001922625256887,
          -0.9113831617477044,
          0.49478127902387076,
          1.8100591568741062,
          1.0511618624121364,
          -0.8846969102030365,
          -0.861736858706487,
          -1.8399566183192644,
          -1.2004936606910546,
          -0.008772066069577691,
          -1.2661127544327189,
          0.12930024126805745,
          -0.9741132348621366,
          1.911126529769431,
          -0.8669170987643292,
          0.6705416816248445,
          0.7025783402266444,
          0.9783330874535535,
          0.13718527998129446,
          0.08864824382977793
         ],
         "yaxis": "y5"
        },
        {
         "histfunc": "count",
         "histnorm": "",
         "marker": {
          "color": "rgba(55, 128, 191, 1.0)",
          "line": {
           "color": "#4D5663",
           "width": 1.3
          }
         },
         "name": "B",
         "nbinsx": 10,
         "opacity": 0.8,
         "orientation": "v",
         "type": "histogram",
         "x": [
          1.452833408522823,
          -2.801289721404959,
          1.467471032771779,
          1.1075149196133212,
          0.5900621714557223,
          -0.28302847996604674,
          0.23427324061681518,
          -1.215558624206029,
          0.813168712095642,
          -0.27005007088545496,
          -0.38243213069474835,
          1.6853155435237392,
          -0.6607753287657827,
          -0.3472588976686309,
          0.6719544662985177,
          -1.2237508738534368,
          0.3183787636673109,
          -0.72535952550027,
          -0.26260020669625433,
          -0.850618401548025,
          -0.7274756636907109,
          1.1687905305044257,
          0.49469694638536177,
          -0.26871518589218507,
          0.15290598210181186,
          1.2097075310133023,
          1.000422474088806,
          0.3136146057400716,
          -0.2833208420357839,
          -0.1860803660624252,
          -0.9564691687831892,
          1.6672459232340364,
          0.6683703526469932,
          1.3610316950494012,
          -1.8351289950778071,
          0.2251323174580143,
          -0.5417476758860279,
          -1.0073462642598332,
          -0.38783816934944704,
          0.5531661483954752,
          -0.29784593859479686,
          0.27348929840642366,
          0.4691760622386405,
          -0.3761511711516631,
          -0.7725927101520446,
          -0.4637975839720279,
          -1.3947025101192394,
          -0.1830294614098356,
          1.625397974734619,
          0.7544921969987086,
          0.4104847513780054,
          -0.9092909463854356,
          1.171510476069789,
          0.5458990143642105,
          -0.5844526689136395,
          0.4425182954767783,
          -0.7817994944058249,
          1.0153723508764105,
          0.23275728789967648,
          -1.5989167066075543,
          1.1460289758089788,
          -0.7504446965323814,
          1.6300471548892737,
          -1.598248946404511,
          0.8595031406047959,
          0.16147366754361436,
          -0.45353015445403494,
          -0.31061877236519714,
          -0.6243507521232172,
          0.06250609987067719,
          -0.7759860097109451,
          -0.8472620099074127,
          1.5987177491523321,
          -1.1678132491490123,
          -1.247064428257644,
          -0.369826813335805,
          0.46232826804011073,
          1.7838081747848518,
          1.2909978570591278,
          -1.496859178399673,
          0.22001922625256887,
          -0.9113831617477044,
          0.49478127902387076,
          1.8100591568741062,
          1.0511618624121364,
          -0.8846969102030365,
          -0.861736858706487,
          -1.8399566183192644,
          -1.2004936606910546,
          -0.008772066069577691,
          -1.2661127544327189,
          0.12930024126805745,
          -0.9741132348621366,
          1.911126529769431,
          -0.8669170987643292,
          0.6705416816248445,
          0.7025783402266444,
          0.9783330874535535,
          0.13718527998129446,
          0.08864824382977793
         ],
         "xaxis": "x6",
         "yaxis": "y6"
        },
        {
         "line": {
          "color": "rgba(128, 128, 128, 1.0)",
          "dash": "solid",
          "shape": "linear",
          "width": 1.3
         },
         "marker": {
          "size": 2,
          "symbol": "circle"
         },
         "mode": "markers",
         "name": "B",
         "text": "",
         "type": "scatter",
         "x": [
          0.25500841675327135,
          -2.0228296660047334,
          -1.5941368496927122,
          0.7566379326733458,
          0.09042462761333182,
          0.7880099583693712,
          0.33110955233396566,
          0.633630161318091,
          -3.104318720313925,
          0.15769519846695176,
          -0.01821056361192945,
          0.32975254187472197,
          0.6691148817820453,
          0.8882708461650792,
          0.32571083062195644,
          1.2969248124686905,
          -0.828469691493726,
          0.8186951502774704,
          -0.8481415447451287,
          -0.005448656858547519,
          -1.046985396498361,
          2.0876629941168403,
          -0.4932176461548644,
          -1.479742227493446,
          -0.893779716681242,
          1.059693973315859,
          -0.4218995577916561,
          0.3037603245140057,
          -0.295718885568225,
          -1.456631526768783,
          0.6726281780162228,
          -0.2513454101392943,
          -0.0029946532401559714,
          1.2223245878227034,
          -1.400357848874864,
          -0.9745231933933619,
          -0.7394884299589058,
          0.07692397890434306,
          -0.13916293510562336,
          1.0262265227965133,
          0.8681801213723014,
          -0.1558700044747346,
          0.8154873912086121,
          -0.040550112558222724,
          -0.022995195337995825,
          0.19472825145585765,
          -0.8294809719858296,
          0.253481929767634,
          -0.6680928324389981,
          -0.3741609826317901,
          -2.5647984075760584,
          1.202281009334771,
          1.5356448424278233,
          -0.658681268678709,
          0.98511260312972,
          -1.5569511626557264,
          0.6959850736666175,
          0.041869074233176394,
          -0.2940238445233744,
          -0.8855718078598309,
          -0.312486874051758,
          -1.2120957514801096,
          -0.0804516775894421,
          -0.06955069706107143,
          0.4213701146254383,
          -0.5824044836334542,
          0.3320929214372528,
          0.20034650112127014,
          1.139537356515105,
          -0.11636411784016422,
          -1.5580486253908081,
          0.4787958649368819,
          0.06371197852824667,
          -0.34365931506835834,
          0.6165488060556412,
          -0.9339932703085433,
          -1.2679418729267968,
          -0.37370211392929065,
          0.1553807466229721,
          -1.6790618079561024,
          -0.8153431874050666,
          0.027609721305113872,
          1.7125284633192528,
          0.477293575773967,
          -0.2107470140392488,
          1.2466380227088456,
          0.7268506778475627,
          1.1825032117586856,
          -0.19560223128214535,
          -0.6394964865536716,
          -0.33517501376555675,
          -1.4772991809849378,
          -0.3722722426648912,
          -0.03242252178216725,
          -0.11089344856880662,
          -0.08531307864935869,
          -0.04946493715695045,
          -0.15250410087849134,
          0.21164430464328296,
          -1.3243384652903012
         ],
         "xaxis": "x7",
         "y": [
          1.452833408522823,
          -2.801289721404959,
          1.467471032771779,
          1.1075149196133212,
          0.5900621714557223,
          -0.28302847996604674,
          0.23427324061681518,
          -1.215558624206029,
          0.813168712095642,
          -0.27005007088545496,
          -0.38243213069474835,
          1.6853155435237392,
          -0.6607753287657827,
          -0.3472588976686309,
          0.6719544662985177,
          -1.2237508738534368,
          0.3183787636673109,
          -0.72535952550027,
          -0.26260020669625433,
          -0.850618401548025,
          -0.7274756636907109,
          1.1687905305044257,
          0.49469694638536177,
          -0.26871518589218507,
          0.15290598210181186,
          1.2097075310133023,
          1.000422474088806,
          0.3136146057400716,
          -0.2833208420357839,
          -0.1860803660624252,
          -0.9564691687831892,
          1.6672459232340364,
          0.6683703526469932,
          1.3610316950494012,
          -1.8351289950778071,
          0.2251323174580143,
          -0.5417476758860279,
          -1.0073462642598332,
          -0.38783816934944704,
          0.5531661483954752,
          -0.29784593859479686,
          0.27348929840642366,
          0.4691760622386405,
          -0.3761511711516631,
          -0.7725927101520446,
          -0.4637975839720279,
          -1.3947025101192394,
          -0.1830294614098356,
          1.625397974734619,
          0.7544921969987086,
          0.4104847513780054,
          -0.9092909463854356,
          1.171510476069789,
          0.5458990143642105,
          -0.5844526689136395,
          0.4425182954767783,
          -0.7817994944058249,
          1.0153723508764105,
          0.23275728789967648,
          -1.5989167066075543,
          1.1460289758089788,
          -0.7504446965323814,
          1.6300471548892737,
          -1.598248946404511,
          0.8595031406047959,
          0.16147366754361436,
          -0.45353015445403494,
          -0.31061877236519714,
          -0.6243507521232172,
          0.06250609987067719,
          -0.7759860097109451,
          -0.8472620099074127,
          1.5987177491523321,
          -1.1678132491490123,
          -1.247064428257644,
          -0.369826813335805,
          0.46232826804011073,
          1.7838081747848518,
          1.2909978570591278,
          -1.496859178399673,
          0.22001922625256887,
          -0.9113831617477044,
          0.49478127902387076,
          1.8100591568741062,
          1.0511618624121364,
          -0.8846969102030365,
          -0.861736858706487,
          -1.8399566183192644,
          -1.2004936606910546,
          -0.008772066069577691,
          -1.2661127544327189,
          0.12930024126805745,
          -0.9741132348621366,
          1.911126529769431,
          -0.8669170987643292,
          0.6705416816248445,
          0.7025783402266444,
          0.9783330874535535,
          0.13718527998129446,
          0.08864824382977793
         ],
         "yaxis": "y7"
        },
        {
         "line": {
          "color": "rgba(128, 128, 128, 1.0)",
          "dash": "solid",
          "shape": "linear",
          "width": 1.3
         },
         "marker": {
          "size": 2,
          "symbol": "circle"
         },
         "mode": "markers",
         "name": "B",
         "text": "",
         "type": "scatter",
         "x": [
          0.1852673937213632,
          -0.44345827589806286,
          0.23273235167467715,
          -1.4903533275627932,
          0.2684902198097901,
          -0.686946223039476,
          -1.569611132126099,
          -0.8268636691466774,
          -0.047241527713950904,
          0.3700385806309308,
          -0.12732821435940275,
          -0.05036277629562494,
          -0.23921120887225938,
          -1.4846129257255232,
          0.9073179324373805,
          -0.5060076669401903,
          -0.4252614976966761,
          0.8346728660773869,
          -0.8427060950773964,
          -0.6135320914829894,
          -0.21523062705508028,
          0.5190812206976291,
          -0.9747123694425338,
          0.6537487327723273,
          2.322045329576906,
          1.413449387959019,
          0.34455620354785615,
          0.3188526310664666,
          0.7529156688198151,
          -0.33504683404000546,
          -0.8437176298130339,
          0.317721829730343,
          -1.2661495137545982,
          -0.0691429255933767,
          -0.8604798829031324,
          2.244452010671782,
          -0.15145796577193404,
          -0.07665135642775489,
          0.9513143318656485,
          -0.7160571745760614,
          -0.29852813553670526,
          -0.8587877409131487,
          -1.4672603813825607,
          1.0988442496704036,
          2.2760038379975467,
          1.6788414832474532,
          0.3726091108126695,
          0.7095174950341702,
          0.24877327374638,
          -0.36465139177197653,
          1.2706006745818645,
          1.5503467450343724,
          -0.31556209173554794,
          0.14718624186491758,
          0.3107995244034444,
          -0.5392879787433942,
          -1.129334155516057,
          -1.9162127924810703,
          -2.1991377381215975,
          -0.011759833599251049,
          0.8752288310754693,
          0.29250397526317556,
          1.5709858892377442,
          0.7655654796656748,
          -0.39031204352562565,
          -0.05988632666417284,
          -0.40006195094696545,
          -0.44417344480293425,
          0.49296792393382693,
          0.8103708801937014,
          -0.6640410877996384,
          -0.908551237967371,
          -1.1917658635528445,
          -1.2482720132411318,
          1.562451015147158,
          0.8826104656621604,
          -0.036813081581456845,
          -0.20533878048949492,
          -1.5318890996535242,
          -1.227574563627396,
          -0.3059276791424916,
          -0.25738907516547643,
          -0.6834027796862429,
          0.14073356590044747,
          -0.4964738906067588,
          0.1674286564235268,
          -1.941966835411613,
          0.8441767911667543,
          0.6505909193640828,
          0.5297311519789127,
          1.771393610824138,
          0.5653915202360102,
          -0.5629050155770081,
          -0.15828529933860774,
          1.3641429553783466,
          -0.7657757222716708,
          0.057515198937703314,
          -0.8389954153033105,
          0.47748464268948704,
          -2.0329806242365693
         ],
         "xaxis": "x8",
         "y": [
          1.452833408522823,
          -2.801289721404959,
          1.467471032771779,
          1.1075149196133212,
          0.5900621714557223,
          -0.28302847996604674,
          0.23427324061681518,
          -1.215558624206029,
          0.813168712095642,
          -0.27005007088545496,
          -0.38243213069474835,
          1.6853155435237392,
          -0.6607753287657827,
          -0.3472588976686309,
          0.6719544662985177,
          -1.2237508738534368,
          0.3183787636673109,
          -0.72535952550027,
          -0.26260020669625433,
          -0.850618401548025,
          -0.7274756636907109,
          1.1687905305044257,
          0.49469694638536177,
          -0.26871518589218507,
          0.15290598210181186,
          1.2097075310133023,
          1.000422474088806,
          0.3136146057400716,
          -0.2833208420357839,
          -0.1860803660624252,
          -0.9564691687831892,
          1.6672459232340364,
          0.6683703526469932,
          1.3610316950494012,
          -1.8351289950778071,
          0.2251323174580143,
          -0.5417476758860279,
          -1.0073462642598332,
          -0.38783816934944704,
          0.5531661483954752,
          -0.29784593859479686,
          0.27348929840642366,
          0.4691760622386405,
          -0.3761511711516631,
          -0.7725927101520446,
          -0.4637975839720279,
          -1.3947025101192394,
          -0.1830294614098356,
          1.625397974734619,
          0.7544921969987086,
          0.4104847513780054,
          -0.9092909463854356,
          1.171510476069789,
          0.5458990143642105,
          -0.5844526689136395,
          0.4425182954767783,
          -0.7817994944058249,
          1.0153723508764105,
          0.23275728789967648,
          -1.5989167066075543,
          1.1460289758089788,
          -0.7504446965323814,
          1.6300471548892737,
          -1.598248946404511,
          0.8595031406047959,
          0.16147366754361436,
          -0.45353015445403494,
          -0.31061877236519714,
          -0.6243507521232172,
          0.06250609987067719,
          -0.7759860097109451,
          -0.8472620099074127,
          1.5987177491523321,
          -1.1678132491490123,
          -1.247064428257644,
          -0.369826813335805,
          0.46232826804011073,
          1.7838081747848518,
          1.2909978570591278,
          -1.496859178399673,
          0.22001922625256887,
          -0.9113831617477044,
          0.49478127902387076,
          1.8100591568741062,
          1.0511618624121364,
          -0.8846969102030365,
          -0.861736858706487,
          -1.8399566183192644,
          -1.2004936606910546,
          -0.008772066069577691,
          -1.2661127544327189,
          0.12930024126805745,
          -0.9741132348621366,
          1.911126529769431,
          -0.8669170987643292,
          0.6705416816248445,
          0.7025783402266444,
          0.9783330874535535,
          0.13718527998129446,
          0.08864824382977793
         ],
         "yaxis": "y8"
        },
        {
         "line": {
          "color": "rgba(128, 128, 128, 1.0)",
          "dash": "solid",
          "shape": "linear",
          "width": 1.3
         },
         "marker": {
          "size": 2,
          "symbol": "circle"
         },
         "mode": "markers",
         "name": "C",
         "text": "",
         "type": "scatter",
         "x": [
          -0.05559180576518184,
          0.5620453907383516,
          -1.7899404051407906,
          1.500518268376267,
          0.7528373449617896,
          -1.1771597300556,
          1.97138381329973,
          0.3020214150295912,
          -1.9247991418812365,
          0.709441640718662,
          -0.01703638589202485,
          0.8199877942986776,
          0.5591157966803538,
          -0.07831734859886214,
          2.0263777208694695,
          -0.07574584864740508,
          -0.396370799265584,
          0.4191186184191619,
          0.9098700431175843,
          -1.0431608126404592,
          -1.7937637698431927,
          0.3067825397453611,
          0.2691059102780455,
          -0.31836442674890625,
          0.24337795539086785,
          0.512773733565278,
          -1.4073754758808312,
          0.5457544007462951,
          -0.6571845396135951,
          -2.0639373239813503,
          -1.4468588683638646,
          -0.9789754188086063,
          -2.1306056808379563,
          -0.20480729972649234,
          -0.8222382380694211,
          -0.33300118314536314,
          -0.29784234037258445,
          0.5307423401569827,
          0.15380642956204912,
          -0.1188208875107539,
          -0.8383589645894698,
          -0.5427105997081095,
          2.488310572074583,
          -0.2645552704783902,
          -0.45784207536797183,
          -1.8720226996945561,
          -0.7221199763313748,
          0.7303713162051148,
          -0.5675927577151667,
          0.2743443549958475,
          -0.8363932058173486,
          -0.197070058476929,
          -0.20013495199757259,
          -2.245092326684816,
          0.5943639003035389,
          -2.4438290349158693,
          -2.312513093070422,
          -0.10226142096044005,
          -0.3540991820914685,
          1.1846112283224697,
          0.5785961937800251,
          0.9454529767507993,
          -0.9378679023799694,
          2.252026617954698,
          0.8836245400728469,
          0.19770903317243588,
          0.5820505519137525,
          0.7000403498804273,
          0.18687441456797468,
          -2.605904251516702,
          1.013838593924159,
          0.7048394896011076,
          -0.9700118607851692,
          1.4122071311811517,
          0.22121580587926673,
          1.2618498032297492,
          -0.5281752604894419,
          -0.7421908714692181,
          1.5430526507489388,
          1.6370858753648112,
          0.15153329405330462,
          -0.35805431200293014,
          -0.9283089709763265,
          0.3293002280206697,
          -0.04430655153238148,
          1.125980853731697,
          -0.8103951450968989,
          -0.636133320370373,
          -0.5840496782043829,
          0.2912078731205048,
          -0.5137033735673227,
          -0.5894102919320074,
          -0.44662329985137666,
          1.4453702578010075,
          -2.8820121087644,
          0.5943854382063423,
          -0.2507644033592735,
          -1.4506707195233537,
          -0.32976243758703705,
          -0.5173084332484963
         ],
         "xaxis": "x9",
         "y": [
          0.25500841675327135,
          -2.0228296660047334,
          -1.5941368496927122,
          0.7566379326733458,
          0.09042462761333182,
          0.7880099583693712,
          0.33110955233396566,
          0.633630161318091,
          -3.104318720313925,
          0.15769519846695176,
          -0.01821056361192945,
          0.32975254187472197,
          0.6691148817820453,
          0.8882708461650792,
          0.32571083062195644,
          1.2969248124686905,
          -0.828469691493726,
          0.8186951502774704,
          -0.8481415447451287,
          -0.005448656858547519,
          -1.046985396498361,
          2.0876629941168403,
          -0.4932176461548644,
          -1.479742227493446,
          -0.893779716681242,
          1.059693973315859,
          -0.4218995577916561,
          0.3037603245140057,
          -0.295718885568225,
          -1.456631526768783,
          0.6726281780162228,
          -0.2513454101392943,
          -0.0029946532401559714,
          1.2223245878227034,
          -1.400357848874864,
          -0.9745231933933619,
          -0.7394884299589058,
          0.07692397890434306,
          -0.13916293510562336,
          1.0262265227965133,
          0.8681801213723014,
          -0.1558700044747346,
          0.8154873912086121,
          -0.040550112558222724,
          -0.022995195337995825,
          0.19472825145585765,
          -0.8294809719858296,
          0.253481929767634,
          -0.6680928324389981,
          -0.3741609826317901,
          -2.5647984075760584,
          1.202281009334771,
          1.5356448424278233,
          -0.658681268678709,
          0.98511260312972,
          -1.5569511626557264,
          0.6959850736666175,
          0.041869074233176394,
          -0.2940238445233744,
          -0.8855718078598309,
          -0.312486874051758,
          -1.2120957514801096,
          -0.0804516775894421,
          -0.06955069706107143,
          0.4213701146254383,
          -0.5824044836334542,
          0.3320929214372528,
          0.20034650112127014,
          1.139537356515105,
          -0.11636411784016422,
          -1.5580486253908081,
          0.4787958649368819,
          0.06371197852824667,
          -0.34365931506835834,
          0.6165488060556412,
          -0.9339932703085433,
          -1.2679418729267968,
          -0.37370211392929065,
          0.1553807466229721,
          -1.6790618079561024,
          -0.8153431874050666,
          0.027609721305113872,
          1.7125284633192528,
          0.477293575773967,
          -0.2107470140392488,
          1.2466380227088456,
          0.7268506778475627,
          1.1825032117586856,
          -0.19560223128214535,
          -0.6394964865536716,
          -0.33517501376555675,
          -1.4772991809849378,
          -0.3722722426648912,
          -0.03242252178216725,
          -0.11089344856880662,
          -0.08531307864935869,
          -0.04946493715695045,
          -0.15250410087849134,
          0.21164430464328296,
          -1.3243384652903012
         ],
         "yaxis": "y9"
        },
        {
         "line": {
          "color": "rgba(128, 128, 128, 1.0)",
          "dash": "solid",
          "shape": "linear",
          "width": 1.3
         },
         "marker": {
          "size": 2,
          "symbol": "circle"
         },
         "mode": "markers",
         "name": "C",
         "text": "",
         "type": "scatter",
         "x": [
          1.452833408522823,
          -2.801289721404959,
          1.467471032771779,
          1.1075149196133212,
          0.5900621714557223,
          -0.28302847996604674,
          0.23427324061681518,
          -1.215558624206029,
          0.813168712095642,
          -0.27005007088545496,
          -0.38243213069474835,
          1.6853155435237392,
          -0.6607753287657827,
          -0.3472588976686309,
          0.6719544662985177,
          -1.2237508738534368,
          0.3183787636673109,
          -0.72535952550027,
          -0.26260020669625433,
          -0.850618401548025,
          -0.7274756636907109,
          1.1687905305044257,
          0.49469694638536177,
          -0.26871518589218507,
          0.15290598210181186,
          1.2097075310133023,
          1.000422474088806,
          0.3136146057400716,
          -0.2833208420357839,
          -0.1860803660624252,
          -0.9564691687831892,
          1.6672459232340364,
          0.6683703526469932,
          1.3610316950494012,
          -1.8351289950778071,
          0.2251323174580143,
          -0.5417476758860279,
          -1.0073462642598332,
          -0.38783816934944704,
          0.5531661483954752,
          -0.29784593859479686,
          0.27348929840642366,
          0.4691760622386405,
          -0.3761511711516631,
          -0.7725927101520446,
          -0.4637975839720279,
          -1.3947025101192394,
          -0.1830294614098356,
          1.625397974734619,
          0.7544921969987086,
          0.4104847513780054,
          -0.9092909463854356,
          1.171510476069789,
          0.5458990143642105,
          -0.5844526689136395,
          0.4425182954767783,
          -0.7817994944058249,
          1.0153723508764105,
          0.23275728789967648,
          -1.5989167066075543,
          1.1460289758089788,
          -0.7504446965323814,
          1.6300471548892737,
          -1.598248946404511,
          0.8595031406047959,
          0.16147366754361436,
          -0.45353015445403494,
          -0.31061877236519714,
          -0.6243507521232172,
          0.06250609987067719,
          -0.7759860097109451,
          -0.8472620099074127,
          1.5987177491523321,
          -1.1678132491490123,
          -1.247064428257644,
          -0.369826813335805,
          0.46232826804011073,
          1.7838081747848518,
          1.2909978570591278,
          -1.496859178399673,
          0.22001922625256887,
          -0.9113831617477044,
          0.49478127902387076,
          1.8100591568741062,
          1.0511618624121364,
          -0.8846969102030365,
          -0.861736858706487,
          -1.8399566183192644,
          -1.2004936606910546,
          -0.008772066069577691,
          -1.2661127544327189,
          0.12930024126805745,
          -0.9741132348621366,
          1.911126529769431,
          -0.8669170987643292,
          0.6705416816248445,
          0.7025783402266444,
          0.9783330874535535,
          0.13718527998129446,
          0.08864824382977793
         ],
         "xaxis": "x10",
         "y": [
          0.25500841675327135,
          -2.0228296660047334,
          -1.5941368496927122,
          0.7566379326733458,
          0.09042462761333182,
          0.7880099583693712,
          0.33110955233396566,
          0.633630161318091,
          -3.104318720313925,
          0.15769519846695176,
          -0.01821056361192945,
          0.32975254187472197,
          0.6691148817820453,
          0.8882708461650792,
          0.32571083062195644,
          1.2969248124686905,
          -0.828469691493726,
          0.8186951502774704,
          -0.8481415447451287,
          -0.005448656858547519,
          -1.046985396498361,
          2.0876629941168403,
          -0.4932176461548644,
          -1.479742227493446,
          -0.893779716681242,
          1.059693973315859,
          -0.4218995577916561,
          0.3037603245140057,
          -0.295718885568225,
          -1.456631526768783,
          0.6726281780162228,
          -0.2513454101392943,
          -0.0029946532401559714,
          1.2223245878227034,
          -1.400357848874864,
          -0.9745231933933619,
          -0.7394884299589058,
          0.07692397890434306,
          -0.13916293510562336,
          1.0262265227965133,
          0.8681801213723014,
          -0.1558700044747346,
          0.8154873912086121,
          -0.040550112558222724,
          -0.022995195337995825,
          0.19472825145585765,
          -0.8294809719858296,
          0.253481929767634,
          -0.6680928324389981,
          -0.3741609826317901,
          -2.5647984075760584,
          1.202281009334771,
          1.5356448424278233,
          -0.658681268678709,
          0.98511260312972,
          -1.5569511626557264,
          0.6959850736666175,
          0.041869074233176394,
          -0.2940238445233744,
          -0.8855718078598309,
          -0.312486874051758,
          -1.2120957514801096,
          -0.0804516775894421,
          -0.06955069706107143,
          0.4213701146254383,
          -0.5824044836334542,
          0.3320929214372528,
          0.20034650112127014,
          1.139537356515105,
          -0.11636411784016422,
          -1.5580486253908081,
          0.4787958649368819,
          0.06371197852824667,
          -0.34365931506835834,
          0.6165488060556412,
          -0.9339932703085433,
          -1.2679418729267968,
          -0.37370211392929065,
          0.1553807466229721,
          -1.6790618079561024,
          -0.8153431874050666,
          0.027609721305113872,
          1.7125284633192528,
          0.477293575773967,
          -0.2107470140392488,
          1.2466380227088456,
          0.7268506778475627,
          1.1825032117586856,
          -0.19560223128214535,
          -0.6394964865536716,
          -0.33517501376555675,
          -1.4772991809849378,
          -0.3722722426648912,
          -0.03242252178216725,
          -0.11089344856880662,
          -0.08531307864935869,
          -0.04946493715695045,
          -0.15250410087849134,
          0.21164430464328296,
          -1.3243384652903012
         ],
         "yaxis": "y10"
        },
        {
         "histfunc": "count",
         "histnorm": "",
         "marker": {
          "color": "rgba(50, 171, 96, 1.0)",
          "line": {
           "color": "#4D5663",
           "width": 1.3
          }
         },
         "name": "C",
         "nbinsx": 10,
         "opacity": 0.8,
         "orientation": "v",
         "type": "histogram",
         "x": [
          0.25500841675327135,
          -2.0228296660047334,
          -1.5941368496927122,
          0.7566379326733458,
          0.09042462761333182,
          0.7880099583693712,
          0.33110955233396566,
          0.633630161318091,
          -3.104318720313925,
          0.15769519846695176,
          -0.01821056361192945,
          0.32975254187472197,
          0.6691148817820453,
          0.8882708461650792,
          0.32571083062195644,
          1.2969248124686905,
          -0.828469691493726,
          0.8186951502774704,
          -0.8481415447451287,
          -0.005448656858547519,
          -1.046985396498361,
          2.0876629941168403,
          -0.4932176461548644,
          -1.479742227493446,
          -0.893779716681242,
          1.059693973315859,
          -0.4218995577916561,
          0.3037603245140057,
          -0.295718885568225,
          -1.456631526768783,
          0.6726281780162228,
          -0.2513454101392943,
          -0.0029946532401559714,
          1.2223245878227034,
          -1.400357848874864,
          -0.9745231933933619,
          -0.7394884299589058,
          0.07692397890434306,
          -0.13916293510562336,
          1.0262265227965133,
          0.8681801213723014,
          -0.1558700044747346,
          0.8154873912086121,
          -0.040550112558222724,
          -0.022995195337995825,
          0.19472825145585765,
          -0.8294809719858296,
          0.253481929767634,
          -0.6680928324389981,
          -0.3741609826317901,
          -2.5647984075760584,
          1.202281009334771,
          1.5356448424278233,
          -0.658681268678709,
          0.98511260312972,
          -1.5569511626557264,
          0.6959850736666175,
          0.041869074233176394,
          -0.2940238445233744,
          -0.8855718078598309,
          -0.312486874051758,
          -1.2120957514801096,
          -0.0804516775894421,
          -0.06955069706107143,
          0.4213701146254383,
          -0.5824044836334542,
          0.3320929214372528,
          0.20034650112127014,
          1.139537356515105,
          -0.11636411784016422,
          -1.5580486253908081,
          0.4787958649368819,
          0.06371197852824667,
          -0.34365931506835834,
          0.6165488060556412,
          -0.9339932703085433,
          -1.2679418729267968,
          -0.37370211392929065,
          0.1553807466229721,
          -1.6790618079561024,
          -0.8153431874050666,
          0.027609721305113872,
          1.7125284633192528,
          0.477293575773967,
          -0.2107470140392488,
          1.2466380227088456,
          0.7268506778475627,
          1.1825032117586856,
          -0.19560223128214535,
          -0.6394964865536716,
          -0.33517501376555675,
          -1.4772991809849378,
          -0.3722722426648912,
          -0.03242252178216725,
          -0.11089344856880662,
          -0.08531307864935869,
          -0.04946493715695045,
          -0.15250410087849134,
          0.21164430464328296,
          -1.3243384652903012
         ],
         "xaxis": "x11",
         "yaxis": "y11"
        },
        {
         "line": {
          "color": "rgba(128, 128, 128, 1.0)",
          "dash": "solid",
          "shape": "linear",
          "width": 1.3
         },
         "marker": {
          "size": 2,
          "symbol": "circle"
         },
         "mode": "markers",
         "name": "C",
         "text": "",
         "type": "scatter",
         "x": [
          0.1852673937213632,
          -0.44345827589806286,
          0.23273235167467715,
          -1.4903533275627932,
          0.2684902198097901,
          -0.686946223039476,
          -1.569611132126099,
          -0.8268636691466774,
          -0.047241527713950904,
          0.3700385806309308,
          -0.12732821435940275,
          -0.05036277629562494,
          -0.23921120887225938,
          -1.4846129257255232,
          0.9073179324373805,
          -0.5060076669401903,
          -0.4252614976966761,
          0.8346728660773869,
          -0.8427060950773964,
          -0.6135320914829894,
          -0.21523062705508028,
          0.5190812206976291,
          -0.9747123694425338,
          0.6537487327723273,
          2.322045329576906,
          1.413449387959019,
          0.34455620354785615,
          0.3188526310664666,
          0.7529156688198151,
          -0.33504683404000546,
          -0.8437176298130339,
          0.317721829730343,
          -1.2661495137545982,
          -0.0691429255933767,
          -0.8604798829031324,
          2.244452010671782,
          -0.15145796577193404,
          -0.07665135642775489,
          0.9513143318656485,
          -0.7160571745760614,
          -0.29852813553670526,
          -0.8587877409131487,
          -1.4672603813825607,
          1.0988442496704036,
          2.2760038379975467,
          1.6788414832474532,
          0.3726091108126695,
          0.7095174950341702,
          0.24877327374638,
          -0.36465139177197653,
          1.2706006745818645,
          1.5503467450343724,
          -0.31556209173554794,
          0.14718624186491758,
          0.3107995244034444,
          -0.5392879787433942,
          -1.129334155516057,
          -1.9162127924810703,
          -2.1991377381215975,
          -0.011759833599251049,
          0.8752288310754693,
          0.29250397526317556,
          1.5709858892377442,
          0.7655654796656748,
          -0.39031204352562565,
          -0.05988632666417284,
          -0.40006195094696545,
          -0.44417344480293425,
          0.49296792393382693,
          0.8103708801937014,
          -0.6640410877996384,
          -0.908551237967371,
          -1.1917658635528445,
          -1.2482720132411318,
          1.562451015147158,
          0.8826104656621604,
          -0.036813081581456845,
          -0.20533878048949492,
          -1.5318890996535242,
          -1.227574563627396,
          -0.3059276791424916,
          -0.25738907516547643,
          -0.6834027796862429,
          0.14073356590044747,
          -0.4964738906067588,
          0.1674286564235268,
          -1.941966835411613,
          0.8441767911667543,
          0.6505909193640828,
          0.5297311519789127,
          1.771393610824138,
          0.5653915202360102,
          -0.5629050155770081,
          -0.15828529933860774,
          1.3641429553783466,
          -0.7657757222716708,
          0.057515198937703314,
          -0.8389954153033105,
          0.47748464268948704,
          -2.0329806242365693
         ],
         "xaxis": "x12",
         "y": [
          0.25500841675327135,
          -2.0228296660047334,
          -1.5941368496927122,
          0.7566379326733458,
          0.09042462761333182,
          0.7880099583693712,
          0.33110955233396566,
          0.633630161318091,
          -3.104318720313925,
          0.15769519846695176,
          -0.01821056361192945,
          0.32975254187472197,
          0.6691148817820453,
          0.8882708461650792,
          0.32571083062195644,
          1.2969248124686905,
          -0.828469691493726,
          0.8186951502774704,
          -0.8481415447451287,
          -0.005448656858547519,
          -1.046985396498361,
          2.0876629941168403,
          -0.4932176461548644,
          -1.479742227493446,
          -0.893779716681242,
          1.059693973315859,
          -0.4218995577916561,
          0.3037603245140057,
          -0.295718885568225,
          -1.456631526768783,
          0.6726281780162228,
          -0.2513454101392943,
          -0.0029946532401559714,
          1.2223245878227034,
          -1.400357848874864,
          -0.9745231933933619,
          -0.7394884299589058,
          0.07692397890434306,
          -0.13916293510562336,
          1.0262265227965133,
          0.8681801213723014,
          -0.1558700044747346,
          0.8154873912086121,
          -0.040550112558222724,
          -0.022995195337995825,
          0.19472825145585765,
          -0.8294809719858296,
          0.253481929767634,
          -0.6680928324389981,
          -0.3741609826317901,
          -2.5647984075760584,
          1.202281009334771,
          1.5356448424278233,
          -0.658681268678709,
          0.98511260312972,
          -1.5569511626557264,
          0.6959850736666175,
          0.041869074233176394,
          -0.2940238445233744,
          -0.8855718078598309,
          -0.312486874051758,
          -1.2120957514801096,
          -0.0804516775894421,
          -0.06955069706107143,
          0.4213701146254383,
          -0.5824044836334542,
          0.3320929214372528,
          0.20034650112127014,
          1.139537356515105,
          -0.11636411784016422,
          -1.5580486253908081,
          0.4787958649368819,
          0.06371197852824667,
          -0.34365931506835834,
          0.6165488060556412,
          -0.9339932703085433,
          -1.2679418729267968,
          -0.37370211392929065,
          0.1553807466229721,
          -1.6790618079561024,
          -0.8153431874050666,
          0.027609721305113872,
          1.7125284633192528,
          0.477293575773967,
          -0.2107470140392488,
          1.2466380227088456,
          0.7268506778475627,
          1.1825032117586856,
          -0.19560223128214535,
          -0.6394964865536716,
          -0.33517501376555675,
          -1.4772991809849378,
          -0.3722722426648912,
          -0.03242252178216725,
          -0.11089344856880662,
          -0.08531307864935869,
          -0.04946493715695045,
          -0.15250410087849134,
          0.21164430464328296,
          -1.3243384652903012
         ],
         "yaxis": "y12"
        },
        {
         "line": {
          "color": "rgba(128, 128, 128, 1.0)",
          "dash": "solid",
          "shape": "linear",
          "width": 1.3
         },
         "marker": {
          "size": 2,
          "symbol": "circle"
         },
         "mode": "markers",
         "name": "D",
         "text": "",
         "type": "scatter",
         "x": [
          -0.05559180576518184,
          0.5620453907383516,
          -1.7899404051407906,
          1.500518268376267,
          0.7528373449617896,
          -1.1771597300556,
          1.97138381329973,
          0.3020214150295912,
          -1.9247991418812365,
          0.709441640718662,
          -0.01703638589202485,
          0.8199877942986776,
          0.5591157966803538,
          -0.07831734859886214,
          2.0263777208694695,
          -0.07574584864740508,
          -0.396370799265584,
          0.4191186184191619,
          0.9098700431175843,
          -1.0431608126404592,
          -1.7937637698431927,
          0.3067825397453611,
          0.2691059102780455,
          -0.31836442674890625,
          0.24337795539086785,
          0.512773733565278,
          -1.4073754758808312,
          0.5457544007462951,
          -0.6571845396135951,
          -2.0639373239813503,
          -1.4468588683638646,
          -0.9789754188086063,
          -2.1306056808379563,
          -0.20480729972649234,
          -0.8222382380694211,
          -0.33300118314536314,
          -0.29784234037258445,
          0.5307423401569827,
          0.15380642956204912,
          -0.1188208875107539,
          -0.8383589645894698,
          -0.5427105997081095,
          2.488310572074583,
          -0.2645552704783902,
          -0.45784207536797183,
          -1.8720226996945561,
          -0.7221199763313748,
          0.7303713162051148,
          -0.5675927577151667,
          0.2743443549958475,
          -0.8363932058173486,
          -0.197070058476929,
          -0.20013495199757259,
          -2.245092326684816,
          0.5943639003035389,
          -2.4438290349158693,
          -2.312513093070422,
          -0.10226142096044005,
          -0.3540991820914685,
          1.1846112283224697,
          0.5785961937800251,
          0.9454529767507993,
          -0.9378679023799694,
          2.252026617954698,
          0.8836245400728469,
          0.19770903317243588,
          0.5820505519137525,
          0.7000403498804273,
          0.18687441456797468,
          -2.605904251516702,
          1.013838593924159,
          0.7048394896011076,
          -0.9700118607851692,
          1.4122071311811517,
          0.22121580587926673,
          1.2618498032297492,
          -0.5281752604894419,
          -0.7421908714692181,
          1.5430526507489388,
          1.6370858753648112,
          0.15153329405330462,
          -0.35805431200293014,
          -0.9283089709763265,
          0.3293002280206697,
          -0.04430655153238148,
          1.125980853731697,
          -0.8103951450968989,
          -0.636133320370373,
          -0.5840496782043829,
          0.2912078731205048,
          -0.5137033735673227,
          -0.5894102919320074,
          -0.44662329985137666,
          1.4453702578010075,
          -2.8820121087644,
          0.5943854382063423,
          -0.2507644033592735,
          -1.4506707195233537,
          -0.32976243758703705,
          -0.5173084332484963
         ],
         "xaxis": "x13",
         "y": [
          0.1852673937213632,
          -0.44345827589806286,
          0.23273235167467715,
          -1.4903533275627932,
          0.2684902198097901,
          -0.686946223039476,
          -1.569611132126099,
          -0.8268636691466774,
          -0.047241527713950904,
          0.3700385806309308,
          -0.12732821435940275,
          -0.05036277629562494,
          -0.23921120887225938,
          -1.4846129257255232,
          0.9073179324373805,
          -0.5060076669401903,
          -0.4252614976966761,
          0.8346728660773869,
          -0.8427060950773964,
          -0.6135320914829894,
          -0.21523062705508028,
          0.5190812206976291,
          -0.9747123694425338,
          0.6537487327723273,
          2.322045329576906,
          1.413449387959019,
          0.34455620354785615,
          0.3188526310664666,
          0.7529156688198151,
          -0.33504683404000546,
          -0.8437176298130339,
          0.317721829730343,
          -1.2661495137545982,
          -0.0691429255933767,
          -0.8604798829031324,
          2.244452010671782,
          -0.15145796577193404,
          -0.07665135642775489,
          0.9513143318656485,
          -0.7160571745760614,
          -0.29852813553670526,
          -0.8587877409131487,
          -1.4672603813825607,
          1.0988442496704036,
          2.2760038379975467,
          1.6788414832474532,
          0.3726091108126695,
          0.7095174950341702,
          0.24877327374638,
          -0.36465139177197653,
          1.2706006745818645,
          1.5503467450343724,
          -0.31556209173554794,
          0.14718624186491758,
          0.3107995244034444,
          -0.5392879787433942,
          -1.129334155516057,
          -1.9162127924810703,
          -2.1991377381215975,
          -0.011759833599251049,
          0.8752288310754693,
          0.29250397526317556,
          1.5709858892377442,
          0.7655654796656748,
          -0.39031204352562565,
          -0.05988632666417284,
          -0.40006195094696545,
          -0.44417344480293425,
          0.49296792393382693,
          0.8103708801937014,
          -0.6640410877996384,
          -0.908551237967371,
          -1.1917658635528445,
          -1.2482720132411318,
          1.562451015147158,
          0.8826104656621604,
          -0.036813081581456845,
          -0.20533878048949492,
          -1.5318890996535242,
          -1.227574563627396,
          -0.3059276791424916,
          -0.25738907516547643,
          -0.6834027796862429,
          0.14073356590044747,
          -0.4964738906067588,
          0.1674286564235268,
          -1.941966835411613,
          0.8441767911667543,
          0.6505909193640828,
          0.5297311519789127,
          1.771393610824138,
          0.5653915202360102,
          -0.5629050155770081,
          -0.15828529933860774,
          1.3641429553783466,
          -0.7657757222716708,
          0.057515198937703314,
          -0.8389954153033105,
          0.47748464268948704,
          -2.0329806242365693
         ],
         "yaxis": "y13"
        },
        {
         "line": {
          "color": "rgba(128, 128, 128, 1.0)",
          "dash": "solid",
          "shape": "linear",
          "width": 1.3
         },
         "marker": {
          "size": 2,
          "symbol": "circle"
         },
         "mode": "markers",
         "name": "D",
         "text": "",
         "type": "scatter",
         "x": [
          1.452833408522823,
          -2.801289721404959,
          1.467471032771779,
          1.1075149196133212,
          0.5900621714557223,
          -0.28302847996604674,
          0.23427324061681518,
          -1.215558624206029,
          0.813168712095642,
          -0.27005007088545496,
          -0.38243213069474835,
          1.6853155435237392,
          -0.6607753287657827,
          -0.3472588976686309,
          0.6719544662985177,
          -1.2237508738534368,
          0.3183787636673109,
          -0.72535952550027,
          -0.26260020669625433,
          -0.850618401548025,
          -0.7274756636907109,
          1.1687905305044257,
          0.49469694638536177,
          -0.26871518589218507,
          0.15290598210181186,
          1.2097075310133023,
          1.000422474088806,
          0.3136146057400716,
          -0.2833208420357839,
          -0.1860803660624252,
          -0.9564691687831892,
          1.6672459232340364,
          0.6683703526469932,
          1.3610316950494012,
          -1.8351289950778071,
          0.2251323174580143,
          -0.5417476758860279,
          -1.0073462642598332,
          -0.38783816934944704,
          0.5531661483954752,
          -0.29784593859479686,
          0.27348929840642366,
          0.4691760622386405,
          -0.3761511711516631,
          -0.7725927101520446,
          -0.4637975839720279,
          -1.3947025101192394,
          -0.1830294614098356,
          1.625397974734619,
          0.7544921969987086,
          0.4104847513780054,
          -0.9092909463854356,
          1.171510476069789,
          0.5458990143642105,
          -0.5844526689136395,
          0.4425182954767783,
          -0.7817994944058249,
          1.0153723508764105,
          0.23275728789967648,
          -1.5989167066075543,
          1.1460289758089788,
          -0.7504446965323814,
          1.6300471548892737,
          -1.598248946404511,
          0.8595031406047959,
          0.16147366754361436,
          -0.45353015445403494,
          -0.31061877236519714,
          -0.6243507521232172,
          0.06250609987067719,
          -0.7759860097109451,
          -0.8472620099074127,
          1.5987177491523321,
          -1.1678132491490123,
          -1.247064428257644,
          -0.369826813335805,
          0.46232826804011073,
          1.7838081747848518,
          1.2909978570591278,
          -1.496859178399673,
          0.22001922625256887,
          -0.9113831617477044,
          0.49478127902387076,
          1.8100591568741062,
          1.0511618624121364,
          -0.8846969102030365,
          -0.861736858706487,
          -1.8399566183192644,
          -1.2004936606910546,
          -0.008772066069577691,
          -1.2661127544327189,
          0.12930024126805745,
          -0.9741132348621366,
          1.911126529769431,
          -0.8669170987643292,
          0.6705416816248445,
          0.7025783402266444,
          0.9783330874535535,
          0.13718527998129446,
          0.08864824382977793
         ],
         "xaxis": "x14",
         "y": [
          0.1852673937213632,
          -0.44345827589806286,
          0.23273235167467715,
          -1.4903533275627932,
          0.2684902198097901,
          -0.686946223039476,
          -1.569611132126099,
          -0.8268636691466774,
          -0.047241527713950904,
          0.3700385806309308,
          -0.12732821435940275,
          -0.05036277629562494,
          -0.23921120887225938,
          -1.4846129257255232,
          0.9073179324373805,
          -0.5060076669401903,
          -0.4252614976966761,
          0.8346728660773869,
          -0.8427060950773964,
          -0.6135320914829894,
          -0.21523062705508028,
          0.5190812206976291,
          -0.9747123694425338,
          0.6537487327723273,
          2.322045329576906,
          1.413449387959019,
          0.34455620354785615,
          0.3188526310664666,
          0.7529156688198151,
          -0.33504683404000546,
          -0.8437176298130339,
          0.317721829730343,
          -1.2661495137545982,
          -0.0691429255933767,
          -0.8604798829031324,
          2.244452010671782,
          -0.15145796577193404,
          -0.07665135642775489,
          0.9513143318656485,
          -0.7160571745760614,
          -0.29852813553670526,
          -0.8587877409131487,
          -1.4672603813825607,
          1.0988442496704036,
          2.2760038379975467,
          1.6788414832474532,
          0.3726091108126695,
          0.7095174950341702,
          0.24877327374638,
          -0.36465139177197653,
          1.2706006745818645,
          1.5503467450343724,
          -0.31556209173554794,
          0.14718624186491758,
          0.3107995244034444,
          -0.5392879787433942,
          -1.129334155516057,
          -1.9162127924810703,
          -2.1991377381215975,
          -0.011759833599251049,
          0.8752288310754693,
          0.29250397526317556,
          1.5709858892377442,
          0.7655654796656748,
          -0.39031204352562565,
          -0.05988632666417284,
          -0.40006195094696545,
          -0.44417344480293425,
          0.49296792393382693,
          0.8103708801937014,
          -0.6640410877996384,
          -0.908551237967371,
          -1.1917658635528445,
          -1.2482720132411318,
          1.562451015147158,
          0.8826104656621604,
          -0.036813081581456845,
          -0.20533878048949492,
          -1.5318890996535242,
          -1.227574563627396,
          -0.3059276791424916,
          -0.25738907516547643,
          -0.6834027796862429,
          0.14073356590044747,
          -0.4964738906067588,
          0.1674286564235268,
          -1.941966835411613,
          0.8441767911667543,
          0.6505909193640828,
          0.5297311519789127,
          1.771393610824138,
          0.5653915202360102,
          -0.5629050155770081,
          -0.15828529933860774,
          1.3641429553783466,
          -0.7657757222716708,
          0.057515198937703314,
          -0.8389954153033105,
          0.47748464268948704,
          -2.0329806242365693
         ],
         "yaxis": "y14"
        },
        {
         "line": {
          "color": "rgba(128, 128, 128, 1.0)",
          "dash": "solid",
          "shape": "linear",
          "width": 1.3
         },
         "marker": {
          "size": 2,
          "symbol": "circle"
         },
         "mode": "markers",
         "name": "D",
         "text": "",
         "type": "scatter",
         "x": [
          0.25500841675327135,
          -2.0228296660047334,
          -1.5941368496927122,
          0.7566379326733458,
          0.09042462761333182,
          0.7880099583693712,
          0.33110955233396566,
          0.633630161318091,
          -3.104318720313925,
          0.15769519846695176,
          -0.01821056361192945,
          0.32975254187472197,
          0.6691148817820453,
          0.8882708461650792,
          0.32571083062195644,
          1.2969248124686905,
          -0.828469691493726,
          0.8186951502774704,
          -0.8481415447451287,
          -0.005448656858547519,
          -1.046985396498361,
          2.0876629941168403,
          -0.4932176461548644,
          -1.479742227493446,
          -0.893779716681242,
          1.059693973315859,
          -0.4218995577916561,
          0.3037603245140057,
          -0.295718885568225,
          -1.456631526768783,
          0.6726281780162228,
          -0.2513454101392943,
          -0.0029946532401559714,
          1.2223245878227034,
          -1.400357848874864,
          -0.9745231933933619,
          -0.7394884299589058,
          0.07692397890434306,
          -0.13916293510562336,
          1.0262265227965133,
          0.8681801213723014,
          -0.1558700044747346,
          0.8154873912086121,
          -0.040550112558222724,
          -0.022995195337995825,
          0.19472825145585765,
          -0.8294809719858296,
          0.253481929767634,
          -0.6680928324389981,
          -0.3741609826317901,
          -2.5647984075760584,
          1.202281009334771,
          1.5356448424278233,
          -0.658681268678709,
          0.98511260312972,
          -1.5569511626557264,
          0.6959850736666175,
          0.041869074233176394,
          -0.2940238445233744,
          -0.8855718078598309,
          -0.312486874051758,
          -1.2120957514801096,
          -0.0804516775894421,
          -0.06955069706107143,
          0.4213701146254383,
          -0.5824044836334542,
          0.3320929214372528,
          0.20034650112127014,
          1.139537356515105,
          -0.11636411784016422,
          -1.5580486253908081,
          0.4787958649368819,
          0.06371197852824667,
          -0.34365931506835834,
          0.6165488060556412,
          -0.9339932703085433,
          -1.2679418729267968,
          -0.37370211392929065,
          0.1553807466229721,
          -1.6790618079561024,
          -0.8153431874050666,
          0.027609721305113872,
          1.7125284633192528,
          0.477293575773967,
          -0.2107470140392488,
          1.2466380227088456,
          0.7268506778475627,
          1.1825032117586856,
          -0.19560223128214535,
          -0.6394964865536716,
          -0.33517501376555675,
          -1.4772991809849378,
          -0.3722722426648912,
          -0.03242252178216725,
          -0.11089344856880662,
          -0.08531307864935869,
          -0.04946493715695045,
          -0.15250410087849134,
          0.21164430464328296,
          -1.3243384652903012
         ],
         "xaxis": "x15",
         "y": [
          0.1852673937213632,
          -0.44345827589806286,
          0.23273235167467715,
          -1.4903533275627932,
          0.2684902198097901,
          -0.686946223039476,
          -1.569611132126099,
          -0.8268636691466774,
          -0.047241527713950904,
          0.3700385806309308,
          -0.12732821435940275,
          -0.05036277629562494,
          -0.23921120887225938,
          -1.4846129257255232,
          0.9073179324373805,
          -0.5060076669401903,
          -0.4252614976966761,
          0.8346728660773869,
          -0.8427060950773964,
          -0.6135320914829894,
          -0.21523062705508028,
          0.5190812206976291,
          -0.9747123694425338,
          0.6537487327723273,
          2.322045329576906,
          1.413449387959019,
          0.34455620354785615,
          0.3188526310664666,
          0.7529156688198151,
          -0.33504683404000546,
          -0.8437176298130339,
          0.317721829730343,
          -1.2661495137545982,
          -0.0691429255933767,
          -0.8604798829031324,
          2.244452010671782,
          -0.15145796577193404,
          -0.07665135642775489,
          0.9513143318656485,
          -0.7160571745760614,
          -0.29852813553670526,
          -0.8587877409131487,
          -1.4672603813825607,
          1.0988442496704036,
          2.2760038379975467,
          1.6788414832474532,
          0.3726091108126695,
          0.7095174950341702,
          0.24877327374638,
          -0.36465139177197653,
          1.2706006745818645,
          1.5503467450343724,
          -0.31556209173554794,
          0.14718624186491758,
          0.3107995244034444,
          -0.5392879787433942,
          -1.129334155516057,
          -1.9162127924810703,
          -2.1991377381215975,
          -0.011759833599251049,
          0.8752288310754693,
          0.29250397526317556,
          1.5709858892377442,
          0.7655654796656748,
          -0.39031204352562565,
          -0.05988632666417284,
          -0.40006195094696545,
          -0.44417344480293425,
          0.49296792393382693,
          0.8103708801937014,
          -0.6640410877996384,
          -0.908551237967371,
          -1.1917658635528445,
          -1.2482720132411318,
          1.562451015147158,
          0.8826104656621604,
          -0.036813081581456845,
          -0.20533878048949492,
          -1.5318890996535242,
          -1.227574563627396,
          -0.3059276791424916,
          -0.25738907516547643,
          -0.6834027796862429,
          0.14073356590044747,
          -0.4964738906067588,
          0.1674286564235268,
          -1.941966835411613,
          0.8441767911667543,
          0.6505909193640828,
          0.5297311519789127,
          1.771393610824138,
          0.5653915202360102,
          -0.5629050155770081,
          -0.15828529933860774,
          1.3641429553783466,
          -0.7657757222716708,
          0.057515198937703314,
          -0.8389954153033105,
          0.47748464268948704,
          -2.0329806242365693
         ],
         "yaxis": "y15"
        },
        {
         "histfunc": "count",
         "histnorm": "",
         "marker": {
          "color": "rgba(128, 0, 128, 1.0)",
          "line": {
           "color": "#4D5663",
           "width": 1.3
          }
         },
         "name": "D",
         "nbinsx": 10,
         "opacity": 0.8,
         "orientation": "v",
         "type": "histogram",
         "x": [
          0.1852673937213632,
          -0.44345827589806286,
          0.23273235167467715,
          -1.4903533275627932,
          0.2684902198097901,
          -0.686946223039476,
          -1.569611132126099,
          -0.8268636691466774,
          -0.047241527713950904,
          0.3700385806309308,
          -0.12732821435940275,
          -0.05036277629562494,
          -0.23921120887225938,
          -1.4846129257255232,
          0.9073179324373805,
          -0.5060076669401903,
          -0.4252614976966761,
          0.8346728660773869,
          -0.8427060950773964,
          -0.6135320914829894,
          -0.21523062705508028,
          0.5190812206976291,
          -0.9747123694425338,
          0.6537487327723273,
          2.322045329576906,
          1.413449387959019,
          0.34455620354785615,
          0.3188526310664666,
          0.7529156688198151,
          -0.33504683404000546,
          -0.8437176298130339,
          0.317721829730343,
          -1.2661495137545982,
          -0.0691429255933767,
          -0.8604798829031324,
          2.244452010671782,
          -0.15145796577193404,
          -0.07665135642775489,
          0.9513143318656485,
          -0.7160571745760614,
          -0.29852813553670526,
          -0.8587877409131487,
          -1.4672603813825607,
          1.0988442496704036,
          2.2760038379975467,
          1.6788414832474532,
          0.3726091108126695,
          0.7095174950341702,
          0.24877327374638,
          -0.36465139177197653,
          1.2706006745818645,
          1.5503467450343724,
          -0.31556209173554794,
          0.14718624186491758,
          0.3107995244034444,
          -0.5392879787433942,
          -1.129334155516057,
          -1.9162127924810703,
          -2.1991377381215975,
          -0.011759833599251049,
          0.8752288310754693,
          0.29250397526317556,
          1.5709858892377442,
          0.7655654796656748,
          -0.39031204352562565,
          -0.05988632666417284,
          -0.40006195094696545,
          -0.44417344480293425,
          0.49296792393382693,
          0.8103708801937014,
          -0.6640410877996384,
          -0.908551237967371,
          -1.1917658635528445,
          -1.2482720132411318,
          1.562451015147158,
          0.8826104656621604,
          -0.036813081581456845,
          -0.20533878048949492,
          -1.5318890996535242,
          -1.227574563627396,
          -0.3059276791424916,
          -0.25738907516547643,
          -0.6834027796862429,
          0.14073356590044747,
          -0.4964738906067588,
          0.1674286564235268,
          -1.941966835411613,
          0.8441767911667543,
          0.6505909193640828,
          0.5297311519789127,
          1.771393610824138,
          0.5653915202360102,
          -0.5629050155770081,
          -0.15828529933860774,
          1.3641429553783466,
          -0.7657757222716708,
          0.057515198937703314,
          -0.8389954153033105,
          0.47748464268948704,
          -2.0329806242365693
         ],
         "xaxis": "x16",
         "yaxis": "y16"
        }
       ],
       "layout": {
        "bargap": 0.02,
        "legend": {
         "bgcolor": "#F5F6F9",
         "font": {
          "color": "#4D5663"
         }
        },
        "paper_bgcolor": "#F5F6F9",
        "plot_bgcolor": "#F5F6F9",
        "showlegend": false,
        "template": {
         "data": {
          "bar": [
           {
            "error_x": {
             "color": "#2a3f5f"
            },
            "error_y": {
             "color": "#2a3f5f"
            },
            "marker": {
             "line": {
              "color": "#E5ECF6",
              "width": 0.5
             },
             "pattern": {
              "fillmode": "overlay",
              "size": 10,
              "solidity": 0.2
             }
            },
            "type": "bar"
           }
          ],
          "barpolar": [
           {
            "marker": {
             "line": {
              "color": "#E5ECF6",
              "width": 0.5
             },
             "pattern": {
              "fillmode": "overlay",
              "size": 10,
              "solidity": 0.2
             }
            },
            "type": "barpolar"
           }
          ],
          "carpet": [
           {
            "aaxis": {
             "endlinecolor": "#2a3f5f",
             "gridcolor": "white",
             "linecolor": "white",
             "minorgridcolor": "white",
             "startlinecolor": "#2a3f5f"
            },
            "baxis": {
             "endlinecolor": "#2a3f5f",
             "gridcolor": "white",
             "linecolor": "white",
             "minorgridcolor": "white",
             "startlinecolor": "#2a3f5f"
            },
            "type": "carpet"
           }
          ],
          "choropleth": [
           {
            "colorbar": {
             "outlinewidth": 0,
             "ticks": ""
            },
            "type": "choropleth"
           }
          ],
          "contour": [
           {
            "colorbar": {
             "outlinewidth": 0,
             "ticks": ""
            },
            "colorscale": [
             [
              0,
              "#0d0887"
             ],
             [
              0.1111111111111111,
              "#46039f"
             ],
             [
              0.2222222222222222,
              "#7201a8"
             ],
             [
              0.3333333333333333,
              "#9c179e"
             ],
             [
              0.4444444444444444,
              "#bd3786"
             ],
             [
              0.5555555555555556,
              "#d8576b"
             ],
             [
              0.6666666666666666,
              "#ed7953"
             ],
             [
              0.7777777777777778,
              "#fb9f3a"
             ],
             [
              0.8888888888888888,
              "#fdca26"
             ],
             [
              1,
              "#f0f921"
             ]
            ],
            "type": "contour"
           }
          ],
          "contourcarpet": [
           {
            "colorbar": {
             "outlinewidth": 0,
             "ticks": ""
            },
            "type": "contourcarpet"
           }
          ],
          "heatmap": [
           {
            "colorbar": {
             "outlinewidth": 0,
             "ticks": ""
            },
            "colorscale": [
             [
              0,
              "#0d0887"
             ],
             [
              0.1111111111111111,
              "#46039f"
             ],
             [
              0.2222222222222222,
              "#7201a8"
             ],
             [
              0.3333333333333333,
              "#9c179e"
             ],
             [
              0.4444444444444444,
              "#bd3786"
             ],
             [
              0.5555555555555556,
              "#d8576b"
             ],
             [
              0.6666666666666666,
              "#ed7953"
             ],
             [
              0.7777777777777778,
              "#fb9f3a"
             ],
             [
              0.8888888888888888,
              "#fdca26"
             ],
             [
              1,
              "#f0f921"
             ]
            ],
            "type": "heatmap"
           }
          ],
          "heatmapgl": [
           {
            "colorbar": {
             "outlinewidth": 0,
             "ticks": ""
            },
            "colorscale": [
             [
              0,
              "#0d0887"
             ],
             [
              0.1111111111111111,
              "#46039f"
             ],
             [
              0.2222222222222222,
              "#7201a8"
             ],
             [
              0.3333333333333333,
              "#9c179e"
             ],
             [
              0.4444444444444444,
              "#bd3786"
             ],
             [
              0.5555555555555556,
              "#d8576b"
             ],
             [
              0.6666666666666666,
              "#ed7953"
             ],
             [
              0.7777777777777778,
              "#fb9f3a"
             ],
             [
              0.8888888888888888,
              "#fdca26"
             ],
             [
              1,
              "#f0f921"
             ]
            ],
            "type": "heatmapgl"
           }
          ],
          "histogram": [
           {
            "marker": {
             "pattern": {
              "fillmode": "overlay",
              "size": 10,
              "solidity": 0.2
             }
            },
            "type": "histogram"
           }
          ],
          "histogram2d": [
           {
            "colorbar": {
             "outlinewidth": 0,
             "ticks": ""
            },
            "colorscale": [
             [
              0,
              "#0d0887"
             ],
             [
              0.1111111111111111,
              "#46039f"
             ],
             [
              0.2222222222222222,
              "#7201a8"
             ],
             [
              0.3333333333333333,
              "#9c179e"
             ],
             [
              0.4444444444444444,
              "#bd3786"
             ],
             [
              0.5555555555555556,
              "#d8576b"
             ],
             [
              0.6666666666666666,
              "#ed7953"
             ],
             [
              0.7777777777777778,
              "#fb9f3a"
             ],
             [
              0.8888888888888888,
              "#fdca26"
             ],
             [
              1,
              "#f0f921"
             ]
            ],
            "type": "histogram2d"
           }
          ],
          "histogram2dcontour": [
           {
            "colorbar": {
             "outlinewidth": 0,
             "ticks": ""
            },
            "colorscale": [
             [
              0,
              "#0d0887"
             ],
             [
              0.1111111111111111,
              "#46039f"
             ],
             [
              0.2222222222222222,
              "#7201a8"
             ],
             [
              0.3333333333333333,
              "#9c179e"
             ],
             [
              0.4444444444444444,
              "#bd3786"
             ],
             [
              0.5555555555555556,
              "#d8576b"
             ],
             [
              0.6666666666666666,
              "#ed7953"
             ],
             [
              0.7777777777777778,
              "#fb9f3a"
             ],
             [
              0.8888888888888888,
              "#fdca26"
             ],
             [
              1,
              "#f0f921"
             ]
            ],
            "type": "histogram2dcontour"
           }
          ],
          "mesh3d": [
           {
            "colorbar": {
             "outlinewidth": 0,
             "ticks": ""
            },
            "type": "mesh3d"
           }
          ],
          "parcoords": [
           {
            "line": {
             "colorbar": {
              "outlinewidth": 0,
              "ticks": ""
             }
            },
            "type": "parcoords"
           }
          ],
          "pie": [
           {
            "automargin": true,
            "type": "pie"
           }
          ],
          "scatter": [
           {
            "fillpattern": {
             "fillmode": "overlay",
             "size": 10,
             "solidity": 0.2
            },
            "type": "scatter"
           }
          ],
          "scatter3d": [
           {
            "line": {
             "colorbar": {
              "outlinewidth": 0,
              "ticks": ""
             }
            },
            "marker": {
             "colorbar": {
              "outlinewidth": 0,
              "ticks": ""
             }
            },
            "type": "scatter3d"
           }
          ],
          "scattercarpet": [
           {
            "marker": {
             "colorbar": {
              "outlinewidth": 0,
              "ticks": ""
             }
            },
            "type": "scattercarpet"
           }
          ],
          "scattergeo": [
           {
            "marker": {
             "colorbar": {
              "outlinewidth": 0,
              "ticks": ""
             }
            },
            "type": "scattergeo"
           }
          ],
          "scattergl": [
           {
            "marker": {
             "colorbar": {
              "outlinewidth": 0,
              "ticks": ""
             }
            },
            "type": "scattergl"
           }
          ],
          "scattermapbox": [
           {
            "marker": {
             "colorbar": {
              "outlinewidth": 0,
              "ticks": ""
             }
            },
            "type": "scattermapbox"
           }
          ],
          "scatterpolar": [
           {
            "marker": {
             "colorbar": {
              "outlinewidth": 0,
              "ticks": ""
             }
            },
            "type": "scatterpolar"
           }
          ],
          "scatterpolargl": [
           {
            "marker": {
             "colorbar": {
              "outlinewidth": 0,
              "ticks": ""
             }
            },
            "type": "scatterpolargl"
           }
          ],
          "scatterternary": [
           {
            "marker": {
             "colorbar": {
              "outlinewidth": 0,
              "ticks": ""
             }
            },
            "type": "scatterternary"
           }
          ],
          "surface": [
           {
            "colorbar": {
             "outlinewidth": 0,
             "ticks": ""
            },
            "colorscale": [
             [
              0,
              "#0d0887"
             ],
             [
              0.1111111111111111,
              "#46039f"
             ],
             [
              0.2222222222222222,
              "#7201a8"
             ],
             [
              0.3333333333333333,
              "#9c179e"
             ],
             [
              0.4444444444444444,
              "#bd3786"
             ],
             [
              0.5555555555555556,
              "#d8576b"
             ],
             [
              0.6666666666666666,
              "#ed7953"
             ],
             [
              0.7777777777777778,
              "#fb9f3a"
             ],
             [
              0.8888888888888888,
              "#fdca26"
             ],
             [
              1,
              "#f0f921"
             ]
            ],
            "type": "surface"
           }
          ],
          "table": [
           {
            "cells": {
             "fill": {
              "color": "#EBF0F8"
             },
             "line": {
              "color": "white"
             }
            },
            "header": {
             "fill": {
              "color": "#C8D4E3"
             },
             "line": {
              "color": "white"
             }
            },
            "type": "table"
           }
          ]
         },
         "layout": {
          "annotationdefaults": {
           "arrowcolor": "#2a3f5f",
           "arrowhead": 0,
           "arrowwidth": 1
          },
          "autotypenumbers": "strict",
          "coloraxis": {
           "colorbar": {
            "outlinewidth": 0,
            "ticks": ""
           }
          },
          "colorscale": {
           "diverging": [
            [
             0,
             "#8e0152"
            ],
            [
             0.1,
             "#c51b7d"
            ],
            [
             0.2,
             "#de77ae"
            ],
            [
             0.3,
             "#f1b6da"
            ],
            [
             0.4,
             "#fde0ef"
            ],
            [
             0.5,
             "#f7f7f7"
            ],
            [
             0.6,
             "#e6f5d0"
            ],
            [
             0.7,
             "#b8e186"
            ],
            [
             0.8,
             "#7fbc41"
            ],
            [
             0.9,
             "#4d9221"
            ],
            [
             1,
             "#276419"
            ]
           ],
           "sequential": [
            [
             0,
             "#0d0887"
            ],
            [
             0.1111111111111111,
             "#46039f"
            ],
            [
             0.2222222222222222,
             "#7201a8"
            ],
            [
             0.3333333333333333,
             "#9c179e"
            ],
            [
             0.4444444444444444,
             "#bd3786"
            ],
            [
             0.5555555555555556,
             "#d8576b"
            ],
            [
             0.6666666666666666,
             "#ed7953"
            ],
            [
             0.7777777777777778,
             "#fb9f3a"
            ],
            [
             0.8888888888888888,
             "#fdca26"
            ],
            [
             1,
             "#f0f921"
            ]
           ],
           "sequentialminus": [
            [
             0,
             "#0d0887"
            ],
            [
             0.1111111111111111,
             "#46039f"
            ],
            [
             0.2222222222222222,
             "#7201a8"
            ],
            [
             0.3333333333333333,
             "#9c179e"
            ],
            [
             0.4444444444444444,
             "#bd3786"
            ],
            [
             0.5555555555555556,
             "#d8576b"
            ],
            [
             0.6666666666666666,
             "#ed7953"
            ],
            [
             0.7777777777777778,
             "#fb9f3a"
            ],
            [
             0.8888888888888888,
             "#fdca26"
            ],
            [
             1,
             "#f0f921"
            ]
           ]
          },
          "colorway": [
           "#636efa",
           "#EF553B",
           "#00cc96",
           "#ab63fa",
           "#FFA15A",
           "#19d3f3",
           "#FF6692",
           "#B6E880",
           "#FF97FF",
           "#FECB52"
          ],
          "font": {
           "color": "#2a3f5f"
          },
          "geo": {
           "bgcolor": "white",
           "lakecolor": "white",
           "landcolor": "#E5ECF6",
           "showlakes": true,
           "showland": true,
           "subunitcolor": "white"
          },
          "hoverlabel": {
           "align": "left"
          },
          "hovermode": "closest",
          "mapbox": {
           "style": "light"
          },
          "paper_bgcolor": "white",
          "plot_bgcolor": "#E5ECF6",
          "polar": {
           "angularaxis": {
            "gridcolor": "white",
            "linecolor": "white",
            "ticks": ""
           },
           "bgcolor": "#E5ECF6",
           "radialaxis": {
            "gridcolor": "white",
            "linecolor": "white",
            "ticks": ""
           }
          },
          "scene": {
           "xaxis": {
            "backgroundcolor": "#E5ECF6",
            "gridcolor": "white",
            "gridwidth": 2,
            "linecolor": "white",
            "showbackground": true,
            "ticks": "",
            "zerolinecolor": "white"
           },
           "yaxis": {
            "backgroundcolor": "#E5ECF6",
            "gridcolor": "white",
            "gridwidth": 2,
            "linecolor": "white",
            "showbackground": true,
            "ticks": "",
            "zerolinecolor": "white"
           },
           "zaxis": {
            "backgroundcolor": "#E5ECF6",
            "gridcolor": "white",
            "gridwidth": 2,
            "linecolor": "white",
            "showbackground": true,
            "ticks": "",
            "zerolinecolor": "white"
           }
          },
          "shapedefaults": {
           "line": {
            "color": "#2a3f5f"
           }
          },
          "ternary": {
           "aaxis": {
            "gridcolor": "white",
            "linecolor": "white",
            "ticks": ""
           },
           "baxis": {
            "gridcolor": "white",
            "linecolor": "white",
            "ticks": ""
           },
           "bgcolor": "#E5ECF6",
           "caxis": {
            "gridcolor": "white",
            "linecolor": "white",
            "ticks": ""
           }
          },
          "title": {
           "x": 0.05
          },
          "xaxis": {
           "automargin": true,
           "gridcolor": "white",
           "linecolor": "white",
           "ticks": "",
           "title": {
            "standoff": 15
           },
           "zerolinecolor": "white",
           "zerolinewidth": 2
          },
          "yaxis": {
           "automargin": true,
           "gridcolor": "white",
           "linecolor": "white",
           "ticks": "",
           "title": {
            "standoff": 15
           },
           "zerolinecolor": "white",
           "zerolinewidth": 2
          }
         }
        },
        "title": {
         "font": {
          "color": "#4D5663"
         }
        },
        "xaxis": {
         "anchor": "y",
         "domain": [
          0,
          0.2125
         ],
         "gridcolor": "#E1E5ED",
         "showgrid": false,
         "tickfont": {
          "color": "#4D5663"
         },
         "title": {
          "font": {
           "color": "#4D5663"
          },
          "text": ""
         },
         "zerolinecolor": "#E1E5ED"
        },
        "xaxis10": {
         "anchor": "y10",
         "domain": [
          0.2625,
          0.475
         ],
         "gridcolor": "#E1E5ED",
         "showgrid": false,
         "tickfont": {
          "color": "#4D5663"
         },
         "title": {
          "font": {
           "color": "#4D5663"
          },
          "text": ""
         },
         "zerolinecolor": "#E1E5ED"
        },
        "xaxis11": {
         "anchor": "y11",
         "domain": [
          0.525,
          0.7375
         ],
         "gridcolor": "#E1E5ED",
         "showgrid": false,
         "tickfont": {
          "color": "#4D5663"
         },
         "title": {
          "font": {
           "color": "#4D5663"
          },
          "text": ""
         },
         "zerolinecolor": "#E1E5ED"
        },
        "xaxis12": {
         "anchor": "y12",
         "domain": [
          0.7875,
          1
         ],
         "gridcolor": "#E1E5ED",
         "showgrid": false,
         "tickfont": {
          "color": "#4D5663"
         },
         "title": {
          "font": {
           "color": "#4D5663"
          },
          "text": ""
         },
         "zerolinecolor": "#E1E5ED"
        },
        "xaxis13": {
         "anchor": "y13",
         "domain": [
          0,
          0.2125
         ],
         "gridcolor": "#E1E5ED",
         "showgrid": false,
         "tickfont": {
          "color": "#4D5663"
         },
         "title": {
          "font": {
           "color": "#4D5663"
          },
          "text": ""
         },
         "zerolinecolor": "#E1E5ED"
        },
        "xaxis14": {
         "anchor": "y14",
         "domain": [
          0.2625,
          0.475
         ],
         "gridcolor": "#E1E5ED",
         "showgrid": false,
         "tickfont": {
          "color": "#4D5663"
         },
         "title": {
          "font": {
           "color": "#4D5663"
          },
          "text": ""
         },
         "zerolinecolor": "#E1E5ED"
        },
        "xaxis15": {
         "anchor": "y15",
         "domain": [
          0.525,
          0.7375
         ],
         "gridcolor": "#E1E5ED",
         "showgrid": false,
         "tickfont": {
          "color": "#4D5663"
         },
         "title": {
          "font": {
           "color": "#4D5663"
          },
          "text": ""
         },
         "zerolinecolor": "#E1E5ED"
        },
        "xaxis16": {
         "anchor": "y16",
         "domain": [
          0.7875,
          1
         ],
         "gridcolor": "#E1E5ED",
         "showgrid": false,
         "tickfont": {
          "color": "#4D5663"
         },
         "title": {
          "font": {
           "color": "#4D5663"
          },
          "text": ""
         },
         "zerolinecolor": "#E1E5ED"
        },
        "xaxis2": {
         "anchor": "y2",
         "domain": [
          0.2625,
          0.475
         ],
         "gridcolor": "#E1E5ED",
         "showgrid": false,
         "tickfont": {
          "color": "#4D5663"
         },
         "title": {
          "font": {
           "color": "#4D5663"
          },
          "text": ""
         },
         "zerolinecolor": "#E1E5ED"
        },
        "xaxis3": {
         "anchor": "y3",
         "domain": [
          0.525,
          0.7375
         ],
         "gridcolor": "#E1E5ED",
         "showgrid": false,
         "tickfont": {
          "color": "#4D5663"
         },
         "title": {
          "font": {
           "color": "#4D5663"
          },
          "text": ""
         },
         "zerolinecolor": "#E1E5ED"
        },
        "xaxis4": {
         "anchor": "y4",
         "domain": [
          0.7875,
          1
         ],
         "gridcolor": "#E1E5ED",
         "showgrid": false,
         "tickfont": {
          "color": "#4D5663"
         },
         "title": {
          "font": {
           "color": "#4D5663"
          },
          "text": ""
         },
         "zerolinecolor": "#E1E5ED"
        },
        "xaxis5": {
         "anchor": "y5",
         "domain": [
          0,
          0.2125
         ],
         "gridcolor": "#E1E5ED",
         "showgrid": false,
         "tickfont": {
          "color": "#4D5663"
         },
         "title": {
          "font": {
           "color": "#4D5663"
          },
          "text": ""
         },
         "zerolinecolor": "#E1E5ED"
        },
        "xaxis6": {
         "anchor": "y6",
         "domain": [
          0.2625,
          0.475
         ],
         "gridcolor": "#E1E5ED",
         "showgrid": false,
         "tickfont": {
          "color": "#4D5663"
         },
         "title": {
          "font": {
           "color": "#4D5663"
          },
          "text": ""
         },
         "zerolinecolor": "#E1E5ED"
        },
        "xaxis7": {
         "anchor": "y7",
         "domain": [
          0.525,
          0.7375
         ],
         "gridcolor": "#E1E5ED",
         "showgrid": false,
         "tickfont": {
          "color": "#4D5663"
         },
         "title": {
          "font": {
           "color": "#4D5663"
          },
          "text": ""
         },
         "zerolinecolor": "#E1E5ED"
        },
        "xaxis8": {
         "anchor": "y8",
         "domain": [
          0.7875,
          1
         ],
         "gridcolor": "#E1E5ED",
         "showgrid": false,
         "tickfont": {
          "color": "#4D5663"
         },
         "title": {
          "font": {
           "color": "#4D5663"
          },
          "text": ""
         },
         "zerolinecolor": "#E1E5ED"
        },
        "xaxis9": {
         "anchor": "y9",
         "domain": [
          0,
          0.2125
         ],
         "gridcolor": "#E1E5ED",
         "showgrid": false,
         "tickfont": {
          "color": "#4D5663"
         },
         "title": {
          "font": {
           "color": "#4D5663"
          },
          "text": ""
         },
         "zerolinecolor": "#E1E5ED"
        },
        "yaxis": {
         "anchor": "x",
         "domain": [
          0.8025,
          1
         ],
         "gridcolor": "#E1E5ED",
         "showgrid": false,
         "tickfont": {
          "color": "#4D5663"
         },
         "title": {
          "font": {
           "color": "#4D5663"
          },
          "text": ""
         },
         "zerolinecolor": "#E1E5ED"
        },
        "yaxis10": {
         "anchor": "x10",
         "domain": [
          0.2675,
          0.465
         ],
         "gridcolor": "#E1E5ED",
         "showgrid": false,
         "tickfont": {
          "color": "#4D5663"
         },
         "title": {
          "font": {
           "color": "#4D5663"
          },
          "text": ""
         },
         "zerolinecolor": "#E1E5ED"
        },
        "yaxis11": {
         "anchor": "x11",
         "domain": [
          0.2675,
          0.465
         ],
         "gridcolor": "#E1E5ED",
         "showgrid": false,
         "tickfont": {
          "color": "#4D5663"
         },
         "title": {
          "font": {
           "color": "#4D5663"
          },
          "text": ""
         },
         "zerolinecolor": "#E1E5ED"
        },
        "yaxis12": {
         "anchor": "x12",
         "domain": [
          0.2675,
          0.465
         ],
         "gridcolor": "#E1E5ED",
         "showgrid": false,
         "tickfont": {
          "color": "#4D5663"
         },
         "title": {
          "font": {
           "color": "#4D5663"
          },
          "text": ""
         },
         "zerolinecolor": "#E1E5ED"
        },
        "yaxis13": {
         "anchor": "x13",
         "domain": [
          0,
          0.1975
         ],
         "gridcolor": "#E1E5ED",
         "showgrid": false,
         "tickfont": {
          "color": "#4D5663"
         },
         "title": {
          "font": {
           "color": "#4D5663"
          },
          "text": ""
         },
         "zerolinecolor": "#E1E5ED"
        },
        "yaxis14": {
         "anchor": "x14",
         "domain": [
          0,
          0.1975
         ],
         "gridcolor": "#E1E5ED",
         "showgrid": false,
         "tickfont": {
          "color": "#4D5663"
         },
         "title": {
          "font": {
           "color": "#4D5663"
          },
          "text": ""
         },
         "zerolinecolor": "#E1E5ED"
        },
        "yaxis15": {
         "anchor": "x15",
         "domain": [
          0,
          0.1975
         ],
         "gridcolor": "#E1E5ED",
         "showgrid": false,
         "tickfont": {
          "color": "#4D5663"
         },
         "title": {
          "font": {
           "color": "#4D5663"
          },
          "text": ""
         },
         "zerolinecolor": "#E1E5ED"
        },
        "yaxis16": {
         "anchor": "x16",
         "domain": [
          0,
          0.1975
         ],
         "gridcolor": "#E1E5ED",
         "showgrid": false,
         "tickfont": {
          "color": "#4D5663"
         },
         "title": {
          "font": {
           "color": "#4D5663"
          },
          "text": ""
         },
         "zerolinecolor": "#E1E5ED"
        },
        "yaxis2": {
         "anchor": "x2",
         "domain": [
          0.8025,
          1
         ],
         "gridcolor": "#E1E5ED",
         "showgrid": false,
         "tickfont": {
          "color": "#4D5663"
         },
         "title": {
          "font": {
           "color": "#4D5663"
          },
          "text": ""
         },
         "zerolinecolor": "#E1E5ED"
        },
        "yaxis3": {
         "anchor": "x3",
         "domain": [
          0.8025,
          1
         ],
         "gridcolor": "#E1E5ED",
         "showgrid": false,
         "tickfont": {
          "color": "#4D5663"
         },
         "title": {
          "font": {
           "color": "#4D5663"
          },
          "text": ""
         },
         "zerolinecolor": "#E1E5ED"
        },
        "yaxis4": {
         "anchor": "x4",
         "domain": [
          0.8025,
          1
         ],
         "gridcolor": "#E1E5ED",
         "showgrid": false,
         "tickfont": {
          "color": "#4D5663"
         },
         "title": {
          "font": {
           "color": "#4D5663"
          },
          "text": ""
         },
         "zerolinecolor": "#E1E5ED"
        },
        "yaxis5": {
         "anchor": "x5",
         "domain": [
          0.535,
          0.7325
         ],
         "gridcolor": "#E1E5ED",
         "showgrid": false,
         "tickfont": {
          "color": "#4D5663"
         },
         "title": {
          "font": {
           "color": "#4D5663"
          },
          "text": ""
         },
         "zerolinecolor": "#E1E5ED"
        },
        "yaxis6": {
         "anchor": "x6",
         "domain": [
          0.535,
          0.7325
         ],
         "gridcolor": "#E1E5ED",
         "showgrid": false,
         "tickfont": {
          "color": "#4D5663"
         },
         "title": {
          "font": {
           "color": "#4D5663"
          },
          "text": ""
         },
         "zerolinecolor": "#E1E5ED"
        },
        "yaxis7": {
         "anchor": "x7",
         "domain": [
          0.535,
          0.7325
         ],
         "gridcolor": "#E1E5ED",
         "showgrid": false,
         "tickfont": {
          "color": "#4D5663"
         },
         "title": {
          "font": {
           "color": "#4D5663"
          },
          "text": ""
         },
         "zerolinecolor": "#E1E5ED"
        },
        "yaxis8": {
         "anchor": "x8",
         "domain": [
          0.535,
          0.7325
         ],
         "gridcolor": "#E1E5ED",
         "showgrid": false,
         "tickfont": {
          "color": "#4D5663"
         },
         "title": {
          "font": {
           "color": "#4D5663"
          },
          "text": ""
         },
         "zerolinecolor": "#E1E5ED"
        },
        "yaxis9": {
         "anchor": "x9",
         "domain": [
          0.2675,
          0.465
         ],
         "gridcolor": "#E1E5ED",
         "showgrid": false,
         "tickfont": {
          "color": "#4D5663"
         },
         "title": {
          "font": {
           "color": "#4D5663"
          },
          "text": ""
         },
         "zerolinecolor": "#E1E5ED"
        }
       }
      },
      "text/html": [
       "<div>                            <div id=\"8945e60c-790c-4a30-a096-fd371cc487ca\" class=\"plotly-graph-div\" style=\"height:525px; width:100%;\"></div>            <script type=\"text/javascript\">                require([\"plotly\"], function(Plotly) {                    window.PLOTLYENV=window.PLOTLYENV || {};\n",
       "                    window.PLOTLYENV.BASE_URL='https://plot.ly';                                    if (document.getElementById(\"8945e60c-790c-4a30-a096-fd371cc487ca\")) {                    Plotly.newPlot(                        \"8945e60c-790c-4a30-a096-fd371cc487ca\",                        [{\"histfunc\":\"count\",\"histnorm\":\"\",\"marker\":{\"color\":\"rgba(255, 153, 51, 1.0)\",\"line\":{\"color\":\"#4D5663\",\"width\":1.3}},\"name\":\"A\",\"nbinsx\":10,\"opacity\":0.8,\"orientation\":\"v\",\"x\":[-0.05559180576518184,0.5620453907383516,-1.7899404051407906,1.500518268376267,0.7528373449617896,-1.1771597300556,1.97138381329973,0.3020214150295912,-1.9247991418812365,0.709441640718662,-0.01703638589202485,0.8199877942986776,0.5591157966803538,-0.07831734859886214,2.0263777208694695,-0.07574584864740508,-0.396370799265584,0.4191186184191619,0.9098700431175843,-1.0431608126404592,-1.7937637698431927,0.3067825397453611,0.2691059102780455,-0.31836442674890625,0.24337795539086785,0.512773733565278,-1.4073754758808312,0.5457544007462951,-0.6571845396135951,-2.0639373239813503,-1.4468588683638646,-0.9789754188086063,-2.1306056808379563,-0.20480729972649234,-0.8222382380694211,-0.33300118314536314,-0.29784234037258445,0.5307423401569827,0.15380642956204912,-0.1188208875107539,-0.8383589645894698,-0.5427105997081095,2.488310572074583,-0.2645552704783902,-0.45784207536797183,-1.8720226996945561,-0.7221199763313748,0.7303713162051148,-0.5675927577151667,0.2743443549958475,-0.8363932058173486,-0.197070058476929,-0.20013495199757259,-2.245092326684816,0.5943639003035389,-2.4438290349158693,-2.312513093070422,-0.10226142096044005,-0.3540991820914685,1.1846112283224697,0.5785961937800251,0.9454529767507993,-0.9378679023799694,2.252026617954698,0.8836245400728469,0.19770903317243588,0.5820505519137525,0.7000403498804273,0.18687441456797468,-2.605904251516702,1.013838593924159,0.7048394896011076,-0.9700118607851692,1.4122071311811517,0.22121580587926673,1.2618498032297492,-0.5281752604894419,-0.7421908714692181,1.5430526507489388,1.6370858753648112,0.15153329405330462,-0.35805431200293014,-0.9283089709763265,0.3293002280206697,-0.04430655153238148,1.125980853731697,-0.8103951450968989,-0.636133320370373,-0.5840496782043829,0.2912078731205048,-0.5137033735673227,-0.5894102919320074,-0.44662329985137666,1.4453702578010075,-2.8820121087644,0.5943854382063423,-0.2507644033592735,-1.4506707195233537,-0.32976243758703705,-0.5173084332484963],\"xaxis\":\"x\",\"yaxis\":\"y\",\"type\":\"histogram\"},{\"line\":{\"color\":\"rgba(128, 128, 128, 1.0)\",\"dash\":\"solid\",\"shape\":\"linear\",\"width\":1.3},\"marker\":{\"size\":2,\"symbol\":\"circle\"},\"mode\":\"markers\",\"name\":\"A\",\"text\":\"\",\"x\":[1.452833408522823,-2.801289721404959,1.467471032771779,1.1075149196133212,0.5900621714557223,-0.28302847996604674,0.23427324061681518,-1.215558624206029,0.813168712095642,-0.27005007088545496,-0.38243213069474835,1.6853155435237392,-0.6607753287657827,-0.3472588976686309,0.6719544662985177,-1.2237508738534368,0.3183787636673109,-0.72535952550027,-0.26260020669625433,-0.850618401548025,-0.7274756636907109,1.1687905305044257,0.49469694638536177,-0.26871518589218507,0.15290598210181186,1.2097075310133023,1.000422474088806,0.3136146057400716,-0.2833208420357839,-0.1860803660624252,-0.9564691687831892,1.6672459232340364,0.6683703526469932,1.3610316950494012,-1.8351289950778071,0.2251323174580143,-0.5417476758860279,-1.0073462642598332,-0.38783816934944704,0.5531661483954752,-0.29784593859479686,0.27348929840642366,0.4691760622386405,-0.3761511711516631,-0.7725927101520446,-0.4637975839720279,-1.3947025101192394,-0.1830294614098356,1.625397974734619,0.7544921969987086,0.4104847513780054,-0.9092909463854356,1.171510476069789,0.5458990143642105,-0.5844526689136395,0.4425182954767783,-0.7817994944058249,1.0153723508764105,0.23275728789967648,-1.5989167066075543,1.1460289758089788,-0.7504446965323814,1.6300471548892737,-1.598248946404511,0.8595031406047959,0.16147366754361436,-0.45353015445403494,-0.31061877236519714,-0.6243507521232172,0.06250609987067719,-0.7759860097109451,-0.8472620099074127,1.5987177491523321,-1.1678132491490123,-1.247064428257644,-0.369826813335805,0.46232826804011073,1.7838081747848518,1.2909978570591278,-1.496859178399673,0.22001922625256887,-0.9113831617477044,0.49478127902387076,1.8100591568741062,1.0511618624121364,-0.8846969102030365,-0.861736858706487,-1.8399566183192644,-1.2004936606910546,-0.008772066069577691,-1.2661127544327189,0.12930024126805745,-0.9741132348621366,1.911126529769431,-0.8669170987643292,0.6705416816248445,0.7025783402266444,0.9783330874535535,0.13718527998129446,0.08864824382977793],\"xaxis\":\"x2\",\"y\":[-0.05559180576518184,0.5620453907383516,-1.7899404051407906,1.500518268376267,0.7528373449617896,-1.1771597300556,1.97138381329973,0.3020214150295912,-1.9247991418812365,0.709441640718662,-0.01703638589202485,0.8199877942986776,0.5591157966803538,-0.07831734859886214,2.0263777208694695,-0.07574584864740508,-0.396370799265584,0.4191186184191619,0.9098700431175843,-1.0431608126404592,-1.7937637698431927,0.3067825397453611,0.2691059102780455,-0.31836442674890625,0.24337795539086785,0.512773733565278,-1.4073754758808312,0.5457544007462951,-0.6571845396135951,-2.0639373239813503,-1.4468588683638646,-0.9789754188086063,-2.1306056808379563,-0.20480729972649234,-0.8222382380694211,-0.33300118314536314,-0.29784234037258445,0.5307423401569827,0.15380642956204912,-0.1188208875107539,-0.8383589645894698,-0.5427105997081095,2.488310572074583,-0.2645552704783902,-0.45784207536797183,-1.8720226996945561,-0.7221199763313748,0.7303713162051148,-0.5675927577151667,0.2743443549958475,-0.8363932058173486,-0.197070058476929,-0.20013495199757259,-2.245092326684816,0.5943639003035389,-2.4438290349158693,-2.312513093070422,-0.10226142096044005,-0.3540991820914685,1.1846112283224697,0.5785961937800251,0.9454529767507993,-0.9378679023799694,2.252026617954698,0.8836245400728469,0.19770903317243588,0.5820505519137525,0.7000403498804273,0.18687441456797468,-2.605904251516702,1.013838593924159,0.7048394896011076,-0.9700118607851692,1.4122071311811517,0.22121580587926673,1.2618498032297492,-0.5281752604894419,-0.7421908714692181,1.5430526507489388,1.6370858753648112,0.15153329405330462,-0.35805431200293014,-0.9283089709763265,0.3293002280206697,-0.04430655153238148,1.125980853731697,-0.8103951450968989,-0.636133320370373,-0.5840496782043829,0.2912078731205048,-0.5137033735673227,-0.5894102919320074,-0.44662329985137666,1.4453702578010075,-2.8820121087644,0.5943854382063423,-0.2507644033592735,-1.4506707195233537,-0.32976243758703705,-0.5173084332484963],\"yaxis\":\"y2\",\"type\":\"scatter\"},{\"line\":{\"color\":\"rgba(128, 128, 128, 1.0)\",\"dash\":\"solid\",\"shape\":\"linear\",\"width\":1.3},\"marker\":{\"size\":2,\"symbol\":\"circle\"},\"mode\":\"markers\",\"name\":\"A\",\"text\":\"\",\"x\":[0.25500841675327135,-2.0228296660047334,-1.5941368496927122,0.7566379326733458,0.09042462761333182,0.7880099583693712,0.33110955233396566,0.633630161318091,-3.104318720313925,0.15769519846695176,-0.01821056361192945,0.32975254187472197,0.6691148817820453,0.8882708461650792,0.32571083062195644,1.2969248124686905,-0.828469691493726,0.8186951502774704,-0.8481415447451287,-0.005448656858547519,-1.046985396498361,2.0876629941168403,-0.4932176461548644,-1.479742227493446,-0.893779716681242,1.059693973315859,-0.4218995577916561,0.3037603245140057,-0.295718885568225,-1.456631526768783,0.6726281780162228,-0.2513454101392943,-0.0029946532401559714,1.2223245878227034,-1.400357848874864,-0.9745231933933619,-0.7394884299589058,0.07692397890434306,-0.13916293510562336,1.0262265227965133,0.8681801213723014,-0.1558700044747346,0.8154873912086121,-0.040550112558222724,-0.022995195337995825,0.19472825145585765,-0.8294809719858296,0.253481929767634,-0.6680928324389981,-0.3741609826317901,-2.5647984075760584,1.202281009334771,1.5356448424278233,-0.658681268678709,0.98511260312972,-1.5569511626557264,0.6959850736666175,0.041869074233176394,-0.2940238445233744,-0.8855718078598309,-0.312486874051758,-1.2120957514801096,-0.0804516775894421,-0.06955069706107143,0.4213701146254383,-0.5824044836334542,0.3320929214372528,0.20034650112127014,1.139537356515105,-0.11636411784016422,-1.5580486253908081,0.4787958649368819,0.06371197852824667,-0.34365931506835834,0.6165488060556412,-0.9339932703085433,-1.2679418729267968,-0.37370211392929065,0.1553807466229721,-1.6790618079561024,-0.8153431874050666,0.027609721305113872,1.7125284633192528,0.477293575773967,-0.2107470140392488,1.2466380227088456,0.7268506778475627,1.1825032117586856,-0.19560223128214535,-0.6394964865536716,-0.33517501376555675,-1.4772991809849378,-0.3722722426648912,-0.03242252178216725,-0.11089344856880662,-0.08531307864935869,-0.04946493715695045,-0.15250410087849134,0.21164430464328296,-1.3243384652903012],\"xaxis\":\"x3\",\"y\":[-0.05559180576518184,0.5620453907383516,-1.7899404051407906,1.500518268376267,0.7528373449617896,-1.1771597300556,1.97138381329973,0.3020214150295912,-1.9247991418812365,0.709441640718662,-0.01703638589202485,0.8199877942986776,0.5591157966803538,-0.07831734859886214,2.0263777208694695,-0.07574584864740508,-0.396370799265584,0.4191186184191619,0.9098700431175843,-1.0431608126404592,-1.7937637698431927,0.3067825397453611,0.2691059102780455,-0.31836442674890625,0.24337795539086785,0.512773733565278,-1.4073754758808312,0.5457544007462951,-0.6571845396135951,-2.0639373239813503,-1.4468588683638646,-0.9789754188086063,-2.1306056808379563,-0.20480729972649234,-0.8222382380694211,-0.33300118314536314,-0.29784234037258445,0.5307423401569827,0.15380642956204912,-0.1188208875107539,-0.8383589645894698,-0.5427105997081095,2.488310572074583,-0.2645552704783902,-0.45784207536797183,-1.8720226996945561,-0.7221199763313748,0.7303713162051148,-0.5675927577151667,0.2743443549958475,-0.8363932058173486,-0.197070058476929,-0.20013495199757259,-2.245092326684816,0.5943639003035389,-2.4438290349158693,-2.312513093070422,-0.10226142096044005,-0.3540991820914685,1.1846112283224697,0.5785961937800251,0.9454529767507993,-0.9378679023799694,2.252026617954698,0.8836245400728469,0.19770903317243588,0.5820505519137525,0.7000403498804273,0.18687441456797468,-2.605904251516702,1.013838593924159,0.7048394896011076,-0.9700118607851692,1.4122071311811517,0.22121580587926673,1.2618498032297492,-0.5281752604894419,-0.7421908714692181,1.5430526507489388,1.6370858753648112,0.15153329405330462,-0.35805431200293014,-0.9283089709763265,0.3293002280206697,-0.04430655153238148,1.125980853731697,-0.8103951450968989,-0.636133320370373,-0.5840496782043829,0.2912078731205048,-0.5137033735673227,-0.5894102919320074,-0.44662329985137666,1.4453702578010075,-2.8820121087644,0.5943854382063423,-0.2507644033592735,-1.4506707195233537,-0.32976243758703705,-0.5173084332484963],\"yaxis\":\"y3\",\"type\":\"scatter\"},{\"line\":{\"color\":\"rgba(128, 128, 128, 1.0)\",\"dash\":\"solid\",\"shape\":\"linear\",\"width\":1.3},\"marker\":{\"size\":2,\"symbol\":\"circle\"},\"mode\":\"markers\",\"name\":\"A\",\"text\":\"\",\"x\":[0.1852673937213632,-0.44345827589806286,0.23273235167467715,-1.4903533275627932,0.2684902198097901,-0.686946223039476,-1.569611132126099,-0.8268636691466774,-0.047241527713950904,0.3700385806309308,-0.12732821435940275,-0.05036277629562494,-0.23921120887225938,-1.4846129257255232,0.9073179324373805,-0.5060076669401903,-0.4252614976966761,0.8346728660773869,-0.8427060950773964,-0.6135320914829894,-0.21523062705508028,0.5190812206976291,-0.9747123694425338,0.6537487327723273,2.322045329576906,1.413449387959019,0.34455620354785615,0.3188526310664666,0.7529156688198151,-0.33504683404000546,-0.8437176298130339,0.317721829730343,-1.2661495137545982,-0.0691429255933767,-0.8604798829031324,2.244452010671782,-0.15145796577193404,-0.07665135642775489,0.9513143318656485,-0.7160571745760614,-0.29852813553670526,-0.8587877409131487,-1.4672603813825607,1.0988442496704036,2.2760038379975467,1.6788414832474532,0.3726091108126695,0.7095174950341702,0.24877327374638,-0.36465139177197653,1.2706006745818645,1.5503467450343724,-0.31556209173554794,0.14718624186491758,0.3107995244034444,-0.5392879787433942,-1.129334155516057,-1.9162127924810703,-2.1991377381215975,-0.011759833599251049,0.8752288310754693,0.29250397526317556,1.5709858892377442,0.7655654796656748,-0.39031204352562565,-0.05988632666417284,-0.40006195094696545,-0.44417344480293425,0.49296792393382693,0.8103708801937014,-0.6640410877996384,-0.908551237967371,-1.1917658635528445,-1.2482720132411318,1.562451015147158,0.8826104656621604,-0.036813081581456845,-0.20533878048949492,-1.5318890996535242,-1.227574563627396,-0.3059276791424916,-0.25738907516547643,-0.6834027796862429,0.14073356590044747,-0.4964738906067588,0.1674286564235268,-1.941966835411613,0.8441767911667543,0.6505909193640828,0.5297311519789127,1.771393610824138,0.5653915202360102,-0.5629050155770081,-0.15828529933860774,1.3641429553783466,-0.7657757222716708,0.057515198937703314,-0.8389954153033105,0.47748464268948704,-2.0329806242365693],\"xaxis\":\"x4\",\"y\":[-0.05559180576518184,0.5620453907383516,-1.7899404051407906,1.500518268376267,0.7528373449617896,-1.1771597300556,1.97138381329973,0.3020214150295912,-1.9247991418812365,0.709441640718662,-0.01703638589202485,0.8199877942986776,0.5591157966803538,-0.07831734859886214,2.0263777208694695,-0.07574584864740508,-0.396370799265584,0.4191186184191619,0.9098700431175843,-1.0431608126404592,-1.7937637698431927,0.3067825397453611,0.2691059102780455,-0.31836442674890625,0.24337795539086785,0.512773733565278,-1.4073754758808312,0.5457544007462951,-0.6571845396135951,-2.0639373239813503,-1.4468588683638646,-0.9789754188086063,-2.1306056808379563,-0.20480729972649234,-0.8222382380694211,-0.33300118314536314,-0.29784234037258445,0.5307423401569827,0.15380642956204912,-0.1188208875107539,-0.8383589645894698,-0.5427105997081095,2.488310572074583,-0.2645552704783902,-0.45784207536797183,-1.8720226996945561,-0.7221199763313748,0.7303713162051148,-0.5675927577151667,0.2743443549958475,-0.8363932058173486,-0.197070058476929,-0.20013495199757259,-2.245092326684816,0.5943639003035389,-2.4438290349158693,-2.312513093070422,-0.10226142096044005,-0.3540991820914685,1.1846112283224697,0.5785961937800251,0.9454529767507993,-0.9378679023799694,2.252026617954698,0.8836245400728469,0.19770903317243588,0.5820505519137525,0.7000403498804273,0.18687441456797468,-2.605904251516702,1.013838593924159,0.7048394896011076,-0.9700118607851692,1.4122071311811517,0.22121580587926673,1.2618498032297492,-0.5281752604894419,-0.7421908714692181,1.5430526507489388,1.6370858753648112,0.15153329405330462,-0.35805431200293014,-0.9283089709763265,0.3293002280206697,-0.04430655153238148,1.125980853731697,-0.8103951450968989,-0.636133320370373,-0.5840496782043829,0.2912078731205048,-0.5137033735673227,-0.5894102919320074,-0.44662329985137666,1.4453702578010075,-2.8820121087644,0.5943854382063423,-0.2507644033592735,-1.4506707195233537,-0.32976243758703705,-0.5173084332484963],\"yaxis\":\"y4\",\"type\":\"scatter\"},{\"line\":{\"color\":\"rgba(128, 128, 128, 1.0)\",\"dash\":\"solid\",\"shape\":\"linear\",\"width\":1.3},\"marker\":{\"size\":2,\"symbol\":\"circle\"},\"mode\":\"markers\",\"name\":\"B\",\"text\":\"\",\"x\":[-0.05559180576518184,0.5620453907383516,-1.7899404051407906,1.500518268376267,0.7528373449617896,-1.1771597300556,1.97138381329973,0.3020214150295912,-1.9247991418812365,0.709441640718662,-0.01703638589202485,0.8199877942986776,0.5591157966803538,-0.07831734859886214,2.0263777208694695,-0.07574584864740508,-0.396370799265584,0.4191186184191619,0.9098700431175843,-1.0431608126404592,-1.7937637698431927,0.3067825397453611,0.2691059102780455,-0.31836442674890625,0.24337795539086785,0.512773733565278,-1.4073754758808312,0.5457544007462951,-0.6571845396135951,-2.0639373239813503,-1.4468588683638646,-0.9789754188086063,-2.1306056808379563,-0.20480729972649234,-0.8222382380694211,-0.33300118314536314,-0.29784234037258445,0.5307423401569827,0.15380642956204912,-0.1188208875107539,-0.8383589645894698,-0.5427105997081095,2.488310572074583,-0.2645552704783902,-0.45784207536797183,-1.8720226996945561,-0.7221199763313748,0.7303713162051148,-0.5675927577151667,0.2743443549958475,-0.8363932058173486,-0.197070058476929,-0.20013495199757259,-2.245092326684816,0.5943639003035389,-2.4438290349158693,-2.312513093070422,-0.10226142096044005,-0.3540991820914685,1.1846112283224697,0.5785961937800251,0.9454529767507993,-0.9378679023799694,2.252026617954698,0.8836245400728469,0.19770903317243588,0.5820505519137525,0.7000403498804273,0.18687441456797468,-2.605904251516702,1.013838593924159,0.7048394896011076,-0.9700118607851692,1.4122071311811517,0.22121580587926673,1.2618498032297492,-0.5281752604894419,-0.7421908714692181,1.5430526507489388,1.6370858753648112,0.15153329405330462,-0.35805431200293014,-0.9283089709763265,0.3293002280206697,-0.04430655153238148,1.125980853731697,-0.8103951450968989,-0.636133320370373,-0.5840496782043829,0.2912078731205048,-0.5137033735673227,-0.5894102919320074,-0.44662329985137666,1.4453702578010075,-2.8820121087644,0.5943854382063423,-0.2507644033592735,-1.4506707195233537,-0.32976243758703705,-0.5173084332484963],\"xaxis\":\"x5\",\"y\":[1.452833408522823,-2.801289721404959,1.467471032771779,1.1075149196133212,0.5900621714557223,-0.28302847996604674,0.23427324061681518,-1.215558624206029,0.813168712095642,-0.27005007088545496,-0.38243213069474835,1.6853155435237392,-0.6607753287657827,-0.3472588976686309,0.6719544662985177,-1.2237508738534368,0.3183787636673109,-0.72535952550027,-0.26260020669625433,-0.850618401548025,-0.7274756636907109,1.1687905305044257,0.49469694638536177,-0.26871518589218507,0.15290598210181186,1.2097075310133023,1.000422474088806,0.3136146057400716,-0.2833208420357839,-0.1860803660624252,-0.9564691687831892,1.6672459232340364,0.6683703526469932,1.3610316950494012,-1.8351289950778071,0.2251323174580143,-0.5417476758860279,-1.0073462642598332,-0.38783816934944704,0.5531661483954752,-0.29784593859479686,0.27348929840642366,0.4691760622386405,-0.3761511711516631,-0.7725927101520446,-0.4637975839720279,-1.3947025101192394,-0.1830294614098356,1.625397974734619,0.7544921969987086,0.4104847513780054,-0.9092909463854356,1.171510476069789,0.5458990143642105,-0.5844526689136395,0.4425182954767783,-0.7817994944058249,1.0153723508764105,0.23275728789967648,-1.5989167066075543,1.1460289758089788,-0.7504446965323814,1.6300471548892737,-1.598248946404511,0.8595031406047959,0.16147366754361436,-0.45353015445403494,-0.31061877236519714,-0.6243507521232172,0.06250609987067719,-0.7759860097109451,-0.8472620099074127,1.5987177491523321,-1.1678132491490123,-1.247064428257644,-0.369826813335805,0.46232826804011073,1.7838081747848518,1.2909978570591278,-1.496859178399673,0.22001922625256887,-0.9113831617477044,0.49478127902387076,1.8100591568741062,1.0511618624121364,-0.8846969102030365,-0.861736858706487,-1.8399566183192644,-1.2004936606910546,-0.008772066069577691,-1.2661127544327189,0.12930024126805745,-0.9741132348621366,1.911126529769431,-0.8669170987643292,0.6705416816248445,0.7025783402266444,0.9783330874535535,0.13718527998129446,0.08864824382977793],\"yaxis\":\"y5\",\"type\":\"scatter\"},{\"histfunc\":\"count\",\"histnorm\":\"\",\"marker\":{\"color\":\"rgba(55, 128, 191, 1.0)\",\"line\":{\"color\":\"#4D5663\",\"width\":1.3}},\"name\":\"B\",\"nbinsx\":10,\"opacity\":0.8,\"orientation\":\"v\",\"x\":[1.452833408522823,-2.801289721404959,1.467471032771779,1.1075149196133212,0.5900621714557223,-0.28302847996604674,0.23427324061681518,-1.215558624206029,0.813168712095642,-0.27005007088545496,-0.38243213069474835,1.6853155435237392,-0.6607753287657827,-0.3472588976686309,0.6719544662985177,-1.2237508738534368,0.3183787636673109,-0.72535952550027,-0.26260020669625433,-0.850618401548025,-0.7274756636907109,1.1687905305044257,0.49469694638536177,-0.26871518589218507,0.15290598210181186,1.2097075310133023,1.000422474088806,0.3136146057400716,-0.2833208420357839,-0.1860803660624252,-0.9564691687831892,1.6672459232340364,0.6683703526469932,1.3610316950494012,-1.8351289950778071,0.2251323174580143,-0.5417476758860279,-1.0073462642598332,-0.38783816934944704,0.5531661483954752,-0.29784593859479686,0.27348929840642366,0.4691760622386405,-0.3761511711516631,-0.7725927101520446,-0.4637975839720279,-1.3947025101192394,-0.1830294614098356,1.625397974734619,0.7544921969987086,0.4104847513780054,-0.9092909463854356,1.171510476069789,0.5458990143642105,-0.5844526689136395,0.4425182954767783,-0.7817994944058249,1.0153723508764105,0.23275728789967648,-1.5989167066075543,1.1460289758089788,-0.7504446965323814,1.6300471548892737,-1.598248946404511,0.8595031406047959,0.16147366754361436,-0.45353015445403494,-0.31061877236519714,-0.6243507521232172,0.06250609987067719,-0.7759860097109451,-0.8472620099074127,1.5987177491523321,-1.1678132491490123,-1.247064428257644,-0.369826813335805,0.46232826804011073,1.7838081747848518,1.2909978570591278,-1.496859178399673,0.22001922625256887,-0.9113831617477044,0.49478127902387076,1.8100591568741062,1.0511618624121364,-0.8846969102030365,-0.861736858706487,-1.8399566183192644,-1.2004936606910546,-0.008772066069577691,-1.2661127544327189,0.12930024126805745,-0.9741132348621366,1.911126529769431,-0.8669170987643292,0.6705416816248445,0.7025783402266444,0.9783330874535535,0.13718527998129446,0.08864824382977793],\"xaxis\":\"x6\",\"yaxis\":\"y6\",\"type\":\"histogram\"},{\"line\":{\"color\":\"rgba(128, 128, 128, 1.0)\",\"dash\":\"solid\",\"shape\":\"linear\",\"width\":1.3},\"marker\":{\"size\":2,\"symbol\":\"circle\"},\"mode\":\"markers\",\"name\":\"B\",\"text\":\"\",\"x\":[0.25500841675327135,-2.0228296660047334,-1.5941368496927122,0.7566379326733458,0.09042462761333182,0.7880099583693712,0.33110955233396566,0.633630161318091,-3.104318720313925,0.15769519846695176,-0.01821056361192945,0.32975254187472197,0.6691148817820453,0.8882708461650792,0.32571083062195644,1.2969248124686905,-0.828469691493726,0.8186951502774704,-0.8481415447451287,-0.005448656858547519,-1.046985396498361,2.0876629941168403,-0.4932176461548644,-1.479742227493446,-0.893779716681242,1.059693973315859,-0.4218995577916561,0.3037603245140057,-0.295718885568225,-1.456631526768783,0.6726281780162228,-0.2513454101392943,-0.0029946532401559714,1.2223245878227034,-1.400357848874864,-0.9745231933933619,-0.7394884299589058,0.07692397890434306,-0.13916293510562336,1.0262265227965133,0.8681801213723014,-0.1558700044747346,0.8154873912086121,-0.040550112558222724,-0.022995195337995825,0.19472825145585765,-0.8294809719858296,0.253481929767634,-0.6680928324389981,-0.3741609826317901,-2.5647984075760584,1.202281009334771,1.5356448424278233,-0.658681268678709,0.98511260312972,-1.5569511626557264,0.6959850736666175,0.041869074233176394,-0.2940238445233744,-0.8855718078598309,-0.312486874051758,-1.2120957514801096,-0.0804516775894421,-0.06955069706107143,0.4213701146254383,-0.5824044836334542,0.3320929214372528,0.20034650112127014,1.139537356515105,-0.11636411784016422,-1.5580486253908081,0.4787958649368819,0.06371197852824667,-0.34365931506835834,0.6165488060556412,-0.9339932703085433,-1.2679418729267968,-0.37370211392929065,0.1553807466229721,-1.6790618079561024,-0.8153431874050666,0.027609721305113872,1.7125284633192528,0.477293575773967,-0.2107470140392488,1.2466380227088456,0.7268506778475627,1.1825032117586856,-0.19560223128214535,-0.6394964865536716,-0.33517501376555675,-1.4772991809849378,-0.3722722426648912,-0.03242252178216725,-0.11089344856880662,-0.08531307864935869,-0.04946493715695045,-0.15250410087849134,0.21164430464328296,-1.3243384652903012],\"xaxis\":\"x7\",\"y\":[1.452833408522823,-2.801289721404959,1.467471032771779,1.1075149196133212,0.5900621714557223,-0.28302847996604674,0.23427324061681518,-1.215558624206029,0.813168712095642,-0.27005007088545496,-0.38243213069474835,1.6853155435237392,-0.6607753287657827,-0.3472588976686309,0.6719544662985177,-1.2237508738534368,0.3183787636673109,-0.72535952550027,-0.26260020669625433,-0.850618401548025,-0.7274756636907109,1.1687905305044257,0.49469694638536177,-0.26871518589218507,0.15290598210181186,1.2097075310133023,1.000422474088806,0.3136146057400716,-0.2833208420357839,-0.1860803660624252,-0.9564691687831892,1.6672459232340364,0.6683703526469932,1.3610316950494012,-1.8351289950778071,0.2251323174580143,-0.5417476758860279,-1.0073462642598332,-0.38783816934944704,0.5531661483954752,-0.29784593859479686,0.27348929840642366,0.4691760622386405,-0.3761511711516631,-0.7725927101520446,-0.4637975839720279,-1.3947025101192394,-0.1830294614098356,1.625397974734619,0.7544921969987086,0.4104847513780054,-0.9092909463854356,1.171510476069789,0.5458990143642105,-0.5844526689136395,0.4425182954767783,-0.7817994944058249,1.0153723508764105,0.23275728789967648,-1.5989167066075543,1.1460289758089788,-0.7504446965323814,1.6300471548892737,-1.598248946404511,0.8595031406047959,0.16147366754361436,-0.45353015445403494,-0.31061877236519714,-0.6243507521232172,0.06250609987067719,-0.7759860097109451,-0.8472620099074127,1.5987177491523321,-1.1678132491490123,-1.247064428257644,-0.369826813335805,0.46232826804011073,1.7838081747848518,1.2909978570591278,-1.496859178399673,0.22001922625256887,-0.9113831617477044,0.49478127902387076,1.8100591568741062,1.0511618624121364,-0.8846969102030365,-0.861736858706487,-1.8399566183192644,-1.2004936606910546,-0.008772066069577691,-1.2661127544327189,0.12930024126805745,-0.9741132348621366,1.911126529769431,-0.8669170987643292,0.6705416816248445,0.7025783402266444,0.9783330874535535,0.13718527998129446,0.08864824382977793],\"yaxis\":\"y7\",\"type\":\"scatter\"},{\"line\":{\"color\":\"rgba(128, 128, 128, 1.0)\",\"dash\":\"solid\",\"shape\":\"linear\",\"width\":1.3},\"marker\":{\"size\":2,\"symbol\":\"circle\"},\"mode\":\"markers\",\"name\":\"B\",\"text\":\"\",\"x\":[0.1852673937213632,-0.44345827589806286,0.23273235167467715,-1.4903533275627932,0.2684902198097901,-0.686946223039476,-1.569611132126099,-0.8268636691466774,-0.047241527713950904,0.3700385806309308,-0.12732821435940275,-0.05036277629562494,-0.23921120887225938,-1.4846129257255232,0.9073179324373805,-0.5060076669401903,-0.4252614976966761,0.8346728660773869,-0.8427060950773964,-0.6135320914829894,-0.21523062705508028,0.5190812206976291,-0.9747123694425338,0.6537487327723273,2.322045329576906,1.413449387959019,0.34455620354785615,0.3188526310664666,0.7529156688198151,-0.33504683404000546,-0.8437176298130339,0.317721829730343,-1.2661495137545982,-0.0691429255933767,-0.8604798829031324,2.244452010671782,-0.15145796577193404,-0.07665135642775489,0.9513143318656485,-0.7160571745760614,-0.29852813553670526,-0.8587877409131487,-1.4672603813825607,1.0988442496704036,2.2760038379975467,1.6788414832474532,0.3726091108126695,0.7095174950341702,0.24877327374638,-0.36465139177197653,1.2706006745818645,1.5503467450343724,-0.31556209173554794,0.14718624186491758,0.3107995244034444,-0.5392879787433942,-1.129334155516057,-1.9162127924810703,-2.1991377381215975,-0.011759833599251049,0.8752288310754693,0.29250397526317556,1.5709858892377442,0.7655654796656748,-0.39031204352562565,-0.05988632666417284,-0.40006195094696545,-0.44417344480293425,0.49296792393382693,0.8103708801937014,-0.6640410877996384,-0.908551237967371,-1.1917658635528445,-1.2482720132411318,1.562451015147158,0.8826104656621604,-0.036813081581456845,-0.20533878048949492,-1.5318890996535242,-1.227574563627396,-0.3059276791424916,-0.25738907516547643,-0.6834027796862429,0.14073356590044747,-0.4964738906067588,0.1674286564235268,-1.941966835411613,0.8441767911667543,0.6505909193640828,0.5297311519789127,1.771393610824138,0.5653915202360102,-0.5629050155770081,-0.15828529933860774,1.3641429553783466,-0.7657757222716708,0.057515198937703314,-0.8389954153033105,0.47748464268948704,-2.0329806242365693],\"xaxis\":\"x8\",\"y\":[1.452833408522823,-2.801289721404959,1.467471032771779,1.1075149196133212,0.5900621714557223,-0.28302847996604674,0.23427324061681518,-1.215558624206029,0.813168712095642,-0.27005007088545496,-0.38243213069474835,1.6853155435237392,-0.6607753287657827,-0.3472588976686309,0.6719544662985177,-1.2237508738534368,0.3183787636673109,-0.72535952550027,-0.26260020669625433,-0.850618401548025,-0.7274756636907109,1.1687905305044257,0.49469694638536177,-0.26871518589218507,0.15290598210181186,1.2097075310133023,1.000422474088806,0.3136146057400716,-0.2833208420357839,-0.1860803660624252,-0.9564691687831892,1.6672459232340364,0.6683703526469932,1.3610316950494012,-1.8351289950778071,0.2251323174580143,-0.5417476758860279,-1.0073462642598332,-0.38783816934944704,0.5531661483954752,-0.29784593859479686,0.27348929840642366,0.4691760622386405,-0.3761511711516631,-0.7725927101520446,-0.4637975839720279,-1.3947025101192394,-0.1830294614098356,1.625397974734619,0.7544921969987086,0.4104847513780054,-0.9092909463854356,1.171510476069789,0.5458990143642105,-0.5844526689136395,0.4425182954767783,-0.7817994944058249,1.0153723508764105,0.23275728789967648,-1.5989167066075543,1.1460289758089788,-0.7504446965323814,1.6300471548892737,-1.598248946404511,0.8595031406047959,0.16147366754361436,-0.45353015445403494,-0.31061877236519714,-0.6243507521232172,0.06250609987067719,-0.7759860097109451,-0.8472620099074127,1.5987177491523321,-1.1678132491490123,-1.247064428257644,-0.369826813335805,0.46232826804011073,1.7838081747848518,1.2909978570591278,-1.496859178399673,0.22001922625256887,-0.9113831617477044,0.49478127902387076,1.8100591568741062,1.0511618624121364,-0.8846969102030365,-0.861736858706487,-1.8399566183192644,-1.2004936606910546,-0.008772066069577691,-1.2661127544327189,0.12930024126805745,-0.9741132348621366,1.911126529769431,-0.8669170987643292,0.6705416816248445,0.7025783402266444,0.9783330874535535,0.13718527998129446,0.08864824382977793],\"yaxis\":\"y8\",\"type\":\"scatter\"},{\"line\":{\"color\":\"rgba(128, 128, 128, 1.0)\",\"dash\":\"solid\",\"shape\":\"linear\",\"width\":1.3},\"marker\":{\"size\":2,\"symbol\":\"circle\"},\"mode\":\"markers\",\"name\":\"C\",\"text\":\"\",\"x\":[-0.05559180576518184,0.5620453907383516,-1.7899404051407906,1.500518268376267,0.7528373449617896,-1.1771597300556,1.97138381329973,0.3020214150295912,-1.9247991418812365,0.709441640718662,-0.01703638589202485,0.8199877942986776,0.5591157966803538,-0.07831734859886214,2.0263777208694695,-0.07574584864740508,-0.396370799265584,0.4191186184191619,0.9098700431175843,-1.0431608126404592,-1.7937637698431927,0.3067825397453611,0.2691059102780455,-0.31836442674890625,0.24337795539086785,0.512773733565278,-1.4073754758808312,0.5457544007462951,-0.6571845396135951,-2.0639373239813503,-1.4468588683638646,-0.9789754188086063,-2.1306056808379563,-0.20480729972649234,-0.8222382380694211,-0.33300118314536314,-0.29784234037258445,0.5307423401569827,0.15380642956204912,-0.1188208875107539,-0.8383589645894698,-0.5427105997081095,2.488310572074583,-0.2645552704783902,-0.45784207536797183,-1.8720226996945561,-0.7221199763313748,0.7303713162051148,-0.5675927577151667,0.2743443549958475,-0.8363932058173486,-0.197070058476929,-0.20013495199757259,-2.245092326684816,0.5943639003035389,-2.4438290349158693,-2.312513093070422,-0.10226142096044005,-0.3540991820914685,1.1846112283224697,0.5785961937800251,0.9454529767507993,-0.9378679023799694,2.252026617954698,0.8836245400728469,0.19770903317243588,0.5820505519137525,0.7000403498804273,0.18687441456797468,-2.605904251516702,1.013838593924159,0.7048394896011076,-0.9700118607851692,1.4122071311811517,0.22121580587926673,1.2618498032297492,-0.5281752604894419,-0.7421908714692181,1.5430526507489388,1.6370858753648112,0.15153329405330462,-0.35805431200293014,-0.9283089709763265,0.3293002280206697,-0.04430655153238148,1.125980853731697,-0.8103951450968989,-0.636133320370373,-0.5840496782043829,0.2912078731205048,-0.5137033735673227,-0.5894102919320074,-0.44662329985137666,1.4453702578010075,-2.8820121087644,0.5943854382063423,-0.2507644033592735,-1.4506707195233537,-0.32976243758703705,-0.5173084332484963],\"xaxis\":\"x9\",\"y\":[0.25500841675327135,-2.0228296660047334,-1.5941368496927122,0.7566379326733458,0.09042462761333182,0.7880099583693712,0.33110955233396566,0.633630161318091,-3.104318720313925,0.15769519846695176,-0.01821056361192945,0.32975254187472197,0.6691148817820453,0.8882708461650792,0.32571083062195644,1.2969248124686905,-0.828469691493726,0.8186951502774704,-0.8481415447451287,-0.005448656858547519,-1.046985396498361,2.0876629941168403,-0.4932176461548644,-1.479742227493446,-0.893779716681242,1.059693973315859,-0.4218995577916561,0.3037603245140057,-0.295718885568225,-1.456631526768783,0.6726281780162228,-0.2513454101392943,-0.0029946532401559714,1.2223245878227034,-1.400357848874864,-0.9745231933933619,-0.7394884299589058,0.07692397890434306,-0.13916293510562336,1.0262265227965133,0.8681801213723014,-0.1558700044747346,0.8154873912086121,-0.040550112558222724,-0.022995195337995825,0.19472825145585765,-0.8294809719858296,0.253481929767634,-0.6680928324389981,-0.3741609826317901,-2.5647984075760584,1.202281009334771,1.5356448424278233,-0.658681268678709,0.98511260312972,-1.5569511626557264,0.6959850736666175,0.041869074233176394,-0.2940238445233744,-0.8855718078598309,-0.312486874051758,-1.2120957514801096,-0.0804516775894421,-0.06955069706107143,0.4213701146254383,-0.5824044836334542,0.3320929214372528,0.20034650112127014,1.139537356515105,-0.11636411784016422,-1.5580486253908081,0.4787958649368819,0.06371197852824667,-0.34365931506835834,0.6165488060556412,-0.9339932703085433,-1.2679418729267968,-0.37370211392929065,0.1553807466229721,-1.6790618079561024,-0.8153431874050666,0.027609721305113872,1.7125284633192528,0.477293575773967,-0.2107470140392488,1.2466380227088456,0.7268506778475627,1.1825032117586856,-0.19560223128214535,-0.6394964865536716,-0.33517501376555675,-1.4772991809849378,-0.3722722426648912,-0.03242252178216725,-0.11089344856880662,-0.08531307864935869,-0.04946493715695045,-0.15250410087849134,0.21164430464328296,-1.3243384652903012],\"yaxis\":\"y9\",\"type\":\"scatter\"},{\"line\":{\"color\":\"rgba(128, 128, 128, 1.0)\",\"dash\":\"solid\",\"shape\":\"linear\",\"width\":1.3},\"marker\":{\"size\":2,\"symbol\":\"circle\"},\"mode\":\"markers\",\"name\":\"C\",\"text\":\"\",\"x\":[1.452833408522823,-2.801289721404959,1.467471032771779,1.1075149196133212,0.5900621714557223,-0.28302847996604674,0.23427324061681518,-1.215558624206029,0.813168712095642,-0.27005007088545496,-0.38243213069474835,1.6853155435237392,-0.6607753287657827,-0.3472588976686309,0.6719544662985177,-1.2237508738534368,0.3183787636673109,-0.72535952550027,-0.26260020669625433,-0.850618401548025,-0.7274756636907109,1.1687905305044257,0.49469694638536177,-0.26871518589218507,0.15290598210181186,1.2097075310133023,1.000422474088806,0.3136146057400716,-0.2833208420357839,-0.1860803660624252,-0.9564691687831892,1.6672459232340364,0.6683703526469932,1.3610316950494012,-1.8351289950778071,0.2251323174580143,-0.5417476758860279,-1.0073462642598332,-0.38783816934944704,0.5531661483954752,-0.29784593859479686,0.27348929840642366,0.4691760622386405,-0.3761511711516631,-0.7725927101520446,-0.4637975839720279,-1.3947025101192394,-0.1830294614098356,1.625397974734619,0.7544921969987086,0.4104847513780054,-0.9092909463854356,1.171510476069789,0.5458990143642105,-0.5844526689136395,0.4425182954767783,-0.7817994944058249,1.0153723508764105,0.23275728789967648,-1.5989167066075543,1.1460289758089788,-0.7504446965323814,1.6300471548892737,-1.598248946404511,0.8595031406047959,0.16147366754361436,-0.45353015445403494,-0.31061877236519714,-0.6243507521232172,0.06250609987067719,-0.7759860097109451,-0.8472620099074127,1.5987177491523321,-1.1678132491490123,-1.247064428257644,-0.369826813335805,0.46232826804011073,1.7838081747848518,1.2909978570591278,-1.496859178399673,0.22001922625256887,-0.9113831617477044,0.49478127902387076,1.8100591568741062,1.0511618624121364,-0.8846969102030365,-0.861736858706487,-1.8399566183192644,-1.2004936606910546,-0.008772066069577691,-1.2661127544327189,0.12930024126805745,-0.9741132348621366,1.911126529769431,-0.8669170987643292,0.6705416816248445,0.7025783402266444,0.9783330874535535,0.13718527998129446,0.08864824382977793],\"xaxis\":\"x10\",\"y\":[0.25500841675327135,-2.0228296660047334,-1.5941368496927122,0.7566379326733458,0.09042462761333182,0.7880099583693712,0.33110955233396566,0.633630161318091,-3.104318720313925,0.15769519846695176,-0.01821056361192945,0.32975254187472197,0.6691148817820453,0.8882708461650792,0.32571083062195644,1.2969248124686905,-0.828469691493726,0.8186951502774704,-0.8481415447451287,-0.005448656858547519,-1.046985396498361,2.0876629941168403,-0.4932176461548644,-1.479742227493446,-0.893779716681242,1.059693973315859,-0.4218995577916561,0.3037603245140057,-0.295718885568225,-1.456631526768783,0.6726281780162228,-0.2513454101392943,-0.0029946532401559714,1.2223245878227034,-1.400357848874864,-0.9745231933933619,-0.7394884299589058,0.07692397890434306,-0.13916293510562336,1.0262265227965133,0.8681801213723014,-0.1558700044747346,0.8154873912086121,-0.040550112558222724,-0.022995195337995825,0.19472825145585765,-0.8294809719858296,0.253481929767634,-0.6680928324389981,-0.3741609826317901,-2.5647984075760584,1.202281009334771,1.5356448424278233,-0.658681268678709,0.98511260312972,-1.5569511626557264,0.6959850736666175,0.041869074233176394,-0.2940238445233744,-0.8855718078598309,-0.312486874051758,-1.2120957514801096,-0.0804516775894421,-0.06955069706107143,0.4213701146254383,-0.5824044836334542,0.3320929214372528,0.20034650112127014,1.139537356515105,-0.11636411784016422,-1.5580486253908081,0.4787958649368819,0.06371197852824667,-0.34365931506835834,0.6165488060556412,-0.9339932703085433,-1.2679418729267968,-0.37370211392929065,0.1553807466229721,-1.6790618079561024,-0.8153431874050666,0.027609721305113872,1.7125284633192528,0.477293575773967,-0.2107470140392488,1.2466380227088456,0.7268506778475627,1.1825032117586856,-0.19560223128214535,-0.6394964865536716,-0.33517501376555675,-1.4772991809849378,-0.3722722426648912,-0.03242252178216725,-0.11089344856880662,-0.08531307864935869,-0.04946493715695045,-0.15250410087849134,0.21164430464328296,-1.3243384652903012],\"yaxis\":\"y10\",\"type\":\"scatter\"},{\"histfunc\":\"count\",\"histnorm\":\"\",\"marker\":{\"color\":\"rgba(50, 171, 96, 1.0)\",\"line\":{\"color\":\"#4D5663\",\"width\":1.3}},\"name\":\"C\",\"nbinsx\":10,\"opacity\":0.8,\"orientation\":\"v\",\"x\":[0.25500841675327135,-2.0228296660047334,-1.5941368496927122,0.7566379326733458,0.09042462761333182,0.7880099583693712,0.33110955233396566,0.633630161318091,-3.104318720313925,0.15769519846695176,-0.01821056361192945,0.32975254187472197,0.6691148817820453,0.8882708461650792,0.32571083062195644,1.2969248124686905,-0.828469691493726,0.8186951502774704,-0.8481415447451287,-0.005448656858547519,-1.046985396498361,2.0876629941168403,-0.4932176461548644,-1.479742227493446,-0.893779716681242,1.059693973315859,-0.4218995577916561,0.3037603245140057,-0.295718885568225,-1.456631526768783,0.6726281780162228,-0.2513454101392943,-0.0029946532401559714,1.2223245878227034,-1.400357848874864,-0.9745231933933619,-0.7394884299589058,0.07692397890434306,-0.13916293510562336,1.0262265227965133,0.8681801213723014,-0.1558700044747346,0.8154873912086121,-0.040550112558222724,-0.022995195337995825,0.19472825145585765,-0.8294809719858296,0.253481929767634,-0.6680928324389981,-0.3741609826317901,-2.5647984075760584,1.202281009334771,1.5356448424278233,-0.658681268678709,0.98511260312972,-1.5569511626557264,0.6959850736666175,0.041869074233176394,-0.2940238445233744,-0.8855718078598309,-0.312486874051758,-1.2120957514801096,-0.0804516775894421,-0.06955069706107143,0.4213701146254383,-0.5824044836334542,0.3320929214372528,0.20034650112127014,1.139537356515105,-0.11636411784016422,-1.5580486253908081,0.4787958649368819,0.06371197852824667,-0.34365931506835834,0.6165488060556412,-0.9339932703085433,-1.2679418729267968,-0.37370211392929065,0.1553807466229721,-1.6790618079561024,-0.8153431874050666,0.027609721305113872,1.7125284633192528,0.477293575773967,-0.2107470140392488,1.2466380227088456,0.7268506778475627,1.1825032117586856,-0.19560223128214535,-0.6394964865536716,-0.33517501376555675,-1.4772991809849378,-0.3722722426648912,-0.03242252178216725,-0.11089344856880662,-0.08531307864935869,-0.04946493715695045,-0.15250410087849134,0.21164430464328296,-1.3243384652903012],\"xaxis\":\"x11\",\"yaxis\":\"y11\",\"type\":\"histogram\"},{\"line\":{\"color\":\"rgba(128, 128, 128, 1.0)\",\"dash\":\"solid\",\"shape\":\"linear\",\"width\":1.3},\"marker\":{\"size\":2,\"symbol\":\"circle\"},\"mode\":\"markers\",\"name\":\"C\",\"text\":\"\",\"x\":[0.1852673937213632,-0.44345827589806286,0.23273235167467715,-1.4903533275627932,0.2684902198097901,-0.686946223039476,-1.569611132126099,-0.8268636691466774,-0.047241527713950904,0.3700385806309308,-0.12732821435940275,-0.05036277629562494,-0.23921120887225938,-1.4846129257255232,0.9073179324373805,-0.5060076669401903,-0.4252614976966761,0.8346728660773869,-0.8427060950773964,-0.6135320914829894,-0.21523062705508028,0.5190812206976291,-0.9747123694425338,0.6537487327723273,2.322045329576906,1.413449387959019,0.34455620354785615,0.3188526310664666,0.7529156688198151,-0.33504683404000546,-0.8437176298130339,0.317721829730343,-1.2661495137545982,-0.0691429255933767,-0.8604798829031324,2.244452010671782,-0.15145796577193404,-0.07665135642775489,0.9513143318656485,-0.7160571745760614,-0.29852813553670526,-0.8587877409131487,-1.4672603813825607,1.0988442496704036,2.2760038379975467,1.6788414832474532,0.3726091108126695,0.7095174950341702,0.24877327374638,-0.36465139177197653,1.2706006745818645,1.5503467450343724,-0.31556209173554794,0.14718624186491758,0.3107995244034444,-0.5392879787433942,-1.129334155516057,-1.9162127924810703,-2.1991377381215975,-0.011759833599251049,0.8752288310754693,0.29250397526317556,1.5709858892377442,0.7655654796656748,-0.39031204352562565,-0.05988632666417284,-0.40006195094696545,-0.44417344480293425,0.49296792393382693,0.8103708801937014,-0.6640410877996384,-0.908551237967371,-1.1917658635528445,-1.2482720132411318,1.562451015147158,0.8826104656621604,-0.036813081581456845,-0.20533878048949492,-1.5318890996535242,-1.227574563627396,-0.3059276791424916,-0.25738907516547643,-0.6834027796862429,0.14073356590044747,-0.4964738906067588,0.1674286564235268,-1.941966835411613,0.8441767911667543,0.6505909193640828,0.5297311519789127,1.771393610824138,0.5653915202360102,-0.5629050155770081,-0.15828529933860774,1.3641429553783466,-0.7657757222716708,0.057515198937703314,-0.8389954153033105,0.47748464268948704,-2.0329806242365693],\"xaxis\":\"x12\",\"y\":[0.25500841675327135,-2.0228296660047334,-1.5941368496927122,0.7566379326733458,0.09042462761333182,0.7880099583693712,0.33110955233396566,0.633630161318091,-3.104318720313925,0.15769519846695176,-0.01821056361192945,0.32975254187472197,0.6691148817820453,0.8882708461650792,0.32571083062195644,1.2969248124686905,-0.828469691493726,0.8186951502774704,-0.8481415447451287,-0.005448656858547519,-1.046985396498361,2.0876629941168403,-0.4932176461548644,-1.479742227493446,-0.893779716681242,1.059693973315859,-0.4218995577916561,0.3037603245140057,-0.295718885568225,-1.456631526768783,0.6726281780162228,-0.2513454101392943,-0.0029946532401559714,1.2223245878227034,-1.400357848874864,-0.9745231933933619,-0.7394884299589058,0.07692397890434306,-0.13916293510562336,1.0262265227965133,0.8681801213723014,-0.1558700044747346,0.8154873912086121,-0.040550112558222724,-0.022995195337995825,0.19472825145585765,-0.8294809719858296,0.253481929767634,-0.6680928324389981,-0.3741609826317901,-2.5647984075760584,1.202281009334771,1.5356448424278233,-0.658681268678709,0.98511260312972,-1.5569511626557264,0.6959850736666175,0.041869074233176394,-0.2940238445233744,-0.8855718078598309,-0.312486874051758,-1.2120957514801096,-0.0804516775894421,-0.06955069706107143,0.4213701146254383,-0.5824044836334542,0.3320929214372528,0.20034650112127014,1.139537356515105,-0.11636411784016422,-1.5580486253908081,0.4787958649368819,0.06371197852824667,-0.34365931506835834,0.6165488060556412,-0.9339932703085433,-1.2679418729267968,-0.37370211392929065,0.1553807466229721,-1.6790618079561024,-0.8153431874050666,0.027609721305113872,1.7125284633192528,0.477293575773967,-0.2107470140392488,1.2466380227088456,0.7268506778475627,1.1825032117586856,-0.19560223128214535,-0.6394964865536716,-0.33517501376555675,-1.4772991809849378,-0.3722722426648912,-0.03242252178216725,-0.11089344856880662,-0.08531307864935869,-0.04946493715695045,-0.15250410087849134,0.21164430464328296,-1.3243384652903012],\"yaxis\":\"y12\",\"type\":\"scatter\"},{\"line\":{\"color\":\"rgba(128, 128, 128, 1.0)\",\"dash\":\"solid\",\"shape\":\"linear\",\"width\":1.3},\"marker\":{\"size\":2,\"symbol\":\"circle\"},\"mode\":\"markers\",\"name\":\"D\",\"text\":\"\",\"x\":[-0.05559180576518184,0.5620453907383516,-1.7899404051407906,1.500518268376267,0.7528373449617896,-1.1771597300556,1.97138381329973,0.3020214150295912,-1.9247991418812365,0.709441640718662,-0.01703638589202485,0.8199877942986776,0.5591157966803538,-0.07831734859886214,2.0263777208694695,-0.07574584864740508,-0.396370799265584,0.4191186184191619,0.9098700431175843,-1.0431608126404592,-1.7937637698431927,0.3067825397453611,0.2691059102780455,-0.31836442674890625,0.24337795539086785,0.512773733565278,-1.4073754758808312,0.5457544007462951,-0.6571845396135951,-2.0639373239813503,-1.4468588683638646,-0.9789754188086063,-2.1306056808379563,-0.20480729972649234,-0.8222382380694211,-0.33300118314536314,-0.29784234037258445,0.5307423401569827,0.15380642956204912,-0.1188208875107539,-0.8383589645894698,-0.5427105997081095,2.488310572074583,-0.2645552704783902,-0.45784207536797183,-1.8720226996945561,-0.7221199763313748,0.7303713162051148,-0.5675927577151667,0.2743443549958475,-0.8363932058173486,-0.197070058476929,-0.20013495199757259,-2.245092326684816,0.5943639003035389,-2.4438290349158693,-2.312513093070422,-0.10226142096044005,-0.3540991820914685,1.1846112283224697,0.5785961937800251,0.9454529767507993,-0.9378679023799694,2.252026617954698,0.8836245400728469,0.19770903317243588,0.5820505519137525,0.7000403498804273,0.18687441456797468,-2.605904251516702,1.013838593924159,0.7048394896011076,-0.9700118607851692,1.4122071311811517,0.22121580587926673,1.2618498032297492,-0.5281752604894419,-0.7421908714692181,1.5430526507489388,1.6370858753648112,0.15153329405330462,-0.35805431200293014,-0.9283089709763265,0.3293002280206697,-0.04430655153238148,1.125980853731697,-0.8103951450968989,-0.636133320370373,-0.5840496782043829,0.2912078731205048,-0.5137033735673227,-0.5894102919320074,-0.44662329985137666,1.4453702578010075,-2.8820121087644,0.5943854382063423,-0.2507644033592735,-1.4506707195233537,-0.32976243758703705,-0.5173084332484963],\"xaxis\":\"x13\",\"y\":[0.1852673937213632,-0.44345827589806286,0.23273235167467715,-1.4903533275627932,0.2684902198097901,-0.686946223039476,-1.569611132126099,-0.8268636691466774,-0.047241527713950904,0.3700385806309308,-0.12732821435940275,-0.05036277629562494,-0.23921120887225938,-1.4846129257255232,0.9073179324373805,-0.5060076669401903,-0.4252614976966761,0.8346728660773869,-0.8427060950773964,-0.6135320914829894,-0.21523062705508028,0.5190812206976291,-0.9747123694425338,0.6537487327723273,2.322045329576906,1.413449387959019,0.34455620354785615,0.3188526310664666,0.7529156688198151,-0.33504683404000546,-0.8437176298130339,0.317721829730343,-1.2661495137545982,-0.0691429255933767,-0.8604798829031324,2.244452010671782,-0.15145796577193404,-0.07665135642775489,0.9513143318656485,-0.7160571745760614,-0.29852813553670526,-0.8587877409131487,-1.4672603813825607,1.0988442496704036,2.2760038379975467,1.6788414832474532,0.3726091108126695,0.7095174950341702,0.24877327374638,-0.36465139177197653,1.2706006745818645,1.5503467450343724,-0.31556209173554794,0.14718624186491758,0.3107995244034444,-0.5392879787433942,-1.129334155516057,-1.9162127924810703,-2.1991377381215975,-0.011759833599251049,0.8752288310754693,0.29250397526317556,1.5709858892377442,0.7655654796656748,-0.39031204352562565,-0.05988632666417284,-0.40006195094696545,-0.44417344480293425,0.49296792393382693,0.8103708801937014,-0.6640410877996384,-0.908551237967371,-1.1917658635528445,-1.2482720132411318,1.562451015147158,0.8826104656621604,-0.036813081581456845,-0.20533878048949492,-1.5318890996535242,-1.227574563627396,-0.3059276791424916,-0.25738907516547643,-0.6834027796862429,0.14073356590044747,-0.4964738906067588,0.1674286564235268,-1.941966835411613,0.8441767911667543,0.6505909193640828,0.5297311519789127,1.771393610824138,0.5653915202360102,-0.5629050155770081,-0.15828529933860774,1.3641429553783466,-0.7657757222716708,0.057515198937703314,-0.8389954153033105,0.47748464268948704,-2.0329806242365693],\"yaxis\":\"y13\",\"type\":\"scatter\"},{\"line\":{\"color\":\"rgba(128, 128, 128, 1.0)\",\"dash\":\"solid\",\"shape\":\"linear\",\"width\":1.3},\"marker\":{\"size\":2,\"symbol\":\"circle\"},\"mode\":\"markers\",\"name\":\"D\",\"text\":\"\",\"x\":[1.452833408522823,-2.801289721404959,1.467471032771779,1.1075149196133212,0.5900621714557223,-0.28302847996604674,0.23427324061681518,-1.215558624206029,0.813168712095642,-0.27005007088545496,-0.38243213069474835,1.6853155435237392,-0.6607753287657827,-0.3472588976686309,0.6719544662985177,-1.2237508738534368,0.3183787636673109,-0.72535952550027,-0.26260020669625433,-0.850618401548025,-0.7274756636907109,1.1687905305044257,0.49469694638536177,-0.26871518589218507,0.15290598210181186,1.2097075310133023,1.000422474088806,0.3136146057400716,-0.2833208420357839,-0.1860803660624252,-0.9564691687831892,1.6672459232340364,0.6683703526469932,1.3610316950494012,-1.8351289950778071,0.2251323174580143,-0.5417476758860279,-1.0073462642598332,-0.38783816934944704,0.5531661483954752,-0.29784593859479686,0.27348929840642366,0.4691760622386405,-0.3761511711516631,-0.7725927101520446,-0.4637975839720279,-1.3947025101192394,-0.1830294614098356,1.625397974734619,0.7544921969987086,0.4104847513780054,-0.9092909463854356,1.171510476069789,0.5458990143642105,-0.5844526689136395,0.4425182954767783,-0.7817994944058249,1.0153723508764105,0.23275728789967648,-1.5989167066075543,1.1460289758089788,-0.7504446965323814,1.6300471548892737,-1.598248946404511,0.8595031406047959,0.16147366754361436,-0.45353015445403494,-0.31061877236519714,-0.6243507521232172,0.06250609987067719,-0.7759860097109451,-0.8472620099074127,1.5987177491523321,-1.1678132491490123,-1.247064428257644,-0.369826813335805,0.46232826804011073,1.7838081747848518,1.2909978570591278,-1.496859178399673,0.22001922625256887,-0.9113831617477044,0.49478127902387076,1.8100591568741062,1.0511618624121364,-0.8846969102030365,-0.861736858706487,-1.8399566183192644,-1.2004936606910546,-0.008772066069577691,-1.2661127544327189,0.12930024126805745,-0.9741132348621366,1.911126529769431,-0.8669170987643292,0.6705416816248445,0.7025783402266444,0.9783330874535535,0.13718527998129446,0.08864824382977793],\"xaxis\":\"x14\",\"y\":[0.1852673937213632,-0.44345827589806286,0.23273235167467715,-1.4903533275627932,0.2684902198097901,-0.686946223039476,-1.569611132126099,-0.8268636691466774,-0.047241527713950904,0.3700385806309308,-0.12732821435940275,-0.05036277629562494,-0.23921120887225938,-1.4846129257255232,0.9073179324373805,-0.5060076669401903,-0.4252614976966761,0.8346728660773869,-0.8427060950773964,-0.6135320914829894,-0.21523062705508028,0.5190812206976291,-0.9747123694425338,0.6537487327723273,2.322045329576906,1.413449387959019,0.34455620354785615,0.3188526310664666,0.7529156688198151,-0.33504683404000546,-0.8437176298130339,0.317721829730343,-1.2661495137545982,-0.0691429255933767,-0.8604798829031324,2.244452010671782,-0.15145796577193404,-0.07665135642775489,0.9513143318656485,-0.7160571745760614,-0.29852813553670526,-0.8587877409131487,-1.4672603813825607,1.0988442496704036,2.2760038379975467,1.6788414832474532,0.3726091108126695,0.7095174950341702,0.24877327374638,-0.36465139177197653,1.2706006745818645,1.5503467450343724,-0.31556209173554794,0.14718624186491758,0.3107995244034444,-0.5392879787433942,-1.129334155516057,-1.9162127924810703,-2.1991377381215975,-0.011759833599251049,0.8752288310754693,0.29250397526317556,1.5709858892377442,0.7655654796656748,-0.39031204352562565,-0.05988632666417284,-0.40006195094696545,-0.44417344480293425,0.49296792393382693,0.8103708801937014,-0.6640410877996384,-0.908551237967371,-1.1917658635528445,-1.2482720132411318,1.562451015147158,0.8826104656621604,-0.036813081581456845,-0.20533878048949492,-1.5318890996535242,-1.227574563627396,-0.3059276791424916,-0.25738907516547643,-0.6834027796862429,0.14073356590044747,-0.4964738906067588,0.1674286564235268,-1.941966835411613,0.8441767911667543,0.6505909193640828,0.5297311519789127,1.771393610824138,0.5653915202360102,-0.5629050155770081,-0.15828529933860774,1.3641429553783466,-0.7657757222716708,0.057515198937703314,-0.8389954153033105,0.47748464268948704,-2.0329806242365693],\"yaxis\":\"y14\",\"type\":\"scatter\"},{\"line\":{\"color\":\"rgba(128, 128, 128, 1.0)\",\"dash\":\"solid\",\"shape\":\"linear\",\"width\":1.3},\"marker\":{\"size\":2,\"symbol\":\"circle\"},\"mode\":\"markers\",\"name\":\"D\",\"text\":\"\",\"x\":[0.25500841675327135,-2.0228296660047334,-1.5941368496927122,0.7566379326733458,0.09042462761333182,0.7880099583693712,0.33110955233396566,0.633630161318091,-3.104318720313925,0.15769519846695176,-0.01821056361192945,0.32975254187472197,0.6691148817820453,0.8882708461650792,0.32571083062195644,1.2969248124686905,-0.828469691493726,0.8186951502774704,-0.8481415447451287,-0.005448656858547519,-1.046985396498361,2.0876629941168403,-0.4932176461548644,-1.479742227493446,-0.893779716681242,1.059693973315859,-0.4218995577916561,0.3037603245140057,-0.295718885568225,-1.456631526768783,0.6726281780162228,-0.2513454101392943,-0.0029946532401559714,1.2223245878227034,-1.400357848874864,-0.9745231933933619,-0.7394884299589058,0.07692397890434306,-0.13916293510562336,1.0262265227965133,0.8681801213723014,-0.1558700044747346,0.8154873912086121,-0.040550112558222724,-0.022995195337995825,0.19472825145585765,-0.8294809719858296,0.253481929767634,-0.6680928324389981,-0.3741609826317901,-2.5647984075760584,1.202281009334771,1.5356448424278233,-0.658681268678709,0.98511260312972,-1.5569511626557264,0.6959850736666175,0.041869074233176394,-0.2940238445233744,-0.8855718078598309,-0.312486874051758,-1.2120957514801096,-0.0804516775894421,-0.06955069706107143,0.4213701146254383,-0.5824044836334542,0.3320929214372528,0.20034650112127014,1.139537356515105,-0.11636411784016422,-1.5580486253908081,0.4787958649368819,0.06371197852824667,-0.34365931506835834,0.6165488060556412,-0.9339932703085433,-1.2679418729267968,-0.37370211392929065,0.1553807466229721,-1.6790618079561024,-0.8153431874050666,0.027609721305113872,1.7125284633192528,0.477293575773967,-0.2107470140392488,1.2466380227088456,0.7268506778475627,1.1825032117586856,-0.19560223128214535,-0.6394964865536716,-0.33517501376555675,-1.4772991809849378,-0.3722722426648912,-0.03242252178216725,-0.11089344856880662,-0.08531307864935869,-0.04946493715695045,-0.15250410087849134,0.21164430464328296,-1.3243384652903012],\"xaxis\":\"x15\",\"y\":[0.1852673937213632,-0.44345827589806286,0.23273235167467715,-1.4903533275627932,0.2684902198097901,-0.686946223039476,-1.569611132126099,-0.8268636691466774,-0.047241527713950904,0.3700385806309308,-0.12732821435940275,-0.05036277629562494,-0.23921120887225938,-1.4846129257255232,0.9073179324373805,-0.5060076669401903,-0.4252614976966761,0.8346728660773869,-0.8427060950773964,-0.6135320914829894,-0.21523062705508028,0.5190812206976291,-0.9747123694425338,0.6537487327723273,2.322045329576906,1.413449387959019,0.34455620354785615,0.3188526310664666,0.7529156688198151,-0.33504683404000546,-0.8437176298130339,0.317721829730343,-1.2661495137545982,-0.0691429255933767,-0.8604798829031324,2.244452010671782,-0.15145796577193404,-0.07665135642775489,0.9513143318656485,-0.7160571745760614,-0.29852813553670526,-0.8587877409131487,-1.4672603813825607,1.0988442496704036,2.2760038379975467,1.6788414832474532,0.3726091108126695,0.7095174950341702,0.24877327374638,-0.36465139177197653,1.2706006745818645,1.5503467450343724,-0.31556209173554794,0.14718624186491758,0.3107995244034444,-0.5392879787433942,-1.129334155516057,-1.9162127924810703,-2.1991377381215975,-0.011759833599251049,0.8752288310754693,0.29250397526317556,1.5709858892377442,0.7655654796656748,-0.39031204352562565,-0.05988632666417284,-0.40006195094696545,-0.44417344480293425,0.49296792393382693,0.8103708801937014,-0.6640410877996384,-0.908551237967371,-1.1917658635528445,-1.2482720132411318,1.562451015147158,0.8826104656621604,-0.036813081581456845,-0.20533878048949492,-1.5318890996535242,-1.227574563627396,-0.3059276791424916,-0.25738907516547643,-0.6834027796862429,0.14073356590044747,-0.4964738906067588,0.1674286564235268,-1.941966835411613,0.8441767911667543,0.6505909193640828,0.5297311519789127,1.771393610824138,0.5653915202360102,-0.5629050155770081,-0.15828529933860774,1.3641429553783466,-0.7657757222716708,0.057515198937703314,-0.8389954153033105,0.47748464268948704,-2.0329806242365693],\"yaxis\":\"y15\",\"type\":\"scatter\"},{\"histfunc\":\"count\",\"histnorm\":\"\",\"marker\":{\"color\":\"rgba(128, 0, 128, 1.0)\",\"line\":{\"color\":\"#4D5663\",\"width\":1.3}},\"name\":\"D\",\"nbinsx\":10,\"opacity\":0.8,\"orientation\":\"v\",\"x\":[0.1852673937213632,-0.44345827589806286,0.23273235167467715,-1.4903533275627932,0.2684902198097901,-0.686946223039476,-1.569611132126099,-0.8268636691466774,-0.047241527713950904,0.3700385806309308,-0.12732821435940275,-0.05036277629562494,-0.23921120887225938,-1.4846129257255232,0.9073179324373805,-0.5060076669401903,-0.4252614976966761,0.8346728660773869,-0.8427060950773964,-0.6135320914829894,-0.21523062705508028,0.5190812206976291,-0.9747123694425338,0.6537487327723273,2.322045329576906,1.413449387959019,0.34455620354785615,0.3188526310664666,0.7529156688198151,-0.33504683404000546,-0.8437176298130339,0.317721829730343,-1.2661495137545982,-0.0691429255933767,-0.8604798829031324,2.244452010671782,-0.15145796577193404,-0.07665135642775489,0.9513143318656485,-0.7160571745760614,-0.29852813553670526,-0.8587877409131487,-1.4672603813825607,1.0988442496704036,2.2760038379975467,1.6788414832474532,0.3726091108126695,0.7095174950341702,0.24877327374638,-0.36465139177197653,1.2706006745818645,1.5503467450343724,-0.31556209173554794,0.14718624186491758,0.3107995244034444,-0.5392879787433942,-1.129334155516057,-1.9162127924810703,-2.1991377381215975,-0.011759833599251049,0.8752288310754693,0.29250397526317556,1.5709858892377442,0.7655654796656748,-0.39031204352562565,-0.05988632666417284,-0.40006195094696545,-0.44417344480293425,0.49296792393382693,0.8103708801937014,-0.6640410877996384,-0.908551237967371,-1.1917658635528445,-1.2482720132411318,1.562451015147158,0.8826104656621604,-0.036813081581456845,-0.20533878048949492,-1.5318890996535242,-1.227574563627396,-0.3059276791424916,-0.25738907516547643,-0.6834027796862429,0.14073356590044747,-0.4964738906067588,0.1674286564235268,-1.941966835411613,0.8441767911667543,0.6505909193640828,0.5297311519789127,1.771393610824138,0.5653915202360102,-0.5629050155770081,-0.15828529933860774,1.3641429553783466,-0.7657757222716708,0.057515198937703314,-0.8389954153033105,0.47748464268948704,-2.0329806242365693],\"xaxis\":\"x16\",\"yaxis\":\"y16\",\"type\":\"histogram\"}],                        {\"bargap\":0.02,\"legend\":{\"bgcolor\":\"#F5F6F9\",\"font\":{\"color\":\"#4D5663\"}},\"paper_bgcolor\":\"#F5F6F9\",\"plot_bgcolor\":\"#F5F6F9\",\"showlegend\":false,\"template\":{\"data\":{\"barpolar\":[{\"marker\":{\"line\":{\"color\":\"#E5ECF6\",\"width\":0.5},\"pattern\":{\"fillmode\":\"overlay\",\"size\":10,\"solidity\":0.2}},\"type\":\"barpolar\"}],\"bar\":[{\"error_x\":{\"color\":\"#2a3f5f\"},\"error_y\":{\"color\":\"#2a3f5f\"},\"marker\":{\"line\":{\"color\":\"#E5ECF6\",\"width\":0.5},\"pattern\":{\"fillmode\":\"overlay\",\"size\":10,\"solidity\":0.2}},\"type\":\"bar\"}],\"carpet\":[{\"aaxis\":{\"endlinecolor\":\"#2a3f5f\",\"gridcolor\":\"white\",\"linecolor\":\"white\",\"minorgridcolor\":\"white\",\"startlinecolor\":\"#2a3f5f\"},\"baxis\":{\"endlinecolor\":\"#2a3f5f\",\"gridcolor\":\"white\",\"linecolor\":\"white\",\"minorgridcolor\":\"white\",\"startlinecolor\":\"#2a3f5f\"},\"type\":\"carpet\"}],\"choropleth\":[{\"colorbar\":{\"outlinewidth\":0,\"ticks\":\"\"},\"type\":\"choropleth\"}],\"contourcarpet\":[{\"colorbar\":{\"outlinewidth\":0,\"ticks\":\"\"},\"type\":\"contourcarpet\"}],\"contour\":[{\"colorbar\":{\"outlinewidth\":0,\"ticks\":\"\"},\"colorscale\":[[0.0,\"#0d0887\"],[0.1111111111111111,\"#46039f\"],[0.2222222222222222,\"#7201a8\"],[0.3333333333333333,\"#9c179e\"],[0.4444444444444444,\"#bd3786\"],[0.5555555555555556,\"#d8576b\"],[0.6666666666666666,\"#ed7953\"],[0.7777777777777778,\"#fb9f3a\"],[0.8888888888888888,\"#fdca26\"],[1.0,\"#f0f921\"]],\"type\":\"contour\"}],\"heatmapgl\":[{\"colorbar\":{\"outlinewidth\":0,\"ticks\":\"\"},\"colorscale\":[[0.0,\"#0d0887\"],[0.1111111111111111,\"#46039f\"],[0.2222222222222222,\"#7201a8\"],[0.3333333333333333,\"#9c179e\"],[0.4444444444444444,\"#bd3786\"],[0.5555555555555556,\"#d8576b\"],[0.6666666666666666,\"#ed7953\"],[0.7777777777777778,\"#fb9f3a\"],[0.8888888888888888,\"#fdca26\"],[1.0,\"#f0f921\"]],\"type\":\"heatmapgl\"}],\"heatmap\":[{\"colorbar\":{\"outlinewidth\":0,\"ticks\":\"\"},\"colorscale\":[[0.0,\"#0d0887\"],[0.1111111111111111,\"#46039f\"],[0.2222222222222222,\"#7201a8\"],[0.3333333333333333,\"#9c179e\"],[0.4444444444444444,\"#bd3786\"],[0.5555555555555556,\"#d8576b\"],[0.6666666666666666,\"#ed7953\"],[0.7777777777777778,\"#fb9f3a\"],[0.8888888888888888,\"#fdca26\"],[1.0,\"#f0f921\"]],\"type\":\"heatmap\"}],\"histogram2dcontour\":[{\"colorbar\":{\"outlinewidth\":0,\"ticks\":\"\"},\"colorscale\":[[0.0,\"#0d0887\"],[0.1111111111111111,\"#46039f\"],[0.2222222222222222,\"#7201a8\"],[0.3333333333333333,\"#9c179e\"],[0.4444444444444444,\"#bd3786\"],[0.5555555555555556,\"#d8576b\"],[0.6666666666666666,\"#ed7953\"],[0.7777777777777778,\"#fb9f3a\"],[0.8888888888888888,\"#fdca26\"],[1.0,\"#f0f921\"]],\"type\":\"histogram2dcontour\"}],\"histogram2d\":[{\"colorbar\":{\"outlinewidth\":0,\"ticks\":\"\"},\"colorscale\":[[0.0,\"#0d0887\"],[0.1111111111111111,\"#46039f\"],[0.2222222222222222,\"#7201a8\"],[0.3333333333333333,\"#9c179e\"],[0.4444444444444444,\"#bd3786\"],[0.5555555555555556,\"#d8576b\"],[0.6666666666666666,\"#ed7953\"],[0.7777777777777778,\"#fb9f3a\"],[0.8888888888888888,\"#fdca26\"],[1.0,\"#f0f921\"]],\"type\":\"histogram2d\"}],\"histogram\":[{\"marker\":{\"pattern\":{\"fillmode\":\"overlay\",\"size\":10,\"solidity\":0.2}},\"type\":\"histogram\"}],\"mesh3d\":[{\"colorbar\":{\"outlinewidth\":0,\"ticks\":\"\"},\"type\":\"mesh3d\"}],\"parcoords\":[{\"line\":{\"colorbar\":{\"outlinewidth\":0,\"ticks\":\"\"}},\"type\":\"parcoords\"}],\"pie\":[{\"automargin\":true,\"type\":\"pie\"}],\"scatter3d\":[{\"line\":{\"colorbar\":{\"outlinewidth\":0,\"ticks\":\"\"}},\"marker\":{\"colorbar\":{\"outlinewidth\":0,\"ticks\":\"\"}},\"type\":\"scatter3d\"}],\"scattercarpet\":[{\"marker\":{\"colorbar\":{\"outlinewidth\":0,\"ticks\":\"\"}},\"type\":\"scattercarpet\"}],\"scattergeo\":[{\"marker\":{\"colorbar\":{\"outlinewidth\":0,\"ticks\":\"\"}},\"type\":\"scattergeo\"}],\"scattergl\":[{\"marker\":{\"colorbar\":{\"outlinewidth\":0,\"ticks\":\"\"}},\"type\":\"scattergl\"}],\"scattermapbox\":[{\"marker\":{\"colorbar\":{\"outlinewidth\":0,\"ticks\":\"\"}},\"type\":\"scattermapbox\"}],\"scatterpolargl\":[{\"marker\":{\"colorbar\":{\"outlinewidth\":0,\"ticks\":\"\"}},\"type\":\"scatterpolargl\"}],\"scatterpolar\":[{\"marker\":{\"colorbar\":{\"outlinewidth\":0,\"ticks\":\"\"}},\"type\":\"scatterpolar\"}],\"scatter\":[{\"fillpattern\":{\"fillmode\":\"overlay\",\"size\":10,\"solidity\":0.2},\"type\":\"scatter\"}],\"scatterternary\":[{\"marker\":{\"colorbar\":{\"outlinewidth\":0,\"ticks\":\"\"}},\"type\":\"scatterternary\"}],\"surface\":[{\"colorbar\":{\"outlinewidth\":0,\"ticks\":\"\"},\"colorscale\":[[0.0,\"#0d0887\"],[0.1111111111111111,\"#46039f\"],[0.2222222222222222,\"#7201a8\"],[0.3333333333333333,\"#9c179e\"],[0.4444444444444444,\"#bd3786\"],[0.5555555555555556,\"#d8576b\"],[0.6666666666666666,\"#ed7953\"],[0.7777777777777778,\"#fb9f3a\"],[0.8888888888888888,\"#fdca26\"],[1.0,\"#f0f921\"]],\"type\":\"surface\"}],\"table\":[{\"cells\":{\"fill\":{\"color\":\"#EBF0F8\"},\"line\":{\"color\":\"white\"}},\"header\":{\"fill\":{\"color\":\"#C8D4E3\"},\"line\":{\"color\":\"white\"}},\"type\":\"table\"}]},\"layout\":{\"annotationdefaults\":{\"arrowcolor\":\"#2a3f5f\",\"arrowhead\":0,\"arrowwidth\":1},\"autotypenumbers\":\"strict\",\"coloraxis\":{\"colorbar\":{\"outlinewidth\":0,\"ticks\":\"\"}},\"colorscale\":{\"diverging\":[[0,\"#8e0152\"],[0.1,\"#c51b7d\"],[0.2,\"#de77ae\"],[0.3,\"#f1b6da\"],[0.4,\"#fde0ef\"],[0.5,\"#f7f7f7\"],[0.6,\"#e6f5d0\"],[0.7,\"#b8e186\"],[0.8,\"#7fbc41\"],[0.9,\"#4d9221\"],[1,\"#276419\"]],\"sequential\":[[0.0,\"#0d0887\"],[0.1111111111111111,\"#46039f\"],[0.2222222222222222,\"#7201a8\"],[0.3333333333333333,\"#9c179e\"],[0.4444444444444444,\"#bd3786\"],[0.5555555555555556,\"#d8576b\"],[0.6666666666666666,\"#ed7953\"],[0.7777777777777778,\"#fb9f3a\"],[0.8888888888888888,\"#fdca26\"],[1.0,\"#f0f921\"]],\"sequentialminus\":[[0.0,\"#0d0887\"],[0.1111111111111111,\"#46039f\"],[0.2222222222222222,\"#7201a8\"],[0.3333333333333333,\"#9c179e\"],[0.4444444444444444,\"#bd3786\"],[0.5555555555555556,\"#d8576b\"],[0.6666666666666666,\"#ed7953\"],[0.7777777777777778,\"#fb9f3a\"],[0.8888888888888888,\"#fdca26\"],[1.0,\"#f0f921\"]]},\"colorway\":[\"#636efa\",\"#EF553B\",\"#00cc96\",\"#ab63fa\",\"#FFA15A\",\"#19d3f3\",\"#FF6692\",\"#B6E880\",\"#FF97FF\",\"#FECB52\"],\"font\":{\"color\":\"#2a3f5f\"},\"geo\":{\"bgcolor\":\"white\",\"lakecolor\":\"white\",\"landcolor\":\"#E5ECF6\",\"showlakes\":true,\"showland\":true,\"subunitcolor\":\"white\"},\"hoverlabel\":{\"align\":\"left\"},\"hovermode\":\"closest\",\"mapbox\":{\"style\":\"light\"},\"paper_bgcolor\":\"white\",\"plot_bgcolor\":\"#E5ECF6\",\"polar\":{\"angularaxis\":{\"gridcolor\":\"white\",\"linecolor\":\"white\",\"ticks\":\"\"},\"bgcolor\":\"#E5ECF6\",\"radialaxis\":{\"gridcolor\":\"white\",\"linecolor\":\"white\",\"ticks\":\"\"}},\"scene\":{\"xaxis\":{\"backgroundcolor\":\"#E5ECF6\",\"gridcolor\":\"white\",\"gridwidth\":2,\"linecolor\":\"white\",\"showbackground\":true,\"ticks\":\"\",\"zerolinecolor\":\"white\"},\"yaxis\":{\"backgroundcolor\":\"#E5ECF6\",\"gridcolor\":\"white\",\"gridwidth\":2,\"linecolor\":\"white\",\"showbackground\":true,\"ticks\":\"\",\"zerolinecolor\":\"white\"},\"zaxis\":{\"backgroundcolor\":\"#E5ECF6\",\"gridcolor\":\"white\",\"gridwidth\":2,\"linecolor\":\"white\",\"showbackground\":true,\"ticks\":\"\",\"zerolinecolor\":\"white\"}},\"shapedefaults\":{\"line\":{\"color\":\"#2a3f5f\"}},\"ternary\":{\"aaxis\":{\"gridcolor\":\"white\",\"linecolor\":\"white\",\"ticks\":\"\"},\"baxis\":{\"gridcolor\":\"white\",\"linecolor\":\"white\",\"ticks\":\"\"},\"bgcolor\":\"#E5ECF6\",\"caxis\":{\"gridcolor\":\"white\",\"linecolor\":\"white\",\"ticks\":\"\"}},\"title\":{\"x\":0.05},\"xaxis\":{\"automargin\":true,\"gridcolor\":\"white\",\"linecolor\":\"white\",\"ticks\":\"\",\"title\":{\"standoff\":15},\"zerolinecolor\":\"white\",\"zerolinewidth\":2},\"yaxis\":{\"automargin\":true,\"gridcolor\":\"white\",\"linecolor\":\"white\",\"ticks\":\"\",\"title\":{\"standoff\":15},\"zerolinecolor\":\"white\",\"zerolinewidth\":2}}},\"title\":{\"font\":{\"color\":\"#4D5663\"}},\"xaxis\":{\"anchor\":\"y\",\"domain\":[0.0,0.2125],\"gridcolor\":\"#E1E5ED\",\"showgrid\":false,\"tickfont\":{\"color\":\"#4D5663\"},\"title\":{\"font\":{\"color\":\"#4D5663\"},\"text\":\"\"},\"zerolinecolor\":\"#E1E5ED\"},\"yaxis\":{\"anchor\":\"x\",\"domain\":[0.8025,1.0],\"gridcolor\":\"#E1E5ED\",\"showgrid\":false,\"tickfont\":{\"color\":\"#4D5663\"},\"title\":{\"font\":{\"color\":\"#4D5663\"},\"text\":\"\"},\"zerolinecolor\":\"#E1E5ED\"},\"xaxis2\":{\"anchor\":\"y2\",\"domain\":[0.2625,0.475],\"gridcolor\":\"#E1E5ED\",\"showgrid\":false,\"tickfont\":{\"color\":\"#4D5663\"},\"title\":{\"font\":{\"color\":\"#4D5663\"},\"text\":\"\"},\"zerolinecolor\":\"#E1E5ED\"},\"yaxis2\":{\"anchor\":\"x2\",\"domain\":[0.8025,1.0],\"gridcolor\":\"#E1E5ED\",\"showgrid\":false,\"tickfont\":{\"color\":\"#4D5663\"},\"title\":{\"font\":{\"color\":\"#4D5663\"},\"text\":\"\"},\"zerolinecolor\":\"#E1E5ED\"},\"xaxis3\":{\"anchor\":\"y3\",\"domain\":[0.525,0.7375],\"gridcolor\":\"#E1E5ED\",\"showgrid\":false,\"tickfont\":{\"color\":\"#4D5663\"},\"title\":{\"font\":{\"color\":\"#4D5663\"},\"text\":\"\"},\"zerolinecolor\":\"#E1E5ED\"},\"yaxis3\":{\"anchor\":\"x3\",\"domain\":[0.8025,1.0],\"gridcolor\":\"#E1E5ED\",\"showgrid\":false,\"tickfont\":{\"color\":\"#4D5663\"},\"title\":{\"font\":{\"color\":\"#4D5663\"},\"text\":\"\"},\"zerolinecolor\":\"#E1E5ED\"},\"xaxis4\":{\"anchor\":\"y4\",\"domain\":[0.7875,1.0],\"gridcolor\":\"#E1E5ED\",\"showgrid\":false,\"tickfont\":{\"color\":\"#4D5663\"},\"title\":{\"font\":{\"color\":\"#4D5663\"},\"text\":\"\"},\"zerolinecolor\":\"#E1E5ED\"},\"yaxis4\":{\"anchor\":\"x4\",\"domain\":[0.8025,1.0],\"gridcolor\":\"#E1E5ED\",\"showgrid\":false,\"tickfont\":{\"color\":\"#4D5663\"},\"title\":{\"font\":{\"color\":\"#4D5663\"},\"text\":\"\"},\"zerolinecolor\":\"#E1E5ED\"},\"xaxis5\":{\"anchor\":\"y5\",\"domain\":[0.0,0.2125],\"gridcolor\":\"#E1E5ED\",\"showgrid\":false,\"tickfont\":{\"color\":\"#4D5663\"},\"title\":{\"font\":{\"color\":\"#4D5663\"},\"text\":\"\"},\"zerolinecolor\":\"#E1E5ED\"},\"yaxis5\":{\"anchor\":\"x5\",\"domain\":[0.535,0.7325],\"gridcolor\":\"#E1E5ED\",\"showgrid\":false,\"tickfont\":{\"color\":\"#4D5663\"},\"title\":{\"font\":{\"color\":\"#4D5663\"},\"text\":\"\"},\"zerolinecolor\":\"#E1E5ED\"},\"xaxis6\":{\"anchor\":\"y6\",\"domain\":[0.2625,0.475],\"gridcolor\":\"#E1E5ED\",\"showgrid\":false,\"tickfont\":{\"color\":\"#4D5663\"},\"title\":{\"font\":{\"color\":\"#4D5663\"},\"text\":\"\"},\"zerolinecolor\":\"#E1E5ED\"},\"yaxis6\":{\"anchor\":\"x6\",\"domain\":[0.535,0.7325],\"gridcolor\":\"#E1E5ED\",\"showgrid\":false,\"tickfont\":{\"color\":\"#4D5663\"},\"title\":{\"font\":{\"color\":\"#4D5663\"},\"text\":\"\"},\"zerolinecolor\":\"#E1E5ED\"},\"xaxis7\":{\"anchor\":\"y7\",\"domain\":[0.525,0.7375],\"gridcolor\":\"#E1E5ED\",\"showgrid\":false,\"tickfont\":{\"color\":\"#4D5663\"},\"title\":{\"font\":{\"color\":\"#4D5663\"},\"text\":\"\"},\"zerolinecolor\":\"#E1E5ED\"},\"yaxis7\":{\"anchor\":\"x7\",\"domain\":[0.535,0.7325],\"gridcolor\":\"#E1E5ED\",\"showgrid\":false,\"tickfont\":{\"color\":\"#4D5663\"},\"title\":{\"font\":{\"color\":\"#4D5663\"},\"text\":\"\"},\"zerolinecolor\":\"#E1E5ED\"},\"xaxis8\":{\"anchor\":\"y8\",\"domain\":[0.7875,1.0],\"gridcolor\":\"#E1E5ED\",\"showgrid\":false,\"tickfont\":{\"color\":\"#4D5663\"},\"title\":{\"font\":{\"color\":\"#4D5663\"},\"text\":\"\"},\"zerolinecolor\":\"#E1E5ED\"},\"yaxis8\":{\"anchor\":\"x8\",\"domain\":[0.535,0.7325],\"gridcolor\":\"#E1E5ED\",\"showgrid\":false,\"tickfont\":{\"color\":\"#4D5663\"},\"title\":{\"font\":{\"color\":\"#4D5663\"},\"text\":\"\"},\"zerolinecolor\":\"#E1E5ED\"},\"xaxis9\":{\"anchor\":\"y9\",\"domain\":[0.0,0.2125],\"gridcolor\":\"#E1E5ED\",\"showgrid\":false,\"tickfont\":{\"color\":\"#4D5663\"},\"title\":{\"font\":{\"color\":\"#4D5663\"},\"text\":\"\"},\"zerolinecolor\":\"#E1E5ED\"},\"yaxis9\":{\"anchor\":\"x9\",\"domain\":[0.2675,0.465],\"gridcolor\":\"#E1E5ED\",\"showgrid\":false,\"tickfont\":{\"color\":\"#4D5663\"},\"title\":{\"font\":{\"color\":\"#4D5663\"},\"text\":\"\"},\"zerolinecolor\":\"#E1E5ED\"},\"xaxis10\":{\"anchor\":\"y10\",\"domain\":[0.2625,0.475],\"gridcolor\":\"#E1E5ED\",\"showgrid\":false,\"tickfont\":{\"color\":\"#4D5663\"},\"title\":{\"font\":{\"color\":\"#4D5663\"},\"text\":\"\"},\"zerolinecolor\":\"#E1E5ED\"},\"yaxis10\":{\"anchor\":\"x10\",\"domain\":[0.2675,0.465],\"gridcolor\":\"#E1E5ED\",\"showgrid\":false,\"tickfont\":{\"color\":\"#4D5663\"},\"title\":{\"font\":{\"color\":\"#4D5663\"},\"text\":\"\"},\"zerolinecolor\":\"#E1E5ED\"},\"xaxis11\":{\"anchor\":\"y11\",\"domain\":[0.525,0.7375],\"gridcolor\":\"#E1E5ED\",\"showgrid\":false,\"tickfont\":{\"color\":\"#4D5663\"},\"title\":{\"font\":{\"color\":\"#4D5663\"},\"text\":\"\"},\"zerolinecolor\":\"#E1E5ED\"},\"yaxis11\":{\"anchor\":\"x11\",\"domain\":[0.2675,0.465],\"gridcolor\":\"#E1E5ED\",\"showgrid\":false,\"tickfont\":{\"color\":\"#4D5663\"},\"title\":{\"font\":{\"color\":\"#4D5663\"},\"text\":\"\"},\"zerolinecolor\":\"#E1E5ED\"},\"xaxis12\":{\"anchor\":\"y12\",\"domain\":[0.7875,1.0],\"gridcolor\":\"#E1E5ED\",\"showgrid\":false,\"tickfont\":{\"color\":\"#4D5663\"},\"title\":{\"font\":{\"color\":\"#4D5663\"},\"text\":\"\"},\"zerolinecolor\":\"#E1E5ED\"},\"yaxis12\":{\"anchor\":\"x12\",\"domain\":[0.2675,0.465],\"gridcolor\":\"#E1E5ED\",\"showgrid\":false,\"tickfont\":{\"color\":\"#4D5663\"},\"title\":{\"font\":{\"color\":\"#4D5663\"},\"text\":\"\"},\"zerolinecolor\":\"#E1E5ED\"},\"xaxis13\":{\"anchor\":\"y13\",\"domain\":[0.0,0.2125],\"gridcolor\":\"#E1E5ED\",\"showgrid\":false,\"tickfont\":{\"color\":\"#4D5663\"},\"title\":{\"font\":{\"color\":\"#4D5663\"},\"text\":\"\"},\"zerolinecolor\":\"#E1E5ED\"},\"yaxis13\":{\"anchor\":\"x13\",\"domain\":[0.0,0.1975],\"gridcolor\":\"#E1E5ED\",\"showgrid\":false,\"tickfont\":{\"color\":\"#4D5663\"},\"title\":{\"font\":{\"color\":\"#4D5663\"},\"text\":\"\"},\"zerolinecolor\":\"#E1E5ED\"},\"xaxis14\":{\"anchor\":\"y14\",\"domain\":[0.2625,0.475],\"gridcolor\":\"#E1E5ED\",\"showgrid\":false,\"tickfont\":{\"color\":\"#4D5663\"},\"title\":{\"font\":{\"color\":\"#4D5663\"},\"text\":\"\"},\"zerolinecolor\":\"#E1E5ED\"},\"yaxis14\":{\"anchor\":\"x14\",\"domain\":[0.0,0.1975],\"gridcolor\":\"#E1E5ED\",\"showgrid\":false,\"tickfont\":{\"color\":\"#4D5663\"},\"title\":{\"font\":{\"color\":\"#4D5663\"},\"text\":\"\"},\"zerolinecolor\":\"#E1E5ED\"},\"xaxis15\":{\"anchor\":\"y15\",\"domain\":[0.525,0.7375],\"gridcolor\":\"#E1E5ED\",\"showgrid\":false,\"tickfont\":{\"color\":\"#4D5663\"},\"title\":{\"font\":{\"color\":\"#4D5663\"},\"text\":\"\"},\"zerolinecolor\":\"#E1E5ED\"},\"yaxis15\":{\"anchor\":\"x15\",\"domain\":[0.0,0.1975],\"gridcolor\":\"#E1E5ED\",\"showgrid\":false,\"tickfont\":{\"color\":\"#4D5663\"},\"title\":{\"font\":{\"color\":\"#4D5663\"},\"text\":\"\"},\"zerolinecolor\":\"#E1E5ED\"},\"xaxis16\":{\"anchor\":\"y16\",\"domain\":[0.7875,1.0],\"gridcolor\":\"#E1E5ED\",\"showgrid\":false,\"tickfont\":{\"color\":\"#4D5663\"},\"title\":{\"font\":{\"color\":\"#4D5663\"},\"text\":\"\"},\"zerolinecolor\":\"#E1E5ED\"},\"yaxis16\":{\"anchor\":\"x16\",\"domain\":[0.0,0.1975],\"gridcolor\":\"#E1E5ED\",\"showgrid\":false,\"tickfont\":{\"color\":\"#4D5663\"},\"title\":{\"font\":{\"color\":\"#4D5663\"},\"text\":\"\"},\"zerolinecolor\":\"#E1E5ED\"}},                        {\"showLink\": true, \"linkText\": \"Export to plot.ly\", \"plotlyServerURL\": \"https://plot.ly\", \"responsive\": true}                    ).then(function(){\n",
       "                            \n",
       "var gd = document.getElementById('8945e60c-790c-4a30-a096-fd371cc487ca');\n",
       "var x = new MutationObserver(function (mutations, observer) {{\n",
       "        var display = window.getComputedStyle(gd).display;\n",
       "        if (!display || display === 'none') {{\n",
       "            console.log([gd, 'removed!']);\n",
       "            Plotly.purge(gd);\n",
       "            observer.disconnect();\n",
       "        }}\n",
       "}});\n",
       "\n",
       "// Listen for the removal of the full notebook cells\n",
       "var notebookContainer = gd.closest('#notebook-container');\n",
       "if (notebookContainer) {{\n",
       "    x.observe(notebookContainer, {childList: true});\n",
       "}}\n",
       "\n",
       "// Listen for the clearing of the current output cell\n",
       "var outputEl = gd.closest('.output');\n",
       "if (outputEl) {{\n",
       "    x.observe(outputEl, {childList: true});\n",
       "}}\n",
       "\n",
       "                        })                };                });            </script>        </div>"
      ]
     },
     "metadata": {},
     "output_type": "display_data"
    }
   ],
   "source": [
    "df.scatter_matrix()"
   ]
  },
  {
   "cell_type": "code",
   "execution_count": null,
   "id": "01da7dbd",
   "metadata": {},
   "outputs": [],
   "source": [
    "#go to github for more plotting methods"
   ]
  }
 ],
 "metadata": {
  "kernelspec": {
   "display_name": "Python 3 (ipykernel)",
   "language": "python",
   "name": "python3"
  },
  "language_info": {
   "codemirror_mode": {
    "name": "ipython",
    "version": 3
   },
   "file_extension": ".py",
   "mimetype": "text/x-python",
   "name": "python",
   "nbconvert_exporter": "python",
   "pygments_lexer": "ipython3",
   "version": "3.11.0"
  }
 },
 "nbformat": 4,
 "nbformat_minor": 5
}
